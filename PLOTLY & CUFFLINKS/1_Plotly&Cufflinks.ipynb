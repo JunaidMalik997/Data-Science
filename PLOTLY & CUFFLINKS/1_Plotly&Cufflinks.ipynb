{
 "cells": [
  {
   "cell_type": "markdown",
   "id": "29aa0a12",
   "metadata": {},
   "source": [
    "# Plotly and Cufflinks"
   ]
  },
  {
   "cell_type": "markdown",
   "id": "8f10bdef",
   "metadata": {},
   "source": [
    "1. Plotly is an interactve visualization library\n",
    "2. Cufflinks connects plotly with pandas\n",
    "3. pip install plotly\n",
    "4. pip install cufflinks\n",
    "5. plot.ly (plotly official website)\n",
    "5. https://github.com/santosjorge/cufflinks"
   ]
  },
  {
   "cell_type": "code",
   "execution_count": 1,
   "id": "00d23289",
   "metadata": {},
   "outputs": [],
   "source": [
    "import pandas as pd\n",
    "import numpy as np"
   ]
  },
  {
   "cell_type": "code",
   "execution_count": 3,
   "id": "37063ad1",
   "metadata": {},
   "outputs": [],
   "source": [
    "from plotly import __version__  "
   ]
  },
  {
   "cell_type": "code",
   "execution_count": 4,
   "id": "ec0f85e3",
   "metadata": {},
   "outputs": [
    {
     "name": "stdout",
     "output_type": "stream",
     "text": [
      "4.14.3\n"
     ]
    }
   ],
   "source": [
    "print(__version__)"
   ]
  },
  {
   "cell_type": "code",
   "execution_count": 5,
   "id": "dcb38553",
   "metadata": {},
   "outputs": [],
   "source": [
    "import cufflinks as cf"
   ]
  },
  {
   "cell_type": "code",
   "execution_count": 6,
   "id": "085ecde0",
   "metadata": {},
   "outputs": [],
   "source": [
    "from plotly.offline import download_plotlyjs,init_notebook_mode,plot,iplot"
   ]
  },
  {
   "cell_type": "code",
   "execution_count": 13,
   "id": "3a06b811",
   "metadata": {},
   "outputs": [
    {
     "name": "stderr",
     "output_type": "stream",
     "text": [
      "In C:\\Users\\hp\\Anaconda3\\lib\\site-packages\\matplotlib\\mpl-data\\stylelib\\_classic_test.mplstyle: \n",
      "The text.latex.preview rcparam was deprecated in Matplotlib 3.3 and will be removed two minor releases later.\n",
      "In C:\\Users\\hp\\Anaconda3\\lib\\site-packages\\matplotlib\\mpl-data\\stylelib\\_classic_test.mplstyle: \n",
      "The mathtext.fallback_to_cm rcparam was deprecated in Matplotlib 3.3 and will be removed two minor releases later.\n",
      "In C:\\Users\\hp\\Anaconda3\\lib\\site-packages\\matplotlib\\mpl-data\\stylelib\\_classic_test.mplstyle: Support for setting the 'mathtext.fallback_to_cm' rcParam is deprecated since 3.3 and will be removed two minor releases later; use 'mathtext.fallback : 'cm' instead.\n",
      "In C:\\Users\\hp\\Anaconda3\\lib\\site-packages\\matplotlib\\mpl-data\\stylelib\\_classic_test.mplstyle: \n",
      "The validate_bool_maybe_none function was deprecated in Matplotlib 3.3 and will be removed two minor releases later.\n",
      "In C:\\Users\\hp\\Anaconda3\\lib\\site-packages\\matplotlib\\mpl-data\\stylelib\\_classic_test.mplstyle: \n",
      "The savefig.jpeg_quality rcparam was deprecated in Matplotlib 3.3 and will be removed two minor releases later.\n",
      "In C:\\Users\\hp\\Anaconda3\\lib\\site-packages\\matplotlib\\mpl-data\\stylelib\\_classic_test.mplstyle: \n",
      "The keymap.all_axes rcparam was deprecated in Matplotlib 3.3 and will be removed two minor releases later.\n",
      "In C:\\Users\\hp\\Anaconda3\\lib\\site-packages\\matplotlib\\mpl-data\\stylelib\\_classic_test.mplstyle: \n",
      "The animation.avconv_path rcparam was deprecated in Matplotlib 3.3 and will be removed two minor releases later.\n",
      "In C:\\Users\\hp\\Anaconda3\\lib\\site-packages\\matplotlib\\mpl-data\\stylelib\\_classic_test.mplstyle: \n",
      "The animation.avconv_args rcparam was deprecated in Matplotlib 3.3 and will be removed two minor releases later.\n"
     ]
    }
   ],
   "source": [
    "%matplotlib inline"
   ]
  },
  {
   "cell_type": "code",
   "execution_count": 7,
   "id": "d678b919",
   "metadata": {},
   "outputs": [
    {
     "data": {
      "text/html": [
       "        <script type=\"text/javascript\">\n",
       "        window.PlotlyConfig = {MathJaxConfig: 'local'};\n",
       "        if (window.MathJax) {MathJax.Hub.Config({SVG: {font: \"STIX-Web\"}});}\n",
       "        if (typeof require !== 'undefined') {\n",
       "        require.undef(\"plotly\");\n",
       "        requirejs.config({\n",
       "            paths: {\n",
       "                'plotly': ['https://cdn.plot.ly/plotly-latest.min']\n",
       "            }\n",
       "        });\n",
       "        require(['plotly'], function(Plotly) {\n",
       "            window._Plotly = Plotly;\n",
       "        });\n",
       "        }\n",
       "        </script>\n",
       "        "
      ]
     },
     "metadata": {},
     "output_type": "display_data"
    }
   ],
   "source": [
    "init_notebook_mode(connected=True)\n",
    "#this is gonna connect javascript to our notebook. Plotly essentially just connects pandas and python to a interactive \n",
    "#javascript library. This is going to allow our notebooks to access those visualization."
   ]
  },
  {
   "cell_type": "code",
   "execution_count": 8,
   "id": "2cac70c8",
   "metadata": {},
   "outputs": [
    {
     "data": {
      "text/html": [
       "        <script type=\"text/javascript\">\n",
       "        window.PlotlyConfig = {MathJaxConfig: 'local'};\n",
       "        if (window.MathJax) {MathJax.Hub.Config({SVG: {font: \"STIX-Web\"}});}\n",
       "        if (typeof require !== 'undefined') {\n",
       "        require.undef(\"plotly\");\n",
       "        requirejs.config({\n",
       "            paths: {\n",
       "                'plotly': ['https://cdn.plot.ly/plotly-latest.min']\n",
       "            }\n",
       "        });\n",
       "        require(['plotly'], function(Plotly) {\n",
       "            window._Plotly = Plotly;\n",
       "        });\n",
       "        }\n",
       "        </script>\n",
       "        "
      ]
     },
     "metadata": {},
     "output_type": "display_data"
    }
   ],
   "source": [
    "cf.go_offline()\n",
    "#this is a method which allows us to use cufflinks offline."
   ]
  },
  {
   "cell_type": "code",
   "execution_count": 9,
   "id": "6368fd05",
   "metadata": {},
   "outputs": [],
   "source": [
    "# Data\n",
    "df=pd.DataFrame(np.random.randn(100,4),columns='A B C D'.split())"
   ]
  },
  {
   "cell_type": "code",
   "execution_count": 10,
   "id": "e587472d",
   "metadata": {},
   "outputs": [
    {
     "data": {
      "text/html": [
       "<div>\n",
       "<style scoped>\n",
       "    .dataframe tbody tr th:only-of-type {\n",
       "        vertical-align: middle;\n",
       "    }\n",
       "\n",
       "    .dataframe tbody tr th {\n",
       "        vertical-align: top;\n",
       "    }\n",
       "\n",
       "    .dataframe thead th {\n",
       "        text-align: right;\n",
       "    }\n",
       "</style>\n",
       "<table border=\"1\" class=\"dataframe\">\n",
       "  <thead>\n",
       "    <tr style=\"text-align: right;\">\n",
       "      <th></th>\n",
       "      <th>A</th>\n",
       "      <th>B</th>\n",
       "      <th>C</th>\n",
       "      <th>D</th>\n",
       "    </tr>\n",
       "  </thead>\n",
       "  <tbody>\n",
       "    <tr>\n",
       "      <th>0</th>\n",
       "      <td>-0.670715</td>\n",
       "      <td>2.105884</td>\n",
       "      <td>1.537972</td>\n",
       "      <td>0.367817</td>\n",
       "    </tr>\n",
       "    <tr>\n",
       "      <th>1</th>\n",
       "      <td>-1.950026</td>\n",
       "      <td>-2.072360</td>\n",
       "      <td>1.943977</td>\n",
       "      <td>-0.612321</td>\n",
       "    </tr>\n",
       "    <tr>\n",
       "      <th>2</th>\n",
       "      <td>0.473301</td>\n",
       "      <td>-0.341601</td>\n",
       "      <td>-0.878024</td>\n",
       "      <td>-0.289091</td>\n",
       "    </tr>\n",
       "    <tr>\n",
       "      <th>3</th>\n",
       "      <td>0.322082</td>\n",
       "      <td>-0.728480</td>\n",
       "      <td>0.412497</td>\n",
       "      <td>1.441606</td>\n",
       "    </tr>\n",
       "    <tr>\n",
       "      <th>4</th>\n",
       "      <td>0.208058</td>\n",
       "      <td>-1.250468</td>\n",
       "      <td>0.074667</td>\n",
       "      <td>-0.031008</td>\n",
       "    </tr>\n",
       "  </tbody>\n",
       "</table>\n",
       "</div>"
      ],
      "text/plain": [
       "          A         B         C         D\n",
       "0 -0.670715  2.105884  1.537972  0.367817\n",
       "1 -1.950026 -2.072360  1.943977 -0.612321\n",
       "2  0.473301 -0.341601 -0.878024 -0.289091\n",
       "3  0.322082 -0.728480  0.412497  1.441606\n",
       "4  0.208058 -1.250468  0.074667 -0.031008"
      ]
     },
     "execution_count": 10,
     "metadata": {},
     "output_type": "execute_result"
    }
   ],
   "source": [
    "df.head()"
   ]
  },
  {
   "cell_type": "code",
   "execution_count": 11,
   "id": "c970009e",
   "metadata": {},
   "outputs": [],
   "source": [
    "df2=pd.DataFrame({'Category':['A','B','C'],'Values':[32,43,50]})"
   ]
  },
  {
   "cell_type": "code",
   "execution_count": 12,
   "id": "36b02084",
   "metadata": {},
   "outputs": [
    {
     "data": {
      "text/html": [
       "<div>\n",
       "<style scoped>\n",
       "    .dataframe tbody tr th:only-of-type {\n",
       "        vertical-align: middle;\n",
       "    }\n",
       "\n",
       "    .dataframe tbody tr th {\n",
       "        vertical-align: top;\n",
       "    }\n",
       "\n",
       "    .dataframe thead th {\n",
       "        text-align: right;\n",
       "    }\n",
       "</style>\n",
       "<table border=\"1\" class=\"dataframe\">\n",
       "  <thead>\n",
       "    <tr style=\"text-align: right;\">\n",
       "      <th></th>\n",
       "      <th>Category</th>\n",
       "      <th>Values</th>\n",
       "    </tr>\n",
       "  </thead>\n",
       "  <tbody>\n",
       "    <tr>\n",
       "      <th>0</th>\n",
       "      <td>A</td>\n",
       "      <td>32</td>\n",
       "    </tr>\n",
       "    <tr>\n",
       "      <th>1</th>\n",
       "      <td>B</td>\n",
       "      <td>43</td>\n",
       "    </tr>\n",
       "    <tr>\n",
       "      <th>2</th>\n",
       "      <td>C</td>\n",
       "      <td>50</td>\n",
       "    </tr>\n",
       "  </tbody>\n",
       "</table>\n",
       "</div>"
      ],
      "text/plain": [
       "  Category  Values\n",
       "0        A      32\n",
       "1        B      43\n",
       "2        C      50"
      ]
     },
     "execution_count": 12,
     "metadata": {},
     "output_type": "execute_result"
    }
   ],
   "source": [
    "df2"
   ]
  },
  {
   "cell_type": "code",
   "execution_count": 14,
   "id": "d1c9df6b",
   "metadata": {},
   "outputs": [
    {
     "data": {
      "text/plain": [
       "<AxesSubplot:>"
      ]
     },
     "execution_count": 14,
     "metadata": {},
     "output_type": "execute_result"
    },
    {
     "data": {
      "image/png": "[encoded data removed]",
      "text/plain": [
       "<Figure size 432x288 with 1 Axes>"
      ]
     },
     "metadata": {
      "needs_background": "light"
     },
     "output_type": "display_data"
    }
   ],
   "source": [
    "#now, how to use cufflinks and iplots\n",
    "df.plot()\n",
    "#here we see lineplot which pandas would have made automatically using matplotlib."
   ]
  },
  {
   "cell_type": "code",
   "execution_count": 15,
   "id": "2431edbe",
   "metadata": {},
   "outputs": [
    {
     "data": {
      "application/vnd.plotly.v1+json": {
       "config": {
        "linkText": "Export to plot.ly",
        "plotlyServerURL": "https://plot.ly",
        "showLink": true
       },
       "data": [
        {
         "line": {
          "color": "rgba(255, 153, 51, 1.0)",
          "dash": "solid",
          "shape": "linear",
          "width": 1.3
         },
         "mode": "lines",
         "name": "A",
         "text": "",
         "type": "scatter",
         "x": [
          0,
          1,
          2,
          3,
          4,
          5,
          6,
          7,
          8,
          9,
          10,
          11,
          12,
          13,
          14,
          15,
          16,
          17,
          18,
          19,
          20,
          21,
          22,
          23,
          24,
          25,
          26,
          27,
          28,
          29,
          30,
          31,
          32,
          33,
          34,
          35,
          36,
          37,
          38,
          39,
          40,
          41,
          42,
          43,
          44,
          45,
          46,
          47,
          48,
          49,
          50,
          51,
          52,
          53,
          54,
          55,
          56,
          57,
          58,
          59,
          60,
          61,
          62,
          63,
          64,
          65,
          66,
          67,
          68,
          69,
          70,
          71,
          72,
          73,
          74,
          75,
          76,
          77,
          78,
          79,
          80,
          81,
          82,
          83,
          84,
          85,
          86,
          87,
          88,
          89,
          90,
          91,
          92,
          93,
          94,
          95,
          96,
          97,
          98,
          99
         ],
         "y": [
          -0.6707154253506642,
          -1.9500262411133285,
          0.47330149330972787,
          0.3220821058806944,
          0.20805808808316156,
          -0.35109658451676334,
          0.6962852968692117,
          -0.10784531902689991,
          1.5086544793457553,
          -1.340268292912184,
          0.7644344119612071,
          -0.26780932113299405,
          0.1878224556979502,
          1.171246085614569,
          0.1851093548441989,
          0.2823252049199303,
          0.6932277961556744,
          -0.6769518643083233,
          -0.19354333756548917,
          2.1363357457530587,
          0.040971497941110074,
          -1.7778136621759986,
          3.13702519812112,
          1.5018405020580647,
          -1.6127044945937676,
          -0.03130235727745821,
          0.09640237026125606,
          -0.5360328057285065,
          0.8757207392735993,
          0.28188882285582134,
          -0.6267644208076626,
          0.522160591589084,
          0.7117289724168866,
          -0.6437782301720258,
          0.2712843372224381,
          0.6033468190197396,
          0.8021238883637443,
          -0.7702350535759206,
          -1.6829360015664283,
          0.6731359493896302,
          -1.0248199572464276,
          0.8986669891621416,
          -0.3657217093686965,
          -0.19140225513344197,
          -0.027425781658837873,
          -0.4486319931274092,
          -1.2072169461605697,
          1.1119462802015492,
          0.7169013061838068,
          1.092554147709969,
          0.3877181592512865,
          -0.5077243469664451,
          0.40449061501060224,
          0.22132603560676464,
          0.5266282050852957,
          -0.3950309560310908,
          -0.005066618020162976,
          0.5397516109289167,
          -0.24187446680324345,
          -2.4180231477424297,
          -0.1118720542279614,
          0.7891934411928745,
          -1.4595096578166131,
          -1.6641566424292111,
          0.4641685548997316,
          0.2039478823314363,
          0.033767471863369765,
          -1.0739728733906564,
          -1.8950403385455485,
          0.33690673212261363,
          -0.34158656775274315,
          -0.1877609055445049,
          -1.3877147132450043,
          -0.5621215400627225,
          -0.25322924851168455,
          1.8159900315694717,
          -0.34533226510827736,
          1.0356949538332458,
          1.2021841404538256,
          -0.3927476513776488,
          0.837235412643784,
          -1.6234430720105062,
          1.243235860033378,
          0.16800048711867446,
          0.4391194684694063,
          -0.27275232834051005,
          1.8786432214985485,
          -1.036152949055604,
          -0.8484408810170442,
          0.3225952169549622,
          1.866756994721403,
          -0.5069716474593075,
          0.569264356614395,
          0.28876108330768585,
          -0.14817903275171626,
          -1.863044870763895,
          1.8120988870687478,
          0.18420897831186897,
          0.16052440170636006,
          2.5581870205130657
         ]
        },
        {
         "line": {
          "color": "rgba(55, 128, 191, 1.0)",
          "dash": "solid",
          "shape": "linear",
          "width": 1.3
         },
         "mode": "lines",
         "name": "B",
         "text": "",
         "type": "scatter",
         "x": [
          0,
          1,
          2,
          3,
          4,
          5,
          6,
          7,
          8,
          9,
          10,
          11,
          12,
          13,
          14,
          15,
          16,
          17,
          18,
          19,
          20,
          21,
          22,
          23,
          24,
          25,
          26,
          27,
          28,
          29,
          30,
          31,
          32,
          33,
          34,
          35,
          36,
          37,
          38,
          39,
          40,
          41,
          42,
          43,
          44,
          45,
          46,
          47,
          48,
          49,
          50,
          51,
          52,
          53,
          54,
          55,
          56,
          57,
          58,
          59,
          60,
          61,
          62,
          63,
          64,
          65,
          66,
          67,
          68,
          69,
          70,
          71,
          72,
          73,
          74,
          75,
          76,
          77,
          78,
          79,
          80,
          81,
          82,
          83,
          84,
          85,
          86,
          87,
          88,
          89,
          90,
          91,
          92,
          93,
          94,
          95,
          96,
          97,
          98,
          99
         ],
         "y": [
          2.1058842826318607,
          -2.072359511310542,
          -0.3416009005606861,
          -0.7284799185898405,
          -1.2504681420191213,
          0.36929949318306843,
          0.30650633934084254,
          -0.7822857645842319,
          -0.40249307975607373,
          -0.4894825593030477,
          -2.0423146065028983,
          0.9872944141587103,
          -1.0569817425686823,
          -1.6293020589481364,
          -0.3653355683975144,
          0.34908380245013,
          -0.9930184191231534,
          -1.5459068965500842,
          -0.4303553133615934,
          0.6436591668209447,
          0.8434328960587413,
          -0.8293341375988842,
          -0.17665403988967887,
          0.05571735134683879,
          0.7712899419374236,
          1.8392243290245631,
          -0.02887245228532163,
          -0.27213303990882726,
          -0.9293654935733069,
          -0.1717099056031576,
          0.10629681858599707,
          -0.15554719806862996,
          -0.9964845946839231,
          0.6092294141232871,
          0.674977835522611,
          1.1574969173759908,
          -0.0904536430233091,
          1.340391985298189,
          0.7013388590982971,
          0.5803876294942691,
          -0.4777178856989432,
          -0.4783100209870064,
          -0.23670952507275758,
          -1.1222153054155775,
          -0.10985297273626017,
          -0.08838416929997245,
          2.705075337277412,
          -1.353083311770451,
          -0.15123585689753194,
          -0.5079059934573342,
          0.214658887024363,
          0.0962629830423297,
          1.2226846938925608,
          -1.3849716686465248,
          2.47057224290792,
          -0.23622331664434187,
          -0.01386735927959883,
          0.3146974131045074,
          -1.611843264935958,
          0.6219892118864861,
          -0.25545298334001854,
          -0.20578715948195975,
          0.5026081049701817,
          -0.05039893194269115,
          -1.451888593332071,
          -1.6684912330390367,
          0.09839970157327095,
          -1.1912211957943615,
          0.35544779363433393,
          0.6886730916876131,
          0.8392771480070627,
          1.6715975529189262,
          0.2645710679527483,
          1.3357616401053343,
          -1.0479861237285117,
          -0.2708393114170538,
          -0.8665667773800374,
          1.3146913254236081,
          2.557788297919866,
          0.12340258729703828,
          1.3972074095700282,
          -1.400939946555493,
          1.050979978143761,
          0.19436735904851585,
          -0.20423934437480293,
          1.707269574355147,
          -1.1200963283863776,
          -1.8289426096328703,
          -0.6902735932611638,
          0.1731486516107255,
          -1.1238930656827142,
          -0.26769297907693507,
          -1.2963287663260568,
          -0.4381458613461422,
          0.4622567290341809,
          0.564315818327561,
          -0.15683622731556487,
          -1.906840982387614,
          0.5078497775235092,
          -0.5281224643869874
         ]
        },
        {
         "line": {
          "color": "rgba(50, 171, 96, 1.0)",
          "dash": "solid",
          "shape": "linear",
          "width": 1.3
         },
         "mode": "lines",
         "name": "C",
         "text": "",
         "type": "scatter",
         "x": [
          0,
          1,
          2,
          3,
          4,
          5,
          6,
          7,
          8,
          9,
          10,
          11,
          12,
          13,
          14,
          15,
          16,
          17,
          18,
          19,
          20,
          21,
          22,
          23,
          24,
          25,
          26,
          27,
          28,
          29,
          30,
          31,
          32,
          33,
          34,
          35,
          36,
          37,
          38,
          39,
          40,
          41,
          42,
          43,
          44,
          45,
          46,
          47,
          48,
          49,
          50,
          51,
          52,
          53,
          54,
          55,
          56,
          57,
          58,
          59,
          60,
          61,
          62,
          63,
          64,
          65,
          66,
          67,
          68,
          69,
          70,
          71,
          72,
          73,
          74,
          75,
          76,
          77,
          78,
          79,
          80,
          81,
          82,
          83,
          84,
          85,
          86,
          87,
          88,
          89,
          90,
          91,
          92,
          93,
          94,
          95,
          96,
          97,
          98,
          99
         ],
         "y": [
          1.537971522799382,
          1.9439769437729302,
          -0.8780238161615508,
          0.4124968127293803,
          0.07466725366935067,
          -0.5539178888964471,
          0.00817695387702504,
          -1.2550225340364434,
          -0.5412576554328449,
          0.24969679728174116,
          0.871816558580187,
          1.020279703993287,
          0.011320889793238592,
          -1.586461887104245,
          -1.8968158388241263,
          -0.43386820768173306,
          2.198788237723471,
          -0.3959962886467039,
          1.1110544950169268,
          -0.19278306304304224,
          0.4744246868857774,
          0.007933739243698234,
          0.48047374019415817,
          0.08804042706014781,
          -0.10125114913655739,
          0.027461063717202035,
          0.10859744350420796,
          0.8310009965841483,
          0.42059356089409355,
          0.48924415850726755,
          1.375976816229858,
          0.9838719678559592,
          -1.9232567317746518,
          1.0578963690677599,
          -0.8981540314035965,
          -0.9759356019915912,
          1.013960747882589,
          2.4638321283328626,
          0.079207450843994,
          0.20774520694751952,
          -0.33314912365440885,
          -0.6502008769080283,
          -0.718880191013,
          -1.1968027205800376,
          0.5236593226261017,
          -0.3941772676509596,
          -0.37461732273636805,
          -0.3876617327812021,
          -0.39807203644981676,
          2.328221185625653,
          -0.11577609704476109,
          -1.9346430989777617,
          -0.17173664488861562,
          0.7799954583712938,
          0.44781031095378643,
          -1.0944610854825378,
          -1.7955178763191209,
          -0.1338640634538081,
          -0.6082864970908706,
          -0.28877383730717926,
          -0.39777928940682455,
          -0.8379345405189532,
          1.8496783025891144,
          -0.40858164000605113,
          -0.17689760919626152,
          1.5795155037979336,
          1.5777090111862964,
          0.36523953730768677,
          -1.4845023123428644,
          1.2766513514043718,
          0.6846277469502795,
          0.5605741333739809,
          -0.7638965721430718,
          0.15265752408346378,
          0.2597804224859079,
          0.10295420125442119,
          0.9404406111536191,
          0.3235412049094401,
          -0.6620207833327258,
          0.19073897294613015,
          0.22247498881272565,
          -1.346912502160558,
          0.710632951197657,
          -0.7850388641380739,
          -0.5622713079810008,
          0.7229962130587485,
          -0.7339866177665963,
          -0.9911212919749353,
          -1.496459383599991,
          0.5426852207290529,
          0.43305187586703425,
          0.4258944990145214,
          1.0902255833182126,
          0.22734227626973183,
          0.38723354327631565,
          0.3713766651381148,
          0.2352304988266529,
          0.16145128560357638,
          0.11645425996929985,
          1.7896195966317734
         ]
        },
        {
         "line": {
          "color": "rgba(128, 0, 128, 1.0)",
          "dash": "solid",
          "shape": "linear",
          "width": 1.3
         },
         "mode": "lines",
         "name": "D",
         "text": "",
         "type": "scatter",
         "x": [
          0,
          1,
          2,
          3,
          4,
          5,
          6,
          7,
          8,
          9,
          10,
          11,
          12,
          13,
          14,
          15,
          16,
          17,
          18,
          19,
          20,
          21,
          22,
          23,
          24,
          25,
          26,
          27,
          28,
          29,
          30,
          31,
          32,
          33,
          34,
          35,
          36,
          37,
          38,
          39,
          40,
          41,
          42,
          43,
          44,
          45,
          46,
          47,
          48,
          49,
          50,
          51,
          52,
          53,
          54,
          55,
          56,
          57,
          58,
          59,
          60,
          61,
          62,
          63,
          64,
          65,
          66,
          67,
          68,
          69,
          70,
          71,
          72,
          73,
          74,
          75,
          76,
          77,
          78,
          79,
          80,
          81,
          82,
          83,
          84,
          85,
          86,
          87,
          88,
          89,
          90,
          91,
          92,
          93,
          94,
          95,
          96,
          97,
          98,
          99
         ],
         "y": [
          0.3678171232589625,
          -0.6123213627371522,
          -0.2890912740793197,
          1.4416062794151767,
          -0.031007877389082762,
          0.21066867994888752,
          -0.8449498446329224,
          0.8394801074054848,
          1.1220616783066,
          0.7414951286989834,
          1.7059394077087338,
          -2.1575183351443314,
          -0.27228169067396957,
          -0.8222735398598566,
          -0.37270733125911626,
          1.1324930909504078,
          0.7237131916502513,
          -0.10093454511360091,
          -0.8344711780529005,
          0.7892018039744497,
          -1.1768864396408643,
          0.5384395360501053,
          -0.8716745319027909,
          -0.964495783243021,
          -0.9510926758024836,
          -1.5899922140297353,
          0.03947906137045445,
          -0.9040569632222731,
          1.2573838148185117,
          0.032368660363067826,
          0.00979716311962585,
          0.30189925388456806,
          -0.06836893783625991,
          -1.4830238059635945,
          2.8260226754504756,
          -1.7904184283143372,
          -0.19147572914500896,
          1.1334222316178524,
          0.07218388266810098,
          -0.6706938157194935,
          -0.787369287349699,
          0.33772976898905305,
          0.45289164094474577,
          -0.6386250109337946,
          -0.01696530433971158,
          0.11800755838890979,
          1.0935731165217104,
          -1.2066163009956685,
          1.7307802442979323,
          -0.694055702203546,
          -1.0787243593311957,
          0.8449859793236317,
          0.08114505951215607,
          0.48200938196228577,
          -0.30418199598000517,
          0.1107989331602753,
          -0.34506692295258384,
          1.4772323028116827,
          0.8897338055409254,
          -1.2970117479838066,
          -1.7401977008647422,
          0.6947525057730943,
          1.4168585094952768,
          -0.8682925467951569,
          0.14803006581044606,
          1.1113961368502225,
          0.45044683161909055,
          0.2387529698111168,
          0.07871816418155476,
          -0.8585228972180073,
          0.09299148979946799,
          0.5575922241457948,
          -0.015901030931749834,
          1.1928407027845176,
          0.1500119442760574,
          0.23881238689730214,
          1.5102065154067492,
          0.7186660940127791,
          0.6819436465246247,
          -1.5507226893448807,
          1.1033345618082833,
          1.183767610324313,
          0.8523275001657111,
          -0.8621163691043606,
          0.7145103720522716,
          1.2125641299415693,
          -1.3289064131476391,
          -0.32259983388745134,
          0.3280844786260632,
          0.20408059488367758,
          0.552476891498723,
          -0.12992629702660555,
          -0.7248427516851038,
          0.6576417736756259,
          1.4753555270758771,
          -0.41695017859014644,
          -0.7185905266648366,
          0.5863817062130624,
          -0.38997417451705346,
          0.6884888981305322
         ]
        }
       ],
       "layout": {
        "legend": {
         "bgcolor": "#F5F6F9",
         "font": {
          "color": "#4D5663"
         }
        },
        "paper_bgcolor": "#F5F6F9",
        "plot_bgcolor": "#F5F6F9",
        "template": {
         "data": {
          "bar": [
           {
            "error_x": {
             "color": "#2a3f5f"
            },
            "error_y": {
             "color": "#2a3f5f"
            },
            "marker": {
             "line": {
              "color": "#E5ECF6",
              "width": 0.5
             }
            },
            "type": "bar"
           }
          ],
          "barpolar": [
           {
            "marker": {
             "line": {
              "color": "#E5ECF6",
              "width": 0.5
             }
            },
            "type": "barpolar"
           }
          ],
          "carpet": [
           {
            "aaxis": {
             "endlinecolor": "#2a3f5f",
             "gridcolor": "white",
             "linecolor": "white",
             "minorgridcolor": "white",
             "startlinecolor": "#2a3f5f"
            },
            "baxis": {
             "endlinecolor": "#2a3f5f",
             "gridcolor": "white",
             "linecolor": "white",
             "minorgridcolor": "white",
             "startlinecolor": "#2a3f5f"
            },
            "type": "carpet"
           }
          ],
          "choropleth": [
           {
            "colorbar": {
             "outlinewidth": 0,
             "ticks": ""
            },
            "type": "choropleth"
           }
          ],
          "contour": [
           {
            "colorbar": {
             "outlinewidth": 0,
             "ticks": ""
            },
            "colorscale": [
             [
              0,
              "#0d0887"
             ],
             [
              0.1111111111111111,
              "#46039f"
             ],
             [
              0.2222222222222222,
              "#7201a8"
             ],
             [
              0.3333333333333333,
              "#9c179e"
             ],
             [
              0.4444444444444444,
              "#bd3786"
             ],
             [
              0.5555555555555556,
              "#d8576b"
             ],
             [
              0.6666666666666666,
              "#ed7953"
             ],
             [
              0.7777777777777778,
              "#fb9f3a"
             ],
             [
              0.8888888888888888,
              "#fdca26"
             ],
             [
              1,
              "#f0f921"
             ]
            ],
            "type": "contour"
           }
          ],
          "contourcarpet": [
           {
            "colorbar": {
             "outlinewidth": 0,
             "ticks": ""
            },
            "type": "contourcarpet"
           }
          ],
          "heatmap": [
           {
            "colorbar": {
             "outlinewidth": 0,
             "ticks": ""
            },
            "colorscale": [
             [
              0,
              "#0d0887"
             ],
             [
              0.1111111111111111,
              "#46039f"
             ],
             [
              0.2222222222222222,
              "#7201a8"
             ],
             [
              0.3333333333333333,
              "#9c179e"
             ],
             [
              0.4444444444444444,
              "#bd3786"
             ],
             [
              0.5555555555555556,
              "#d8576b"
             ],
             [
              0.6666666666666666,
              "#ed7953"
             ],
             [
              0.7777777777777778,
              "#fb9f3a"
             ],
             [
              0.8888888888888888,
              "#fdca26"
             ],
             [
              1,
              "#f0f921"
             ]
            ],
            "type": "heatmap"
           }
          ],
          "heatmapgl": [
           {
            "colorbar": {
             "outlinewidth": 0,
             "ticks": ""
            },
            "colorscale": [
             [
              0,
              "#0d0887"
             ],
             [
              0.1111111111111111,
              "#46039f"
             ],
             [
              0.2222222222222222,
              "#7201a8"
             ],
             [
              0.3333333333333333,
              "#9c179e"
             ],
             [
              0.4444444444444444,
              "#bd3786"
             ],
             [
              0.5555555555555556,
              "#d8576b"
             ],
             [
              0.6666666666666666,
              "#ed7953"
             ],
             [
              0.7777777777777778,
              "#fb9f3a"
             ],
             [
              0.8888888888888888,
              "#fdca26"
             ],
             [
              1,
              "#f0f921"
             ]
            ],
            "type": "heatmapgl"
           }
          ],
          "histogram": [
           {
            "marker": {
             "colorbar": {
              "outlinewidth": 0,
              "ticks": ""
             }
            },
            "type": "histogram"
           }
          ],
          "histogram2d": [
           {
            "colorbar": {
             "outlinewidth": 0,
             "ticks": ""
            },
            "colorscale": [
             [
              0,
              "#0d0887"
             ],
             [
              0.1111111111111111,
              "#46039f"
             ],
             [
              0.2222222222222222,
              "#7201a8"
             ],
             [
              0.3333333333333333,
              "#9c179e"
             ],
             [
              0.4444444444444444,
              "#bd3786"
             ],
             [
              0.5555555555555556,
              "#d8576b"
             ],
             [
              0.6666666666666666,
              "#ed7953"
             ],
             [
              0.7777777777777778,
              "#fb9f3a"
             ],
             [
              0.8888888888888888,
              "#fdca26"
             ],
             [
              1,
              "#f0f921"
             ]
            ],
            "type": "histogram2d"
           }
          ],
          "histogram2dcontour": [
           {
            "colorbar": {
             "outlinewidth": 0,
             "ticks": ""
            },
            "colorscale": [
             [
              0,
              "#0d0887"
             ],
             [
              0.1111111111111111,
              "#46039f"
             ],
             [
              0.2222222222222222,
              "#7201a8"
             ],
             [
              0.3333333333333333,
              "#9c179e"
             ],
             [
              0.4444444444444444,
              "#bd3786"
             ],
             [
              0.5555555555555556,
              "#d8576b"
             ],
             [
              0.6666666666666666,
              "#ed7953"
             ],
             [
              0.7777777777777778,
              "#fb9f3a"
             ],
             [
              0.8888888888888888,
              "#fdca26"
             ],
             [
              1,
              "#f0f921"
             ]
            ],
            "type": "histogram2dcontour"
           }
          ],
          "mesh3d": [
           {
            "colorbar": {
             "outlinewidth": 0,
             "ticks": ""
            },
            "type": "mesh3d"
           }
          ],
          "parcoords": [
           {
            "line": {
             "colorbar": {
              "outlinewidth": 0,
              "ticks": ""
             }
            },
            "type": "parcoords"
           }
          ],
          "pie": [
           {
            "automargin": true,
            "type": "pie"
           }
          ],
          "scatter": [
           {
            "marker": {
             "colorbar": {
              "outlinewidth": 0,
              "ticks": ""
             }
            },
            "type": "scatter"
           }
          ],
          "scatter3d": [
           {
            "line": {
             "colorbar": {
              "outlinewidth": 0,
              "ticks": ""
             }
            },
            "marker": {
             "colorbar": {
              "outlinewidth": 0,
              "ticks": ""
             }
            },
            "type": "scatter3d"
           }
          ],
          "scattercarpet": [
           {
            "marker": {
             "colorbar": {
              "outlinewidth": 0,
              "ticks": ""
             }
            },
            "type": "scattercarpet"
           }
          ],
          "scattergeo": [
           {
            "marker": {
             "colorbar": {
              "outlinewidth": 0,
              "ticks": ""
             }
            },
            "type": "scattergeo"
           }
          ],
          "scattergl": [
           {
            "marker": {
             "colorbar": {
              "outlinewidth": 0,
              "ticks": ""
             }
            },
            "type": "scattergl"
           }
          ],
          "scattermapbox": [
           {
            "marker": {
             "colorbar": {
              "outlinewidth": 0,
              "ticks": ""
             }
            },
            "type": "scattermapbox"
           }
          ],
          "scatterpolar": [
           {
            "marker": {
             "colorbar": {
              "outlinewidth": 0,
              "ticks": ""
             }
            },
            "type": "scatterpolar"
           }
          ],
          "scatterpolargl": [
           {
            "marker": {
             "colorbar": {
              "outlinewidth": 0,
              "ticks": ""
             }
            },
            "type": "scatterpolargl"
           }
          ],
          "scatterternary": [
           {
            "marker": {
             "colorbar": {
              "outlinewidth": 0,
              "ticks": ""
             }
            },
            "type": "scatterternary"
           }
          ],
          "surface": [
           {
            "colorbar": {
             "outlinewidth": 0,
             "ticks": ""
            },
            "colorscale": [
             [
              0,
              "#0d0887"
             ],
             [
              0.1111111111111111,
              "#46039f"
             ],
             [
              0.2222222222222222,
              "#7201a8"
             ],
             [
              0.3333333333333333,
              "#9c179e"
             ],
             [
              0.4444444444444444,
              "#bd3786"
             ],
             [
              0.5555555555555556,
              "#d8576b"
             ],
             [
              0.6666666666666666,
              "#ed7953"
             ],
             [
              0.7777777777777778,
              "#fb9f3a"
             ],
             [
              0.8888888888888888,
              "#fdca26"
             ],
             [
              1,
              "#f0f921"
             ]
            ],
            "type": "surface"
           }
          ],
          "table": [
           {
            "cells": {
             "fill": {
              "color": "#EBF0F8"
             },
             "line": {
              "color": "white"
             }
            },
            "header": {
             "fill": {
              "color": "#C8D4E3"
             },
             "line": {
              "color": "white"
             }
            },
            "type": "table"
           }
          ]
         },
         "layout": {
          "annotationdefaults": {
           "arrowcolor": "#2a3f5f",
           "arrowhead": 0,
           "arrowwidth": 1
          },
          "autotypenumbers": "strict",
          "coloraxis": {
           "colorbar": {
            "outlinewidth": 0,
            "ticks": ""
           }
          },
          "colorscale": {
           "diverging": [
            [
             0,
             "#8e0152"
            ],
            [
             0.1,
             "#c51b7d"
            ],
            [
             0.2,
             "#de77ae"
            ],
            [
             0.3,
             "#f1b6da"
            ],
            [
             0.4,
             "#fde0ef"
            ],
            [
             0.5,
             "#f7f7f7"
            ],
            [
             0.6,
             "#e6f5d0"
            ],
            [
             0.7,
             "#b8e186"
            ],
            [
             0.8,
             "#7fbc41"
            ],
            [
             0.9,
             "#4d9221"
            ],
            [
             1,
             "#276419"
            ]
           ],
           "sequential": [
            [
             0,
             "#0d0887"
            ],
            [
             0.1111111111111111,
             "#46039f"
            ],
            [
             0.2222222222222222,
             "#7201a8"
            ],
            [
             0.3333333333333333,
             "#9c179e"
            ],
            [
             0.4444444444444444,
             "#bd3786"
            ],
            [
             0.5555555555555556,
             "#d8576b"
            ],
            [
             0.6666666666666666,
             "#ed7953"
            ],
            [
             0.7777777777777778,
             "#fb9f3a"
            ],
            [
             0.8888888888888888,
             "#fdca26"
            ],
            [
             1,
             "#f0f921"
            ]
           ],
           "sequentialminus": [
            [
             0,
             "#0d0887"
            ],
            [
             0.1111111111111111,
             "#46039f"
            ],
            [
             0.2222222222222222,
             "#7201a8"
            ],
            [
             0.3333333333333333,
             "#9c179e"
            ],
            [
             0.4444444444444444,
             "#bd3786"
            ],
            [
             0.5555555555555556,
             "#d8576b"
            ],
            [
             0.6666666666666666,
             "#ed7953"
            ],
            [
             0.7777777777777778,
             "#fb9f3a"
            ],
            [
             0.8888888888888888,
             "#fdca26"
            ],
            [
             1,
             "#f0f921"
            ]
           ]
          },
          "colorway": [
           "#636efa",
           "#EF553B",
           "#00cc96",
           "#ab63fa",
           "#FFA15A",
           "#19d3f3",
           "#FF6692",
           "#B6E880",
           "#FF97FF",
           "#FECB52"
          ],
          "font": {
           "color": "#2a3f5f"
          },
          "geo": {
           "bgcolor": "white",
           "lakecolor": "white",
           "landcolor": "#E5ECF6",
           "showlakes": true,
           "showland": true,
           "subunitcolor": "white"
          },
          "hoverlabel": {
           "align": "left"
          },
          "hovermode": "closest",
          "mapbox": {
           "style": "light"
          },
          "paper_bgcolor": "white",
          "plot_bgcolor": "#E5ECF6",
          "polar": {
           "angularaxis": {
            "gridcolor": "white",
            "linecolor": "white",
            "ticks": ""
           },
           "bgcolor": "#E5ECF6",
           "radialaxis": {
            "gridcolor": "white",
            "linecolor": "white",
            "ticks": ""
           }
          },
          "scene": {
           "xaxis": {
            "backgroundcolor": "#E5ECF6",
            "gridcolor": "white",
            "gridwidth": 2,
            "linecolor": "white",
            "showbackground": true,
            "ticks": "",
            "zerolinecolor": "white"
           },
           "yaxis": {
            "backgroundcolor": "#E5ECF6",
            "gridcolor": "white",
            "gridwidth": 2,
            "linecolor": "white",
            "showbackground": true,
            "ticks": "",
            "zerolinecolor": "white"
           },
           "zaxis": {
            "backgroundcolor": "#E5ECF6",
            "gridcolor": "white",
            "gridwidth": 2,
            "linecolor": "white",
            "showbackground": true,
            "ticks": "",
            "zerolinecolor": "white"
           }
          },
          "shapedefaults": {
           "line": {
            "color": "#2a3f5f"
           }
          },
          "ternary": {
           "aaxis": {
            "gridcolor": "white",
            "linecolor": "white",
            "ticks": ""
           },
           "baxis": {
            "gridcolor": "white",
            "linecolor": "white",
            "ticks": ""
           },
           "bgcolor": "#E5ECF6",
           "caxis": {
            "gridcolor": "white",
            "linecolor": "white",
            "ticks": ""
           }
          },
          "title": {
           "x": 0.05
          },
          "xaxis": {
           "automargin": true,
           "gridcolor": "white",
           "linecolor": "white",
           "ticks": "",
           "title": {
            "standoff": 15
           },
           "zerolinecolor": "white",
           "zerolinewidth": 2
          },
          "yaxis": {
           "automargin": true,
           "gridcolor": "white",
           "linecolor": "white",
           "ticks": "",
           "title": {
            "standoff": 15
           },
           "zerolinecolor": "white",
           "zerolinewidth": 2
          }
         }
        },
        "title": {
         "font": {
          "color": "#4D5663"
         }
        },
        "xaxis": {
         "gridcolor": "#E1E5ED",
         "showgrid": true,
         "tickfont": {
          "color": "#4D5663"
         },
         "title": {
          "font": {
           "color": "#4D5663"
          },
          "text": ""
         },
         "zerolinecolor": "#E1E5ED"
        },
        "yaxis": {
         "gridcolor": "#E1E5ED",
         "showgrid": true,
         "tickfont": {
          "color": "#4D5663"
         },
         "title": {
          "font": {
           "color": "#4D5663"
          },
          "text": ""
         },
         "zerolinecolor": "#E1E5ED"
        }
       }
      },
      "text/html": [
       "<div>                            <div id=\"b55a6197-7251-4a9f-890c-a0f74be3c3f8\" class=\"plotly-graph-div\" style=\"height:525px; width:100%;\"></div>            <script type=\"text/javascript\">                require([\"plotly\"], function(Plotly) {                    window.PLOTLYENV=window.PLOTLYENV || {};\n",
       "                    window.PLOTLYENV.BASE_URL='https://plot.ly';                                    if (document.getElementById(\"b55a6197-7251-4a9f-890c-a0f74be3c3f8\")) {                    Plotly.newPlot(                        \"b55a6197-7251-4a9f-890c-a0f74be3c3f8\",                        [{\"line\": {\"color\": \"rgba(255, 153, 51, 1.0)\", \"dash\": \"solid\", \"shape\": \"linear\", \"width\": 1.3}, \"mode\": \"lines\", \"name\": \"A\", \"text\": \"\", \"type\": \"scatter\", \"x\": [0, 1, 2, 3, 4, 5, 6, 7, 8, 9, 10, 11, 12, 13, 14, 15, 16, 17, 18, 19, 20, 21, 22, 23, 24, 25, 26, 27, 28, 29, 30, 31, 32, 33, 34, 35, 36, 37, 38, 39, 40, 41, 42, 43, 44, 45, 46, 47, 48, 49, 50, 51, 52, 53, 54, 55, 56, 57, 58, 59, 60, 61, 62, 63, 64, 65, 66, 67, 68, 69, 70, 71, 72, 73, 74, 75, 76, 77, 78, 79, 80, 81, 82, 83, 84, 85, 86, 87, 88, 89, 90, 91, 92, 93, 94, 95, 96, 97, 98, 99], \"y\": [-0.6707154253506642, -1.9500262411133285, 0.47330149330972787, 0.3220821058806944, 0.20805808808316156, -0.35109658451676334, 0.6962852968692117, -0.10784531902689991, 1.5086544793457553, -1.340268292912184, 0.7644344119612071, -0.26780932113299405, 0.1878224556979502, 1.171246085614569, 0.1851093548441989, 0.2823252049199303, 0.6932277961556744, -0.6769518643083233, -0.19354333756548917, 2.1363357457530587, 0.040971497941110074, -1.7778136621759986, 3.13702519812112, 1.5018405020580647, -1.6127044945937676, -0.03130235727745821, 0.09640237026125606, -0.5360328057285065, 0.8757207392735993, 0.28188882285582134, -0.6267644208076626, 0.522160591589084, 0.7117289724168866, -0.6437782301720258, 0.2712843372224381, 0.6033468190197396, 0.8021238883637443, -0.7702350535759206, -1.6829360015664283, 0.6731359493896302, -1.0248199572464276, 0.8986669891621416, -0.3657217093686965, -0.19140225513344197, -0.027425781658837873, -0.4486319931274092, -1.2072169461605697, 1.1119462802015492, 0.7169013061838068, 1.092554147709969, 0.3877181592512865, -0.5077243469664451, 0.40449061501060224, 0.22132603560676464, 0.5266282050852957, -0.3950309560310908, -0.005066618020162976, 0.5397516109289167, -0.24187446680324345, -2.4180231477424297, -0.1118720542279614, 0.7891934411928745, -1.4595096578166131, -1.6641566424292111, 0.4641685548997316, 0.2039478823314363, 0.033767471863369765, -1.0739728733906564, -1.8950403385455485, 0.33690673212261363, -0.34158656775274315, -0.1877609055445049, -1.3877147132450043, -0.5621215400627225, -0.25322924851168455, 1.8159900315694717, -0.34533226510827736, 1.0356949538332458, 1.2021841404538256, -0.3927476513776488, 0.837235412643784, -1.6234430720105062, 1.243235860033378, 0.16800048711867446, 0.4391194684694063, -0.27275232834051005, 1.8786432214985485, -1.036152949055604, -0.8484408810170442, 0.3225952169549622, 1.866756994721403, -0.5069716474593075, 0.569264356614395, 0.28876108330768585, -0.14817903275171626, -1.863044870763895, 1.8120988870687478, 0.18420897831186897, 0.16052440170636006, 2.5581870205130657]}, {\"line\": {\"color\": \"rgba(55, 128, 191, 1.0)\", \"dash\": \"solid\", \"shape\": \"linear\", \"width\": 1.3}, \"mode\": \"lines\", \"name\": \"B\", \"text\": \"\", \"type\": \"scatter\", \"x\": [0, 1, 2, 3, 4, 5, 6, 7, 8, 9, 10, 11, 12, 13, 14, 15, 16, 17, 18, 19, 20, 21, 22, 23, 24, 25, 26, 27, 28, 29, 30, 31, 32, 33, 34, 35, 36, 37, 38, 39, 40, 41, 42, 43, 44, 45, 46, 47, 48, 49, 50, 51, 52, 53, 54, 55, 56, 57, 58, 59, 60, 61, 62, 63, 64, 65, 66, 67, 68, 69, 70, 71, 72, 73, 74, 75, 76, 77, 78, 79, 80, 81, 82, 83, 84, 85, 86, 87, 88, 89, 90, 91, 92, 93, 94, 95, 96, 97, 98, 99], \"y\": [2.1058842826318607, -2.072359511310542, -0.3416009005606861, -0.7284799185898405, -1.2504681420191213, 0.36929949318306843, 0.30650633934084254, -0.7822857645842319, -0.40249307975607373, -0.4894825593030477, -2.0423146065028983, 0.9872944141587103, -1.0569817425686823, -1.6293020589481364, -0.3653355683975144, 0.34908380245013, -0.9930184191231534, -1.5459068965500842, -0.4303553133615934, 0.6436591668209447, 0.8434328960587413, -0.8293341375988842, -0.17665403988967887, 0.05571735134683879, 0.7712899419374236, 1.8392243290245631, -0.02887245228532163, -0.27213303990882726, -0.9293654935733069, -0.1717099056031576, 0.10629681858599707, -0.15554719806862996, -0.9964845946839231, 0.6092294141232871, 0.674977835522611, 1.1574969173759908, -0.0904536430233091, 1.340391985298189, 0.7013388590982971, 0.5803876294942691, -0.4777178856989432, -0.4783100209870064, -0.23670952507275758, -1.1222153054155775, -0.10985297273626017, -0.08838416929997245, 2.705075337277412, -1.353083311770451, -0.15123585689753194, -0.5079059934573342, 0.214658887024363, 0.0962629830423297, 1.2226846938925608, -1.3849716686465248, 2.47057224290792, -0.23622331664434187, -0.01386735927959883, 0.3146974131045074, -1.611843264935958, 0.6219892118864861, -0.25545298334001854, -0.20578715948195975, 0.5026081049701817, -0.05039893194269115, -1.451888593332071, -1.6684912330390367, 0.09839970157327095, -1.1912211957943615, 0.35544779363433393, 0.6886730916876131, 0.8392771480070627, 1.6715975529189262, 0.2645710679527483, 1.3357616401053343, -1.0479861237285117, -0.2708393114170538, -0.8665667773800374, 1.3146913254236081, 2.557788297919866, 0.12340258729703828, 1.3972074095700282, -1.400939946555493, 1.050979978143761, 0.19436735904851585, -0.20423934437480293, 1.707269574355147, -1.1200963283863776, -1.8289426096328703, -0.6902735932611638, 0.1731486516107255, -1.1238930656827142, -0.26769297907693507, -1.2963287663260568, -0.4381458613461422, 0.4622567290341809, 0.564315818327561, -0.15683622731556487, -1.906840982387614, 0.5078497775235092, -0.5281224643869874]}, {\"line\": {\"color\": \"rgba(50, 171, 96, 1.0)\", \"dash\": \"solid\", \"shape\": \"linear\", \"width\": 1.3}, \"mode\": \"lines\", \"name\": \"C\", \"text\": \"\", \"type\": \"scatter\", \"x\": [0, 1, 2, 3, 4, 5, 6, 7, 8, 9, 10, 11, 12, 13, 14, 15, 16, 17, 18, 19, 20, 21, 22, 23, 24, 25, 26, 27, 28, 29, 30, 31, 32, 33, 34, 35, 36, 37, 38, 39, 40, 41, 42, 43, 44, 45, 46, 47, 48, 49, 50, 51, 52, 53, 54, 55, 56, 57, 58, 59, 60, 61, 62, 63, 64, 65, 66, 67, 68, 69, 70, 71, 72, 73, 74, 75, 76, 77, 78, 79, 80, 81, 82, 83, 84, 85, 86, 87, 88, 89, 90, 91, 92, 93, 94, 95, 96, 97, 98, 99], \"y\": [1.537971522799382, 1.9439769437729302, -0.8780238161615508, 0.4124968127293803, 0.07466725366935067, -0.5539178888964471, 0.00817695387702504, -1.2550225340364434, -0.5412576554328449, 0.24969679728174116, 0.871816558580187, 1.020279703993287, 0.011320889793238592, -1.586461887104245, -1.8968158388241263, -0.43386820768173306, 2.198788237723471, -0.3959962886467039, 1.1110544950169268, -0.19278306304304224, 0.4744246868857774, 0.007933739243698234, 0.48047374019415817, 0.08804042706014781, -0.10125114913655739, 0.027461063717202035, 0.10859744350420796, 0.8310009965841483, 0.42059356089409355, 0.48924415850726755, 1.375976816229858, 0.9838719678559592, -1.9232567317746518, 1.0578963690677599, -0.8981540314035965, -0.9759356019915912, 1.013960747882589, 2.4638321283328626, 0.079207450843994, 0.20774520694751952, -0.33314912365440885, -0.6502008769080283, -0.718880191013, -1.1968027205800376, 0.5236593226261017, -0.3941772676509596, -0.37461732273636805, -0.3876617327812021, -0.39807203644981676, 2.328221185625653, -0.11577609704476109, -1.9346430989777617, -0.17173664488861562, 0.7799954583712938, 0.44781031095378643, -1.0944610854825378, -1.7955178763191209, -0.1338640634538081, -0.6082864970908706, -0.28877383730717926, -0.39777928940682455, -0.8379345405189532, 1.8496783025891144, -0.40858164000605113, -0.17689760919626152, 1.5795155037979336, 1.5777090111862964, 0.36523953730768677, -1.4845023123428644, 1.2766513514043718, 0.6846277469502795, 0.5605741333739809, -0.7638965721430718, 0.15265752408346378, 0.2597804224859079, 0.10295420125442119, 0.9404406111536191, 0.3235412049094401, -0.6620207833327258, 0.19073897294613015, 0.22247498881272565, -1.346912502160558, 0.710632951197657, -0.7850388641380739, -0.5622713079810008, 0.7229962130587485, -0.7339866177665963, -0.9911212919749353, -1.496459383599991, 0.5426852207290529, 0.43305187586703425, 0.4258944990145214, 1.0902255833182126, 0.22734227626973183, 0.38723354327631565, 0.3713766651381148, 0.2352304988266529, 0.16145128560357638, 0.11645425996929985, 1.7896195966317734]}, {\"line\": {\"color\": \"rgba(128, 0, 128, 1.0)\", \"dash\": \"solid\", \"shape\": \"linear\", \"width\": 1.3}, \"mode\": \"lines\", \"name\": \"D\", \"text\": \"\", \"type\": \"scatter\", \"x\": [0, 1, 2, 3, 4, 5, 6, 7, 8, 9, 10, 11, 12, 13, 14, 15, 16, 17, 18, 19, 20, 21, 22, 23, 24, 25, 26, 27, 28, 29, 30, 31, 32, 33, 34, 35, 36, 37, 38, 39, 40, 41, 42, 43, 44, 45, 46, 47, 48, 49, 50, 51, 52, 53, 54, 55, 56, 57, 58, 59, 60, 61, 62, 63, 64, 65, 66, 67, 68, 69, 70, 71, 72, 73, 74, 75, 76, 77, 78, 79, 80, 81, 82, 83, 84, 85, 86, 87, 88, 89, 90, 91, 92, 93, 94, 95, 96, 97, 98, 99], \"y\": [0.3678171232589625, -0.6123213627371522, -0.2890912740793197, 1.4416062794151767, -0.031007877389082762, 0.21066867994888752, -0.8449498446329224, 0.8394801074054848, 1.1220616783066, 0.7414951286989834, 1.7059394077087338, -2.1575183351443314, -0.27228169067396957, -0.8222735398598566, -0.37270733125911626, 1.1324930909504078, 0.7237131916502513, -0.10093454511360091, -0.8344711780529005, 0.7892018039744497, -1.1768864396408643, 0.5384395360501053, -0.8716745319027909, -0.964495783243021, -0.9510926758024836, -1.5899922140297353, 0.03947906137045445, -0.9040569632222731, 1.2573838148185117, 0.032368660363067826, 0.00979716311962585, 0.30189925388456806, -0.06836893783625991, -1.4830238059635945, 2.8260226754504756, -1.7904184283143372, -0.19147572914500896, 1.1334222316178524, 0.07218388266810098, -0.6706938157194935, -0.787369287349699, 0.33772976898905305, 0.45289164094474577, -0.6386250109337946, -0.01696530433971158, 0.11800755838890979, 1.0935731165217104, -1.2066163009956685, 1.7307802442979323, -0.694055702203546, -1.0787243593311957, 0.8449859793236317, 0.08114505951215607, 0.48200938196228577, -0.30418199598000517, 0.1107989331602753, -0.34506692295258384, 1.4772323028116827, 0.8897338055409254, -1.2970117479838066, -1.7401977008647422, 0.6947525057730943, 1.4168585094952768, -0.8682925467951569, 0.14803006581044606, 1.1113961368502225, 0.45044683161909055, 0.2387529698111168, 0.07871816418155476, -0.8585228972180073, 0.09299148979946799, 0.5575922241457948, -0.015901030931749834, 1.1928407027845176, 0.1500119442760574, 0.23881238689730214, 1.5102065154067492, 0.7186660940127791, 0.6819436465246247, -1.5507226893448807, 1.1033345618082833, 1.183767610324313, 0.8523275001657111, -0.8621163691043606, 0.7145103720522716, 1.2125641299415693, -1.3289064131476391, -0.32259983388745134, 0.3280844786260632, 0.20408059488367758, 0.552476891498723, -0.12992629702660555, -0.7248427516851038, 0.6576417736756259, 1.4753555270758771, -0.41695017859014644, -0.7185905266648366, 0.5863817062130624, -0.38997417451705346, 0.6884888981305322]}],                        {\"legend\": {\"bgcolor\": \"#F5F6F9\", \"font\": {\"color\": \"#4D5663\"}}, \"paper_bgcolor\": \"#F5F6F9\", \"plot_bgcolor\": \"#F5F6F9\", \"template\": {\"data\": {\"bar\": [{\"error_x\": {\"color\": \"#2a3f5f\"}, \"error_y\": {\"color\": \"#2a3f5f\"}, \"marker\": {\"line\": {\"color\": \"#E5ECF6\", \"width\": 0.5}}, \"type\": \"bar\"}], \"barpolar\": [{\"marker\": {\"line\": {\"color\": \"#E5ECF6\", \"width\": 0.5}}, \"type\": \"barpolar\"}], \"carpet\": [{\"aaxis\": {\"endlinecolor\": \"#2a3f5f\", \"gridcolor\": \"white\", \"linecolor\": \"white\", \"minorgridcolor\": \"white\", \"startlinecolor\": \"#2a3f5f\"}, \"baxis\": {\"endlinecolor\": \"#2a3f5f\", \"gridcolor\": \"white\", \"linecolor\": \"white\", \"minorgridcolor\": \"white\", \"startlinecolor\": \"#2a3f5f\"}, \"type\": \"carpet\"}], \"choropleth\": [{\"colorbar\": {\"outlinewidth\": 0, \"ticks\": \"\"}, \"type\": \"choropleth\"}], \"contour\": [{\"colorbar\": {\"outlinewidth\": 0, \"ticks\": \"\"}, \"colorscale\": [[0.0, \"#0d0887\"], [0.1111111111111111, \"#46039f\"], [0.2222222222222222, \"#7201a8\"], [0.3333333333333333, \"#9c179e\"], [0.4444444444444444, \"#bd3786\"], [0.5555555555555556, \"#d8576b\"], [0.6666666666666666, \"#ed7953\"], [0.7777777777777778, \"#fb9f3a\"], [0.8888888888888888, \"#fdca26\"], [1.0, \"#f0f921\"]], \"type\": \"contour\"}], \"contourcarpet\": [{\"colorbar\": {\"outlinewidth\": 0, \"ticks\": \"\"}, \"type\": \"contourcarpet\"}], \"heatmap\": [{\"colorbar\": {\"outlinewidth\": 0, \"ticks\": \"\"}, \"colorscale\": [[0.0, \"#0d0887\"], [0.1111111111111111, \"#46039f\"], [0.2222222222222222, \"#7201a8\"], [0.3333333333333333, \"#9c179e\"], [0.4444444444444444, \"#bd3786\"], [0.5555555555555556, \"#d8576b\"], [0.6666666666666666, \"#ed7953\"], [0.7777777777777778, \"#fb9f3a\"], [0.8888888888888888, \"#fdca26\"], [1.0, \"#f0f921\"]], \"type\": \"heatmap\"}], \"heatmapgl\": [{\"colorbar\": {\"outlinewidth\": 0, \"ticks\": \"\"}, \"colorscale\": [[0.0, \"#0d0887\"], [0.1111111111111111, \"#46039f\"], [0.2222222222222222, \"#7201a8\"], [0.3333333333333333, \"#9c179e\"], [0.4444444444444444, \"#bd3786\"], [0.5555555555555556, \"#d8576b\"], [0.6666666666666666, \"#ed7953\"], [0.7777777777777778, \"#fb9f3a\"], [0.8888888888888888, \"#fdca26\"], [1.0, \"#f0f921\"]], \"type\": \"heatmapgl\"}], \"histogram\": [{\"marker\": {\"colorbar\": {\"outlinewidth\": 0, \"ticks\": \"\"}}, \"type\": \"histogram\"}], \"histogram2d\": [{\"colorbar\": {\"outlinewidth\": 0, \"ticks\": \"\"}, \"colorscale\": [[0.0, \"#0d0887\"], [0.1111111111111111, \"#46039f\"], [0.2222222222222222, \"#7201a8\"], [0.3333333333333333, \"#9c179e\"], [0.4444444444444444, \"#bd3786\"], [0.5555555555555556, \"#d8576b\"], [0.6666666666666666, \"#ed7953\"], [0.7777777777777778, \"#fb9f3a\"], [0.8888888888888888, \"#fdca26\"], [1.0, \"#f0f921\"]], \"type\": \"histogram2d\"}], \"histogram2dcontour\": [{\"colorbar\": {\"outlinewidth\": 0, \"ticks\": \"\"}, \"colorscale\": [[0.0, \"#0d0887\"], [0.1111111111111111, \"#46039f\"], [0.2222222222222222, \"#7201a8\"], [0.3333333333333333, \"#9c179e\"], [0.4444444444444444, \"#bd3786\"], [0.5555555555555556, \"#d8576b\"], [0.6666666666666666, \"#ed7953\"], [0.7777777777777778, \"#fb9f3a\"], [0.8888888888888888, \"#fdca26\"], [1.0, \"#f0f921\"]], \"type\": \"histogram2dcontour\"}], \"mesh3d\": [{\"colorbar\": {\"outlinewidth\": 0, \"ticks\": \"\"}, \"type\": \"mesh3d\"}], \"parcoords\": [{\"line\": {\"colorbar\": {\"outlinewidth\": 0, \"ticks\": \"\"}}, \"type\": \"parcoords\"}], \"pie\": [{\"automargin\": true, \"type\": \"pie\"}], \"scatter\": [{\"marker\": {\"colorbar\": {\"outlinewidth\": 0, \"ticks\": \"\"}}, \"type\": \"scatter\"}], \"scatter3d\": [{\"line\": {\"colorbar\": {\"outlinewidth\": 0, \"ticks\": \"\"}}, \"marker\": {\"colorbar\": {\"outlinewidth\": 0, \"ticks\": \"\"}}, \"type\": \"scatter3d\"}], \"scattercarpet\": [{\"marker\": {\"colorbar\": {\"outlinewidth\": 0, \"ticks\": \"\"}}, \"type\": \"scattercarpet\"}], \"scattergeo\": [{\"marker\": {\"colorbar\": {\"outlinewidth\": 0, \"ticks\": \"\"}}, \"type\": \"scattergeo\"}], \"scattergl\": [{\"marker\": {\"colorbar\": {\"outlinewidth\": 0, \"ticks\": \"\"}}, \"type\": \"scattergl\"}], \"scattermapbox\": [{\"marker\": {\"colorbar\": {\"outlinewidth\": 0, \"ticks\": \"\"}}, \"type\": \"scattermapbox\"}], \"scatterpolar\": [{\"marker\": {\"colorbar\": {\"outlinewidth\": 0, \"ticks\": \"\"}}, \"type\": \"scatterpolar\"}], \"scatterpolargl\": [{\"marker\": {\"colorbar\": {\"outlinewidth\": 0, \"ticks\": \"\"}}, \"type\": \"scatterpolargl\"}], \"scatterternary\": [{\"marker\": {\"colorbar\": {\"outlinewidth\": 0, \"ticks\": \"\"}}, \"type\": \"scatterternary\"}], \"surface\": [{\"colorbar\": {\"outlinewidth\": 0, \"ticks\": \"\"}, \"colorscale\": [[0.0, \"#0d0887\"], [0.1111111111111111, \"#46039f\"], [0.2222222222222222, \"#7201a8\"], [0.3333333333333333, \"#9c179e\"], [0.4444444444444444, \"#bd3786\"], [0.5555555555555556, \"#d8576b\"], [0.6666666666666666, \"#ed7953\"], [0.7777777777777778, \"#fb9f3a\"], [0.8888888888888888, \"#fdca26\"], [1.0, \"#f0f921\"]], \"type\": \"surface\"}], \"table\": [{\"cells\": {\"fill\": {\"color\": \"#EBF0F8\"}, \"line\": {\"color\": \"white\"}}, \"header\": {\"fill\": {\"color\": \"#C8D4E3\"}, \"line\": {\"color\": \"white\"}}, \"type\": \"table\"}]}, \"layout\": {\"annotationdefaults\": {\"arrowcolor\": \"#2a3f5f\", \"arrowhead\": 0, \"arrowwidth\": 1}, \"autotypenumbers\": \"strict\", \"coloraxis\": {\"colorbar\": {\"outlinewidth\": 0, \"ticks\": \"\"}}, \"colorscale\": {\"diverging\": [[0, \"#8e0152\"], [0.1, \"#c51b7d\"], [0.2, \"#de77ae\"], [0.3, \"#f1b6da\"], [0.4, \"#fde0ef\"], [0.5, \"#f7f7f7\"], [0.6, \"#e6f5d0\"], [0.7, \"#b8e186\"], [0.8, \"#7fbc41\"], [0.9, \"#4d9221\"], [1, \"#276419\"]], \"sequential\": [[0.0, \"#0d0887\"], [0.1111111111111111, \"#46039f\"], [0.2222222222222222, \"#7201a8\"], [0.3333333333333333, \"#9c179e\"], [0.4444444444444444, \"#bd3786\"], [0.5555555555555556, \"#d8576b\"], [0.6666666666666666, \"#ed7953\"], [0.7777777777777778, \"#fb9f3a\"], [0.8888888888888888, \"#fdca26\"], [1.0, \"#f0f921\"]], \"sequentialminus\": [[0.0, \"#0d0887\"], [0.1111111111111111, \"#46039f\"], [0.2222222222222222, \"#7201a8\"], [0.3333333333333333, \"#9c179e\"], [0.4444444444444444, \"#bd3786\"], [0.5555555555555556, \"#d8576b\"], [0.6666666666666666, \"#ed7953\"], [0.7777777777777778, \"#fb9f3a\"], [0.8888888888888888, \"#fdca26\"], [1.0, \"#f0f921\"]]}, \"colorway\": [\"#636efa\", \"#EF553B\", \"#00cc96\", \"#ab63fa\", \"#FFA15A\", \"#19d3f3\", \"#FF6692\", \"#B6E880\", \"#FF97FF\", \"#FECB52\"], \"font\": {\"color\": \"#2a3f5f\"}, \"geo\": {\"bgcolor\": \"white\", \"lakecolor\": \"white\", \"landcolor\": \"#E5ECF6\", \"showlakes\": true, \"showland\": true, \"subunitcolor\": \"white\"}, \"hoverlabel\": {\"align\": \"left\"}, \"hovermode\": \"closest\", \"mapbox\": {\"style\": \"light\"}, \"paper_bgcolor\": \"white\", \"plot_bgcolor\": \"#E5ECF6\", \"polar\": {\"angularaxis\": {\"gridcolor\": \"white\", \"linecolor\": \"white\", \"ticks\": \"\"}, \"bgcolor\": \"#E5ECF6\", \"radialaxis\": {\"gridcolor\": \"white\", \"linecolor\": \"white\", \"ticks\": \"\"}}, \"scene\": {\"xaxis\": {\"backgroundcolor\": \"#E5ECF6\", \"gridcolor\": \"white\", \"gridwidth\": 2, \"linecolor\": \"white\", \"showbackground\": true, \"ticks\": \"\", \"zerolinecolor\": \"white\"}, \"yaxis\": {\"backgroundcolor\": \"#E5ECF6\", \"gridcolor\": \"white\", \"gridwidth\": 2, \"linecolor\": \"white\", \"showbackground\": true, \"ticks\": \"\", \"zerolinecolor\": \"white\"}, \"zaxis\": {\"backgroundcolor\": \"#E5ECF6\", \"gridcolor\": \"white\", \"gridwidth\": 2, \"linecolor\": \"white\", \"showbackground\": true, \"ticks\": \"\", \"zerolinecolor\": \"white\"}}, \"shapedefaults\": {\"line\": {\"color\": \"#2a3f5f\"}}, \"ternary\": {\"aaxis\": {\"gridcolor\": \"white\", \"linecolor\": \"white\", \"ticks\": \"\"}, \"baxis\": {\"gridcolor\": \"white\", \"linecolor\": \"white\", \"ticks\": \"\"}, \"bgcolor\": \"#E5ECF6\", \"caxis\": {\"gridcolor\": \"white\", \"linecolor\": \"white\", \"ticks\": \"\"}}, \"title\": {\"x\": 0.05}, \"xaxis\": {\"automargin\": true, \"gridcolor\": \"white\", \"linecolor\": \"white\", \"ticks\": \"\", \"title\": {\"standoff\": 15}, \"zerolinecolor\": \"white\", \"zerolinewidth\": 2}, \"yaxis\": {\"automargin\": true, \"gridcolor\": \"white\", \"linecolor\": \"white\", \"ticks\": \"\", \"title\": {\"standoff\": 15}, \"zerolinecolor\": \"white\", \"zerolinewidth\": 2}}}, \"title\": {\"font\": {\"color\": \"#4D5663\"}}, \"xaxis\": {\"gridcolor\": \"#E1E5ED\", \"showgrid\": true, \"tickfont\": {\"color\": \"#4D5663\"}, \"title\": {\"font\": {\"color\": \"#4D5663\"}, \"text\": \"\"}, \"zerolinecolor\": \"#E1E5ED\"}, \"yaxis\": {\"gridcolor\": \"#E1E5ED\", \"showgrid\": true, \"tickfont\": {\"color\": \"#4D5663\"}, \"title\": {\"font\": {\"color\": \"#4D5663\"}, \"text\": \"\"}, \"zerolinecolor\": \"#E1E5ED\"}},                        {\"showLink\": true, \"linkText\": \"Export to plot.ly\", \"plotlyServerURL\": \"https://plot.ly\", \"responsive\": true}                    ).then(function(){\n",
       "                            \n",
       "var gd = document.getElementById('b55a6197-7251-4a9f-890c-a0f74be3c3f8');\n",
       "var x = new MutationObserver(function (mutations, observer) {{\n",
       "        var display = window.getComputedStyle(gd).display;\n",
       "        if (!display || display === 'none') {{\n",
       "            console.log([gd, 'removed!']);\n",
       "            Plotly.purge(gd);\n",
       "            observer.disconnect();\n",
       "        }}\n",
       "}});\n",
       "\n",
       "// Listen for the removal of the full notebook cells\n",
       "var notebookContainer = gd.closest('#notebook-container');\n",
       "if (notebookContainer) {{\n",
       "    x.observe(notebookContainer, {childList: true});\n",
       "}}\n",
       "\n",
       "// Listen for the clearing of the current output cell\n",
       "var outputEl = gd.closest('.output');\n",
       "if (outputEl) {{\n",
       "    x.observe(outputEl, {childList: true});\n",
       "}}\n",
       "\n",
       "                        })                };                });            </script>        </div>"
      ]
     },
     "metadata": {},
     "output_type": "display_data"
    }
   ],
   "source": [
    "df.iplot()\n",
    "#the above plot has been transformed into plotly interactive image and here we can scroll along and we can tell the values\n",
    "#at the particular index point\n",
    "#we can zoom in to check the values. Double click to zoom out"
   ]
  },
  {
   "cell_type": "code",
   "execution_count": 16,
   "id": "4256d121",
   "metadata": {},
   "outputs": [
    {
     "data": {
      "application/vnd.plotly.v1+json": {
       "config": {
        "linkText": "Export to plot.ly",
        "plotlyServerURL": "https://plot.ly",
        "showLink": true
       },
       "data": [
        {
         "line": {
          "color": "rgba(255, 153, 51, 1.0)",
          "dash": "solid",
          "shape": "linear",
          "width": 1.3
         },
         "mode": "lines",
         "name": "B",
         "text": "",
         "type": "scatter",
         "x": [
          -0.6707154253506642,
          -1.9500262411133285,
          0.47330149330972787,
          0.3220821058806944,
          0.20805808808316156,
          -0.35109658451676334,
          0.6962852968692117,
          -0.10784531902689991,
          1.5086544793457553,
          -1.340268292912184,
          0.7644344119612071,
          -0.26780932113299405,
          0.1878224556979502,
          1.171246085614569,
          0.1851093548441989,
          0.2823252049199303,
          0.6932277961556744,
          -0.6769518643083233,
          -0.19354333756548917,
          2.1363357457530587,
          0.040971497941110074,
          -1.7778136621759986,
          3.13702519812112,
          1.5018405020580647,
          -1.6127044945937676,
          -0.03130235727745821,
          0.09640237026125606,
          -0.5360328057285065,
          0.8757207392735993,
          0.28188882285582134,
          -0.6267644208076626,
          0.522160591589084,
          0.7117289724168866,
          -0.6437782301720258,
          0.2712843372224381,
          0.6033468190197396,
          0.8021238883637443,
          -0.7702350535759206,
          -1.6829360015664283,
          0.6731359493896302,
          -1.0248199572464276,
          0.8986669891621416,
          -0.3657217093686965,
          -0.19140225513344197,
          -0.027425781658837873,
          -0.4486319931274092,
          -1.2072169461605697,
          1.1119462802015492,
          0.7169013061838068,
          1.092554147709969,
          0.3877181592512865,
          -0.5077243469664451,
          0.40449061501060224,
          0.22132603560676464,
          0.5266282050852957,
          -0.3950309560310908,
          -0.005066618020162976,
          0.5397516109289167,
          -0.24187446680324345,
          -2.4180231477424297,
          -0.1118720542279614,
          0.7891934411928745,
          -1.4595096578166131,
          -1.6641566424292111,
          0.4641685548997316,
          0.2039478823314363,
          0.033767471863369765,
          -1.0739728733906564,
          -1.8950403385455485,
          0.33690673212261363,
          -0.34158656775274315,
          -0.1877609055445049,
          -1.3877147132450043,
          -0.5621215400627225,
          -0.25322924851168455,
          1.8159900315694717,
          -0.34533226510827736,
          1.0356949538332458,
          1.2021841404538256,
          -0.3927476513776488,
          0.837235412643784,
          -1.6234430720105062,
          1.243235860033378,
          0.16800048711867446,
          0.4391194684694063,
          -0.27275232834051005,
          1.8786432214985485,
          -1.036152949055604,
          -0.8484408810170442,
          0.3225952169549622,
          1.866756994721403,
          -0.5069716474593075,
          0.569264356614395,
          0.28876108330768585,
          -0.14817903275171626,
          -1.863044870763895,
          1.8120988870687478,
          0.18420897831186897,
          0.16052440170636006,
          2.5581870205130657
         ],
         "y": [
          2.1058842826318607,
          -2.072359511310542,
          -0.3416009005606861,
          -0.7284799185898405,
          -1.2504681420191213,
          0.36929949318306843,
          0.30650633934084254,
          -0.7822857645842319,
          -0.40249307975607373,
          -0.4894825593030477,
          -2.0423146065028983,
          0.9872944141587103,
          -1.0569817425686823,
          -1.6293020589481364,
          -0.3653355683975144,
          0.34908380245013,
          -0.9930184191231534,
          -1.5459068965500842,
          -0.4303553133615934,
          0.6436591668209447,
          0.8434328960587413,
          -0.8293341375988842,
          -0.17665403988967887,
          0.05571735134683879,
          0.7712899419374236,
          1.8392243290245631,
          -0.02887245228532163,
          -0.27213303990882726,
          -0.9293654935733069,
          -0.1717099056031576,
          0.10629681858599707,
          -0.15554719806862996,
          -0.9964845946839231,
          0.6092294141232871,
          0.674977835522611,
          1.1574969173759908,
          -0.0904536430233091,
          1.340391985298189,
          0.7013388590982971,
          0.5803876294942691,
          -0.4777178856989432,
          -0.4783100209870064,
          -0.23670952507275758,
          -1.1222153054155775,
          -0.10985297273626017,
          -0.08838416929997245,
          2.705075337277412,
          -1.353083311770451,
          -0.15123585689753194,
          -0.5079059934573342,
          0.214658887024363,
          0.0962629830423297,
          1.2226846938925608,
          -1.3849716686465248,
          2.47057224290792,
          -0.23622331664434187,
          -0.01386735927959883,
          0.3146974131045074,
          -1.611843264935958,
          0.6219892118864861,
          -0.25545298334001854,
          -0.20578715948195975,
          0.5026081049701817,
          -0.05039893194269115,
          -1.451888593332071,
          -1.6684912330390367,
          0.09839970157327095,
          -1.1912211957943615,
          0.35544779363433393,
          0.6886730916876131,
          0.8392771480070627,
          1.6715975529189262,
          0.2645710679527483,
          1.3357616401053343,
          -1.0479861237285117,
          -0.2708393114170538,
          -0.8665667773800374,
          1.3146913254236081,
          2.557788297919866,
          0.12340258729703828,
          1.3972074095700282,
          -1.400939946555493,
          1.050979978143761,
          0.19436735904851585,
          -0.20423934437480293,
          1.707269574355147,
          -1.1200963283863776,
          -1.8289426096328703,
          -0.6902735932611638,
          0.1731486516107255,
          -1.1238930656827142,
          -0.26769297907693507,
          -1.2963287663260568,
          -0.4381458613461422,
          0.4622567290341809,
          0.564315818327561,
          -0.15683622731556487,
          -1.906840982387614,
          0.5078497775235092,
          -0.5281224643869874
         ]
        }
       ],
       "layout": {
        "legend": {
         "bgcolor": "#F5F6F9",
         "font": {
          "color": "#4D5663"
         }
        },
        "paper_bgcolor": "#F5F6F9",
        "plot_bgcolor": "#F5F6F9",
        "template": {
         "data": {
          "bar": [
           {
            "error_x": {
             "color": "#2a3f5f"
            },
            "error_y": {
             "color": "#2a3f5f"
            },
            "marker": {
             "line": {
              "color": "#E5ECF6",
              "width": 0.5
             }
            },
            "type": "bar"
           }
          ],
          "barpolar": [
           {
            "marker": {
             "line": {
              "color": "#E5ECF6",
              "width": 0.5
             }
            },
            "type": "barpolar"
           }
          ],
          "carpet": [
           {
            "aaxis": {
             "endlinecolor": "#2a3f5f",
             "gridcolor": "white",
             "linecolor": "white",
             "minorgridcolor": "white",
             "startlinecolor": "#2a3f5f"
            },
            "baxis": {
             "endlinecolor": "#2a3f5f",
             "gridcolor": "white",
             "linecolor": "white",
             "minorgridcolor": "white",
             "startlinecolor": "#2a3f5f"
            },
            "type": "carpet"
           }
          ],
          "choropleth": [
           {
            "colorbar": {
             "outlinewidth": 0,
             "ticks": ""
            },
            "type": "choropleth"
           }
          ],
          "contour": [
           {
            "colorbar": {
             "outlinewidth": 0,
             "ticks": ""
            },
            "colorscale": [
             [
              0,
              "#0d0887"
             ],
             [
              0.1111111111111111,
              "#46039f"
             ],
             [
              0.2222222222222222,
              "#7201a8"
             ],
             [
              0.3333333333333333,
              "#9c179e"
             ],
             [
              0.4444444444444444,
              "#bd3786"
             ],
             [
              0.5555555555555556,
              "#d8576b"
             ],
             [
              0.6666666666666666,
              "#ed7953"
             ],
             [
              0.7777777777777778,
              "#fb9f3a"
             ],
             [
              0.8888888888888888,
              "#fdca26"
             ],
             [
              1,
              "#f0f921"
             ]
            ],
            "type": "contour"
           }
          ],
          "contourcarpet": [
           {
            "colorbar": {
             "outlinewidth": 0,
             "ticks": ""
            },
            "type": "contourcarpet"
           }
          ],
          "heatmap": [
           {
            "colorbar": {
             "outlinewidth": 0,
             "ticks": ""
            },
            "colorscale": [
             [
              0,
              "#0d0887"
             ],
             [
              0.1111111111111111,
              "#46039f"
             ],
             [
              0.2222222222222222,
              "#7201a8"
             ],
             [
              0.3333333333333333,
              "#9c179e"
             ],
             [
              0.4444444444444444,
              "#bd3786"
             ],
             [
              0.5555555555555556,
              "#d8576b"
             ],
             [
              0.6666666666666666,
              "#ed7953"
             ],
             [
              0.7777777777777778,
              "#fb9f3a"
             ],
             [
              0.8888888888888888,
              "#fdca26"
             ],
             [
              1,
              "#f0f921"
             ]
            ],
            "type": "heatmap"
           }
          ],
          "heatmapgl": [
           {
            "colorbar": {
             "outlinewidth": 0,
             "ticks": ""
            },
            "colorscale": [
             [
              0,
              "#0d0887"
             ],
             [
              0.1111111111111111,
              "#46039f"
             ],
             [
              0.2222222222222222,
              "#7201a8"
             ],
             [
              0.3333333333333333,
              "#9c179e"
             ],
             [
              0.4444444444444444,
              "#bd3786"
             ],
             [
              0.5555555555555556,
              "#d8576b"
             ],
             [
              0.6666666666666666,
              "#ed7953"
             ],
             [
              0.7777777777777778,
              "#fb9f3a"
             ],
             [
              0.8888888888888888,
              "#fdca26"
             ],
             [
              1,
              "#f0f921"
             ]
            ],
            "type": "heatmapgl"
           }
          ],
          "histogram": [
           {
            "marker": {
             "colorbar": {
              "outlinewidth": 0,
              "ticks": ""
             }
            },
            "type": "histogram"
           }
          ],
          "histogram2d": [
           {
            "colorbar": {
             "outlinewidth": 0,
             "ticks": ""
            },
            "colorscale": [
             [
              0,
              "#0d0887"
             ],
             [
              0.1111111111111111,
              "#46039f"
             ],
             [
              0.2222222222222222,
              "#7201a8"
             ],
             [
              0.3333333333333333,
              "#9c179e"
             ],
             [
              0.4444444444444444,
              "#bd3786"
             ],
             [
              0.5555555555555556,
              "#d8576b"
             ],
             [
              0.6666666666666666,
              "#ed7953"
             ],
             [
              0.7777777777777778,
              "#fb9f3a"
             ],
             [
              0.8888888888888888,
              "#fdca26"
             ],
             [
              1,
              "#f0f921"
             ]
            ],
            "type": "histogram2d"
           }
          ],
          "histogram2dcontour": [
           {
            "colorbar": {
             "outlinewidth": 0,
             "ticks": ""
            },
            "colorscale": [
             [
              0,
              "#0d0887"
             ],
             [
              0.1111111111111111,
              "#46039f"
             ],
             [
              0.2222222222222222,
              "#7201a8"
             ],
             [
              0.3333333333333333,
              "#9c179e"
             ],
             [
              0.4444444444444444,
              "#bd3786"
             ],
             [
              0.5555555555555556,
              "#d8576b"
             ],
             [
              0.6666666666666666,
              "#ed7953"
             ],
             [
              0.7777777777777778,
              "#fb9f3a"
             ],
             [
              0.8888888888888888,
              "#fdca26"
             ],
             [
              1,
              "#f0f921"
             ]
            ],
            "type": "histogram2dcontour"
           }
          ],
          "mesh3d": [
           {
            "colorbar": {
             "outlinewidth": 0,
             "ticks": ""
            },
            "type": "mesh3d"
           }
          ],
          "parcoords": [
           {
            "line": {
             "colorbar": {
              "outlinewidth": 0,
              "ticks": ""
             }
            },
            "type": "parcoords"
           }
          ],
          "pie": [
           {
            "automargin": true,
            "type": "pie"
           }
          ],
          "scatter": [
           {
            "marker": {
             "colorbar": {
              "outlinewidth": 0,
              "ticks": ""
             }
            },
            "type": "scatter"
           }
          ],
          "scatter3d": [
           {
            "line": {
             "colorbar": {
              "outlinewidth": 0,
              "ticks": ""
             }
            },
            "marker": {
             "colorbar": {
              "outlinewidth": 0,
              "ticks": ""
             }
            },
            "type": "scatter3d"
           }
          ],
          "scattercarpet": [
           {
            "marker": {
             "colorbar": {
              "outlinewidth": 0,
              "ticks": ""
             }
            },
            "type": "scattercarpet"
           }
          ],
          "scattergeo": [
           {
            "marker": {
             "colorbar": {
              "outlinewidth": 0,
              "ticks": ""
             }
            },
            "type": "scattergeo"
           }
          ],
          "scattergl": [
           {
            "marker": {
             "colorbar": {
              "outlinewidth": 0,
              "ticks": ""
             }
            },
            "type": "scattergl"
           }
          ],
          "scattermapbox": [
           {
            "marker": {
             "colorbar": {
              "outlinewidth": 0,
              "ticks": ""
             }
            },
            "type": "scattermapbox"
           }
          ],
          "scatterpolar": [
           {
            "marker": {
             "colorbar": {
              "outlinewidth": 0,
              "ticks": ""
             }
            },
            "type": "scatterpolar"
           }
          ],
          "scatterpolargl": [
           {
            "marker": {
             "colorbar": {
              "outlinewidth": 0,
              "ticks": ""
             }
            },
            "type": "scatterpolargl"
           }
          ],
          "scatterternary": [
           {
            "marker": {
             "colorbar": {
              "outlinewidth": 0,
              "ticks": ""
             }
            },
            "type": "scatterternary"
           }
          ],
          "surface": [
           {
            "colorbar": {
             "outlinewidth": 0,
             "ticks": ""
            },
            "colorscale": [
             [
              0,
              "#0d0887"
             ],
             [
              0.1111111111111111,
              "#46039f"
             ],
             [
              0.2222222222222222,
              "#7201a8"
             ],
             [
              0.3333333333333333,
              "#9c179e"
             ],
             [
              0.4444444444444444,
              "#bd3786"
             ],
             [
              0.5555555555555556,
              "#d8576b"
             ],
             [
              0.6666666666666666,
              "#ed7953"
             ],
             [
              0.7777777777777778,
              "#fb9f3a"
             ],
             [
              0.8888888888888888,
              "#fdca26"
             ],
             [
              1,
              "#f0f921"
             ]
            ],
            "type": "surface"
           }
          ],
          "table": [
           {
            "cells": {
             "fill": {
              "color": "#EBF0F8"
             },
             "line": {
              "color": "white"
             }
            },
            "header": {
             "fill": {
              "color": "#C8D4E3"
             },
             "line": {
              "color": "white"
             }
            },
            "type": "table"
           }
          ]
         },
         "layout": {
          "annotationdefaults": {
           "arrowcolor": "#2a3f5f",
           "arrowhead": 0,
           "arrowwidth": 1
          },
          "autotypenumbers": "strict",
          "coloraxis": {
           "colorbar": {
            "outlinewidth": 0,
            "ticks": ""
           }
          },
          "colorscale": {
           "diverging": [
            [
             0,
             "#8e0152"
            ],
            [
             0.1,
             "#c51b7d"
            ],
            [
             0.2,
             "#de77ae"
            ],
            [
             0.3,
             "#f1b6da"
            ],
            [
             0.4,
             "#fde0ef"
            ],
            [
             0.5,
             "#f7f7f7"
            ],
            [
             0.6,
             "#e6f5d0"
            ],
            [
             0.7,
             "#b8e186"
            ],
            [
             0.8,
             "#7fbc41"
            ],
            [
             0.9,
             "#4d9221"
            ],
            [
             1,
             "#276419"
            ]
           ],
           "sequential": [
            [
             0,
             "#0d0887"
            ],
            [
             0.1111111111111111,
             "#46039f"
            ],
            [
             0.2222222222222222,
             "#7201a8"
            ],
            [
             0.3333333333333333,
             "#9c179e"
            ],
            [
             0.4444444444444444,
             "#bd3786"
            ],
            [
             0.5555555555555556,
             "#d8576b"
            ],
            [
             0.6666666666666666,
             "#ed7953"
            ],
            [
             0.7777777777777778,
             "#fb9f3a"
            ],
            [
             0.8888888888888888,
             "#fdca26"
            ],
            [
             1,
             "#f0f921"
            ]
           ],
           "sequentialminus": [
            [
             0,
             "#0d0887"
            ],
            [
             0.1111111111111111,
             "#46039f"
            ],
            [
             0.2222222222222222,
             "#7201a8"
            ],
            [
             0.3333333333333333,
             "#9c179e"
            ],
            [
             0.4444444444444444,
             "#bd3786"
            ],
            [
             0.5555555555555556,
             "#d8576b"
            ],
            [
             0.6666666666666666,
             "#ed7953"
            ],
            [
             0.7777777777777778,
             "#fb9f3a"
            ],
            [
             0.8888888888888888,
             "#fdca26"
            ],
            [
             1,
             "#f0f921"
            ]
           ]
          },
          "colorway": [
           "#636efa",
           "#EF553B",
           "#00cc96",
           "#ab63fa",
           "#FFA15A",
           "#19d3f3",
           "#FF6692",
           "#B6E880",
           "#FF97FF",
           "#FECB52"
          ],
          "font": {
           "color": "#2a3f5f"
          },
          "geo": {
           "bgcolor": "white",
           "lakecolor": "white",
           "landcolor": "#E5ECF6",
           "showlakes": true,
           "showland": true,
           "subunitcolor": "white"
          },
          "hoverlabel": {
           "align": "left"
          },
          "hovermode": "closest",
          "mapbox": {
           "style": "light"
          },
          "paper_bgcolor": "white",
          "plot_bgcolor": "#E5ECF6",
          "polar": {
           "angularaxis": {
            "gridcolor": "white",
            "linecolor": "white",
            "ticks": ""
           },
           "bgcolor": "#E5ECF6",
           "radialaxis": {
            "gridcolor": "white",
            "linecolor": "white",
            "ticks": ""
           }
          },
          "scene": {
           "xaxis": {
            "backgroundcolor": "#E5ECF6",
            "gridcolor": "white",
            "gridwidth": 2,
            "linecolor": "white",
            "showbackground": true,
            "ticks": "",
            "zerolinecolor": "white"
           },
           "yaxis": {
            "backgroundcolor": "#E5ECF6",
            "gridcolor": "white",
            "gridwidth": 2,
            "linecolor": "white",
            "showbackground": true,
            "ticks": "",
            "zerolinecolor": "white"
           },
           "zaxis": {
            "backgroundcolor": "#E5ECF6",
            "gridcolor": "white",
            "gridwidth": 2,
            "linecolor": "white",
            "showbackground": true,
            "ticks": "",
            "zerolinecolor": "white"
           }
          },
          "shapedefaults": {
           "line": {
            "color": "#2a3f5f"
           }
          },
          "ternary": {
           "aaxis": {
            "gridcolor": "white",
            "linecolor": "white",
            "ticks": ""
           },
           "baxis": {
            "gridcolor": "white",
            "linecolor": "white",
            "ticks": ""
           },
           "bgcolor": "#E5ECF6",
           "caxis": {
            "gridcolor": "white",
            "linecolor": "white",
            "ticks": ""
           }
          },
          "title": {
           "x": 0.05
          },
          "xaxis": {
           "automargin": true,
           "gridcolor": "white",
           "linecolor": "white",
           "ticks": "",
           "title": {
            "standoff": 15
           },
           "zerolinecolor": "white",
           "zerolinewidth": 2
          },
          "yaxis": {
           "automargin": true,
           "gridcolor": "white",
           "linecolor": "white",
           "ticks": "",
           "title": {
            "standoff": 15
           },
           "zerolinecolor": "white",
           "zerolinewidth": 2
          }
         }
        },
        "title": {
         "font": {
          "color": "#4D5663"
         }
        },
        "xaxis": {
         "gridcolor": "#E1E5ED",
         "showgrid": true,
         "tickfont": {
          "color": "#4D5663"
         },
         "title": {
          "font": {
           "color": "#4D5663"
          },
          "text": ""
         },
         "zerolinecolor": "#E1E5ED"
        },
        "yaxis": {
         "gridcolor": "#E1E5ED",
         "showgrid": true,
         "tickfont": {
          "color": "#4D5663"
         },
         "title": {
          "font": {
           "color": "#4D5663"
          },
          "text": ""
         },
         "zerolinecolor": "#E1E5ED"
        }
       }
      },
      "text/html": [
       "<div>                            <div id=\"3354acb2-6945-444e-891f-ccf7f1eccd48\" class=\"plotly-graph-div\" style=\"height:525px; width:100%;\"></div>            <script type=\"text/javascript\">                require([\"plotly\"], function(Plotly) {                    window.PLOTLYENV=window.PLOTLYENV || {};\n",
       "                    window.PLOTLYENV.BASE_URL='https://plot.ly';                                    if (document.getElementById(\"3354acb2-6945-444e-891f-ccf7f1eccd48\")) {                    Plotly.newPlot(                        \"3354acb2-6945-444e-891f-ccf7f1eccd48\",                        [{\"line\": {\"color\": \"rgba(255, 153, 51, 1.0)\", \"dash\": \"solid\", \"shape\": \"linear\", \"width\": 1.3}, \"mode\": \"lines\", \"name\": \"B\", \"text\": \"\", \"type\": \"scatter\", \"x\": [-0.6707154253506642, -1.9500262411133285, 0.47330149330972787, 0.3220821058806944, 0.20805808808316156, -0.35109658451676334, 0.6962852968692117, -0.10784531902689991, 1.5086544793457553, -1.340268292912184, 0.7644344119612071, -0.26780932113299405, 0.1878224556979502, 1.171246085614569, 0.1851093548441989, 0.2823252049199303, 0.6932277961556744, -0.6769518643083233, -0.19354333756548917, 2.1363357457530587, 0.040971497941110074, -1.7778136621759986, 3.13702519812112, 1.5018405020580647, -1.6127044945937676, -0.03130235727745821, 0.09640237026125606, -0.5360328057285065, 0.8757207392735993, 0.28188882285582134, -0.6267644208076626, 0.522160591589084, 0.7117289724168866, -0.6437782301720258, 0.2712843372224381, 0.6033468190197396, 0.8021238883637443, -0.7702350535759206, -1.6829360015664283, 0.6731359493896302, -1.0248199572464276, 0.8986669891621416, -0.3657217093686965, -0.19140225513344197, -0.027425781658837873, -0.4486319931274092, -1.2072169461605697, 1.1119462802015492, 0.7169013061838068, 1.092554147709969, 0.3877181592512865, -0.5077243469664451, 0.40449061501060224, 0.22132603560676464, 0.5266282050852957, -0.3950309560310908, -0.005066618020162976, 0.5397516109289167, -0.24187446680324345, -2.4180231477424297, -0.1118720542279614, 0.7891934411928745, -1.4595096578166131, -1.6641566424292111, 0.4641685548997316, 0.2039478823314363, 0.033767471863369765, -1.0739728733906564, -1.8950403385455485, 0.33690673212261363, -0.34158656775274315, -0.1877609055445049, -1.3877147132450043, -0.5621215400627225, -0.25322924851168455, 1.8159900315694717, -0.34533226510827736, 1.0356949538332458, 1.2021841404538256, -0.3927476513776488, 0.837235412643784, -1.6234430720105062, 1.243235860033378, 0.16800048711867446, 0.4391194684694063, -0.27275232834051005, 1.8786432214985485, -1.036152949055604, -0.8484408810170442, 0.3225952169549622, 1.866756994721403, -0.5069716474593075, 0.569264356614395, 0.28876108330768585, -0.14817903275171626, -1.863044870763895, 1.8120988870687478, 0.18420897831186897, 0.16052440170636006, 2.5581870205130657], \"y\": [2.1058842826318607, -2.072359511310542, -0.3416009005606861, -0.7284799185898405, -1.2504681420191213, 0.36929949318306843, 0.30650633934084254, -0.7822857645842319, -0.40249307975607373, -0.4894825593030477, -2.0423146065028983, 0.9872944141587103, -1.0569817425686823, -1.6293020589481364, -0.3653355683975144, 0.34908380245013, -0.9930184191231534, -1.5459068965500842, -0.4303553133615934, 0.6436591668209447, 0.8434328960587413, -0.8293341375988842, -0.17665403988967887, 0.05571735134683879, 0.7712899419374236, 1.8392243290245631, -0.02887245228532163, -0.27213303990882726, -0.9293654935733069, -0.1717099056031576, 0.10629681858599707, -0.15554719806862996, -0.9964845946839231, 0.6092294141232871, 0.674977835522611, 1.1574969173759908, -0.0904536430233091, 1.340391985298189, 0.7013388590982971, 0.5803876294942691, -0.4777178856989432, -0.4783100209870064, -0.23670952507275758, -1.1222153054155775, -0.10985297273626017, -0.08838416929997245, 2.705075337277412, -1.353083311770451, -0.15123585689753194, -0.5079059934573342, 0.214658887024363, 0.0962629830423297, 1.2226846938925608, -1.3849716686465248, 2.47057224290792, -0.23622331664434187, -0.01386735927959883, 0.3146974131045074, -1.611843264935958, 0.6219892118864861, -0.25545298334001854, -0.20578715948195975, 0.5026081049701817, -0.05039893194269115, -1.451888593332071, -1.6684912330390367, 0.09839970157327095, -1.1912211957943615, 0.35544779363433393, 0.6886730916876131, 0.8392771480070627, 1.6715975529189262, 0.2645710679527483, 1.3357616401053343, -1.0479861237285117, -0.2708393114170538, -0.8665667773800374, 1.3146913254236081, 2.557788297919866, 0.12340258729703828, 1.3972074095700282, -1.400939946555493, 1.050979978143761, 0.19436735904851585, -0.20423934437480293, 1.707269574355147, -1.1200963283863776, -1.8289426096328703, -0.6902735932611638, 0.1731486516107255, -1.1238930656827142, -0.26769297907693507, -1.2963287663260568, -0.4381458613461422, 0.4622567290341809, 0.564315818327561, -0.15683622731556487, -1.906840982387614, 0.5078497775235092, -0.5281224643869874]}],                        {\"legend\": {\"bgcolor\": \"#F5F6F9\", \"font\": {\"color\": \"#4D5663\"}}, \"paper_bgcolor\": \"#F5F6F9\", \"plot_bgcolor\": \"#F5F6F9\", \"template\": {\"data\": {\"bar\": [{\"error_x\": {\"color\": \"#2a3f5f\"}, \"error_y\": {\"color\": \"#2a3f5f\"}, \"marker\": {\"line\": {\"color\": \"#E5ECF6\", \"width\": 0.5}}, \"type\": \"bar\"}], \"barpolar\": [{\"marker\": {\"line\": {\"color\": \"#E5ECF6\", \"width\": 0.5}}, \"type\": \"barpolar\"}], \"carpet\": [{\"aaxis\": {\"endlinecolor\": \"#2a3f5f\", \"gridcolor\": \"white\", \"linecolor\": \"white\", \"minorgridcolor\": \"white\", \"startlinecolor\": \"#2a3f5f\"}, \"baxis\": {\"endlinecolor\": \"#2a3f5f\", \"gridcolor\": \"white\", \"linecolor\": \"white\", \"minorgridcolor\": \"white\", \"startlinecolor\": \"#2a3f5f\"}, \"type\": \"carpet\"}], \"choropleth\": [{\"colorbar\": {\"outlinewidth\": 0, \"ticks\": \"\"}, \"type\": \"choropleth\"}], \"contour\": [{\"colorbar\": {\"outlinewidth\": 0, \"ticks\": \"\"}, \"colorscale\": [[0.0, \"#0d0887\"], [0.1111111111111111, \"#46039f\"], [0.2222222222222222, \"#7201a8\"], [0.3333333333333333, \"#9c179e\"], [0.4444444444444444, \"#bd3786\"], [0.5555555555555556, \"#d8576b\"], [0.6666666666666666, \"#ed7953\"], [0.7777777777777778, \"#fb9f3a\"], [0.8888888888888888, \"#fdca26\"], [1.0, \"#f0f921\"]], \"type\": \"contour\"}], \"contourcarpet\": [{\"colorbar\": {\"outlinewidth\": 0, \"ticks\": \"\"}, \"type\": \"contourcarpet\"}], \"heatmap\": [{\"colorbar\": {\"outlinewidth\": 0, \"ticks\": \"\"}, \"colorscale\": [[0.0, \"#0d0887\"], [0.1111111111111111, \"#46039f\"], [0.2222222222222222, \"#7201a8\"], [0.3333333333333333, \"#9c179e\"], [0.4444444444444444, \"#bd3786\"], [0.5555555555555556, \"#d8576b\"], [0.6666666666666666, \"#ed7953\"], [0.7777777777777778, \"#fb9f3a\"], [0.8888888888888888, \"#fdca26\"], [1.0, \"#f0f921\"]], \"type\": \"heatmap\"}], \"heatmapgl\": [{\"colorbar\": {\"outlinewidth\": 0, \"ticks\": \"\"}, \"colorscale\": [[0.0, \"#0d0887\"], [0.1111111111111111, \"#46039f\"], [0.2222222222222222, \"#7201a8\"], [0.3333333333333333, \"#9c179e\"], [0.4444444444444444, \"#bd3786\"], [0.5555555555555556, \"#d8576b\"], [0.6666666666666666, \"#ed7953\"], [0.7777777777777778, \"#fb9f3a\"], [0.8888888888888888, \"#fdca26\"], [1.0, \"#f0f921\"]], \"type\": \"heatmapgl\"}], \"histogram\": [{\"marker\": {\"colorbar\": {\"outlinewidth\": 0, \"ticks\": \"\"}}, \"type\": \"histogram\"}], \"histogram2d\": [{\"colorbar\": {\"outlinewidth\": 0, \"ticks\": \"\"}, \"colorscale\": [[0.0, \"#0d0887\"], [0.1111111111111111, \"#46039f\"], [0.2222222222222222, \"#7201a8\"], [0.3333333333333333, \"#9c179e\"], [0.4444444444444444, \"#bd3786\"], [0.5555555555555556, \"#d8576b\"], [0.6666666666666666, \"#ed7953\"], [0.7777777777777778, \"#fb9f3a\"], [0.8888888888888888, \"#fdca26\"], [1.0, \"#f0f921\"]], \"type\": \"histogram2d\"}], \"histogram2dcontour\": [{\"colorbar\": {\"outlinewidth\": 0, \"ticks\": \"\"}, \"colorscale\": [[0.0, \"#0d0887\"], [0.1111111111111111, \"#46039f\"], [0.2222222222222222, \"#7201a8\"], [0.3333333333333333, \"#9c179e\"], [0.4444444444444444, \"#bd3786\"], [0.5555555555555556, \"#d8576b\"], [0.6666666666666666, \"#ed7953\"], [0.7777777777777778, \"#fb9f3a\"], [0.8888888888888888, \"#fdca26\"], [1.0, \"#f0f921\"]], \"type\": \"histogram2dcontour\"}], \"mesh3d\": [{\"colorbar\": {\"outlinewidth\": 0, \"ticks\": \"\"}, \"type\": \"mesh3d\"}], \"parcoords\": [{\"line\": {\"colorbar\": {\"outlinewidth\": 0, \"ticks\": \"\"}}, \"type\": \"parcoords\"}], \"pie\": [{\"automargin\": true, \"type\": \"pie\"}], \"scatter\": [{\"marker\": {\"colorbar\": {\"outlinewidth\": 0, \"ticks\": \"\"}}, \"type\": \"scatter\"}], \"scatter3d\": [{\"line\": {\"colorbar\": {\"outlinewidth\": 0, \"ticks\": \"\"}}, \"marker\": {\"colorbar\": {\"outlinewidth\": 0, \"ticks\": \"\"}}, \"type\": \"scatter3d\"}], \"scattercarpet\": [{\"marker\": {\"colorbar\": {\"outlinewidth\": 0, \"ticks\": \"\"}}, \"type\": \"scattercarpet\"}], \"scattergeo\": [{\"marker\": {\"colorbar\": {\"outlinewidth\": 0, \"ticks\": \"\"}}, \"type\": \"scattergeo\"}], \"scattergl\": [{\"marker\": {\"colorbar\": {\"outlinewidth\": 0, \"ticks\": \"\"}}, \"type\": \"scattergl\"}], \"scattermapbox\": [{\"marker\": {\"colorbar\": {\"outlinewidth\": 0, \"ticks\": \"\"}}, \"type\": \"scattermapbox\"}], \"scatterpolar\": [{\"marker\": {\"colorbar\": {\"outlinewidth\": 0, \"ticks\": \"\"}}, \"type\": \"scatterpolar\"}], \"scatterpolargl\": [{\"marker\": {\"colorbar\": {\"outlinewidth\": 0, \"ticks\": \"\"}}, \"type\": \"scatterpolargl\"}], \"scatterternary\": [{\"marker\": {\"colorbar\": {\"outlinewidth\": 0, \"ticks\": \"\"}}, \"type\": \"scatterternary\"}], \"surface\": [{\"colorbar\": {\"outlinewidth\": 0, \"ticks\": \"\"}, \"colorscale\": [[0.0, \"#0d0887\"], [0.1111111111111111, \"#46039f\"], [0.2222222222222222, \"#7201a8\"], [0.3333333333333333, \"#9c179e\"], [0.4444444444444444, \"#bd3786\"], [0.5555555555555556, \"#d8576b\"], [0.6666666666666666, \"#ed7953\"], [0.7777777777777778, \"#fb9f3a\"], [0.8888888888888888, \"#fdca26\"], [1.0, \"#f0f921\"]], \"type\": \"surface\"}], \"table\": [{\"cells\": {\"fill\": {\"color\": \"#EBF0F8\"}, \"line\": {\"color\": \"white\"}}, \"header\": {\"fill\": {\"color\": \"#C8D4E3\"}, \"line\": {\"color\": \"white\"}}, \"type\": \"table\"}]}, \"layout\": {\"annotationdefaults\": {\"arrowcolor\": \"#2a3f5f\", \"arrowhead\": 0, \"arrowwidth\": 1}, \"autotypenumbers\": \"strict\", \"coloraxis\": {\"colorbar\": {\"outlinewidth\": 0, \"ticks\": \"\"}}, \"colorscale\": {\"diverging\": [[0, \"#8e0152\"], [0.1, \"#c51b7d\"], [0.2, \"#de77ae\"], [0.3, \"#f1b6da\"], [0.4, \"#fde0ef\"], [0.5, \"#f7f7f7\"], [0.6, \"#e6f5d0\"], [0.7, \"#b8e186\"], [0.8, \"#7fbc41\"], [0.9, \"#4d9221\"], [1, \"#276419\"]], \"sequential\": [[0.0, \"#0d0887\"], [0.1111111111111111, \"#46039f\"], [0.2222222222222222, \"#7201a8\"], [0.3333333333333333, \"#9c179e\"], [0.4444444444444444, \"#bd3786\"], [0.5555555555555556, \"#d8576b\"], [0.6666666666666666, \"#ed7953\"], [0.7777777777777778, \"#fb9f3a\"], [0.8888888888888888, \"#fdca26\"], [1.0, \"#f0f921\"]], \"sequentialminus\": [[0.0, \"#0d0887\"], [0.1111111111111111, \"#46039f\"], [0.2222222222222222, \"#7201a8\"], [0.3333333333333333, \"#9c179e\"], [0.4444444444444444, \"#bd3786\"], [0.5555555555555556, \"#d8576b\"], [0.6666666666666666, \"#ed7953\"], [0.7777777777777778, \"#fb9f3a\"], [0.8888888888888888, \"#fdca26\"], [1.0, \"#f0f921\"]]}, \"colorway\": [\"#636efa\", \"#EF553B\", \"#00cc96\", \"#ab63fa\", \"#FFA15A\", \"#19d3f3\", \"#FF6692\", \"#B6E880\", \"#FF97FF\", \"#FECB52\"], \"font\": {\"color\": \"#2a3f5f\"}, \"geo\": {\"bgcolor\": \"white\", \"lakecolor\": \"white\", \"landcolor\": \"#E5ECF6\", \"showlakes\": true, \"showland\": true, \"subunitcolor\": \"white\"}, \"hoverlabel\": {\"align\": \"left\"}, \"hovermode\": \"closest\", \"mapbox\": {\"style\": \"light\"}, \"paper_bgcolor\": \"white\", \"plot_bgcolor\": \"#E5ECF6\", \"polar\": {\"angularaxis\": {\"gridcolor\": \"white\", \"linecolor\": \"white\", \"ticks\": \"\"}, \"bgcolor\": \"#E5ECF6\", \"radialaxis\": {\"gridcolor\": \"white\", \"linecolor\": \"white\", \"ticks\": \"\"}}, \"scene\": {\"xaxis\": {\"backgroundcolor\": \"#E5ECF6\", \"gridcolor\": \"white\", \"gridwidth\": 2, \"linecolor\": \"white\", \"showbackground\": true, \"ticks\": \"\", \"zerolinecolor\": \"white\"}, \"yaxis\": {\"backgroundcolor\": \"#E5ECF6\", \"gridcolor\": \"white\", \"gridwidth\": 2, \"linecolor\": \"white\", \"showbackground\": true, \"ticks\": \"\", \"zerolinecolor\": \"white\"}, \"zaxis\": {\"backgroundcolor\": \"#E5ECF6\", \"gridcolor\": \"white\", \"gridwidth\": 2, \"linecolor\": \"white\", \"showbackground\": true, \"ticks\": \"\", \"zerolinecolor\": \"white\"}}, \"shapedefaults\": {\"line\": {\"color\": \"#2a3f5f\"}}, \"ternary\": {\"aaxis\": {\"gridcolor\": \"white\", \"linecolor\": \"white\", \"ticks\": \"\"}, \"baxis\": {\"gridcolor\": \"white\", \"linecolor\": \"white\", \"ticks\": \"\"}, \"bgcolor\": \"#E5ECF6\", \"caxis\": {\"gridcolor\": \"white\", \"linecolor\": \"white\", \"ticks\": \"\"}}, \"title\": {\"x\": 0.05}, \"xaxis\": {\"automargin\": true, \"gridcolor\": \"white\", \"linecolor\": \"white\", \"ticks\": \"\", \"title\": {\"standoff\": 15}, \"zerolinecolor\": \"white\", \"zerolinewidth\": 2}, \"yaxis\": {\"automargin\": true, \"gridcolor\": \"white\", \"linecolor\": \"white\", \"ticks\": \"\", \"title\": {\"standoff\": 15}, \"zerolinecolor\": \"white\", \"zerolinewidth\": 2}}}, \"title\": {\"font\": {\"color\": \"#4D5663\"}}, \"xaxis\": {\"gridcolor\": \"#E1E5ED\", \"showgrid\": true, \"tickfont\": {\"color\": \"#4D5663\"}, \"title\": {\"font\": {\"color\": \"#4D5663\"}, \"text\": \"\"}, \"zerolinecolor\": \"#E1E5ED\"}, \"yaxis\": {\"gridcolor\": \"#E1E5ED\", \"showgrid\": true, \"tickfont\": {\"color\": \"#4D5663\"}, \"title\": {\"font\": {\"color\": \"#4D5663\"}, \"text\": \"\"}, \"zerolinecolor\": \"#E1E5ED\"}},                        {\"showLink\": true, \"linkText\": \"Export to plot.ly\", \"plotlyServerURL\": \"https://plot.ly\", \"responsive\": true}                    ).then(function(){\n",
       "                            \n",
       "var gd = document.getElementById('3354acb2-6945-444e-891f-ccf7f1eccd48');\n",
       "var x = new MutationObserver(function (mutations, observer) {{\n",
       "        var display = window.getComputedStyle(gd).display;\n",
       "        if (!display || display === 'none') {{\n",
       "            console.log([gd, 'removed!']);\n",
       "            Plotly.purge(gd);\n",
       "            observer.disconnect();\n",
       "        }}\n",
       "}});\n",
       "\n",
       "// Listen for the removal of the full notebook cells\n",
       "var notebookContainer = gd.closest('#notebook-container');\n",
       "if (notebookContainer) {{\n",
       "    x.observe(notebookContainer, {childList: true});\n",
       "}}\n",
       "\n",
       "// Listen for the clearing of the current output cell\n",
       "var outputEl = gd.closest('.output');\n",
       "if (outputEl) {{\n",
       "    x.observe(outputEl, {childList: true});\n",
       "}}\n",
       "\n",
       "                        })                };                });            </script>        </div>"
      ]
     },
     "metadata": {},
     "output_type": "display_data"
    }
   ],
   "source": [
    "#scatter plot\n",
    "df.iplot(kind='scatter',x='A',y='B')"
   ]
  },
  {
   "cell_type": "code",
   "execution_count": 18,
   "id": "c2ddc4de",
   "metadata": {},
   "outputs": [
    {
     "data": {
      "application/vnd.plotly.v1+json": {
       "config": {
        "linkText": "Export to plot.ly",
        "plotlyServerURL": "https://plot.ly",
        "showLink": true
       },
       "data": [
        {
         "line": {
          "color": "rgba(255, 153, 51, 1.0)",
          "dash": "solid",
          "shape": "linear",
          "width": 1.3
         },
         "marker": {
          "size": 20,
          "symbol": "circle"
         },
         "mode": "markers",
         "name": "B",
         "text": "",
         "type": "scatter",
         "x": [
          -0.6707154253506642,
          -1.9500262411133285,
          0.47330149330972787,
          0.3220821058806944,
          0.20805808808316156,
          -0.35109658451676334,
          0.6962852968692117,
          -0.10784531902689991,
          1.5086544793457553,
          -1.340268292912184,
          0.7644344119612071,
          -0.26780932113299405,
          0.1878224556979502,
          1.171246085614569,
          0.1851093548441989,
          0.2823252049199303,
          0.6932277961556744,
          -0.6769518643083233,
          -0.19354333756548917,
          2.1363357457530587,
          0.040971497941110074,
          -1.7778136621759986,
          3.13702519812112,
          1.5018405020580647,
          -1.6127044945937676,
          -0.03130235727745821,
          0.09640237026125606,
          -0.5360328057285065,
          0.8757207392735993,
          0.28188882285582134,
          -0.6267644208076626,
          0.522160591589084,
          0.7117289724168866,
          -0.6437782301720258,
          0.2712843372224381,
          0.6033468190197396,
          0.8021238883637443,
          -0.7702350535759206,
          -1.6829360015664283,
          0.6731359493896302,
          -1.0248199572464276,
          0.8986669891621416,
          -0.3657217093686965,
          -0.19140225513344197,
          -0.027425781658837873,
          -0.4486319931274092,
          -1.2072169461605697,
          1.1119462802015492,
          0.7169013061838068,
          1.092554147709969,
          0.3877181592512865,
          -0.5077243469664451,
          0.40449061501060224,
          0.22132603560676464,
          0.5266282050852957,
          -0.3950309560310908,
          -0.005066618020162976,
          0.5397516109289167,
          -0.24187446680324345,
          -2.4180231477424297,
          -0.1118720542279614,
          0.7891934411928745,
          -1.4595096578166131,
          -1.6641566424292111,
          0.4641685548997316,
          0.2039478823314363,
          0.033767471863369765,
          -1.0739728733906564,
          -1.8950403385455485,
          0.33690673212261363,
          -0.34158656775274315,
          -0.1877609055445049,
          -1.3877147132450043,
          -0.5621215400627225,
          -0.25322924851168455,
          1.8159900315694717,
          -0.34533226510827736,
          1.0356949538332458,
          1.2021841404538256,
          -0.3927476513776488,
          0.837235412643784,
          -1.6234430720105062,
          1.243235860033378,
          0.16800048711867446,
          0.4391194684694063,
          -0.27275232834051005,
          1.8786432214985485,
          -1.036152949055604,
          -0.8484408810170442,
          0.3225952169549622,
          1.866756994721403,
          -0.5069716474593075,
          0.569264356614395,
          0.28876108330768585,
          -0.14817903275171626,
          -1.863044870763895,
          1.8120988870687478,
          0.18420897831186897,
          0.16052440170636006,
          2.5581870205130657
         ],
         "y": [
          2.1058842826318607,
          -2.072359511310542,
          -0.3416009005606861,
          -0.7284799185898405,
          -1.2504681420191213,
          0.36929949318306843,
          0.30650633934084254,
          -0.7822857645842319,
          -0.40249307975607373,
          -0.4894825593030477,
          -2.0423146065028983,
          0.9872944141587103,
          -1.0569817425686823,
          -1.6293020589481364,
          -0.3653355683975144,
          0.34908380245013,
          -0.9930184191231534,
          -1.5459068965500842,
          -0.4303553133615934,
          0.6436591668209447,
          0.8434328960587413,
          -0.8293341375988842,
          -0.17665403988967887,
          0.05571735134683879,
          0.7712899419374236,
          1.8392243290245631,
          -0.02887245228532163,
          -0.27213303990882726,
          -0.9293654935733069,
          -0.1717099056031576,
          0.10629681858599707,
          -0.15554719806862996,
          -0.9964845946839231,
          0.6092294141232871,
          0.674977835522611,
          1.1574969173759908,
          -0.0904536430233091,
          1.340391985298189,
          0.7013388590982971,
          0.5803876294942691,
          -0.4777178856989432,
          -0.4783100209870064,
          -0.23670952507275758,
          -1.1222153054155775,
          -0.10985297273626017,
          -0.08838416929997245,
          2.705075337277412,
          -1.353083311770451,
          -0.15123585689753194,
          -0.5079059934573342,
          0.214658887024363,
          0.0962629830423297,
          1.2226846938925608,
          -1.3849716686465248,
          2.47057224290792,
          -0.23622331664434187,
          -0.01386735927959883,
          0.3146974131045074,
          -1.611843264935958,
          0.6219892118864861,
          -0.25545298334001854,
          -0.20578715948195975,
          0.5026081049701817,
          -0.05039893194269115,
          -1.451888593332071,
          -1.6684912330390367,
          0.09839970157327095,
          -1.1912211957943615,
          0.35544779363433393,
          0.6886730916876131,
          0.8392771480070627,
          1.6715975529189262,
          0.2645710679527483,
          1.3357616401053343,
          -1.0479861237285117,
          -0.2708393114170538,
          -0.8665667773800374,
          1.3146913254236081,
          2.557788297919866,
          0.12340258729703828,
          1.3972074095700282,
          -1.400939946555493,
          1.050979978143761,
          0.19436735904851585,
          -0.20423934437480293,
          1.707269574355147,
          -1.1200963283863776,
          -1.8289426096328703,
          -0.6902735932611638,
          0.1731486516107255,
          -1.1238930656827142,
          -0.26769297907693507,
          -1.2963287663260568,
          -0.4381458613461422,
          0.4622567290341809,
          0.564315818327561,
          -0.15683622731556487,
          -1.906840982387614,
          0.5078497775235092,
          -0.5281224643869874
         ]
        }
       ],
       "layout": {
        "legend": {
         "bgcolor": "#F5F6F9",
         "font": {
          "color": "#4D5663"
         }
        },
        "paper_bgcolor": "#F5F6F9",
        "plot_bgcolor": "#F5F6F9",
        "template": {
         "data": {
          "bar": [
           {
            "error_x": {
             "color": "#2a3f5f"
            },
            "error_y": {
             "color": "#2a3f5f"
            },
            "marker": {
             "line": {
              "color": "#E5ECF6",
              "width": 0.5
             }
            },
            "type": "bar"
           }
          ],
          "barpolar": [
           {
            "marker": {
             "line": {
              "color": "#E5ECF6",
              "width": 0.5
             }
            },
            "type": "barpolar"
           }
          ],
          "carpet": [
           {
            "aaxis": {
             "endlinecolor": "#2a3f5f",
             "gridcolor": "white",
             "linecolor": "white",
             "minorgridcolor": "white",
             "startlinecolor": "#2a3f5f"
            },
            "baxis": {
             "endlinecolor": "#2a3f5f",
             "gridcolor": "white",
             "linecolor": "white",
             "minorgridcolor": "white",
             "startlinecolor": "#2a3f5f"
            },
            "type": "carpet"
           }
          ],
          "choropleth": [
           {
            "colorbar": {
             "outlinewidth": 0,
             "ticks": ""
            },
            "type": "choropleth"
           }
          ],
          "contour": [
           {
            "colorbar": {
             "outlinewidth": 0,
             "ticks": ""
            },
            "colorscale": [
             [
              0,
              "#0d0887"
             ],
             [
              0.1111111111111111,
              "#46039f"
             ],
             [
              0.2222222222222222,
              "#7201a8"
             ],
             [
              0.3333333333333333,
              "#9c179e"
             ],
             [
              0.4444444444444444,
              "#bd3786"
             ],
             [
              0.5555555555555556,
              "#d8576b"
             ],
             [
              0.6666666666666666,
              "#ed7953"
             ],
             [
              0.7777777777777778,
              "#fb9f3a"
             ],
             [
              0.8888888888888888,
              "#fdca26"
             ],
             [
              1,
              "#f0f921"
             ]
            ],
            "type": "contour"
           }
          ],
          "contourcarpet": [
           {
            "colorbar": {
             "outlinewidth": 0,
             "ticks": ""
            },
            "type": "contourcarpet"
           }
          ],
          "heatmap": [
           {
            "colorbar": {
             "outlinewidth": 0,
             "ticks": ""
            },
            "colorscale": [
             [
              0,
              "#0d0887"
             ],
             [
              0.1111111111111111,
              "#46039f"
             ],
             [
              0.2222222222222222,
              "#7201a8"
             ],
             [
              0.3333333333333333,
              "#9c179e"
             ],
             [
              0.4444444444444444,
              "#bd3786"
             ],
             [
              0.5555555555555556,
              "#d8576b"
             ],
             [
              0.6666666666666666,
              "#ed7953"
             ],
             [
              0.7777777777777778,
              "#fb9f3a"
             ],
             [
              0.8888888888888888,
              "#fdca26"
             ],
             [
              1,
              "#f0f921"
             ]
            ],
            "type": "heatmap"
           }
          ],
          "heatmapgl": [
           {
            "colorbar": {
             "outlinewidth": 0,
             "ticks": ""
            },
            "colorscale": [
             [
              0,
              "#0d0887"
             ],
             [
              0.1111111111111111,
              "#46039f"
             ],
             [
              0.2222222222222222,
              "#7201a8"
             ],
             [
              0.3333333333333333,
              "#9c179e"
             ],
             [
              0.4444444444444444,
              "#bd3786"
             ],
             [
              0.5555555555555556,
              "#d8576b"
             ],
             [
              0.6666666666666666,
              "#ed7953"
             ],
             [
              0.7777777777777778,
              "#fb9f3a"
             ],
             [
              0.8888888888888888,
              "#fdca26"
             ],
             [
              1,
              "#f0f921"
             ]
            ],
            "type": "heatmapgl"
           }
          ],
          "histogram": [
           {
            "marker": {
             "colorbar": {
              "outlinewidth": 0,
              "ticks": ""
             }
            },
            "type": "histogram"
           }
          ],
          "histogram2d": [
           {
            "colorbar": {
             "outlinewidth": 0,
             "ticks": ""
            },
            "colorscale": [
             [
              0,
              "#0d0887"
             ],
             [
              0.1111111111111111,
              "#46039f"
             ],
             [
              0.2222222222222222,
              "#7201a8"
             ],
             [
              0.3333333333333333,
              "#9c179e"
             ],
             [
              0.4444444444444444,
              "#bd3786"
             ],
             [
              0.5555555555555556,
              "#d8576b"
             ],
             [
              0.6666666666666666,
              "#ed7953"
             ],
             [
              0.7777777777777778,
              "#fb9f3a"
             ],
             [
              0.8888888888888888,
              "#fdca26"
             ],
             [
              1,
              "#f0f921"
             ]
            ],
            "type": "histogram2d"
           }
          ],
          "histogram2dcontour": [
           {
            "colorbar": {
             "outlinewidth": 0,
             "ticks": ""
            },
            "colorscale": [
             [
              0,
              "#0d0887"
             ],
             [
              0.1111111111111111,
              "#46039f"
             ],
             [
              0.2222222222222222,
              "#7201a8"
             ],
             [
              0.3333333333333333,
              "#9c179e"
             ],
             [
              0.4444444444444444,
              "#bd3786"
             ],
             [
              0.5555555555555556,
              "#d8576b"
             ],
             [
              0.6666666666666666,
              "#ed7953"
             ],
             [
              0.7777777777777778,
              "#fb9f3a"
             ],
             [
              0.8888888888888888,
              "#fdca26"
             ],
             [
              1,
              "#f0f921"
             ]
            ],
            "type": "histogram2dcontour"
           }
          ],
          "mesh3d": [
           {
            "colorbar": {
             "outlinewidth": 0,
             "ticks": ""
            },
            "type": "mesh3d"
           }
          ],
          "parcoords": [
           {
            "line": {
             "colorbar": {
              "outlinewidth": 0,
              "ticks": ""
             }
            },
            "type": "parcoords"
           }
          ],
          "pie": [
           {
            "automargin": true,
            "type": "pie"
           }
          ],
          "scatter": [
           {
            "marker": {
             "colorbar": {
              "outlinewidth": 0,
              "ticks": ""
             }
            },
            "type": "scatter"
           }
          ],
          "scatter3d": [
           {
            "line": {
             "colorbar": {
              "outlinewidth": 0,
              "ticks": ""
             }
            },
            "marker": {
             "colorbar": {
              "outlinewidth": 0,
              "ticks": ""
             }
            },
            "type": "scatter3d"
           }
          ],
          "scattercarpet": [
           {
            "marker": {
             "colorbar": {
              "outlinewidth": 0,
              "ticks": ""
             }
            },
            "type": "scattercarpet"
           }
          ],
          "scattergeo": [
           {
            "marker": {
             "colorbar": {
              "outlinewidth": 0,
              "ticks": ""
             }
            },
            "type": "scattergeo"
           }
          ],
          "scattergl": [
           {
            "marker": {
             "colorbar": {
              "outlinewidth": 0,
              "ticks": ""
             }
            },
            "type": "scattergl"
           }
          ],
          "scattermapbox": [
           {
            "marker": {
             "colorbar": {
              "outlinewidth": 0,
              "ticks": ""
             }
            },
            "type": "scattermapbox"
           }
          ],
          "scatterpolar": [
           {
            "marker": {
             "colorbar": {
              "outlinewidth": 0,
              "ticks": ""
             }
            },
            "type": "scatterpolar"
           }
          ],
          "scatterpolargl": [
           {
            "marker": {
             "colorbar": {
              "outlinewidth": 0,
              "ticks": ""
             }
            },
            "type": "scatterpolargl"
           }
          ],
          "scatterternary": [
           {
            "marker": {
             "colorbar": {
              "outlinewidth": 0,
              "ticks": ""
             }
            },
            "type": "scatterternary"
           }
          ],
          "surface": [
           {
            "colorbar": {
             "outlinewidth": 0,
             "ticks": ""
            },
            "colorscale": [
             [
              0,
              "#0d0887"
             ],
             [
              0.1111111111111111,
              "#46039f"
             ],
             [
              0.2222222222222222,
              "#7201a8"
             ],
             [
              0.3333333333333333,
              "#9c179e"
             ],
             [
              0.4444444444444444,
              "#bd3786"
             ],
             [
              0.5555555555555556,
              "#d8576b"
             ],
             [
              0.6666666666666666,
              "#ed7953"
             ],
             [
              0.7777777777777778,
              "#fb9f3a"
             ],
             [
              0.8888888888888888,
              "#fdca26"
             ],
             [
              1,
              "#f0f921"
             ]
            ],
            "type": "surface"
           }
          ],
          "table": [
           {
            "cells": {
             "fill": {
              "color": "#EBF0F8"
             },
             "line": {
              "color": "white"
             }
            },
            "header": {
             "fill": {
              "color": "#C8D4E3"
             },
             "line": {
              "color": "white"
             }
            },
            "type": "table"
           }
          ]
         },
         "layout": {
          "annotationdefaults": {
           "arrowcolor": "#2a3f5f",
           "arrowhead": 0,
           "arrowwidth": 1
          },
          "autotypenumbers": "strict",
          "coloraxis": {
           "colorbar": {
            "outlinewidth": 0,
            "ticks": ""
           }
          },
          "colorscale": {
           "diverging": [
            [
             0,
             "#8e0152"
            ],
            [
             0.1,
             "#c51b7d"
            ],
            [
             0.2,
             "#de77ae"
            ],
            [
             0.3,
             "#f1b6da"
            ],
            [
             0.4,
             "#fde0ef"
            ],
            [
             0.5,
             "#f7f7f7"
            ],
            [
             0.6,
             "#e6f5d0"
            ],
            [
             0.7,
             "#b8e186"
            ],
            [
             0.8,
             "#7fbc41"
            ],
            [
             0.9,
             "#4d9221"
            ],
            [
             1,
             "#276419"
            ]
           ],
           "sequential": [
            [
             0,
             "#0d0887"
            ],
            [
             0.1111111111111111,
             "#46039f"
            ],
            [
             0.2222222222222222,
             "#7201a8"
            ],
            [
             0.3333333333333333,
             "#9c179e"
            ],
            [
             0.4444444444444444,
             "#bd3786"
            ],
            [
             0.5555555555555556,
             "#d8576b"
            ],
            [
             0.6666666666666666,
             "#ed7953"
            ],
            [
             0.7777777777777778,
             "#fb9f3a"
            ],
            [
             0.8888888888888888,
             "#fdca26"
            ],
            [
             1,
             "#f0f921"
            ]
           ],
           "sequentialminus": [
            [
             0,
             "#0d0887"
            ],
            [
             0.1111111111111111,
             "#46039f"
            ],
            [
             0.2222222222222222,
             "#7201a8"
            ],
            [
             0.3333333333333333,
             "#9c179e"
            ],
            [
             0.4444444444444444,
             "#bd3786"
            ],
            [
             0.5555555555555556,
             "#d8576b"
            ],
            [
             0.6666666666666666,
             "#ed7953"
            ],
            [
             0.7777777777777778,
             "#fb9f3a"
            ],
            [
             0.8888888888888888,
             "#fdca26"
            ],
            [
             1,
             "#f0f921"
            ]
           ]
          },
          "colorway": [
           "#636efa",
           "#EF553B",
           "#00cc96",
           "#ab63fa",
           "#FFA15A",
           "#19d3f3",
           "#FF6692",
           "#B6E880",
           "#FF97FF",
           "#FECB52"
          ],
          "font": {
           "color": "#2a3f5f"
          },
          "geo": {
           "bgcolor": "white",
           "lakecolor": "white",
           "landcolor": "#E5ECF6",
           "showlakes": true,
           "showland": true,
           "subunitcolor": "white"
          },
          "hoverlabel": {
           "align": "left"
          },
          "hovermode": "closest",
          "mapbox": {
           "style": "light"
          },
          "paper_bgcolor": "white",
          "plot_bgcolor": "#E5ECF6",
          "polar": {
           "angularaxis": {
            "gridcolor": "white",
            "linecolor": "white",
            "ticks": ""
           },
           "bgcolor": "#E5ECF6",
           "radialaxis": {
            "gridcolor": "white",
            "linecolor": "white",
            "ticks": ""
           }
          },
          "scene": {
           "xaxis": {
            "backgroundcolor": "#E5ECF6",
            "gridcolor": "white",
            "gridwidth": 2,
            "linecolor": "white",
            "showbackground": true,
            "ticks": "",
            "zerolinecolor": "white"
           },
           "yaxis": {
            "backgroundcolor": "#E5ECF6",
            "gridcolor": "white",
            "gridwidth": 2,
            "linecolor": "white",
            "showbackground": true,
            "ticks": "",
            "zerolinecolor": "white"
           },
           "zaxis": {
            "backgroundcolor": "#E5ECF6",
            "gridcolor": "white",
            "gridwidth": 2,
            "linecolor": "white",
            "showbackground": true,
            "ticks": "",
            "zerolinecolor": "white"
           }
          },
          "shapedefaults": {
           "line": {
            "color": "#2a3f5f"
           }
          },
          "ternary": {
           "aaxis": {
            "gridcolor": "white",
            "linecolor": "white",
            "ticks": ""
           },
           "baxis": {
            "gridcolor": "white",
            "linecolor": "white",
            "ticks": ""
           },
           "bgcolor": "#E5ECF6",
           "caxis": {
            "gridcolor": "white",
            "linecolor": "white",
            "ticks": ""
           }
          },
          "title": {
           "x": 0.05
          },
          "xaxis": {
           "automargin": true,
           "gridcolor": "white",
           "linecolor": "white",
           "ticks": "",
           "title": {
            "standoff": 15
           },
           "zerolinecolor": "white",
           "zerolinewidth": 2
          },
          "yaxis": {
           "automargin": true,
           "gridcolor": "white",
           "linecolor": "white",
           "ticks": "",
           "title": {
            "standoff": 15
           },
           "zerolinecolor": "white",
           "zerolinewidth": 2
          }
         }
        },
        "title": {
         "font": {
          "color": "#4D5663"
         }
        },
        "xaxis": {
         "gridcolor": "#E1E5ED",
         "showgrid": true,
         "tickfont": {
          "color": "#4D5663"
         },
         "title": {
          "font": {
           "color": "#4D5663"
          },
          "text": ""
         },
         "zerolinecolor": "#E1E5ED"
        },
        "yaxis": {
         "gridcolor": "#E1E5ED",
         "showgrid": true,
         "tickfont": {
          "color": "#4D5663"
         },
         "title": {
          "font": {
           "color": "#4D5663"
          },
          "text": ""
         },
         "zerolinecolor": "#E1E5ED"
        }
       }
      },
      "text/html": [
       "<div>                            <div id=\"83a3e75c-d77d-4796-88a7-5e207de0a58e\" class=\"plotly-graph-div\" style=\"height:525px; width:100%;\"></div>            <script type=\"text/javascript\">                require([\"plotly\"], function(Plotly) {                    window.PLOTLYENV=window.PLOTLYENV || {};\n",
       "                    window.PLOTLYENV.BASE_URL='https://plot.ly';                                    if (document.getElementById(\"83a3e75c-d77d-4796-88a7-5e207de0a58e\")) {                    Plotly.newPlot(                        \"83a3e75c-d77d-4796-88a7-5e207de0a58e\",                        [{\"line\": {\"color\": \"rgba(255, 153, 51, 1.0)\", \"dash\": \"solid\", \"shape\": \"linear\", \"width\": 1.3}, \"marker\": {\"size\": 20, \"symbol\": \"circle\"}, \"mode\": \"markers\", \"name\": \"B\", \"text\": \"\", \"type\": \"scatter\", \"x\": [-0.6707154253506642, -1.9500262411133285, 0.47330149330972787, 0.3220821058806944, 0.20805808808316156, -0.35109658451676334, 0.6962852968692117, -0.10784531902689991, 1.5086544793457553, -1.340268292912184, 0.7644344119612071, -0.26780932113299405, 0.1878224556979502, 1.171246085614569, 0.1851093548441989, 0.2823252049199303, 0.6932277961556744, -0.6769518643083233, -0.19354333756548917, 2.1363357457530587, 0.040971497941110074, -1.7778136621759986, 3.13702519812112, 1.5018405020580647, -1.6127044945937676, -0.03130235727745821, 0.09640237026125606, -0.5360328057285065, 0.8757207392735993, 0.28188882285582134, -0.6267644208076626, 0.522160591589084, 0.7117289724168866, -0.6437782301720258, 0.2712843372224381, 0.6033468190197396, 0.8021238883637443, -0.7702350535759206, -1.6829360015664283, 0.6731359493896302, -1.0248199572464276, 0.8986669891621416, -0.3657217093686965, -0.19140225513344197, -0.027425781658837873, -0.4486319931274092, -1.2072169461605697, 1.1119462802015492, 0.7169013061838068, 1.092554147709969, 0.3877181592512865, -0.5077243469664451, 0.40449061501060224, 0.22132603560676464, 0.5266282050852957, -0.3950309560310908, -0.005066618020162976, 0.5397516109289167, -0.24187446680324345, -2.4180231477424297, -0.1118720542279614, 0.7891934411928745, -1.4595096578166131, -1.6641566424292111, 0.4641685548997316, 0.2039478823314363, 0.033767471863369765, -1.0739728733906564, -1.8950403385455485, 0.33690673212261363, -0.34158656775274315, -0.1877609055445049, -1.3877147132450043, -0.5621215400627225, -0.25322924851168455, 1.8159900315694717, -0.34533226510827736, 1.0356949538332458, 1.2021841404538256, -0.3927476513776488, 0.837235412643784, -1.6234430720105062, 1.243235860033378, 0.16800048711867446, 0.4391194684694063, -0.27275232834051005, 1.8786432214985485, -1.036152949055604, -0.8484408810170442, 0.3225952169549622, 1.866756994721403, -0.5069716474593075, 0.569264356614395, 0.28876108330768585, -0.14817903275171626, -1.863044870763895, 1.8120988870687478, 0.18420897831186897, 0.16052440170636006, 2.5581870205130657], \"y\": [2.1058842826318607, -2.072359511310542, -0.3416009005606861, -0.7284799185898405, -1.2504681420191213, 0.36929949318306843, 0.30650633934084254, -0.7822857645842319, -0.40249307975607373, -0.4894825593030477, -2.0423146065028983, 0.9872944141587103, -1.0569817425686823, -1.6293020589481364, -0.3653355683975144, 0.34908380245013, -0.9930184191231534, -1.5459068965500842, -0.4303553133615934, 0.6436591668209447, 0.8434328960587413, -0.8293341375988842, -0.17665403988967887, 0.05571735134683879, 0.7712899419374236, 1.8392243290245631, -0.02887245228532163, -0.27213303990882726, -0.9293654935733069, -0.1717099056031576, 0.10629681858599707, -0.15554719806862996, -0.9964845946839231, 0.6092294141232871, 0.674977835522611, 1.1574969173759908, -0.0904536430233091, 1.340391985298189, 0.7013388590982971, 0.5803876294942691, -0.4777178856989432, -0.4783100209870064, -0.23670952507275758, -1.1222153054155775, -0.10985297273626017, -0.08838416929997245, 2.705075337277412, -1.353083311770451, -0.15123585689753194, -0.5079059934573342, 0.214658887024363, 0.0962629830423297, 1.2226846938925608, -1.3849716686465248, 2.47057224290792, -0.23622331664434187, -0.01386735927959883, 0.3146974131045074, -1.611843264935958, 0.6219892118864861, -0.25545298334001854, -0.20578715948195975, 0.5026081049701817, -0.05039893194269115, -1.451888593332071, -1.6684912330390367, 0.09839970157327095, -1.1912211957943615, 0.35544779363433393, 0.6886730916876131, 0.8392771480070627, 1.6715975529189262, 0.2645710679527483, 1.3357616401053343, -1.0479861237285117, -0.2708393114170538, -0.8665667773800374, 1.3146913254236081, 2.557788297919866, 0.12340258729703828, 1.3972074095700282, -1.400939946555493, 1.050979978143761, 0.19436735904851585, -0.20423934437480293, 1.707269574355147, -1.1200963283863776, -1.8289426096328703, -0.6902735932611638, 0.1731486516107255, -1.1238930656827142, -0.26769297907693507, -1.2963287663260568, -0.4381458613461422, 0.4622567290341809, 0.564315818327561, -0.15683622731556487, -1.906840982387614, 0.5078497775235092, -0.5281224643869874]}],                        {\"legend\": {\"bgcolor\": \"#F5F6F9\", \"font\": {\"color\": \"#4D5663\"}}, \"paper_bgcolor\": \"#F5F6F9\", \"plot_bgcolor\": \"#F5F6F9\", \"template\": {\"data\": {\"bar\": [{\"error_x\": {\"color\": \"#2a3f5f\"}, \"error_y\": {\"color\": \"#2a3f5f\"}, \"marker\": {\"line\": {\"color\": \"#E5ECF6\", \"width\": 0.5}}, \"type\": \"bar\"}], \"barpolar\": [{\"marker\": {\"line\": {\"color\": \"#E5ECF6\", \"width\": 0.5}}, \"type\": \"barpolar\"}], \"carpet\": [{\"aaxis\": {\"endlinecolor\": \"#2a3f5f\", \"gridcolor\": \"white\", \"linecolor\": \"white\", \"minorgridcolor\": \"white\", \"startlinecolor\": \"#2a3f5f\"}, \"baxis\": {\"endlinecolor\": \"#2a3f5f\", \"gridcolor\": \"white\", \"linecolor\": \"white\", \"minorgridcolor\": \"white\", \"startlinecolor\": \"#2a3f5f\"}, \"type\": \"carpet\"}], \"choropleth\": [{\"colorbar\": {\"outlinewidth\": 0, \"ticks\": \"\"}, \"type\": \"choropleth\"}], \"contour\": [{\"colorbar\": {\"outlinewidth\": 0, \"ticks\": \"\"}, \"colorscale\": [[0.0, \"#0d0887\"], [0.1111111111111111, \"#46039f\"], [0.2222222222222222, \"#7201a8\"], [0.3333333333333333, \"#9c179e\"], [0.4444444444444444, \"#bd3786\"], [0.5555555555555556, \"#d8576b\"], [0.6666666666666666, \"#ed7953\"], [0.7777777777777778, \"#fb9f3a\"], [0.8888888888888888, \"#fdca26\"], [1.0, \"#f0f921\"]], \"type\": \"contour\"}], \"contourcarpet\": [{\"colorbar\": {\"outlinewidth\": 0, \"ticks\": \"\"}, \"type\": \"contourcarpet\"}], \"heatmap\": [{\"colorbar\": {\"outlinewidth\": 0, \"ticks\": \"\"}, \"colorscale\": [[0.0, \"#0d0887\"], [0.1111111111111111, \"#46039f\"], [0.2222222222222222, \"#7201a8\"], [0.3333333333333333, \"#9c179e\"], [0.4444444444444444, \"#bd3786\"], [0.5555555555555556, \"#d8576b\"], [0.6666666666666666, \"#ed7953\"], [0.7777777777777778, \"#fb9f3a\"], [0.8888888888888888, \"#fdca26\"], [1.0, \"#f0f921\"]], \"type\": \"heatmap\"}], \"heatmapgl\": [{\"colorbar\": {\"outlinewidth\": 0, \"ticks\": \"\"}, \"colorscale\": [[0.0, \"#0d0887\"], [0.1111111111111111, \"#46039f\"], [0.2222222222222222, \"#7201a8\"], [0.3333333333333333, \"#9c179e\"], [0.4444444444444444, \"#bd3786\"], [0.5555555555555556, \"#d8576b\"], [0.6666666666666666, \"#ed7953\"], [0.7777777777777778, \"#fb9f3a\"], [0.8888888888888888, \"#fdca26\"], [1.0, \"#f0f921\"]], \"type\": \"heatmapgl\"}], \"histogram\": [{\"marker\": {\"colorbar\": {\"outlinewidth\": 0, \"ticks\": \"\"}}, \"type\": \"histogram\"}], \"histogram2d\": [{\"colorbar\": {\"outlinewidth\": 0, \"ticks\": \"\"}, \"colorscale\": [[0.0, \"#0d0887\"], [0.1111111111111111, \"#46039f\"], [0.2222222222222222, \"#7201a8\"], [0.3333333333333333, \"#9c179e\"], [0.4444444444444444, \"#bd3786\"], [0.5555555555555556, \"#d8576b\"], [0.6666666666666666, \"#ed7953\"], [0.7777777777777778, \"#fb9f3a\"], [0.8888888888888888, \"#fdca26\"], [1.0, \"#f0f921\"]], \"type\": \"histogram2d\"}], \"histogram2dcontour\": [{\"colorbar\": {\"outlinewidth\": 0, \"ticks\": \"\"}, \"colorscale\": [[0.0, \"#0d0887\"], [0.1111111111111111, \"#46039f\"], [0.2222222222222222, \"#7201a8\"], [0.3333333333333333, \"#9c179e\"], [0.4444444444444444, \"#bd3786\"], [0.5555555555555556, \"#d8576b\"], [0.6666666666666666, \"#ed7953\"], [0.7777777777777778, \"#fb9f3a\"], [0.8888888888888888, \"#fdca26\"], [1.0, \"#f0f921\"]], \"type\": \"histogram2dcontour\"}], \"mesh3d\": [{\"colorbar\": {\"outlinewidth\": 0, \"ticks\": \"\"}, \"type\": \"mesh3d\"}], \"parcoords\": [{\"line\": {\"colorbar\": {\"outlinewidth\": 0, \"ticks\": \"\"}}, \"type\": \"parcoords\"}], \"pie\": [{\"automargin\": true, \"type\": \"pie\"}], \"scatter\": [{\"marker\": {\"colorbar\": {\"outlinewidth\": 0, \"ticks\": \"\"}}, \"type\": \"scatter\"}], \"scatter3d\": [{\"line\": {\"colorbar\": {\"outlinewidth\": 0, \"ticks\": \"\"}}, \"marker\": {\"colorbar\": {\"outlinewidth\": 0, \"ticks\": \"\"}}, \"type\": \"scatter3d\"}], \"scattercarpet\": [{\"marker\": {\"colorbar\": {\"outlinewidth\": 0, \"ticks\": \"\"}}, \"type\": \"scattercarpet\"}], \"scattergeo\": [{\"marker\": {\"colorbar\": {\"outlinewidth\": 0, \"ticks\": \"\"}}, \"type\": \"scattergeo\"}], \"scattergl\": [{\"marker\": {\"colorbar\": {\"outlinewidth\": 0, \"ticks\": \"\"}}, \"type\": \"scattergl\"}], \"scattermapbox\": [{\"marker\": {\"colorbar\": {\"outlinewidth\": 0, \"ticks\": \"\"}}, \"type\": \"scattermapbox\"}], \"scatterpolar\": [{\"marker\": {\"colorbar\": {\"outlinewidth\": 0, \"ticks\": \"\"}}, \"type\": \"scatterpolar\"}], \"scatterpolargl\": [{\"marker\": {\"colorbar\": {\"outlinewidth\": 0, \"ticks\": \"\"}}, \"type\": \"scatterpolargl\"}], \"scatterternary\": [{\"marker\": {\"colorbar\": {\"outlinewidth\": 0, \"ticks\": \"\"}}, \"type\": \"scatterternary\"}], \"surface\": [{\"colorbar\": {\"outlinewidth\": 0, \"ticks\": \"\"}, \"colorscale\": [[0.0, \"#0d0887\"], [0.1111111111111111, \"#46039f\"], [0.2222222222222222, \"#7201a8\"], [0.3333333333333333, \"#9c179e\"], [0.4444444444444444, \"#bd3786\"], [0.5555555555555556, \"#d8576b\"], [0.6666666666666666, \"#ed7953\"], [0.7777777777777778, \"#fb9f3a\"], [0.8888888888888888, \"#fdca26\"], [1.0, \"#f0f921\"]], \"type\": \"surface\"}], \"table\": [{\"cells\": {\"fill\": {\"color\": \"#EBF0F8\"}, \"line\": {\"color\": \"white\"}}, \"header\": {\"fill\": {\"color\": \"#C8D4E3\"}, \"line\": {\"color\": \"white\"}}, \"type\": \"table\"}]}, \"layout\": {\"annotationdefaults\": {\"arrowcolor\": \"#2a3f5f\", \"arrowhead\": 0, \"arrowwidth\": 1}, \"autotypenumbers\": \"strict\", \"coloraxis\": {\"colorbar\": {\"outlinewidth\": 0, \"ticks\": \"\"}}, \"colorscale\": {\"diverging\": [[0, \"#8e0152\"], [0.1, \"#c51b7d\"], [0.2, \"#de77ae\"], [0.3, \"#f1b6da\"], [0.4, \"#fde0ef\"], [0.5, \"#f7f7f7\"], [0.6, \"#e6f5d0\"], [0.7, \"#b8e186\"], [0.8, \"#7fbc41\"], [0.9, \"#4d9221\"], [1, \"#276419\"]], \"sequential\": [[0.0, \"#0d0887\"], [0.1111111111111111, \"#46039f\"], [0.2222222222222222, \"#7201a8\"], [0.3333333333333333, \"#9c179e\"], [0.4444444444444444, \"#bd3786\"], [0.5555555555555556, \"#d8576b\"], [0.6666666666666666, \"#ed7953\"], [0.7777777777777778, \"#fb9f3a\"], [0.8888888888888888, \"#fdca26\"], [1.0, \"#f0f921\"]], \"sequentialminus\": [[0.0, \"#0d0887\"], [0.1111111111111111, \"#46039f\"], [0.2222222222222222, \"#7201a8\"], [0.3333333333333333, \"#9c179e\"], [0.4444444444444444, \"#bd3786\"], [0.5555555555555556, \"#d8576b\"], [0.6666666666666666, \"#ed7953\"], [0.7777777777777778, \"#fb9f3a\"], [0.8888888888888888, \"#fdca26\"], [1.0, \"#f0f921\"]]}, \"colorway\": [\"#636efa\", \"#EF553B\", \"#00cc96\", \"#ab63fa\", \"#FFA15A\", \"#19d3f3\", \"#FF6692\", \"#B6E880\", \"#FF97FF\", \"#FECB52\"], \"font\": {\"color\": \"#2a3f5f\"}, \"geo\": {\"bgcolor\": \"white\", \"lakecolor\": \"white\", \"landcolor\": \"#E5ECF6\", \"showlakes\": true, \"showland\": true, \"subunitcolor\": \"white\"}, \"hoverlabel\": {\"align\": \"left\"}, \"hovermode\": \"closest\", \"mapbox\": {\"style\": \"light\"}, \"paper_bgcolor\": \"white\", \"plot_bgcolor\": \"#E5ECF6\", \"polar\": {\"angularaxis\": {\"gridcolor\": \"white\", \"linecolor\": \"white\", \"ticks\": \"\"}, \"bgcolor\": \"#E5ECF6\", \"radialaxis\": {\"gridcolor\": \"white\", \"linecolor\": \"white\", \"ticks\": \"\"}}, \"scene\": {\"xaxis\": {\"backgroundcolor\": \"#E5ECF6\", \"gridcolor\": \"white\", \"gridwidth\": 2, \"linecolor\": \"white\", \"showbackground\": true, \"ticks\": \"\", \"zerolinecolor\": \"white\"}, \"yaxis\": {\"backgroundcolor\": \"#E5ECF6\", \"gridcolor\": \"white\", \"gridwidth\": 2, \"linecolor\": \"white\", \"showbackground\": true, \"ticks\": \"\", \"zerolinecolor\": \"white\"}, \"zaxis\": {\"backgroundcolor\": \"#E5ECF6\", \"gridcolor\": \"white\", \"gridwidth\": 2, \"linecolor\": \"white\", \"showbackground\": true, \"ticks\": \"\", \"zerolinecolor\": \"white\"}}, \"shapedefaults\": {\"line\": {\"color\": \"#2a3f5f\"}}, \"ternary\": {\"aaxis\": {\"gridcolor\": \"white\", \"linecolor\": \"white\", \"ticks\": \"\"}, \"baxis\": {\"gridcolor\": \"white\", \"linecolor\": \"white\", \"ticks\": \"\"}, \"bgcolor\": \"#E5ECF6\", \"caxis\": {\"gridcolor\": \"white\", \"linecolor\": \"white\", \"ticks\": \"\"}}, \"title\": {\"x\": 0.05}, \"xaxis\": {\"automargin\": true, \"gridcolor\": \"white\", \"linecolor\": \"white\", \"ticks\": \"\", \"title\": {\"standoff\": 15}, \"zerolinecolor\": \"white\", \"zerolinewidth\": 2}, \"yaxis\": {\"automargin\": true, \"gridcolor\": \"white\", \"linecolor\": \"white\", \"ticks\": \"\", \"title\": {\"standoff\": 15}, \"zerolinecolor\": \"white\", \"zerolinewidth\": 2}}}, \"title\": {\"font\": {\"color\": \"#4D5663\"}}, \"xaxis\": {\"gridcolor\": \"#E1E5ED\", \"showgrid\": true, \"tickfont\": {\"color\": \"#4D5663\"}, \"title\": {\"font\": {\"color\": \"#4D5663\"}, \"text\": \"\"}, \"zerolinecolor\": \"#E1E5ED\"}, \"yaxis\": {\"gridcolor\": \"#E1E5ED\", \"showgrid\": true, \"tickfont\": {\"color\": \"#4D5663\"}, \"title\": {\"font\": {\"color\": \"#4D5663\"}, \"text\": \"\"}, \"zerolinecolor\": \"#E1E5ED\"}},                        {\"showLink\": true, \"linkText\": \"Export to plot.ly\", \"plotlyServerURL\": \"https://plot.ly\", \"responsive\": true}                    ).then(function(){\n",
       "                            \n",
       "var gd = document.getElementById('83a3e75c-d77d-4796-88a7-5e207de0a58e');\n",
       "var x = new MutationObserver(function (mutations, observer) {{\n",
       "        var display = window.getComputedStyle(gd).display;\n",
       "        if (!display || display === 'none') {{\n",
       "            console.log([gd, 'removed!']);\n",
       "            Plotly.purge(gd);\n",
       "            observer.disconnect();\n",
       "        }}\n",
       "}});\n",
       "\n",
       "// Listen for the removal of the full notebook cells\n",
       "var notebookContainer = gd.closest('#notebook-container');\n",
       "if (notebookContainer) {{\n",
       "    x.observe(notebookContainer, {childList: true});\n",
       "}}\n",
       "\n",
       "// Listen for the clearing of the current output cell\n",
       "var outputEl = gd.closest('.output');\n",
       "if (outputEl) {{\n",
       "    x.observe(outputEl, {childList: true});\n",
       "}}\n",
       "\n",
       "                        })                };                });            </script>        </div>"
      ]
     },
     "metadata": {},
     "output_type": "display_data"
    }
   ],
   "source": [
    "df.iplot(kind='scatter',x='A',y='B',mode='markers',size=20)"
   ]
  },
  {
   "cell_type": "code",
   "execution_count": 19,
   "id": "2392c8b2",
   "metadata": {},
   "outputs": [
    {
     "data": {
      "application/vnd.plotly.v1+json": {
       "config": {
        "linkText": "Export to plot.ly",
        "plotlyServerURL": "https://plot.ly",
        "showLink": true
       },
       "data": [
        {
         "marker": {
          "color": "rgba(255, 153, 51, 0.6)",
          "line": {
           "color": "rgba(255, 153, 51, 1.0)",
           "width": 1
          }
         },
         "name": "Values",
         "orientation": "v",
         "text": "",
         "type": "bar",
         "x": [
          "A",
          "B",
          "C"
         ],
         "y": [
          32,
          43,
          50
         ]
        }
       ],
       "layout": {
        "legend": {
         "bgcolor": "#F5F6F9",
         "font": {
          "color": "#4D5663"
         }
        },
        "paper_bgcolor": "#F5F6F9",
        "plot_bgcolor": "#F5F6F9",
        "template": {
         "data": {
          "bar": [
           {
            "error_x": {
             "color": "#2a3f5f"
            },
            "error_y": {
             "color": "#2a3f5f"
            },
            "marker": {
             "line": {
              "color": "#E5ECF6",
              "width": 0.5
             }
            },
            "type": "bar"
           }
          ],
          "barpolar": [
           {
            "marker": {
             "line": {
              "color": "#E5ECF6",
              "width": 0.5
             }
            },
            "type": "barpolar"
           }
          ],
          "carpet": [
           {
            "aaxis": {
             "endlinecolor": "#2a3f5f",
             "gridcolor": "white",
             "linecolor": "white",
             "minorgridcolor": "white",
             "startlinecolor": "#2a3f5f"
            },
            "baxis": {
             "endlinecolor": "#2a3f5f",
             "gridcolor": "white",
             "linecolor": "white",
             "minorgridcolor": "white",
             "startlinecolor": "#2a3f5f"
            },
            "type": "carpet"
           }
          ],
          "choropleth": [
           {
            "colorbar": {
             "outlinewidth": 0,
             "ticks": ""
            },
            "type": "choropleth"
           }
          ],
          "contour": [
           {
            "colorbar": {
             "outlinewidth": 0,
             "ticks": ""
            },
            "colorscale": [
             [
              0,
              "#0d0887"
             ],
             [
              0.1111111111111111,
              "#46039f"
             ],
             [
              0.2222222222222222,
              "#7201a8"
             ],
             [
              0.3333333333333333,
              "#9c179e"
             ],
             [
              0.4444444444444444,
              "#bd3786"
             ],
             [
              0.5555555555555556,
              "#d8576b"
             ],
             [
              0.6666666666666666,
              "#ed7953"
             ],
             [
              0.7777777777777778,
              "#fb9f3a"
             ],
             [
              0.8888888888888888,
              "#fdca26"
             ],
             [
              1,
              "#f0f921"
             ]
            ],
            "type": "contour"
           }
          ],
          "contourcarpet": [
           {
            "colorbar": {
             "outlinewidth": 0,
             "ticks": ""
            },
            "type": "contourcarpet"
           }
          ],
          "heatmap": [
           {
            "colorbar": {
             "outlinewidth": 0,
             "ticks": ""
            },
            "colorscale": [
             [
              0,
              "#0d0887"
             ],
             [
              0.1111111111111111,
              "#46039f"
             ],
             [
              0.2222222222222222,
              "#7201a8"
             ],
             [
              0.3333333333333333,
              "#9c179e"
             ],
             [
              0.4444444444444444,
              "#bd3786"
             ],
             [
              0.5555555555555556,
              "#d8576b"
             ],
             [
              0.6666666666666666,
              "#ed7953"
             ],
             [
              0.7777777777777778,
              "#fb9f3a"
             ],
             [
              0.8888888888888888,
              "#fdca26"
             ],
             [
              1,
              "#f0f921"
             ]
            ],
            "type": "heatmap"
           }
          ],
          "heatmapgl": [
           {
            "colorbar": {
             "outlinewidth": 0,
             "ticks": ""
            },
            "colorscale": [
             [
              0,
              "#0d0887"
             ],
             [
              0.1111111111111111,
              "#46039f"
             ],
             [
              0.2222222222222222,
              "#7201a8"
             ],
             [
              0.3333333333333333,
              "#9c179e"
             ],
             [
              0.4444444444444444,
              "#bd3786"
             ],
             [
              0.5555555555555556,
              "#d8576b"
             ],
             [
              0.6666666666666666,
              "#ed7953"
             ],
             [
              0.7777777777777778,
              "#fb9f3a"
             ],
             [
              0.8888888888888888,
              "#fdca26"
             ],
             [
              1,
              "#f0f921"
             ]
            ],
            "type": "heatmapgl"
           }
          ],
          "histogram": [
           {
            "marker": {
             "colorbar": {
              "outlinewidth": 0,
              "ticks": ""
             }
            },
            "type": "histogram"
           }
          ],
          "histogram2d": [
           {
            "colorbar": {
             "outlinewidth": 0,
             "ticks": ""
            },
            "colorscale": [
             [
              0,
              "#0d0887"
             ],
             [
              0.1111111111111111,
              "#46039f"
             ],
             [
              0.2222222222222222,
              "#7201a8"
             ],
             [
              0.3333333333333333,
              "#9c179e"
             ],
             [
              0.4444444444444444,
              "#bd3786"
             ],
             [
              0.5555555555555556,
              "#d8576b"
             ],
             [
              0.6666666666666666,
              "#ed7953"
             ],
             [
              0.7777777777777778,
              "#fb9f3a"
             ],
             [
              0.8888888888888888,
              "#fdca26"
             ],
             [
              1,
              "#f0f921"
             ]
            ],
            "type": "histogram2d"
           }
          ],
          "histogram2dcontour": [
           {
            "colorbar": {
             "outlinewidth": 0,
             "ticks": ""
            },
            "colorscale": [
             [
              0,
              "#0d0887"
             ],
             [
              0.1111111111111111,
              "#46039f"
             ],
             [
              0.2222222222222222,
              "#7201a8"
             ],
             [
              0.3333333333333333,
              "#9c179e"
             ],
             [
              0.4444444444444444,
              "#bd3786"
             ],
             [
              0.5555555555555556,
              "#d8576b"
             ],
             [
              0.6666666666666666,
              "#ed7953"
             ],
             [
              0.7777777777777778,
              "#fb9f3a"
             ],
             [
              0.8888888888888888,
              "#fdca26"
             ],
             [
              1,
              "#f0f921"
             ]
            ],
            "type": "histogram2dcontour"
           }
          ],
          "mesh3d": [
           {
            "colorbar": {
             "outlinewidth": 0,
             "ticks": ""
            },
            "type": "mesh3d"
           }
          ],
          "parcoords": [
           {
            "line": {
             "colorbar": {
              "outlinewidth": 0,
              "ticks": ""
             }
            },
            "type": "parcoords"
           }
          ],
          "pie": [
           {
            "automargin": true,
            "type": "pie"
           }
          ],
          "scatter": [
           {
            "marker": {
             "colorbar": {
              "outlinewidth": 0,
              "ticks": ""
             }
            },
            "type": "scatter"
           }
          ],
          "scatter3d": [
           {
            "line": {
             "colorbar": {
              "outlinewidth": 0,
              "ticks": ""
             }
            },
            "marker": {
             "colorbar": {
              "outlinewidth": 0,
              "ticks": ""
             }
            },
            "type": "scatter3d"
           }
          ],
          "scattercarpet": [
           {
            "marker": {
             "colorbar": {
              "outlinewidth": 0,
              "ticks": ""
             }
            },
            "type": "scattercarpet"
           }
          ],
          "scattergeo": [
           {
            "marker": {
             "colorbar": {
              "outlinewidth": 0,
              "ticks": ""
             }
            },
            "type": "scattergeo"
           }
          ],
          "scattergl": [
           {
            "marker": {
             "colorbar": {
              "outlinewidth": 0,
              "ticks": ""
             }
            },
            "type": "scattergl"
           }
          ],
          "scattermapbox": [
           {
            "marker": {
             "colorbar": {
              "outlinewidth": 0,
              "ticks": ""
             }
            },
            "type": "scattermapbox"
           }
          ],
          "scatterpolar": [
           {
            "marker": {
             "colorbar": {
              "outlinewidth": 0,
              "ticks": ""
             }
            },
            "type": "scatterpolar"
           }
          ],
          "scatterpolargl": [
           {
            "marker": {
             "colorbar": {
              "outlinewidth": 0,
              "ticks": ""
             }
            },
            "type": "scatterpolargl"
           }
          ],
          "scatterternary": [
           {
            "marker": {
             "colorbar": {
              "outlinewidth": 0,
              "ticks": ""
             }
            },
            "type": "scatterternary"
           }
          ],
          "surface": [
           {
            "colorbar": {
             "outlinewidth": 0,
             "ticks": ""
            },
            "colorscale": [
             [
              0,
              "#0d0887"
             ],
             [
              0.1111111111111111,
              "#46039f"
             ],
             [
              0.2222222222222222,
              "#7201a8"
             ],
             [
              0.3333333333333333,
              "#9c179e"
             ],
             [
              0.4444444444444444,
              "#bd3786"
             ],
             [
              0.5555555555555556,
              "#d8576b"
             ],
             [
              0.6666666666666666,
              "#ed7953"
             ],
             [
              0.7777777777777778,
              "#fb9f3a"
             ],
             [
              0.8888888888888888,
              "#fdca26"
             ],
             [
              1,
              "#f0f921"
             ]
            ],
            "type": "surface"
           }
          ],
          "table": [
           {
            "cells": {
             "fill": {
              "color": "#EBF0F8"
             },
             "line": {
              "color": "white"
             }
            },
            "header": {
             "fill": {
              "color": "#C8D4E3"
             },
             "line": {
              "color": "white"
             }
            },
            "type": "table"
           }
          ]
         },
         "layout": {
          "annotationdefaults": {
           "arrowcolor": "#2a3f5f",
           "arrowhead": 0,
           "arrowwidth": 1
          },
          "autotypenumbers": "strict",
          "coloraxis": {
           "colorbar": {
            "outlinewidth": 0,
            "ticks": ""
           }
          },
          "colorscale": {
           "diverging": [
            [
             0,
             "#8e0152"
            ],
            [
             0.1,
             "#c51b7d"
            ],
            [
             0.2,
             "#de77ae"
            ],
            [
             0.3,
             "#f1b6da"
            ],
            [
             0.4,
             "#fde0ef"
            ],
            [
             0.5,
             "#f7f7f7"
            ],
            [
             0.6,
             "#e6f5d0"
            ],
            [
             0.7,
             "#b8e186"
            ],
            [
             0.8,
             "#7fbc41"
            ],
            [
             0.9,
             "#4d9221"
            ],
            [
             1,
             "#276419"
            ]
           ],
           "sequential": [
            [
             0,
             "#0d0887"
            ],
            [
             0.1111111111111111,
             "#46039f"
            ],
            [
             0.2222222222222222,
             "#7201a8"
            ],
            [
             0.3333333333333333,
             "#9c179e"
            ],
            [
             0.4444444444444444,
             "#bd3786"
            ],
            [
             0.5555555555555556,
             "#d8576b"
            ],
            [
             0.6666666666666666,
             "#ed7953"
            ],
            [
             0.7777777777777778,
             "#fb9f3a"
            ],
            [
             0.8888888888888888,
             "#fdca26"
            ],
            [
             1,
             "#f0f921"
            ]
           ],
           "sequentialminus": [
            [
             0,
             "#0d0887"
            ],
            [
             0.1111111111111111,
             "#46039f"
            ],
            [
             0.2222222222222222,
             "#7201a8"
            ],
            [
             0.3333333333333333,
             "#9c179e"
            ],
            [
             0.4444444444444444,
             "#bd3786"
            ],
            [
             0.5555555555555556,
             "#d8576b"
            ],
            [
             0.6666666666666666,
             "#ed7953"
            ],
            [
             0.7777777777777778,
             "#fb9f3a"
            ],
            [
             0.8888888888888888,
             "#fdca26"
            ],
            [
             1,
             "#f0f921"
            ]
           ]
          },
          "colorway": [
           "#636efa",
           "#EF553B",
           "#00cc96",
           "#ab63fa",
           "#FFA15A",
           "#19d3f3",
           "#FF6692",
           "#B6E880",
           "#FF97FF",
           "#FECB52"
          ],
          "font": {
           "color": "#2a3f5f"
          },
          "geo": {
           "bgcolor": "white",
           "lakecolor": "white",
           "landcolor": "#E5ECF6",
           "showlakes": true,
           "showland": true,
           "subunitcolor": "white"
          },
          "hoverlabel": {
           "align": "left"
          },
          "hovermode": "closest",
          "mapbox": {
           "style": "light"
          },
          "paper_bgcolor": "white",
          "plot_bgcolor": "#E5ECF6",
          "polar": {
           "angularaxis": {
            "gridcolor": "white",
            "linecolor": "white",
            "ticks": ""
           },
           "bgcolor": "#E5ECF6",
           "radialaxis": {
            "gridcolor": "white",
            "linecolor": "white",
            "ticks": ""
           }
          },
          "scene": {
           "xaxis": {
            "backgroundcolor": "#E5ECF6",
            "gridcolor": "white",
            "gridwidth": 2,
            "linecolor": "white",
            "showbackground": true,
            "ticks": "",
            "zerolinecolor": "white"
           },
           "yaxis": {
            "backgroundcolor": "#E5ECF6",
            "gridcolor": "white",
            "gridwidth": 2,
            "linecolor": "white",
            "showbackground": true,
            "ticks": "",
            "zerolinecolor": "white"
           },
           "zaxis": {
            "backgroundcolor": "#E5ECF6",
            "gridcolor": "white",
            "gridwidth": 2,
            "linecolor": "white",
            "showbackground": true,
            "ticks": "",
            "zerolinecolor": "white"
           }
          },
          "shapedefaults": {
           "line": {
            "color": "#2a3f5f"
           }
          },
          "ternary": {
           "aaxis": {
            "gridcolor": "white",
            "linecolor": "white",
            "ticks": ""
           },
           "baxis": {
            "gridcolor": "white",
            "linecolor": "white",
            "ticks": ""
           },
           "bgcolor": "#E5ECF6",
           "caxis": {
            "gridcolor": "white",
            "linecolor": "white",
            "ticks": ""
           }
          },
          "title": {
           "x": 0.05
          },
          "xaxis": {
           "automargin": true,
           "gridcolor": "white",
           "linecolor": "white",
           "ticks": "",
           "title": {
            "standoff": 15
           },
           "zerolinecolor": "white",
           "zerolinewidth": 2
          },
          "yaxis": {
           "automargin": true,
           "gridcolor": "white",
           "linecolor": "white",
           "ticks": "",
           "title": {
            "standoff": 15
           },
           "zerolinecolor": "white",
           "zerolinewidth": 2
          }
         }
        },
        "title": {
         "font": {
          "color": "#4D5663"
         }
        },
        "xaxis": {
         "gridcolor": "#E1E5ED",
         "showgrid": true,
         "tickfont": {
          "color": "#4D5663"
         },
         "title": {
          "font": {
           "color": "#4D5663"
          },
          "text": ""
         },
         "zerolinecolor": "#E1E5ED"
        },
        "yaxis": {
         "gridcolor": "#E1E5ED",
         "showgrid": true,
         "tickfont": {
          "color": "#4D5663"
         },
         "title": {
          "font": {
           "color": "#4D5663"
          },
          "text": ""
         },
         "zerolinecolor": "#E1E5ED"
        }
       }
      },
      "text/html": [
       "<div>                            <div id=\"2e83c52c-ea9d-4488-bb66-6bb0c0bbdc08\" class=\"plotly-graph-div\" style=\"height:525px; width:100%;\"></div>            <script type=\"text/javascript\">                require([\"plotly\"], function(Plotly) {                    window.PLOTLYENV=window.PLOTLYENV || {};\n",
       "                    window.PLOTLYENV.BASE_URL='https://plot.ly';                                    if (document.getElementById(\"2e83c52c-ea9d-4488-bb66-6bb0c0bbdc08\")) {                    Plotly.newPlot(                        \"2e83c52c-ea9d-4488-bb66-6bb0c0bbdc08\",                        [{\"marker\": {\"color\": \"rgba(255, 153, 51, 0.6)\", \"line\": {\"color\": \"rgba(255, 153, 51, 1.0)\", \"width\": 1}}, \"name\": \"Values\", \"orientation\": \"v\", \"text\": \"\", \"type\": \"bar\", \"x\": [\"A\", \"B\", \"C\"], \"y\": [32, 43, 50]}],                        {\"legend\": {\"bgcolor\": \"#F5F6F9\", \"font\": {\"color\": \"#4D5663\"}}, \"paper_bgcolor\": \"#F5F6F9\", \"plot_bgcolor\": \"#F5F6F9\", \"template\": {\"data\": {\"bar\": [{\"error_x\": {\"color\": \"#2a3f5f\"}, \"error_y\": {\"color\": \"#2a3f5f\"}, \"marker\": {\"line\": {\"color\": \"#E5ECF6\", \"width\": 0.5}}, \"type\": \"bar\"}], \"barpolar\": [{\"marker\": {\"line\": {\"color\": \"#E5ECF6\", \"width\": 0.5}}, \"type\": \"barpolar\"}], \"carpet\": [{\"aaxis\": {\"endlinecolor\": \"#2a3f5f\", \"gridcolor\": \"white\", \"linecolor\": \"white\", \"minorgridcolor\": \"white\", \"startlinecolor\": \"#2a3f5f\"}, \"baxis\": {\"endlinecolor\": \"#2a3f5f\", \"gridcolor\": \"white\", \"linecolor\": \"white\", \"minorgridcolor\": \"white\", \"startlinecolor\": \"#2a3f5f\"}, \"type\": \"carpet\"}], \"choropleth\": [{\"colorbar\": {\"outlinewidth\": 0, \"ticks\": \"\"}, \"type\": \"choropleth\"}], \"contour\": [{\"colorbar\": {\"outlinewidth\": 0, \"ticks\": \"\"}, \"colorscale\": [[0.0, \"#0d0887\"], [0.1111111111111111, \"#46039f\"], [0.2222222222222222, \"#7201a8\"], [0.3333333333333333, \"#9c179e\"], [0.4444444444444444, \"#bd3786\"], [0.5555555555555556, \"#d8576b\"], [0.6666666666666666, \"#ed7953\"], [0.7777777777777778, \"#fb9f3a\"], [0.8888888888888888, \"#fdca26\"], [1.0, \"#f0f921\"]], \"type\": \"contour\"}], \"contourcarpet\": [{\"colorbar\": {\"outlinewidth\": 0, \"ticks\": \"\"}, \"type\": \"contourcarpet\"}], \"heatmap\": [{\"colorbar\": {\"outlinewidth\": 0, \"ticks\": \"\"}, \"colorscale\": [[0.0, \"#0d0887\"], [0.1111111111111111, \"#46039f\"], [0.2222222222222222, \"#7201a8\"], [0.3333333333333333, \"#9c179e\"], [0.4444444444444444, \"#bd3786\"], [0.5555555555555556, \"#d8576b\"], [0.6666666666666666, \"#ed7953\"], [0.7777777777777778, \"#fb9f3a\"], [0.8888888888888888, \"#fdca26\"], [1.0, \"#f0f921\"]], \"type\": \"heatmap\"}], \"heatmapgl\": [{\"colorbar\": {\"outlinewidth\": 0, \"ticks\": \"\"}, \"colorscale\": [[0.0, \"#0d0887\"], [0.1111111111111111, \"#46039f\"], [0.2222222222222222, \"#7201a8\"], [0.3333333333333333, \"#9c179e\"], [0.4444444444444444, \"#bd3786\"], [0.5555555555555556, \"#d8576b\"], [0.6666666666666666, \"#ed7953\"], [0.7777777777777778, \"#fb9f3a\"], [0.8888888888888888, \"#fdca26\"], [1.0, \"#f0f921\"]], \"type\": \"heatmapgl\"}], \"histogram\": [{\"marker\": {\"colorbar\": {\"outlinewidth\": 0, \"ticks\": \"\"}}, \"type\": \"histogram\"}], \"histogram2d\": [{\"colorbar\": {\"outlinewidth\": 0, \"ticks\": \"\"}, \"colorscale\": [[0.0, \"#0d0887\"], [0.1111111111111111, \"#46039f\"], [0.2222222222222222, \"#7201a8\"], [0.3333333333333333, \"#9c179e\"], [0.4444444444444444, \"#bd3786\"], [0.5555555555555556, \"#d8576b\"], [0.6666666666666666, \"#ed7953\"], [0.7777777777777778, \"#fb9f3a\"], [0.8888888888888888, \"#fdca26\"], [1.0, \"#f0f921\"]], \"type\": \"histogram2d\"}], \"histogram2dcontour\": [{\"colorbar\": {\"outlinewidth\": 0, \"ticks\": \"\"}, \"colorscale\": [[0.0, \"#0d0887\"], [0.1111111111111111, \"#46039f\"], [0.2222222222222222, \"#7201a8\"], [0.3333333333333333, \"#9c179e\"], [0.4444444444444444, \"#bd3786\"], [0.5555555555555556, \"#d8576b\"], [0.6666666666666666, \"#ed7953\"], [0.7777777777777778, \"#fb9f3a\"], [0.8888888888888888, \"#fdca26\"], [1.0, \"#f0f921\"]], \"type\": \"histogram2dcontour\"}], \"mesh3d\": [{\"colorbar\": {\"outlinewidth\": 0, \"ticks\": \"\"}, \"type\": \"mesh3d\"}], \"parcoords\": [{\"line\": {\"colorbar\": {\"outlinewidth\": 0, \"ticks\": \"\"}}, \"type\": \"parcoords\"}], \"pie\": [{\"automargin\": true, \"type\": \"pie\"}], \"scatter\": [{\"marker\": {\"colorbar\": {\"outlinewidth\": 0, \"ticks\": \"\"}}, \"type\": \"scatter\"}], \"scatter3d\": [{\"line\": {\"colorbar\": {\"outlinewidth\": 0, \"ticks\": \"\"}}, \"marker\": {\"colorbar\": {\"outlinewidth\": 0, \"ticks\": \"\"}}, \"type\": \"scatter3d\"}], \"scattercarpet\": [{\"marker\": {\"colorbar\": {\"outlinewidth\": 0, \"ticks\": \"\"}}, \"type\": \"scattercarpet\"}], \"scattergeo\": [{\"marker\": {\"colorbar\": {\"outlinewidth\": 0, \"ticks\": \"\"}}, \"type\": \"scattergeo\"}], \"scattergl\": [{\"marker\": {\"colorbar\": {\"outlinewidth\": 0, \"ticks\": \"\"}}, \"type\": \"scattergl\"}], \"scattermapbox\": [{\"marker\": {\"colorbar\": {\"outlinewidth\": 0, \"ticks\": \"\"}}, \"type\": \"scattermapbox\"}], \"scatterpolar\": [{\"marker\": {\"colorbar\": {\"outlinewidth\": 0, \"ticks\": \"\"}}, \"type\": \"scatterpolar\"}], \"scatterpolargl\": [{\"marker\": {\"colorbar\": {\"outlinewidth\": 0, \"ticks\": \"\"}}, \"type\": \"scatterpolargl\"}], \"scatterternary\": [{\"marker\": {\"colorbar\": {\"outlinewidth\": 0, \"ticks\": \"\"}}, \"type\": \"scatterternary\"}], \"surface\": [{\"colorbar\": {\"outlinewidth\": 0, \"ticks\": \"\"}, \"colorscale\": [[0.0, \"#0d0887\"], [0.1111111111111111, \"#46039f\"], [0.2222222222222222, \"#7201a8\"], [0.3333333333333333, \"#9c179e\"], [0.4444444444444444, \"#bd3786\"], [0.5555555555555556, \"#d8576b\"], [0.6666666666666666, \"#ed7953\"], [0.7777777777777778, \"#fb9f3a\"], [0.8888888888888888, \"#fdca26\"], [1.0, \"#f0f921\"]], \"type\": \"surface\"}], \"table\": [{\"cells\": {\"fill\": {\"color\": \"#EBF0F8\"}, \"line\": {\"color\": \"white\"}}, \"header\": {\"fill\": {\"color\": \"#C8D4E3\"}, \"line\": {\"color\": \"white\"}}, \"type\": \"table\"}]}, \"layout\": {\"annotationdefaults\": {\"arrowcolor\": \"#2a3f5f\", \"arrowhead\": 0, \"arrowwidth\": 1}, \"autotypenumbers\": \"strict\", \"coloraxis\": {\"colorbar\": {\"outlinewidth\": 0, \"ticks\": \"\"}}, \"colorscale\": {\"diverging\": [[0, \"#8e0152\"], [0.1, \"#c51b7d\"], [0.2, \"#de77ae\"], [0.3, \"#f1b6da\"], [0.4, \"#fde0ef\"], [0.5, \"#f7f7f7\"], [0.6, \"#e6f5d0\"], [0.7, \"#b8e186\"], [0.8, \"#7fbc41\"], [0.9, \"#4d9221\"], [1, \"#276419\"]], \"sequential\": [[0.0, \"#0d0887\"], [0.1111111111111111, \"#46039f\"], [0.2222222222222222, \"#7201a8\"], [0.3333333333333333, \"#9c179e\"], [0.4444444444444444, \"#bd3786\"], [0.5555555555555556, \"#d8576b\"], [0.6666666666666666, \"#ed7953\"], [0.7777777777777778, \"#fb9f3a\"], [0.8888888888888888, \"#fdca26\"], [1.0, \"#f0f921\"]], \"sequentialminus\": [[0.0, \"#0d0887\"], [0.1111111111111111, \"#46039f\"], [0.2222222222222222, \"#7201a8\"], [0.3333333333333333, \"#9c179e\"], [0.4444444444444444, \"#bd3786\"], [0.5555555555555556, \"#d8576b\"], [0.6666666666666666, \"#ed7953\"], [0.7777777777777778, \"#fb9f3a\"], [0.8888888888888888, \"#fdca26\"], [1.0, \"#f0f921\"]]}, \"colorway\": [\"#636efa\", \"#EF553B\", \"#00cc96\", \"#ab63fa\", \"#FFA15A\", \"#19d3f3\", \"#FF6692\", \"#B6E880\", \"#FF97FF\", \"#FECB52\"], \"font\": {\"color\": \"#2a3f5f\"}, \"geo\": {\"bgcolor\": \"white\", \"lakecolor\": \"white\", \"landcolor\": \"#E5ECF6\", \"showlakes\": true, \"showland\": true, \"subunitcolor\": \"white\"}, \"hoverlabel\": {\"align\": \"left\"}, \"hovermode\": \"closest\", \"mapbox\": {\"style\": \"light\"}, \"paper_bgcolor\": \"white\", \"plot_bgcolor\": \"#E5ECF6\", \"polar\": {\"angularaxis\": {\"gridcolor\": \"white\", \"linecolor\": \"white\", \"ticks\": \"\"}, \"bgcolor\": \"#E5ECF6\", \"radialaxis\": {\"gridcolor\": \"white\", \"linecolor\": \"white\", \"ticks\": \"\"}}, \"scene\": {\"xaxis\": {\"backgroundcolor\": \"#E5ECF6\", \"gridcolor\": \"white\", \"gridwidth\": 2, \"linecolor\": \"white\", \"showbackground\": true, \"ticks\": \"\", \"zerolinecolor\": \"white\"}, \"yaxis\": {\"backgroundcolor\": \"#E5ECF6\", \"gridcolor\": \"white\", \"gridwidth\": 2, \"linecolor\": \"white\", \"showbackground\": true, \"ticks\": \"\", \"zerolinecolor\": \"white\"}, \"zaxis\": {\"backgroundcolor\": \"#E5ECF6\", \"gridcolor\": \"white\", \"gridwidth\": 2, \"linecolor\": \"white\", \"showbackground\": true, \"ticks\": \"\", \"zerolinecolor\": \"white\"}}, \"shapedefaults\": {\"line\": {\"color\": \"#2a3f5f\"}}, \"ternary\": {\"aaxis\": {\"gridcolor\": \"white\", \"linecolor\": \"white\", \"ticks\": \"\"}, \"baxis\": {\"gridcolor\": \"white\", \"linecolor\": \"white\", \"ticks\": \"\"}, \"bgcolor\": \"#E5ECF6\", \"caxis\": {\"gridcolor\": \"white\", \"linecolor\": \"white\", \"ticks\": \"\"}}, \"title\": {\"x\": 0.05}, \"xaxis\": {\"automargin\": true, \"gridcolor\": \"white\", \"linecolor\": \"white\", \"ticks\": \"\", \"title\": {\"standoff\": 15}, \"zerolinecolor\": \"white\", \"zerolinewidth\": 2}, \"yaxis\": {\"automargin\": true, \"gridcolor\": \"white\", \"linecolor\": \"white\", \"ticks\": \"\", \"title\": {\"standoff\": 15}, \"zerolinecolor\": \"white\", \"zerolinewidth\": 2}}}, \"title\": {\"font\": {\"color\": \"#4D5663\"}}, \"xaxis\": {\"gridcolor\": \"#E1E5ED\", \"showgrid\": true, \"tickfont\": {\"color\": \"#4D5663\"}, \"title\": {\"font\": {\"color\": \"#4D5663\"}, \"text\": \"\"}, \"zerolinecolor\": \"#E1E5ED\"}, \"yaxis\": {\"gridcolor\": \"#E1E5ED\", \"showgrid\": true, \"tickfont\": {\"color\": \"#4D5663\"}, \"title\": {\"font\": {\"color\": \"#4D5663\"}, \"text\": \"\"}, \"zerolinecolor\": \"#E1E5ED\"}},                        {\"showLink\": true, \"linkText\": \"Export to plot.ly\", \"plotlyServerURL\": \"https://plot.ly\", \"responsive\": true}                    ).then(function(){\n",
       "                            \n",
       "var gd = document.getElementById('2e83c52c-ea9d-4488-bb66-6bb0c0bbdc08');\n",
       "var x = new MutationObserver(function (mutations, observer) {{\n",
       "        var display = window.getComputedStyle(gd).display;\n",
       "        if (!display || display === 'none') {{\n",
       "            console.log([gd, 'removed!']);\n",
       "            Plotly.purge(gd);\n",
       "            observer.disconnect();\n",
       "        }}\n",
       "}});\n",
       "\n",
       "// Listen for the removal of the full notebook cells\n",
       "var notebookContainer = gd.closest('#notebook-container');\n",
       "if (notebookContainer) {{\n",
       "    x.observe(notebookContainer, {childList: true});\n",
       "}}\n",
       "\n",
       "// Listen for the clearing of the current output cell\n",
       "var outputEl = gd.closest('.output');\n",
       "if (outputEl) {{\n",
       "    x.observe(outputEl, {childList: true});\n",
       "}}\n",
       "\n",
       "                        })                };                });            </script>        </div>"
      ]
     },
     "metadata": {},
     "output_type": "display_data"
    }
   ],
   "source": [
    "df2.iplot(kind='bar',x='Category',y='Values')"
   ]
  },
  {
   "cell_type": "code",
   "execution_count": 20,
   "id": "b6ad07c6",
   "metadata": {},
   "outputs": [
    {
     "data": {
      "application/vnd.plotly.v1+json": {
       "config": {
        "linkText": "Export to plot.ly",
        "plotlyServerURL": "https://plot.ly",
        "showLink": true
       },
       "data": [
        {
         "marker": {
          "color": "rgba(255, 153, 51, 0.6)",
          "line": {
           "color": "rgba(255, 153, 51, 1.0)",
           "width": 1
          }
         },
         "name": "None",
         "orientation": "v",
         "text": "",
         "type": "bar",
         "x": [
          "A",
          "B",
          "C",
          "D"
         ],
         "y": [
          100,
          100,
          100,
          100
         ]
        }
       ],
       "layout": {
        "legend": {
         "bgcolor": "#F5F6F9",
         "font": {
          "color": "#4D5663"
         }
        },
        "paper_bgcolor": "#F5F6F9",
        "plot_bgcolor": "#F5F6F9",
        "template": {
         "data": {
          "bar": [
           {
            "error_x": {
             "color": "#2a3f5f"
            },
            "error_y": {
             "color": "#2a3f5f"
            },
            "marker": {
             "line": {
              "color": "#E5ECF6",
              "width": 0.5
             }
            },
            "type": "bar"
           }
          ],
          "barpolar": [
           {
            "marker": {
             "line": {
              "color": "#E5ECF6",
              "width": 0.5
             }
            },
            "type": "barpolar"
           }
          ],
          "carpet": [
           {
            "aaxis": {
             "endlinecolor": "#2a3f5f",
             "gridcolor": "white",
             "linecolor": "white",
             "minorgridcolor": "white",
             "startlinecolor": "#2a3f5f"
            },
            "baxis": {
             "endlinecolor": "#2a3f5f",
             "gridcolor": "white",
             "linecolor": "white",
             "minorgridcolor": "white",
             "startlinecolor": "#2a3f5f"
            },
            "type": "carpet"
           }
          ],
          "choropleth": [
           {
            "colorbar": {
             "outlinewidth": 0,
             "ticks": ""
            },
            "type": "choropleth"
           }
          ],
          "contour": [
           {
            "colorbar": {
             "outlinewidth": 0,
             "ticks": ""
            },
            "colorscale": [
             [
              0,
              "#0d0887"
             ],
             [
              0.1111111111111111,
              "#46039f"
             ],
             [
              0.2222222222222222,
              "#7201a8"
             ],
             [
              0.3333333333333333,
              "#9c179e"
             ],
             [
              0.4444444444444444,
              "#bd3786"
             ],
             [
              0.5555555555555556,
              "#d8576b"
             ],
             [
              0.6666666666666666,
              "#ed7953"
             ],
             [
              0.7777777777777778,
              "#fb9f3a"
             ],
             [
              0.8888888888888888,
              "#fdca26"
             ],
             [
              1,
              "#f0f921"
             ]
            ],
            "type": "contour"
           }
          ],
          "contourcarpet": [
           {
            "colorbar": {
             "outlinewidth": 0,
             "ticks": ""
            },
            "type": "contourcarpet"
           }
          ],
          "heatmap": [
           {
            "colorbar": {
             "outlinewidth": 0,
             "ticks": ""
            },
            "colorscale": [
             [
              0,
              "#0d0887"
             ],
             [
              0.1111111111111111,
              "#46039f"
             ],
             [
              0.2222222222222222,
              "#7201a8"
             ],
             [
              0.3333333333333333,
              "#9c179e"
             ],
             [
              0.4444444444444444,
              "#bd3786"
             ],
             [
              0.5555555555555556,
              "#d8576b"
             ],
             [
              0.6666666666666666,
              "#ed7953"
             ],
             [
              0.7777777777777778,
              "#fb9f3a"
             ],
             [
              0.8888888888888888,
              "#fdca26"
             ],
             [
              1,
              "#f0f921"
             ]
            ],
            "type": "heatmap"
           }
          ],
          "heatmapgl": [
           {
            "colorbar": {
             "outlinewidth": 0,
             "ticks": ""
            },
            "colorscale": [
             [
              0,
              "#0d0887"
             ],
             [
              0.1111111111111111,
              "#46039f"
             ],
             [
              0.2222222222222222,
              "#7201a8"
             ],
             [
              0.3333333333333333,
              "#9c179e"
             ],
             [
              0.4444444444444444,
              "#bd3786"
             ],
             [
              0.5555555555555556,
              "#d8576b"
             ],
             [
              0.6666666666666666,
              "#ed7953"
             ],
             [
              0.7777777777777778,
              "#fb9f3a"
             ],
             [
              0.8888888888888888,
              "#fdca26"
             ],
             [
              1,
              "#f0f921"
             ]
            ],
            "type": "heatmapgl"
           }
          ],
          "histogram": [
           {
            "marker": {
             "colorbar": {
              "outlinewidth": 0,
              "ticks": ""
             }
            },
            "type": "histogram"
           }
          ],
          "histogram2d": [
           {
            "colorbar": {
             "outlinewidth": 0,
             "ticks": ""
            },
            "colorscale": [
             [
              0,
              "#0d0887"
             ],
             [
              0.1111111111111111,
              "#46039f"
             ],
             [
              0.2222222222222222,
              "#7201a8"
             ],
             [
              0.3333333333333333,
              "#9c179e"
             ],
             [
              0.4444444444444444,
              "#bd3786"
             ],
             [
              0.5555555555555556,
              "#d8576b"
             ],
             [
              0.6666666666666666,
              "#ed7953"
             ],
             [
              0.7777777777777778,
              "#fb9f3a"
             ],
             [
              0.8888888888888888,
              "#fdca26"
             ],
             [
              1,
              "#f0f921"
             ]
            ],
            "type": "histogram2d"
           }
          ],
          "histogram2dcontour": [
           {
            "colorbar": {
             "outlinewidth": 0,
             "ticks": ""
            },
            "colorscale": [
             [
              0,
              "#0d0887"
             ],
             [
              0.1111111111111111,
              "#46039f"
             ],
             [
              0.2222222222222222,
              "#7201a8"
             ],
             [
              0.3333333333333333,
              "#9c179e"
             ],
             [
              0.4444444444444444,
              "#bd3786"
             ],
             [
              0.5555555555555556,
              "#d8576b"
             ],
             [
              0.6666666666666666,
              "#ed7953"
             ],
             [
              0.7777777777777778,
              "#fb9f3a"
             ],
             [
              0.8888888888888888,
              "#fdca26"
             ],
             [
              1,
              "#f0f921"
             ]
            ],
            "type": "histogram2dcontour"
           }
          ],
          "mesh3d": [
           {
            "colorbar": {
             "outlinewidth": 0,
             "ticks": ""
            },
            "type": "mesh3d"
           }
          ],
          "parcoords": [
           {
            "line": {
             "colorbar": {
              "outlinewidth": 0,
              "ticks": ""
             }
            },
            "type": "parcoords"
           }
          ],
          "pie": [
           {
            "automargin": true,
            "type": "pie"
           }
          ],
          "scatter": [
           {
            "marker": {
             "colorbar": {
              "outlinewidth": 0,
              "ticks": ""
             }
            },
            "type": "scatter"
           }
          ],
          "scatter3d": [
           {
            "line": {
             "colorbar": {
              "outlinewidth": 0,
              "ticks": ""
             }
            },
            "marker": {
             "colorbar": {
              "outlinewidth": 0,
              "ticks": ""
             }
            },
            "type": "scatter3d"
           }
          ],
          "scattercarpet": [
           {
            "marker": {
             "colorbar": {
              "outlinewidth": 0,
              "ticks": ""
             }
            },
            "type": "scattercarpet"
           }
          ],
          "scattergeo": [
           {
            "marker": {
             "colorbar": {
              "outlinewidth": 0,
              "ticks": ""
             }
            },
            "type": "scattergeo"
           }
          ],
          "scattergl": [
           {
            "marker": {
             "colorbar": {
              "outlinewidth": 0,
              "ticks": ""
             }
            },
            "type": "scattergl"
           }
          ],
          "scattermapbox": [
           {
            "marker": {
             "colorbar": {
              "outlinewidth": 0,
              "ticks": ""
             }
            },
            "type": "scattermapbox"
           }
          ],
          "scatterpolar": [
           {
            "marker": {
             "colorbar": {
              "outlinewidth": 0,
              "ticks": ""
             }
            },
            "type": "scatterpolar"
           }
          ],
          "scatterpolargl": [
           {
            "marker": {
             "colorbar": {
              "outlinewidth": 0,
              "ticks": ""
             }
            },
            "type": "scatterpolargl"
           }
          ],
          "scatterternary": [
           {
            "marker": {
             "colorbar": {
              "outlinewidth": 0,
              "ticks": ""
             }
            },
            "type": "scatterternary"
           }
          ],
          "surface": [
           {
            "colorbar": {
             "outlinewidth": 0,
             "ticks": ""
            },
            "colorscale": [
             [
              0,
              "#0d0887"
             ],
             [
              0.1111111111111111,
              "#46039f"
             ],
             [
              0.2222222222222222,
              "#7201a8"
             ],
             [
              0.3333333333333333,
              "#9c179e"
             ],
             [
              0.4444444444444444,
              "#bd3786"
             ],
             [
              0.5555555555555556,
              "#d8576b"
             ],
             [
              0.6666666666666666,
              "#ed7953"
             ],
             [
              0.7777777777777778,
              "#fb9f3a"
             ],
             [
              0.8888888888888888,
              "#fdca26"
             ],
             [
              1,
              "#f0f921"
             ]
            ],
            "type": "surface"
           }
          ],
          "table": [
           {
            "cells": {
             "fill": {
              "color": "#EBF0F8"
             },
             "line": {
              "color": "white"
             }
            },
            "header": {
             "fill": {
              "color": "#C8D4E3"
             },
             "line": {
              "color": "white"
             }
            },
            "type": "table"
           }
          ]
         },
         "layout": {
          "annotationdefaults": {
           "arrowcolor": "#2a3f5f",
           "arrowhead": 0,
           "arrowwidth": 1
          },
          "autotypenumbers": "strict",
          "coloraxis": {
           "colorbar": {
            "outlinewidth": 0,
            "ticks": ""
           }
          },
          "colorscale": {
           "diverging": [
            [
             0,
             "#8e0152"
            ],
            [
             0.1,
             "#c51b7d"
            ],
            [
             0.2,
             "#de77ae"
            ],
            [
             0.3,
             "#f1b6da"
            ],
            [
             0.4,
             "#fde0ef"
            ],
            [
             0.5,
             "#f7f7f7"
            ],
            [
             0.6,
             "#e6f5d0"
            ],
            [
             0.7,
             "#b8e186"
            ],
            [
             0.8,
             "#7fbc41"
            ],
            [
             0.9,
             "#4d9221"
            ],
            [
             1,
             "#276419"
            ]
           ],
           "sequential": [
            [
             0,
             "#0d0887"
            ],
            [
             0.1111111111111111,
             "#46039f"
            ],
            [
             0.2222222222222222,
             "#7201a8"
            ],
            [
             0.3333333333333333,
             "#9c179e"
            ],
            [
             0.4444444444444444,
             "#bd3786"
            ],
            [
             0.5555555555555556,
             "#d8576b"
            ],
            [
             0.6666666666666666,
             "#ed7953"
            ],
            [
             0.7777777777777778,
             "#fb9f3a"
            ],
            [
             0.8888888888888888,
             "#fdca26"
            ],
            [
             1,
             "#f0f921"
            ]
           ],
           "sequentialminus": [
            [
             0,
             "#0d0887"
            ],
            [
             0.1111111111111111,
             "#46039f"
            ],
            [
             0.2222222222222222,
             "#7201a8"
            ],
            [
             0.3333333333333333,
             "#9c179e"
            ],
            [
             0.4444444444444444,
             "#bd3786"
            ],
            [
             0.5555555555555556,
             "#d8576b"
            ],
            [
             0.6666666666666666,
             "#ed7953"
            ],
            [
             0.7777777777777778,
             "#fb9f3a"
            ],
            [
             0.8888888888888888,
             "#fdca26"
            ],
            [
             1,
             "#f0f921"
            ]
           ]
          },
          "colorway": [
           "#636efa",
           "#EF553B",
           "#00cc96",
           "#ab63fa",
           "#FFA15A",
           "#19d3f3",
           "#FF6692",
           "#B6E880",
           "#FF97FF",
           "#FECB52"
          ],
          "font": {
           "color": "#2a3f5f"
          },
          "geo": {
           "bgcolor": "white",
           "lakecolor": "white",
           "landcolor": "#E5ECF6",
           "showlakes": true,
           "showland": true,
           "subunitcolor": "white"
          },
          "hoverlabel": {
           "align": "left"
          },
          "hovermode": "closest",
          "mapbox": {
           "style": "light"
          },
          "paper_bgcolor": "white",
          "plot_bgcolor": "#E5ECF6",
          "polar": {
           "angularaxis": {
            "gridcolor": "white",
            "linecolor": "white",
            "ticks": ""
           },
           "bgcolor": "#E5ECF6",
           "radialaxis": {
            "gridcolor": "white",
            "linecolor": "white",
            "ticks": ""
           }
          },
          "scene": {
           "xaxis": {
            "backgroundcolor": "#E5ECF6",
            "gridcolor": "white",
            "gridwidth": 2,
            "linecolor": "white",
            "showbackground": true,
            "ticks": "",
            "zerolinecolor": "white"
           },
           "yaxis": {
            "backgroundcolor": "#E5ECF6",
            "gridcolor": "white",
            "gridwidth": 2,
            "linecolor": "white",
            "showbackground": true,
            "ticks": "",
            "zerolinecolor": "white"
           },
           "zaxis": {
            "backgroundcolor": "#E5ECF6",
            "gridcolor": "white",
            "gridwidth": 2,
            "linecolor": "white",
            "showbackground": true,
            "ticks": "",
            "zerolinecolor": "white"
           }
          },
          "shapedefaults": {
           "line": {
            "color": "#2a3f5f"
           }
          },
          "ternary": {
           "aaxis": {
            "gridcolor": "white",
            "linecolor": "white",
            "ticks": ""
           },
           "baxis": {
            "gridcolor": "white",
            "linecolor": "white",
            "ticks": ""
           },
           "bgcolor": "#E5ECF6",
           "caxis": {
            "gridcolor": "white",
            "linecolor": "white",
            "ticks": ""
           }
          },
          "title": {
           "x": 0.05
          },
          "xaxis": {
           "automargin": true,
           "gridcolor": "white",
           "linecolor": "white",
           "ticks": "",
           "title": {
            "standoff": 15
           },
           "zerolinecolor": "white",
           "zerolinewidth": 2
          },
          "yaxis": {
           "automargin": true,
           "gridcolor": "white",
           "linecolor": "white",
           "ticks": "",
           "title": {
            "standoff": 15
           },
           "zerolinecolor": "white",
           "zerolinewidth": 2
          }
         }
        },
        "title": {
         "font": {
          "color": "#4D5663"
         }
        },
        "xaxis": {
         "gridcolor": "#E1E5ED",
         "showgrid": true,
         "tickfont": {
          "color": "#4D5663"
         },
         "title": {
          "font": {
           "color": "#4D5663"
          },
          "text": ""
         },
         "zerolinecolor": "#E1E5ED"
        },
        "yaxis": {
         "gridcolor": "#E1E5ED",
         "showgrid": true,
         "tickfont": {
          "color": "#4D5663"
         },
         "title": {
          "font": {
           "color": "#4D5663"
          },
          "text": ""
         },
         "zerolinecolor": "#E1E5ED"
        }
       }
      },
      "text/html": [
       "<div>                            <div id=\"bc31094d-6af8-4486-b2fa-a3a977b362d2\" class=\"plotly-graph-div\" style=\"height:525px; width:100%;\"></div>            <script type=\"text/javascript\">                require([\"plotly\"], function(Plotly) {                    window.PLOTLYENV=window.PLOTLYENV || {};\n",
       "                    window.PLOTLYENV.BASE_URL='https://plot.ly';                                    if (document.getElementById(\"bc31094d-6af8-4486-b2fa-a3a977b362d2\")) {                    Plotly.newPlot(                        \"bc31094d-6af8-4486-b2fa-a3a977b362d2\",                        [{\"marker\": {\"color\": \"rgba(255, 153, 51, 0.6)\", \"line\": {\"color\": \"rgba(255, 153, 51, 1.0)\", \"width\": 1}}, \"name\": \"None\", \"orientation\": \"v\", \"text\": \"\", \"type\": \"bar\", \"x\": [\"A\", \"B\", \"C\", \"D\"], \"y\": [100, 100, 100, 100]}],                        {\"legend\": {\"bgcolor\": \"#F5F6F9\", \"font\": {\"color\": \"#4D5663\"}}, \"paper_bgcolor\": \"#F5F6F9\", \"plot_bgcolor\": \"#F5F6F9\", \"template\": {\"data\": {\"bar\": [{\"error_x\": {\"color\": \"#2a3f5f\"}, \"error_y\": {\"color\": \"#2a3f5f\"}, \"marker\": {\"line\": {\"color\": \"#E5ECF6\", \"width\": 0.5}}, \"type\": \"bar\"}], \"barpolar\": [{\"marker\": {\"line\": {\"color\": \"#E5ECF6\", \"width\": 0.5}}, \"type\": \"barpolar\"}], \"carpet\": [{\"aaxis\": {\"endlinecolor\": \"#2a3f5f\", \"gridcolor\": \"white\", \"linecolor\": \"white\", \"minorgridcolor\": \"white\", \"startlinecolor\": \"#2a3f5f\"}, \"baxis\": {\"endlinecolor\": \"#2a3f5f\", \"gridcolor\": \"white\", \"linecolor\": \"white\", \"minorgridcolor\": \"white\", \"startlinecolor\": \"#2a3f5f\"}, \"type\": \"carpet\"}], \"choropleth\": [{\"colorbar\": {\"outlinewidth\": 0, \"ticks\": \"\"}, \"type\": \"choropleth\"}], \"contour\": [{\"colorbar\": {\"outlinewidth\": 0, \"ticks\": \"\"}, \"colorscale\": [[0.0, \"#0d0887\"], [0.1111111111111111, \"#46039f\"], [0.2222222222222222, \"#7201a8\"], [0.3333333333333333, \"#9c179e\"], [0.4444444444444444, \"#bd3786\"], [0.5555555555555556, \"#d8576b\"], [0.6666666666666666, \"#ed7953\"], [0.7777777777777778, \"#fb9f3a\"], [0.8888888888888888, \"#fdca26\"], [1.0, \"#f0f921\"]], \"type\": \"contour\"}], \"contourcarpet\": [{\"colorbar\": {\"outlinewidth\": 0, \"ticks\": \"\"}, \"type\": \"contourcarpet\"}], \"heatmap\": [{\"colorbar\": {\"outlinewidth\": 0, \"ticks\": \"\"}, \"colorscale\": [[0.0, \"#0d0887\"], [0.1111111111111111, \"#46039f\"], [0.2222222222222222, \"#7201a8\"], [0.3333333333333333, \"#9c179e\"], [0.4444444444444444, \"#bd3786\"], [0.5555555555555556, \"#d8576b\"], [0.6666666666666666, \"#ed7953\"], [0.7777777777777778, \"#fb9f3a\"], [0.8888888888888888, \"#fdca26\"], [1.0, \"#f0f921\"]], \"type\": \"heatmap\"}], \"heatmapgl\": [{\"colorbar\": {\"outlinewidth\": 0, \"ticks\": \"\"}, \"colorscale\": [[0.0, \"#0d0887\"], [0.1111111111111111, \"#46039f\"], [0.2222222222222222, \"#7201a8\"], [0.3333333333333333, \"#9c179e\"], [0.4444444444444444, \"#bd3786\"], [0.5555555555555556, \"#d8576b\"], [0.6666666666666666, \"#ed7953\"], [0.7777777777777778, \"#fb9f3a\"], [0.8888888888888888, \"#fdca26\"], [1.0, \"#f0f921\"]], \"type\": \"heatmapgl\"}], \"histogram\": [{\"marker\": {\"colorbar\": {\"outlinewidth\": 0, \"ticks\": \"\"}}, \"type\": \"histogram\"}], \"histogram2d\": [{\"colorbar\": {\"outlinewidth\": 0, \"ticks\": \"\"}, \"colorscale\": [[0.0, \"#0d0887\"], [0.1111111111111111, \"#46039f\"], [0.2222222222222222, \"#7201a8\"], [0.3333333333333333, \"#9c179e\"], [0.4444444444444444, \"#bd3786\"], [0.5555555555555556, \"#d8576b\"], [0.6666666666666666, \"#ed7953\"], [0.7777777777777778, \"#fb9f3a\"], [0.8888888888888888, \"#fdca26\"], [1.0, \"#f0f921\"]], \"type\": \"histogram2d\"}], \"histogram2dcontour\": [{\"colorbar\": {\"outlinewidth\": 0, \"ticks\": \"\"}, \"colorscale\": [[0.0, \"#0d0887\"], [0.1111111111111111, \"#46039f\"], [0.2222222222222222, \"#7201a8\"], [0.3333333333333333, \"#9c179e\"], [0.4444444444444444, \"#bd3786\"], [0.5555555555555556, \"#d8576b\"], [0.6666666666666666, \"#ed7953\"], [0.7777777777777778, \"#fb9f3a\"], [0.8888888888888888, \"#fdca26\"], [1.0, \"#f0f921\"]], \"type\": \"histogram2dcontour\"}], \"mesh3d\": [{\"colorbar\": {\"outlinewidth\": 0, \"ticks\": \"\"}, \"type\": \"mesh3d\"}], \"parcoords\": [{\"line\": {\"colorbar\": {\"outlinewidth\": 0, \"ticks\": \"\"}}, \"type\": \"parcoords\"}], \"pie\": [{\"automargin\": true, \"type\": \"pie\"}], \"scatter\": [{\"marker\": {\"colorbar\": {\"outlinewidth\": 0, \"ticks\": \"\"}}, \"type\": \"scatter\"}], \"scatter3d\": [{\"line\": {\"colorbar\": {\"outlinewidth\": 0, \"ticks\": \"\"}}, \"marker\": {\"colorbar\": {\"outlinewidth\": 0, \"ticks\": \"\"}}, \"type\": \"scatter3d\"}], \"scattercarpet\": [{\"marker\": {\"colorbar\": {\"outlinewidth\": 0, \"ticks\": \"\"}}, \"type\": \"scattercarpet\"}], \"scattergeo\": [{\"marker\": {\"colorbar\": {\"outlinewidth\": 0, \"ticks\": \"\"}}, \"type\": \"scattergeo\"}], \"scattergl\": [{\"marker\": {\"colorbar\": {\"outlinewidth\": 0, \"ticks\": \"\"}}, \"type\": \"scattergl\"}], \"scattermapbox\": [{\"marker\": {\"colorbar\": {\"outlinewidth\": 0, \"ticks\": \"\"}}, \"type\": \"scattermapbox\"}], \"scatterpolar\": [{\"marker\": {\"colorbar\": {\"outlinewidth\": 0, \"ticks\": \"\"}}, \"type\": \"scatterpolar\"}], \"scatterpolargl\": [{\"marker\": {\"colorbar\": {\"outlinewidth\": 0, \"ticks\": \"\"}}, \"type\": \"scatterpolargl\"}], \"scatterternary\": [{\"marker\": {\"colorbar\": {\"outlinewidth\": 0, \"ticks\": \"\"}}, \"type\": \"scatterternary\"}], \"surface\": [{\"colorbar\": {\"outlinewidth\": 0, \"ticks\": \"\"}, \"colorscale\": [[0.0, \"#0d0887\"], [0.1111111111111111, \"#46039f\"], [0.2222222222222222, \"#7201a8\"], [0.3333333333333333, \"#9c179e\"], [0.4444444444444444, \"#bd3786\"], [0.5555555555555556, \"#d8576b\"], [0.6666666666666666, \"#ed7953\"], [0.7777777777777778, \"#fb9f3a\"], [0.8888888888888888, \"#fdca26\"], [1.0, \"#f0f921\"]], \"type\": \"surface\"}], \"table\": [{\"cells\": {\"fill\": {\"color\": \"#EBF0F8\"}, \"line\": {\"color\": \"white\"}}, \"header\": {\"fill\": {\"color\": \"#C8D4E3\"}, \"line\": {\"color\": \"white\"}}, \"type\": \"table\"}]}, \"layout\": {\"annotationdefaults\": {\"arrowcolor\": \"#2a3f5f\", \"arrowhead\": 0, \"arrowwidth\": 1}, \"autotypenumbers\": \"strict\", \"coloraxis\": {\"colorbar\": {\"outlinewidth\": 0, \"ticks\": \"\"}}, \"colorscale\": {\"diverging\": [[0, \"#8e0152\"], [0.1, \"#c51b7d\"], [0.2, \"#de77ae\"], [0.3, \"#f1b6da\"], [0.4, \"#fde0ef\"], [0.5, \"#f7f7f7\"], [0.6, \"#e6f5d0\"], [0.7, \"#b8e186\"], [0.8, \"#7fbc41\"], [0.9, \"#4d9221\"], [1, \"#276419\"]], \"sequential\": [[0.0, \"#0d0887\"], [0.1111111111111111, \"#46039f\"], [0.2222222222222222, \"#7201a8\"], [0.3333333333333333, \"#9c179e\"], [0.4444444444444444, \"#bd3786\"], [0.5555555555555556, \"#d8576b\"], [0.6666666666666666, \"#ed7953\"], [0.7777777777777778, \"#fb9f3a\"], [0.8888888888888888, \"#fdca26\"], [1.0, \"#f0f921\"]], \"sequentialminus\": [[0.0, \"#0d0887\"], [0.1111111111111111, \"#46039f\"], [0.2222222222222222, \"#7201a8\"], [0.3333333333333333, \"#9c179e\"], [0.4444444444444444, \"#bd3786\"], [0.5555555555555556, \"#d8576b\"], [0.6666666666666666, \"#ed7953\"], [0.7777777777777778, \"#fb9f3a\"], [0.8888888888888888, \"#fdca26\"], [1.0, \"#f0f921\"]]}, \"colorway\": [\"#636efa\", \"#EF553B\", \"#00cc96\", \"#ab63fa\", \"#FFA15A\", \"#19d3f3\", \"#FF6692\", \"#B6E880\", \"#FF97FF\", \"#FECB52\"], \"font\": {\"color\": \"#2a3f5f\"}, \"geo\": {\"bgcolor\": \"white\", \"lakecolor\": \"white\", \"landcolor\": \"#E5ECF6\", \"showlakes\": true, \"showland\": true, \"subunitcolor\": \"white\"}, \"hoverlabel\": {\"align\": \"left\"}, \"hovermode\": \"closest\", \"mapbox\": {\"style\": \"light\"}, \"paper_bgcolor\": \"white\", \"plot_bgcolor\": \"#E5ECF6\", \"polar\": {\"angularaxis\": {\"gridcolor\": \"white\", \"linecolor\": \"white\", \"ticks\": \"\"}, \"bgcolor\": \"#E5ECF6\", \"radialaxis\": {\"gridcolor\": \"white\", \"linecolor\": \"white\", \"ticks\": \"\"}}, \"scene\": {\"xaxis\": {\"backgroundcolor\": \"#E5ECF6\", \"gridcolor\": \"white\", \"gridwidth\": 2, \"linecolor\": \"white\", \"showbackground\": true, \"ticks\": \"\", \"zerolinecolor\": \"white\"}, \"yaxis\": {\"backgroundcolor\": \"#E5ECF6\", \"gridcolor\": \"white\", \"gridwidth\": 2, \"linecolor\": \"white\", \"showbackground\": true, \"ticks\": \"\", \"zerolinecolor\": \"white\"}, \"zaxis\": {\"backgroundcolor\": \"#E5ECF6\", \"gridcolor\": \"white\", \"gridwidth\": 2, \"linecolor\": \"white\", \"showbackground\": true, \"ticks\": \"\", \"zerolinecolor\": \"white\"}}, \"shapedefaults\": {\"line\": {\"color\": \"#2a3f5f\"}}, \"ternary\": {\"aaxis\": {\"gridcolor\": \"white\", \"linecolor\": \"white\", \"ticks\": \"\"}, \"baxis\": {\"gridcolor\": \"white\", \"linecolor\": \"white\", \"ticks\": \"\"}, \"bgcolor\": \"#E5ECF6\", \"caxis\": {\"gridcolor\": \"white\", \"linecolor\": \"white\", \"ticks\": \"\"}}, \"title\": {\"x\": 0.05}, \"xaxis\": {\"automargin\": true, \"gridcolor\": \"white\", \"linecolor\": \"white\", \"ticks\": \"\", \"title\": {\"standoff\": 15}, \"zerolinecolor\": \"white\", \"zerolinewidth\": 2}, \"yaxis\": {\"automargin\": true, \"gridcolor\": \"white\", \"linecolor\": \"white\", \"ticks\": \"\", \"title\": {\"standoff\": 15}, \"zerolinecolor\": \"white\", \"zerolinewidth\": 2}}}, \"title\": {\"font\": {\"color\": \"#4D5663\"}}, \"xaxis\": {\"gridcolor\": \"#E1E5ED\", \"showgrid\": true, \"tickfont\": {\"color\": \"#4D5663\"}, \"title\": {\"font\": {\"color\": \"#4D5663\"}, \"text\": \"\"}, \"zerolinecolor\": \"#E1E5ED\"}, \"yaxis\": {\"gridcolor\": \"#E1E5ED\", \"showgrid\": true, \"tickfont\": {\"color\": \"#4D5663\"}, \"title\": {\"font\": {\"color\": \"#4D5663\"}, \"text\": \"\"}, \"zerolinecolor\": \"#E1E5ED\"}},                        {\"showLink\": true, \"linkText\": \"Export to plot.ly\", \"plotlyServerURL\": \"https://plot.ly\", \"responsive\": true}                    ).then(function(){\n",
       "                            \n",
       "var gd = document.getElementById('bc31094d-6af8-4486-b2fa-a3a977b362d2');\n",
       "var x = new MutationObserver(function (mutations, observer) {{\n",
       "        var display = window.getComputedStyle(gd).display;\n",
       "        if (!display || display === 'none') {{\n",
       "            console.log([gd, 'removed!']);\n",
       "            Plotly.purge(gd);\n",
       "            observer.disconnect();\n",
       "        }}\n",
       "}});\n",
       "\n",
       "// Listen for the removal of the full notebook cells\n",
       "var notebookContainer = gd.closest('#notebook-container');\n",
       "if (notebookContainer) {{\n",
       "    x.observe(notebookContainer, {childList: true});\n",
       "}}\n",
       "\n",
       "// Listen for the clearing of the current output cell\n",
       "var outputEl = gd.closest('.output');\n",
       "if (outputEl) {{\n",
       "    x.observe(outputEl, {childList: true});\n",
       "}}\n",
       "\n",
       "                        })                };                });            </script>        </div>"
      ]
     },
     "metadata": {},
     "output_type": "display_data"
    }
   ],
   "source": [
    "df.count().iplot(kind='bar')"
   ]
  },
  {
   "cell_type": "code",
   "execution_count": 21,
   "id": "3fb0fc35",
   "metadata": {},
   "outputs": [
    {
     "data": {
      "application/vnd.plotly.v1+json": {
       "config": {
        "linkText": "Export to plot.ly",
        "plotlyServerURL": "https://plot.ly",
        "showLink": true
       },
       "data": [
        {
         "marker": {
          "color": "rgba(255, 153, 51, 0.6)",
          "line": {
           "color": "rgba(255, 153, 51, 1.0)",
           "width": 1
          }
         },
         "name": "None",
         "orientation": "v",
         "text": "",
         "type": "bar",
         "x": [
          "A",
          "B",
          "C",
          "D"
         ],
         "y": [
          6.210189323822483,
          -6.627178260550611,
          8.054203050681144,
          8.449498448287951
         ]
        }
       ],
       "layout": {
        "legend": {
         "bgcolor": "#F5F6F9",
         "font": {
          "color": "#4D5663"
         }
        },
        "paper_bgcolor": "#F5F6F9",
        "plot_bgcolor": "#F5F6F9",
        "template": {
         "data": {
          "bar": [
           {
            "error_x": {
             "color": "#2a3f5f"
            },
            "error_y": {
             "color": "#2a3f5f"
            },
            "marker": {
             "line": {
              "color": "#E5ECF6",
              "width": 0.5
             }
            },
            "type": "bar"
           }
          ],
          "barpolar": [
           {
            "marker": {
             "line": {
              "color": "#E5ECF6",
              "width": 0.5
             }
            },
            "type": "barpolar"
           }
          ],
          "carpet": [
           {
            "aaxis": {
             "endlinecolor": "#2a3f5f",
             "gridcolor": "white",
             "linecolor": "white",
             "minorgridcolor": "white",
             "startlinecolor": "#2a3f5f"
            },
            "baxis": {
             "endlinecolor": "#2a3f5f",
             "gridcolor": "white",
             "linecolor": "white",
             "minorgridcolor": "white",
             "startlinecolor": "#2a3f5f"
            },
            "type": "carpet"
           }
          ],
          "choropleth": [
           {
            "colorbar": {
             "outlinewidth": 0,
             "ticks": ""
            },
            "type": "choropleth"
           }
          ],
          "contour": [
           {
            "colorbar": {
             "outlinewidth": 0,
             "ticks": ""
            },
            "colorscale": [
             [
              0,
              "#0d0887"
             ],
             [
              0.1111111111111111,
              "#46039f"
             ],
             [
              0.2222222222222222,
              "#7201a8"
             ],
             [
              0.3333333333333333,
              "#9c179e"
             ],
             [
              0.4444444444444444,
              "#bd3786"
             ],
             [
              0.5555555555555556,
              "#d8576b"
             ],
             [
              0.6666666666666666,
              "#ed7953"
             ],
             [
              0.7777777777777778,
              "#fb9f3a"
             ],
             [
              0.8888888888888888,
              "#fdca26"
             ],
             [
              1,
              "#f0f921"
             ]
            ],
            "type": "contour"
           }
          ],
          "contourcarpet": [
           {
            "colorbar": {
             "outlinewidth": 0,
             "ticks": ""
            },
            "type": "contourcarpet"
           }
          ],
          "heatmap": [
           {
            "colorbar": {
             "outlinewidth": 0,
             "ticks": ""
            },
            "colorscale": [
             [
              0,
              "#0d0887"
             ],
             [
              0.1111111111111111,
              "#46039f"
             ],
             [
              0.2222222222222222,
              "#7201a8"
             ],
             [
              0.3333333333333333,
              "#9c179e"
             ],
             [
              0.4444444444444444,
              "#bd3786"
             ],
             [
              0.5555555555555556,
              "#d8576b"
             ],
             [
              0.6666666666666666,
              "#ed7953"
             ],
             [
              0.7777777777777778,
              "#fb9f3a"
             ],
             [
              0.8888888888888888,
              "#fdca26"
             ],
             [
              1,
              "#f0f921"
             ]
            ],
            "type": "heatmap"
           }
          ],
          "heatmapgl": [
           {
            "colorbar": {
             "outlinewidth": 0,
             "ticks": ""
            },
            "colorscale": [
             [
              0,
              "#0d0887"
             ],
             [
              0.1111111111111111,
              "#46039f"
             ],
             [
              0.2222222222222222,
              "#7201a8"
             ],
             [
              0.3333333333333333,
              "#9c179e"
             ],
             [
              0.4444444444444444,
              "#bd3786"
             ],
             [
              0.5555555555555556,
              "#d8576b"
             ],
             [
              0.6666666666666666,
              "#ed7953"
             ],
             [
              0.7777777777777778,
              "#fb9f3a"
             ],
             [
              0.8888888888888888,
              "#fdca26"
             ],
             [
              1,
              "#f0f921"
             ]
            ],
            "type": "heatmapgl"
           }
          ],
          "histogram": [
           {
            "marker": {
             "colorbar": {
              "outlinewidth": 0,
              "ticks": ""
             }
            },
            "type": "histogram"
           }
          ],
          "histogram2d": [
           {
            "colorbar": {
             "outlinewidth": 0,
             "ticks": ""
            },
            "colorscale": [
             [
              0,
              "#0d0887"
             ],
             [
              0.1111111111111111,
              "#46039f"
             ],
             [
              0.2222222222222222,
              "#7201a8"
             ],
             [
              0.3333333333333333,
              "#9c179e"
             ],
             [
              0.4444444444444444,
              "#bd3786"
             ],
             [
              0.5555555555555556,
              "#d8576b"
             ],
             [
              0.6666666666666666,
              "#ed7953"
             ],
             [
              0.7777777777777778,
              "#fb9f3a"
             ],
             [
              0.8888888888888888,
              "#fdca26"
             ],
             [
              1,
              "#f0f921"
             ]
            ],
            "type": "histogram2d"
           }
          ],
          "histogram2dcontour": [
           {
            "colorbar": {
             "outlinewidth": 0,
             "ticks": ""
            },
            "colorscale": [
             [
              0,
              "#0d0887"
             ],
             [
              0.1111111111111111,
              "#46039f"
             ],
             [
              0.2222222222222222,
              "#7201a8"
             ],
             [
              0.3333333333333333,
              "#9c179e"
             ],
             [
              0.4444444444444444,
              "#bd3786"
             ],
             [
              0.5555555555555556,
              "#d8576b"
             ],
             [
              0.6666666666666666,
              "#ed7953"
             ],
             [
              0.7777777777777778,
              "#fb9f3a"
             ],
             [
              0.8888888888888888,
              "#fdca26"
             ],
             [
              1,
              "#f0f921"
             ]
            ],
            "type": "histogram2dcontour"
           }
          ],
          "mesh3d": [
           {
            "colorbar": {
             "outlinewidth": 0,
             "ticks": ""
            },
            "type": "mesh3d"
           }
          ],
          "parcoords": [
           {
            "line": {
             "colorbar": {
              "outlinewidth": 0,
              "ticks": ""
             }
            },
            "type": "parcoords"
           }
          ],
          "pie": [
           {
            "automargin": true,
            "type": "pie"
           }
          ],
          "scatter": [
           {
            "marker": {
             "colorbar": {
              "outlinewidth": 0,
              "ticks": ""
             }
            },
            "type": "scatter"
           }
          ],
          "scatter3d": [
           {
            "line": {
             "colorbar": {
              "outlinewidth": 0,
              "ticks": ""
             }
            },
            "marker": {
             "colorbar": {
              "outlinewidth": 0,
              "ticks": ""
             }
            },
            "type": "scatter3d"
           }
          ],
          "scattercarpet": [
           {
            "marker": {
             "colorbar": {
              "outlinewidth": 0,
              "ticks": ""
             }
            },
            "type": "scattercarpet"
           }
          ],
          "scattergeo": [
           {
            "marker": {
             "colorbar": {
              "outlinewidth": 0,
              "ticks": ""
             }
            },
            "type": "scattergeo"
           }
          ],
          "scattergl": [
           {
            "marker": {
             "colorbar": {
              "outlinewidth": 0,
              "ticks": ""
             }
            },
            "type": "scattergl"
           }
          ],
          "scattermapbox": [
           {
            "marker": {
             "colorbar": {
              "outlinewidth": 0,
              "ticks": ""
             }
            },
            "type": "scattermapbox"
           }
          ],
          "scatterpolar": [
           {
            "marker": {
             "colorbar": {
              "outlinewidth": 0,
              "ticks": ""
             }
            },
            "type": "scatterpolar"
           }
          ],
          "scatterpolargl": [
           {
            "marker": {
             "colorbar": {
              "outlinewidth": 0,
              "ticks": ""
             }
            },
            "type": "scatterpolargl"
           }
          ],
          "scatterternary": [
           {
            "marker": {
             "colorbar": {
              "outlinewidth": 0,
              "ticks": ""
             }
            },
            "type": "scatterternary"
           }
          ],
          "surface": [
           {
            "colorbar": {
             "outlinewidth": 0,
             "ticks": ""
            },
            "colorscale": [
             [
              0,
              "#0d0887"
             ],
             [
              0.1111111111111111,
              "#46039f"
             ],
             [
              0.2222222222222222,
              "#7201a8"
             ],
             [
              0.3333333333333333,
              "#9c179e"
             ],
             [
              0.4444444444444444,
              "#bd3786"
             ],
             [
              0.5555555555555556,
              "#d8576b"
             ],
             [
              0.6666666666666666,
              "#ed7953"
             ],
             [
              0.7777777777777778,
              "#fb9f3a"
             ],
             [
              0.8888888888888888,
              "#fdca26"
             ],
             [
              1,
              "#f0f921"
             ]
            ],
            "type": "surface"
           }
          ],
          "table": [
           {
            "cells": {
             "fill": {
              "color": "#EBF0F8"
             },
             "line": {
              "color": "white"
             }
            },
            "header": {
             "fill": {
              "color": "#C8D4E3"
             },
             "line": {
              "color": "white"
             }
            },
            "type": "table"
           }
          ]
         },
         "layout": {
          "annotationdefaults": {
           "arrowcolor": "#2a3f5f",
           "arrowhead": 0,
           "arrowwidth": 1
          },
          "autotypenumbers": "strict",
          "coloraxis": {
           "colorbar": {
            "outlinewidth": 0,
            "ticks": ""
           }
          },
          "colorscale": {
           "diverging": [
            [
             0,
             "#8e0152"
            ],
            [
             0.1,
             "#c51b7d"
            ],
            [
             0.2,
             "#de77ae"
            ],
            [
             0.3,
             "#f1b6da"
            ],
            [
             0.4,
             "#fde0ef"
            ],
            [
             0.5,
             "#f7f7f7"
            ],
            [
             0.6,
             "#e6f5d0"
            ],
            [
             0.7,
             "#b8e186"
            ],
            [
             0.8,
             "#7fbc41"
            ],
            [
             0.9,
             "#4d9221"
            ],
            [
             1,
             "#276419"
            ]
           ],
           "sequential": [
            [
             0,
             "#0d0887"
            ],
            [
             0.1111111111111111,
             "#46039f"
            ],
            [
             0.2222222222222222,
             "#7201a8"
            ],
            [
             0.3333333333333333,
             "#9c179e"
            ],
            [
             0.4444444444444444,
             "#bd3786"
            ],
            [
             0.5555555555555556,
             "#d8576b"
            ],
            [
             0.6666666666666666,
             "#ed7953"
            ],
            [
             0.7777777777777778,
             "#fb9f3a"
            ],
            [
             0.8888888888888888,
             "#fdca26"
            ],
            [
             1,
             "#f0f921"
            ]
           ],
           "sequentialminus": [
            [
             0,
             "#0d0887"
            ],
            [
             0.1111111111111111,
             "#46039f"
            ],
            [
             0.2222222222222222,
             "#7201a8"
            ],
            [
             0.3333333333333333,
             "#9c179e"
            ],
            [
             0.4444444444444444,
             "#bd3786"
            ],
            [
             0.5555555555555556,
             "#d8576b"
            ],
            [
             0.6666666666666666,
             "#ed7953"
            ],
            [
             0.7777777777777778,
             "#fb9f3a"
            ],
            [
             0.8888888888888888,
             "#fdca26"
            ],
            [
             1,
             "#f0f921"
            ]
           ]
          },
          "colorway": [
           "#636efa",
           "#EF553B",
           "#00cc96",
           "#ab63fa",
           "#FFA15A",
           "#19d3f3",
           "#FF6692",
           "#B6E880",
           "#FF97FF",
           "#FECB52"
          ],
          "font": {
           "color": "#2a3f5f"
          },
          "geo": {
           "bgcolor": "white",
           "lakecolor": "white",
           "landcolor": "#E5ECF6",
           "showlakes": true,
           "showland": true,
           "subunitcolor": "white"
          },
          "hoverlabel": {
           "align": "left"
          },
          "hovermode": "closest",
          "mapbox": {
           "style": "light"
          },
          "paper_bgcolor": "white",
          "plot_bgcolor": "#E5ECF6",
          "polar": {
           "angularaxis": {
            "gridcolor": "white",
            "linecolor": "white",
            "ticks": ""
           },
           "bgcolor": "#E5ECF6",
           "radialaxis": {
            "gridcolor": "white",
            "linecolor": "white",
            "ticks": ""
           }
          },
          "scene": {
           "xaxis": {
            "backgroundcolor": "#E5ECF6",
            "gridcolor": "white",
            "gridwidth": 2,
            "linecolor": "white",
            "showbackground": true,
            "ticks": "",
            "zerolinecolor": "white"
           },
           "yaxis": {
            "backgroundcolor": "#E5ECF6",
            "gridcolor": "white",
            "gridwidth": 2,
            "linecolor": "white",
            "showbackground": true,
            "ticks": "",
            "zerolinecolor": "white"
           },
           "zaxis": {
            "backgroundcolor": "#E5ECF6",
            "gridcolor": "white",
            "gridwidth": 2,
            "linecolor": "white",
            "showbackground": true,
            "ticks": "",
            "zerolinecolor": "white"
           }
          },
          "shapedefaults": {
           "line": {
            "color": "#2a3f5f"
           }
          },
          "ternary": {
           "aaxis": {
            "gridcolor": "white",
            "linecolor": "white",
            "ticks": ""
           },
           "baxis": {
            "gridcolor": "white",
            "linecolor": "white",
            "ticks": ""
           },
           "bgcolor": "#E5ECF6",
           "caxis": {
            "gridcolor": "white",
            "linecolor": "white",
            "ticks": ""
           }
          },
          "title": {
           "x": 0.05
          },
          "xaxis": {
           "automargin": true,
           "gridcolor": "white",
           "linecolor": "white",
           "ticks": "",
           "title": {
            "standoff": 15
           },
           "zerolinecolor": "white",
           "zerolinewidth": 2
          },
          "yaxis": {
           "automargin": true,
           "gridcolor": "white",
           "linecolor": "white",
           "ticks": "",
           "title": {
            "standoff": 15
           },
           "zerolinecolor": "white",
           "zerolinewidth": 2
          }
         }
        },
        "title": {
         "font": {
          "color": "#4D5663"
         }
        },
        "xaxis": {
         "gridcolor": "#E1E5ED",
         "showgrid": true,
         "tickfont": {
          "color": "#4D5663"
         },
         "title": {
          "font": {
           "color": "#4D5663"
          },
          "text": ""
         },
         "zerolinecolor": "#E1E5ED"
        },
        "yaxis": {
         "gridcolor": "#E1E5ED",
         "showgrid": true,
         "tickfont": {
          "color": "#4D5663"
         },
         "title": {
          "font": {
           "color": "#4D5663"
          },
          "text": ""
         },
         "zerolinecolor": "#E1E5ED"
        }
       }
      },
      "text/html": [
       "<div>                            <div id=\"93ff3750-85f2-41b3-8e34-b257fe3e1195\" class=\"plotly-graph-div\" style=\"height:525px; width:100%;\"></div>            <script type=\"text/javascript\">                require([\"plotly\"], function(Plotly) {                    window.PLOTLYENV=window.PLOTLYENV || {};\n",
       "                    window.PLOTLYENV.BASE_URL='https://plot.ly';                                    if (document.getElementById(\"93ff3750-85f2-41b3-8e34-b257fe3e1195\")) {                    Plotly.newPlot(                        \"93ff3750-85f2-41b3-8e34-b257fe3e1195\",                        [{\"marker\": {\"color\": \"rgba(255, 153, 51, 0.6)\", \"line\": {\"color\": \"rgba(255, 153, 51, 1.0)\", \"width\": 1}}, \"name\": \"None\", \"orientation\": \"v\", \"text\": \"\", \"type\": \"bar\", \"x\": [\"A\", \"B\", \"C\", \"D\"], \"y\": [6.210189323822483, -6.627178260550611, 8.054203050681144, 8.449498448287951]}],                        {\"legend\": {\"bgcolor\": \"#F5F6F9\", \"font\": {\"color\": \"#4D5663\"}}, \"paper_bgcolor\": \"#F5F6F9\", \"plot_bgcolor\": \"#F5F6F9\", \"template\": {\"data\": {\"bar\": [{\"error_x\": {\"color\": \"#2a3f5f\"}, \"error_y\": {\"color\": \"#2a3f5f\"}, \"marker\": {\"line\": {\"color\": \"#E5ECF6\", \"width\": 0.5}}, \"type\": \"bar\"}], \"barpolar\": [{\"marker\": {\"line\": {\"color\": \"#E5ECF6\", \"width\": 0.5}}, \"type\": \"barpolar\"}], \"carpet\": [{\"aaxis\": {\"endlinecolor\": \"#2a3f5f\", \"gridcolor\": \"white\", \"linecolor\": \"white\", \"minorgridcolor\": \"white\", \"startlinecolor\": \"#2a3f5f\"}, \"baxis\": {\"endlinecolor\": \"#2a3f5f\", \"gridcolor\": \"white\", \"linecolor\": \"white\", \"minorgridcolor\": \"white\", \"startlinecolor\": \"#2a3f5f\"}, \"type\": \"carpet\"}], \"choropleth\": [{\"colorbar\": {\"outlinewidth\": 0, \"ticks\": \"\"}, \"type\": \"choropleth\"}], \"contour\": [{\"colorbar\": {\"outlinewidth\": 0, \"ticks\": \"\"}, \"colorscale\": [[0.0, \"#0d0887\"], [0.1111111111111111, \"#46039f\"], [0.2222222222222222, \"#7201a8\"], [0.3333333333333333, \"#9c179e\"], [0.4444444444444444, \"#bd3786\"], [0.5555555555555556, \"#d8576b\"], [0.6666666666666666, \"#ed7953\"], [0.7777777777777778, \"#fb9f3a\"], [0.8888888888888888, \"#fdca26\"], [1.0, \"#f0f921\"]], \"type\": \"contour\"}], \"contourcarpet\": [{\"colorbar\": {\"outlinewidth\": 0, \"ticks\": \"\"}, \"type\": \"contourcarpet\"}], \"heatmap\": [{\"colorbar\": {\"outlinewidth\": 0, \"ticks\": \"\"}, \"colorscale\": [[0.0, \"#0d0887\"], [0.1111111111111111, \"#46039f\"], [0.2222222222222222, \"#7201a8\"], [0.3333333333333333, \"#9c179e\"], [0.4444444444444444, \"#bd3786\"], [0.5555555555555556, \"#d8576b\"], [0.6666666666666666, \"#ed7953\"], [0.7777777777777778, \"#fb9f3a\"], [0.8888888888888888, \"#fdca26\"], [1.0, \"#f0f921\"]], \"type\": \"heatmap\"}], \"heatmapgl\": [{\"colorbar\": {\"outlinewidth\": 0, \"ticks\": \"\"}, \"colorscale\": [[0.0, \"#0d0887\"], [0.1111111111111111, \"#46039f\"], [0.2222222222222222, \"#7201a8\"], [0.3333333333333333, \"#9c179e\"], [0.4444444444444444, \"#bd3786\"], [0.5555555555555556, \"#d8576b\"], [0.6666666666666666, \"#ed7953\"], [0.7777777777777778, \"#fb9f3a\"], [0.8888888888888888, \"#fdca26\"], [1.0, \"#f0f921\"]], \"type\": \"heatmapgl\"}], \"histogram\": [{\"marker\": {\"colorbar\": {\"outlinewidth\": 0, \"ticks\": \"\"}}, \"type\": \"histogram\"}], \"histogram2d\": [{\"colorbar\": {\"outlinewidth\": 0, \"ticks\": \"\"}, \"colorscale\": [[0.0, \"#0d0887\"], [0.1111111111111111, \"#46039f\"], [0.2222222222222222, \"#7201a8\"], [0.3333333333333333, \"#9c179e\"], [0.4444444444444444, \"#bd3786\"], [0.5555555555555556, \"#d8576b\"], [0.6666666666666666, \"#ed7953\"], [0.7777777777777778, \"#fb9f3a\"], [0.8888888888888888, \"#fdca26\"], [1.0, \"#f0f921\"]], \"type\": \"histogram2d\"}], \"histogram2dcontour\": [{\"colorbar\": {\"outlinewidth\": 0, \"ticks\": \"\"}, \"colorscale\": [[0.0, \"#0d0887\"], [0.1111111111111111, \"#46039f\"], [0.2222222222222222, \"#7201a8\"], [0.3333333333333333, \"#9c179e\"], [0.4444444444444444, \"#bd3786\"], [0.5555555555555556, \"#d8576b\"], [0.6666666666666666, \"#ed7953\"], [0.7777777777777778, \"#fb9f3a\"], [0.8888888888888888, \"#fdca26\"], [1.0, \"#f0f921\"]], \"type\": \"histogram2dcontour\"}], \"mesh3d\": [{\"colorbar\": {\"outlinewidth\": 0, \"ticks\": \"\"}, \"type\": \"mesh3d\"}], \"parcoords\": [{\"line\": {\"colorbar\": {\"outlinewidth\": 0, \"ticks\": \"\"}}, \"type\": \"parcoords\"}], \"pie\": [{\"automargin\": true, \"type\": \"pie\"}], \"scatter\": [{\"marker\": {\"colorbar\": {\"outlinewidth\": 0, \"ticks\": \"\"}}, \"type\": \"scatter\"}], \"scatter3d\": [{\"line\": {\"colorbar\": {\"outlinewidth\": 0, \"ticks\": \"\"}}, \"marker\": {\"colorbar\": {\"outlinewidth\": 0, \"ticks\": \"\"}}, \"type\": \"scatter3d\"}], \"scattercarpet\": [{\"marker\": {\"colorbar\": {\"outlinewidth\": 0, \"ticks\": \"\"}}, \"type\": \"scattercarpet\"}], \"scattergeo\": [{\"marker\": {\"colorbar\": {\"outlinewidth\": 0, \"ticks\": \"\"}}, \"type\": \"scattergeo\"}], \"scattergl\": [{\"marker\": {\"colorbar\": {\"outlinewidth\": 0, \"ticks\": \"\"}}, \"type\": \"scattergl\"}], \"scattermapbox\": [{\"marker\": {\"colorbar\": {\"outlinewidth\": 0, \"ticks\": \"\"}}, \"type\": \"scattermapbox\"}], \"scatterpolar\": [{\"marker\": {\"colorbar\": {\"outlinewidth\": 0, \"ticks\": \"\"}}, \"type\": \"scatterpolar\"}], \"scatterpolargl\": [{\"marker\": {\"colorbar\": {\"outlinewidth\": 0, \"ticks\": \"\"}}, \"type\": \"scatterpolargl\"}], \"scatterternary\": [{\"marker\": {\"colorbar\": {\"outlinewidth\": 0, \"ticks\": \"\"}}, \"type\": \"scatterternary\"}], \"surface\": [{\"colorbar\": {\"outlinewidth\": 0, \"ticks\": \"\"}, \"colorscale\": [[0.0, \"#0d0887\"], [0.1111111111111111, \"#46039f\"], [0.2222222222222222, \"#7201a8\"], [0.3333333333333333, \"#9c179e\"], [0.4444444444444444, \"#bd3786\"], [0.5555555555555556, \"#d8576b\"], [0.6666666666666666, \"#ed7953\"], [0.7777777777777778, \"#fb9f3a\"], [0.8888888888888888, \"#fdca26\"], [1.0, \"#f0f921\"]], \"type\": \"surface\"}], \"table\": [{\"cells\": {\"fill\": {\"color\": \"#EBF0F8\"}, \"line\": {\"color\": \"white\"}}, \"header\": {\"fill\": {\"color\": \"#C8D4E3\"}, \"line\": {\"color\": \"white\"}}, \"type\": \"table\"}]}, \"layout\": {\"annotationdefaults\": {\"arrowcolor\": \"#2a3f5f\", \"arrowhead\": 0, \"arrowwidth\": 1}, \"autotypenumbers\": \"strict\", \"coloraxis\": {\"colorbar\": {\"outlinewidth\": 0, \"ticks\": \"\"}}, \"colorscale\": {\"diverging\": [[0, \"#8e0152\"], [0.1, \"#c51b7d\"], [0.2, \"#de77ae\"], [0.3, \"#f1b6da\"], [0.4, \"#fde0ef\"], [0.5, \"#f7f7f7\"], [0.6, \"#e6f5d0\"], [0.7, \"#b8e186\"], [0.8, \"#7fbc41\"], [0.9, \"#4d9221\"], [1, \"#276419\"]], \"sequential\": [[0.0, \"#0d0887\"], [0.1111111111111111, \"#46039f\"], [0.2222222222222222, \"#7201a8\"], [0.3333333333333333, \"#9c179e\"], [0.4444444444444444, \"#bd3786\"], [0.5555555555555556, \"#d8576b\"], [0.6666666666666666, \"#ed7953\"], [0.7777777777777778, \"#fb9f3a\"], [0.8888888888888888, \"#fdca26\"], [1.0, \"#f0f921\"]], \"sequentialminus\": [[0.0, \"#0d0887\"], [0.1111111111111111, \"#46039f\"], [0.2222222222222222, \"#7201a8\"], [0.3333333333333333, \"#9c179e\"], [0.4444444444444444, \"#bd3786\"], [0.5555555555555556, \"#d8576b\"], [0.6666666666666666, \"#ed7953\"], [0.7777777777777778, \"#fb9f3a\"], [0.8888888888888888, \"#fdca26\"], [1.0, \"#f0f921\"]]}, \"colorway\": [\"#636efa\", \"#EF553B\", \"#00cc96\", \"#ab63fa\", \"#FFA15A\", \"#19d3f3\", \"#FF6692\", \"#B6E880\", \"#FF97FF\", \"#FECB52\"], \"font\": {\"color\": \"#2a3f5f\"}, \"geo\": {\"bgcolor\": \"white\", \"lakecolor\": \"white\", \"landcolor\": \"#E5ECF6\", \"showlakes\": true, \"showland\": true, \"subunitcolor\": \"white\"}, \"hoverlabel\": {\"align\": \"left\"}, \"hovermode\": \"closest\", \"mapbox\": {\"style\": \"light\"}, \"paper_bgcolor\": \"white\", \"plot_bgcolor\": \"#E5ECF6\", \"polar\": {\"angularaxis\": {\"gridcolor\": \"white\", \"linecolor\": \"white\", \"ticks\": \"\"}, \"bgcolor\": \"#E5ECF6\", \"radialaxis\": {\"gridcolor\": \"white\", \"linecolor\": \"white\", \"ticks\": \"\"}}, \"scene\": {\"xaxis\": {\"backgroundcolor\": \"#E5ECF6\", \"gridcolor\": \"white\", \"gridwidth\": 2, \"linecolor\": \"white\", \"showbackground\": true, \"ticks\": \"\", \"zerolinecolor\": \"white\"}, \"yaxis\": {\"backgroundcolor\": \"#E5ECF6\", \"gridcolor\": \"white\", \"gridwidth\": 2, \"linecolor\": \"white\", \"showbackground\": true, \"ticks\": \"\", \"zerolinecolor\": \"white\"}, \"zaxis\": {\"backgroundcolor\": \"#E5ECF6\", \"gridcolor\": \"white\", \"gridwidth\": 2, \"linecolor\": \"white\", \"showbackground\": true, \"ticks\": \"\", \"zerolinecolor\": \"white\"}}, \"shapedefaults\": {\"line\": {\"color\": \"#2a3f5f\"}}, \"ternary\": {\"aaxis\": {\"gridcolor\": \"white\", \"linecolor\": \"white\", \"ticks\": \"\"}, \"baxis\": {\"gridcolor\": \"white\", \"linecolor\": \"white\", \"ticks\": \"\"}, \"bgcolor\": \"#E5ECF6\", \"caxis\": {\"gridcolor\": \"white\", \"linecolor\": \"white\", \"ticks\": \"\"}}, \"title\": {\"x\": 0.05}, \"xaxis\": {\"automargin\": true, \"gridcolor\": \"white\", \"linecolor\": \"white\", \"ticks\": \"\", \"title\": {\"standoff\": 15}, \"zerolinecolor\": \"white\", \"zerolinewidth\": 2}, \"yaxis\": {\"automargin\": true, \"gridcolor\": \"white\", \"linecolor\": \"white\", \"ticks\": \"\", \"title\": {\"standoff\": 15}, \"zerolinecolor\": \"white\", \"zerolinewidth\": 2}}}, \"title\": {\"font\": {\"color\": \"#4D5663\"}}, \"xaxis\": {\"gridcolor\": \"#E1E5ED\", \"showgrid\": true, \"tickfont\": {\"color\": \"#4D5663\"}, \"title\": {\"font\": {\"color\": \"#4D5663\"}, \"text\": \"\"}, \"zerolinecolor\": \"#E1E5ED\"}, \"yaxis\": {\"gridcolor\": \"#E1E5ED\", \"showgrid\": true, \"tickfont\": {\"color\": \"#4D5663\"}, \"title\": {\"font\": {\"color\": \"#4D5663\"}, \"text\": \"\"}, \"zerolinecolor\": \"#E1E5ED\"}},                        {\"showLink\": true, \"linkText\": \"Export to plot.ly\", \"plotlyServerURL\": \"https://plot.ly\", \"responsive\": true}                    ).then(function(){\n",
       "                            \n",
       "var gd = document.getElementById('93ff3750-85f2-41b3-8e34-b257fe3e1195');\n",
       "var x = new MutationObserver(function (mutations, observer) {{\n",
       "        var display = window.getComputedStyle(gd).display;\n",
       "        if (!display || display === 'none') {{\n",
       "            console.log([gd, 'removed!']);\n",
       "            Plotly.purge(gd);\n",
       "            observer.disconnect();\n",
       "        }}\n",
       "}});\n",
       "\n",
       "// Listen for the removal of the full notebook cells\n",
       "var notebookContainer = gd.closest('#notebook-container');\n",
       "if (notebookContainer) {{\n",
       "    x.observe(notebookContainer, {childList: true});\n",
       "}}\n",
       "\n",
       "// Listen for the clearing of the current output cell\n",
       "var outputEl = gd.closest('.output');\n",
       "if (outputEl) {{\n",
       "    x.observe(outputEl, {childList: true});\n",
       "}}\n",
       "\n",
       "                        })                };                });            </script>        </div>"
      ]
     },
     "metadata": {},
     "output_type": "display_data"
    }
   ],
   "source": [
    "df.sum().iplot(kind='bar')\n",
    "#keep in mind that this barplot with iplot becomes extremely powerful when we call some sort of aggregate function or group\n",
    "#by function on our dataframe(count and sum for instance)"
   ]
  },
  {
   "cell_type": "code",
   "execution_count": 22,
   "id": "8de24de1",
   "metadata": {},
   "outputs": [
    {
     "data": {
      "application/vnd.plotly.v1+json": {
       "config": {
        "linkText": "Export to plot.ly",
        "plotlyServerURL": "https://plot.ly",
        "showLink": true
       },
       "data": [
        {
         "boxpoints": false,
         "line": {
          "width": 1.3
         },
         "marker": {
          "color": "rgba(255, 153, 51, 1.0)"
         },
         "name": "A",
         "orientation": "v",
         "type": "box",
         "y": [
          -0.6707154253506642,
          -1.9500262411133285,
          0.47330149330972787,
          0.3220821058806944,
          0.20805808808316156,
          -0.35109658451676334,
          0.6962852968692117,
          -0.10784531902689991,
          1.5086544793457553,
          -1.340268292912184,
          0.7644344119612071,
          -0.26780932113299405,
          0.1878224556979502,
          1.171246085614569,
          0.1851093548441989,
          0.2823252049199303,
          0.6932277961556744,
          -0.6769518643083233,
          -0.19354333756548917,
          2.1363357457530587,
          0.040971497941110074,
          -1.7778136621759986,
          3.13702519812112,
          1.5018405020580647,
          -1.6127044945937676,
          -0.03130235727745821,
          0.09640237026125606,
          -0.5360328057285065,
          0.8757207392735993,
          0.28188882285582134,
          -0.6267644208076626,
          0.522160591589084,
          0.7117289724168866,
          -0.6437782301720258,
          0.2712843372224381,
          0.6033468190197396,
          0.8021238883637443,
          -0.7702350535759206,
          -1.6829360015664283,
          0.6731359493896302,
          -1.0248199572464276,
          0.8986669891621416,
          -0.3657217093686965,
          -0.19140225513344197,
          -0.027425781658837873,
          -0.4486319931274092,
          -1.2072169461605697,
          1.1119462802015492,
          0.7169013061838068,
          1.092554147709969,
          0.3877181592512865,
          -0.5077243469664451,
          0.40449061501060224,
          0.22132603560676464,
          0.5266282050852957,
          -0.3950309560310908,
          -0.005066618020162976,
          0.5397516109289167,
          -0.24187446680324345,
          -2.4180231477424297,
          -0.1118720542279614,
          0.7891934411928745,
          -1.4595096578166131,
          -1.6641566424292111,
          0.4641685548997316,
          0.2039478823314363,
          0.033767471863369765,
          -1.0739728733906564,
          -1.8950403385455485,
          0.33690673212261363,
          -0.34158656775274315,
          -0.1877609055445049,
          -1.3877147132450043,
          -0.5621215400627225,
          -0.25322924851168455,
          1.8159900315694717,
          -0.34533226510827736,
          1.0356949538332458,
          1.2021841404538256,
          -0.3927476513776488,
          0.837235412643784,
          -1.6234430720105062,
          1.243235860033378,
          0.16800048711867446,
          0.4391194684694063,
          -0.27275232834051005,
          1.8786432214985485,
          -1.036152949055604,
          -0.8484408810170442,
          0.3225952169549622,
          1.866756994721403,
          -0.5069716474593075,
          0.569264356614395,
          0.28876108330768585,
          -0.14817903275171626,
          -1.863044870763895,
          1.8120988870687478,
          0.18420897831186897,
          0.16052440170636006,
          2.5581870205130657
         ]
        },
        {
         "boxpoints": false,
         "line": {
          "width": 1.3
         },
         "marker": {
          "color": "rgba(55, 128, 191, 1.0)"
         },
         "name": "B",
         "orientation": "v",
         "type": "box",
         "y": [
          2.1058842826318607,
          -2.072359511310542,
          -0.3416009005606861,
          -0.7284799185898405,
          -1.2504681420191213,
          0.36929949318306843,
          0.30650633934084254,
          -0.7822857645842319,
          -0.40249307975607373,
          -0.4894825593030477,
          -2.0423146065028983,
          0.9872944141587103,
          -1.0569817425686823,
          -1.6293020589481364,
          -0.3653355683975144,
          0.34908380245013,
          -0.9930184191231534,
          -1.5459068965500842,
          -0.4303553133615934,
          0.6436591668209447,
          0.8434328960587413,
          -0.8293341375988842,
          -0.17665403988967887,
          0.05571735134683879,
          0.7712899419374236,
          1.8392243290245631,
          -0.02887245228532163,
          -0.27213303990882726,
          -0.9293654935733069,
          -0.1717099056031576,
          0.10629681858599707,
          -0.15554719806862996,
          -0.9964845946839231,
          0.6092294141232871,
          0.674977835522611,
          1.1574969173759908,
          -0.0904536430233091,
          1.340391985298189,
          0.7013388590982971,
          0.5803876294942691,
          -0.4777178856989432,
          -0.4783100209870064,
          -0.23670952507275758,
          -1.1222153054155775,
          -0.10985297273626017,
          -0.08838416929997245,
          2.705075337277412,
          -1.353083311770451,
          -0.15123585689753194,
          -0.5079059934573342,
          0.214658887024363,
          0.0962629830423297,
          1.2226846938925608,
          -1.3849716686465248,
          2.47057224290792,
          -0.23622331664434187,
          -0.01386735927959883,
          0.3146974131045074,
          -1.611843264935958,
          0.6219892118864861,
          -0.25545298334001854,
          -0.20578715948195975,
          0.5026081049701817,
          -0.05039893194269115,
          -1.451888593332071,
          -1.6684912330390367,
          0.09839970157327095,
          -1.1912211957943615,
          0.35544779363433393,
          0.6886730916876131,
          0.8392771480070627,
          1.6715975529189262,
          0.2645710679527483,
          1.3357616401053343,
          -1.0479861237285117,
          -0.2708393114170538,
          -0.8665667773800374,
          1.3146913254236081,
          2.557788297919866,
          0.12340258729703828,
          1.3972074095700282,
          -1.400939946555493,
          1.050979978143761,
          0.19436735904851585,
          -0.20423934437480293,
          1.707269574355147,
          -1.1200963283863776,
          -1.8289426096328703,
          -0.6902735932611638,
          0.1731486516107255,
          -1.1238930656827142,
          -0.26769297907693507,
          -1.2963287663260568,
          -0.4381458613461422,
          0.4622567290341809,
          0.564315818327561,
          -0.15683622731556487,
          -1.906840982387614,
          0.5078497775235092,
          -0.5281224643869874
         ]
        },
        {
         "boxpoints": false,
         "line": {
          "width": 1.3
         },
         "marker": {
          "color": "rgba(50, 171, 96, 1.0)"
         },
         "name": "C",
         "orientation": "v",
         "type": "box",
         "y": [
          1.537971522799382,
          1.9439769437729302,
          -0.8780238161615508,
          0.4124968127293803,
          0.07466725366935067,
          -0.5539178888964471,
          0.00817695387702504,
          -1.2550225340364434,
          -0.5412576554328449,
          0.24969679728174116,
          0.871816558580187,
          1.020279703993287,
          0.011320889793238592,
          -1.586461887104245,
          -1.8968158388241263,
          -0.43386820768173306,
          2.198788237723471,
          -0.3959962886467039,
          1.1110544950169268,
          -0.19278306304304224,
          0.4744246868857774,
          0.007933739243698234,
          0.48047374019415817,
          0.08804042706014781,
          -0.10125114913655739,
          0.027461063717202035,
          0.10859744350420796,
          0.8310009965841483,
          0.42059356089409355,
          0.48924415850726755,
          1.375976816229858,
          0.9838719678559592,
          -1.9232567317746518,
          1.0578963690677599,
          -0.8981540314035965,
          -0.9759356019915912,
          1.013960747882589,
          2.4638321283328626,
          0.079207450843994,
          0.20774520694751952,
          -0.33314912365440885,
          -0.6502008769080283,
          -0.718880191013,
          -1.1968027205800376,
          0.5236593226261017,
          -0.3941772676509596,
          -0.37461732273636805,
          -0.3876617327812021,
          -0.39807203644981676,
          2.328221185625653,
          -0.11577609704476109,
          -1.9346430989777617,
          -0.17173664488861562,
          0.7799954583712938,
          0.44781031095378643,
          -1.0944610854825378,
          -1.7955178763191209,
          -0.1338640634538081,
          -0.6082864970908706,
          -0.28877383730717926,
          -0.39777928940682455,
          -0.8379345405189532,
          1.8496783025891144,
          -0.40858164000605113,
          -0.17689760919626152,
          1.5795155037979336,
          1.5777090111862964,
          0.36523953730768677,
          -1.4845023123428644,
          1.2766513514043718,
          0.6846277469502795,
          0.5605741333739809,
          -0.7638965721430718,
          0.15265752408346378,
          0.2597804224859079,
          0.10295420125442119,
          0.9404406111536191,
          0.3235412049094401,
          -0.6620207833327258,
          0.19073897294613015,
          0.22247498881272565,
          -1.346912502160558,
          0.710632951197657,
          -0.7850388641380739,
          -0.5622713079810008,
          0.7229962130587485,
          -0.7339866177665963,
          -0.9911212919749353,
          -1.496459383599991,
          0.5426852207290529,
          0.43305187586703425,
          0.4258944990145214,
          1.0902255833182126,
          0.22734227626973183,
          0.38723354327631565,
          0.3713766651381148,
          0.2352304988266529,
          0.16145128560357638,
          0.11645425996929985,
          1.7896195966317734
         ]
        },
        {
         "boxpoints": false,
         "line": {
          "width": 1.3
         },
         "marker": {
          "color": "rgba(128, 0, 128, 1.0)"
         },
         "name": "D",
         "orientation": "v",
         "type": "box",
         "y": [
          0.3678171232589625,
          -0.6123213627371522,
          -0.2890912740793197,
          1.4416062794151767,
          -0.031007877389082762,
          0.21066867994888752,
          -0.8449498446329224,
          0.8394801074054848,
          1.1220616783066,
          0.7414951286989834,
          1.7059394077087338,
          -2.1575183351443314,
          -0.27228169067396957,
          -0.8222735398598566,
          -0.37270733125911626,
          1.1324930909504078,
          0.7237131916502513,
          -0.10093454511360091,
          -0.8344711780529005,
          0.7892018039744497,
          -1.1768864396408643,
          0.5384395360501053,
          -0.8716745319027909,
          -0.964495783243021,
          -0.9510926758024836,
          -1.5899922140297353,
          0.03947906137045445,
          -0.9040569632222731,
          1.2573838148185117,
          0.032368660363067826,
          0.00979716311962585,
          0.30189925388456806,
          -0.06836893783625991,
          -1.4830238059635945,
          2.8260226754504756,
          -1.7904184283143372,
          -0.19147572914500896,
          1.1334222316178524,
          0.07218388266810098,
          -0.6706938157194935,
          -0.787369287349699,
          0.33772976898905305,
          0.45289164094474577,
          -0.6386250109337946,
          -0.01696530433971158,
          0.11800755838890979,
          1.0935731165217104,
          -1.2066163009956685,
          1.7307802442979323,
          -0.694055702203546,
          -1.0787243593311957,
          0.8449859793236317,
          0.08114505951215607,
          0.48200938196228577,
          -0.30418199598000517,
          0.1107989331602753,
          -0.34506692295258384,
          1.4772323028116827,
          0.8897338055409254,
          -1.2970117479838066,
          -1.7401977008647422,
          0.6947525057730943,
          1.4168585094952768,
          -0.8682925467951569,
          0.14803006581044606,
          1.1113961368502225,
          0.45044683161909055,
          0.2387529698111168,
          0.07871816418155476,
          -0.8585228972180073,
          0.09299148979946799,
          0.5575922241457948,
          -0.015901030931749834,
          1.1928407027845176,
          0.1500119442760574,
          0.23881238689730214,
          1.5102065154067492,
          0.7186660940127791,
          0.6819436465246247,
          -1.5507226893448807,
          1.1033345618082833,
          1.183767610324313,
          0.8523275001657111,
          -0.8621163691043606,
          0.7145103720522716,
          1.2125641299415693,
          -1.3289064131476391,
          -0.32259983388745134,
          0.3280844786260632,
          0.20408059488367758,
          0.552476891498723,
          -0.12992629702660555,
          -0.7248427516851038,
          0.6576417736756259,
          1.4753555270758771,
          -0.41695017859014644,
          -0.7185905266648366,
          0.5863817062130624,
          -0.38997417451705346,
          0.6884888981305322
         ]
        }
       ],
       "layout": {
        "legend": {
         "bgcolor": "#F5F6F9",
         "font": {
          "color": "#4D5663"
         }
        },
        "paper_bgcolor": "#F5F6F9",
        "plot_bgcolor": "#F5F6F9",
        "template": {
         "data": {
          "bar": [
           {
            "error_x": {
             "color": "#2a3f5f"
            },
            "error_y": {
             "color": "#2a3f5f"
            },
            "marker": {
             "line": {
              "color": "#E5ECF6",
              "width": 0.5
             }
            },
            "type": "bar"
           }
          ],
          "barpolar": [
           {
            "marker": {
             "line": {
              "color": "#E5ECF6",
              "width": 0.5
             }
            },
            "type": "barpolar"
           }
          ],
          "carpet": [
           {
            "aaxis": {
             "endlinecolor": "#2a3f5f",
             "gridcolor": "white",
             "linecolor": "white",
             "minorgridcolor": "white",
             "startlinecolor": "#2a3f5f"
            },
            "baxis": {
             "endlinecolor": "#2a3f5f",
             "gridcolor": "white",
             "linecolor": "white",
             "minorgridcolor": "white",
             "startlinecolor": "#2a3f5f"
            },
            "type": "carpet"
           }
          ],
          "choropleth": [
           {
            "colorbar": {
             "outlinewidth": 0,
             "ticks": ""
            },
            "type": "choropleth"
           }
          ],
          "contour": [
           {
            "colorbar": {
             "outlinewidth": 0,
             "ticks": ""
            },
            "colorscale": [
             [
              0,
              "#0d0887"
             ],
             [
              0.1111111111111111,
              "#46039f"
             ],
             [
              0.2222222222222222,
              "#7201a8"
             ],
             [
              0.3333333333333333,
              "#9c179e"
             ],
             [
              0.4444444444444444,
              "#bd3786"
             ],
             [
              0.5555555555555556,
              "#d8576b"
             ],
             [
              0.6666666666666666,
              "#ed7953"
             ],
             [
              0.7777777777777778,
              "#fb9f3a"
             ],
             [
              0.8888888888888888,
              "#fdca26"
             ],
             [
              1,
              "#f0f921"
             ]
            ],
            "type": "contour"
           }
          ],
          "contourcarpet": [
           {
            "colorbar": {
             "outlinewidth": 0,
             "ticks": ""
            },
            "type": "contourcarpet"
           }
          ],
          "heatmap": [
           {
            "colorbar": {
             "outlinewidth": 0,
             "ticks": ""
            },
            "colorscale": [
             [
              0,
              "#0d0887"
             ],
             [
              0.1111111111111111,
              "#46039f"
             ],
             [
              0.2222222222222222,
              "#7201a8"
             ],
             [
              0.3333333333333333,
              "#9c179e"
             ],
             [
              0.4444444444444444,
              "#bd3786"
             ],
             [
              0.5555555555555556,
              "#d8576b"
             ],
             [
              0.6666666666666666,
              "#ed7953"
             ],
             [
              0.7777777777777778,
              "#fb9f3a"
             ],
             [
              0.8888888888888888,
              "#fdca26"
             ],
             [
              1,
              "#f0f921"
             ]
            ],
            "type": "heatmap"
           }
          ],
          "heatmapgl": [
           {
            "colorbar": {
             "outlinewidth": 0,
             "ticks": ""
            },
            "colorscale": [
             [
              0,
              "#0d0887"
             ],
             [
              0.1111111111111111,
              "#46039f"
             ],
             [
              0.2222222222222222,
              "#7201a8"
             ],
             [
              0.3333333333333333,
              "#9c179e"
             ],
             [
              0.4444444444444444,
              "#bd3786"
             ],
             [
              0.5555555555555556,
              "#d8576b"
             ],
             [
              0.6666666666666666,
              "#ed7953"
             ],
             [
              0.7777777777777778,
              "#fb9f3a"
             ],
             [
              0.8888888888888888,
              "#fdca26"
             ],
             [
              1,
              "#f0f921"
             ]
            ],
            "type": "heatmapgl"
           }
          ],
          "histogram": [
           {
            "marker": {
             "colorbar": {
              "outlinewidth": 0,
              "ticks": ""
             }
            },
            "type": "histogram"
           }
          ],
          "histogram2d": [
           {
            "colorbar": {
             "outlinewidth": 0,
             "ticks": ""
            },
            "colorscale": [
             [
              0,
              "#0d0887"
             ],
             [
              0.1111111111111111,
              "#46039f"
             ],
             [
              0.2222222222222222,
              "#7201a8"
             ],
             [
              0.3333333333333333,
              "#9c179e"
             ],
             [
              0.4444444444444444,
              "#bd3786"
             ],
             [
              0.5555555555555556,
              "#d8576b"
             ],
             [
              0.6666666666666666,
              "#ed7953"
             ],
             [
              0.7777777777777778,
              "#fb9f3a"
             ],
             [
              0.8888888888888888,
              "#fdca26"
             ],
             [
              1,
              "#f0f921"
             ]
            ],
            "type": "histogram2d"
           }
          ],
          "histogram2dcontour": [
           {
            "colorbar": {
             "outlinewidth": 0,
             "ticks": ""
            },
            "colorscale": [
             [
              0,
              "#0d0887"
             ],
             [
              0.1111111111111111,
              "#46039f"
             ],
             [
              0.2222222222222222,
              "#7201a8"
             ],
             [
              0.3333333333333333,
              "#9c179e"
             ],
             [
              0.4444444444444444,
              "#bd3786"
             ],
             [
              0.5555555555555556,
              "#d8576b"
             ],
             [
              0.6666666666666666,
              "#ed7953"
             ],
             [
              0.7777777777777778,
              "#fb9f3a"
             ],
             [
              0.8888888888888888,
              "#fdca26"
             ],
             [
              1,
              "#f0f921"
             ]
            ],
            "type": "histogram2dcontour"
           }
          ],
          "mesh3d": [
           {
            "colorbar": {
             "outlinewidth": 0,
             "ticks": ""
            },
            "type": "mesh3d"
           }
          ],
          "parcoords": [
           {
            "line": {
             "colorbar": {
              "outlinewidth": 0,
              "ticks": ""
             }
            },
            "type": "parcoords"
           }
          ],
          "pie": [
           {
            "automargin": true,
            "type": "pie"
           }
          ],
          "scatter": [
           {
            "marker": {
             "colorbar": {
              "outlinewidth": 0,
              "ticks": ""
             }
            },
            "type": "scatter"
           }
          ],
          "scatter3d": [
           {
            "line": {
             "colorbar": {
              "outlinewidth": 0,
              "ticks": ""
             }
            },
            "marker": {
             "colorbar": {
              "outlinewidth": 0,
              "ticks": ""
             }
            },
            "type": "scatter3d"
           }
          ],
          "scattercarpet": [
           {
            "marker": {
             "colorbar": {
              "outlinewidth": 0,
              "ticks": ""
             }
            },
            "type": "scattercarpet"
           }
          ],
          "scattergeo": [
           {
            "marker": {
             "colorbar": {
              "outlinewidth": 0,
              "ticks": ""
             }
            },
            "type": "scattergeo"
           }
          ],
          "scattergl": [
           {
            "marker": {
             "colorbar": {
              "outlinewidth": 0,
              "ticks": ""
             }
            },
            "type": "scattergl"
           }
          ],
          "scattermapbox": [
           {
            "marker": {
             "colorbar": {
              "outlinewidth": 0,
              "ticks": ""
             }
            },
            "type": "scattermapbox"
           }
          ],
          "scatterpolar": [
           {
            "marker": {
             "colorbar": {
              "outlinewidth": 0,
              "ticks": ""
             }
            },
            "type": "scatterpolar"
           }
          ],
          "scatterpolargl": [
           {
            "marker": {
             "colorbar": {
              "outlinewidth": 0,
              "ticks": ""
             }
            },
            "type": "scatterpolargl"
           }
          ],
          "scatterternary": [
           {
            "marker": {
             "colorbar": {
              "outlinewidth": 0,
              "ticks": ""
             }
            },
            "type": "scatterternary"
           }
          ],
          "surface": [
           {
            "colorbar": {
             "outlinewidth": 0,
             "ticks": ""
            },
            "colorscale": [
             [
              0,
              "#0d0887"
             ],
             [
              0.1111111111111111,
              "#46039f"
             ],
             [
              0.2222222222222222,
              "#7201a8"
             ],
             [
              0.3333333333333333,
              "#9c179e"
             ],
             [
              0.4444444444444444,
              "#bd3786"
             ],
             [
              0.5555555555555556,
              "#d8576b"
             ],
             [
              0.6666666666666666,
              "#ed7953"
             ],
             [
              0.7777777777777778,
              "#fb9f3a"
             ],
             [
              0.8888888888888888,
              "#fdca26"
             ],
             [
              1,
              "#f0f921"
             ]
            ],
            "type": "surface"
           }
          ],
          "table": [
           {
            "cells": {
             "fill": {
              "color": "#EBF0F8"
             },
             "line": {
              "color": "white"
             }
            },
            "header": {
             "fill": {
              "color": "#C8D4E3"
             },
             "line": {
              "color": "white"
             }
            },
            "type": "table"
           }
          ]
         },
         "layout": {
          "annotationdefaults": {
           "arrowcolor": "#2a3f5f",
           "arrowhead": 0,
           "arrowwidth": 1
          },
          "autotypenumbers": "strict",
          "coloraxis": {
           "colorbar": {
            "outlinewidth": 0,
            "ticks": ""
           }
          },
          "colorscale": {
           "diverging": [
            [
             0,
             "#8e0152"
            ],
            [
             0.1,
             "#c51b7d"
            ],
            [
             0.2,
             "#de77ae"
            ],
            [
             0.3,
             "#f1b6da"
            ],
            [
             0.4,
             "#fde0ef"
            ],
            [
             0.5,
             "#f7f7f7"
            ],
            [
             0.6,
             "#e6f5d0"
            ],
            [
             0.7,
             "#b8e186"
            ],
            [
             0.8,
             "#7fbc41"
            ],
            [
             0.9,
             "#4d9221"
            ],
            [
             1,
             "#276419"
            ]
           ],
           "sequential": [
            [
             0,
             "#0d0887"
            ],
            [
             0.1111111111111111,
             "#46039f"
            ],
            [
             0.2222222222222222,
             "#7201a8"
            ],
            [
             0.3333333333333333,
             "#9c179e"
            ],
            [
             0.4444444444444444,
             "#bd3786"
            ],
            [
             0.5555555555555556,
             "#d8576b"
            ],
            [
             0.6666666666666666,
             "#ed7953"
            ],
            [
             0.7777777777777778,
             "#fb9f3a"
            ],
            [
             0.8888888888888888,
             "#fdca26"
            ],
            [
             1,
             "#f0f921"
            ]
           ],
           "sequentialminus": [
            [
             0,
             "#0d0887"
            ],
            [
             0.1111111111111111,
             "#46039f"
            ],
            [
             0.2222222222222222,
             "#7201a8"
            ],
            [
             0.3333333333333333,
             "#9c179e"
            ],
            [
             0.4444444444444444,
             "#bd3786"
            ],
            [
             0.5555555555555556,
             "#d8576b"
            ],
            [
             0.6666666666666666,
             "#ed7953"
            ],
            [
             0.7777777777777778,
             "#fb9f3a"
            ],
            [
             0.8888888888888888,
             "#fdca26"
            ],
            [
             1,
             "#f0f921"
            ]
           ]
          },
          "colorway": [
           "#636efa",
           "#EF553B",
           "#00cc96",
           "#ab63fa",
           "#FFA15A",
           "#19d3f3",
           "#FF6692",
           "#B6E880",
           "#FF97FF",
           "#FECB52"
          ],
          "font": {
           "color": "#2a3f5f"
          },
          "geo": {
           "bgcolor": "white",
           "lakecolor": "white",
           "landcolor": "#E5ECF6",
           "showlakes": true,
           "showland": true,
           "subunitcolor": "white"
          },
          "hoverlabel": {
           "align": "left"
          },
          "hovermode": "closest",
          "mapbox": {
           "style": "light"
          },
          "paper_bgcolor": "white",
          "plot_bgcolor": "#E5ECF6",
          "polar": {
           "angularaxis": {
            "gridcolor": "white",
            "linecolor": "white",
            "ticks": ""
           },
           "bgcolor": "#E5ECF6",
           "radialaxis": {
            "gridcolor": "white",
            "linecolor": "white",
            "ticks": ""
           }
          },
          "scene": {
           "xaxis": {
            "backgroundcolor": "#E5ECF6",
            "gridcolor": "white",
            "gridwidth": 2,
            "linecolor": "white",
            "showbackground": true,
            "ticks": "",
            "zerolinecolor": "white"
           },
           "yaxis": {
            "backgroundcolor": "#E5ECF6",
            "gridcolor": "white",
            "gridwidth": 2,
            "linecolor": "white",
            "showbackground": true,
            "ticks": "",
            "zerolinecolor": "white"
           },
           "zaxis": {
            "backgroundcolor": "#E5ECF6",
            "gridcolor": "white",
            "gridwidth": 2,
            "linecolor": "white",
            "showbackground": true,
            "ticks": "",
            "zerolinecolor": "white"
           }
          },
          "shapedefaults": {
           "line": {
            "color": "#2a3f5f"
           }
          },
          "ternary": {
           "aaxis": {
            "gridcolor": "white",
            "linecolor": "white",
            "ticks": ""
           },
           "baxis": {
            "gridcolor": "white",
            "linecolor": "white",
            "ticks": ""
           },
           "bgcolor": "#E5ECF6",
           "caxis": {
            "gridcolor": "white",
            "linecolor": "white",
            "ticks": ""
           }
          },
          "title": {
           "x": 0.05
          },
          "xaxis": {
           "automargin": true,
           "gridcolor": "white",
           "linecolor": "white",
           "ticks": "",
           "title": {
            "standoff": 15
           },
           "zerolinecolor": "white",
           "zerolinewidth": 2
          },
          "yaxis": {
           "automargin": true,
           "gridcolor": "white",
           "linecolor": "white",
           "ticks": "",
           "title": {
            "standoff": 15
           },
           "zerolinecolor": "white",
           "zerolinewidth": 2
          }
         }
        },
        "title": {
         "font": {
          "color": "#4D5663"
         }
        },
        "xaxis": {
         "gridcolor": "#E1E5ED",
         "showgrid": true,
         "tickfont": {
          "color": "#4D5663"
         },
         "title": {
          "font": {
           "color": "#4D5663"
          },
          "text": ""
         },
         "zerolinecolor": "#E1E5ED"
        },
        "yaxis": {
         "gridcolor": "#E1E5ED",
         "showgrid": true,
         "tickfont": {
          "color": "#4D5663"
         },
         "title": {
          "font": {
           "color": "#4D5663"
          },
          "text": ""
         },
         "zerolinecolor": "#E1E5ED"
        }
       }
      },
      "text/html": [
       "<div>                            <div id=\"f128b4e1-f441-4efa-9af5-46cd62642fb9\" class=\"plotly-graph-div\" style=\"height:525px; width:100%;\"></div>            <script type=\"text/javascript\">                require([\"plotly\"], function(Plotly) {                    window.PLOTLYENV=window.PLOTLYENV || {};\n",
       "                    window.PLOTLYENV.BASE_URL='https://plot.ly';                                    if (document.getElementById(\"f128b4e1-f441-4efa-9af5-46cd62642fb9\")) {                    Plotly.newPlot(                        \"f128b4e1-f441-4efa-9af5-46cd62642fb9\",                        [{\"boxpoints\": false, \"line\": {\"width\": 1.3}, \"marker\": {\"color\": \"rgba(255, 153, 51, 1.0)\"}, \"name\": \"A\", \"orientation\": \"v\", \"type\": \"box\", \"y\": [-0.6707154253506642, -1.9500262411133285, 0.47330149330972787, 0.3220821058806944, 0.20805808808316156, -0.35109658451676334, 0.6962852968692117, -0.10784531902689991, 1.5086544793457553, -1.340268292912184, 0.7644344119612071, -0.26780932113299405, 0.1878224556979502, 1.171246085614569, 0.1851093548441989, 0.2823252049199303, 0.6932277961556744, -0.6769518643083233, -0.19354333756548917, 2.1363357457530587, 0.040971497941110074, -1.7778136621759986, 3.13702519812112, 1.5018405020580647, -1.6127044945937676, -0.03130235727745821, 0.09640237026125606, -0.5360328057285065, 0.8757207392735993, 0.28188882285582134, -0.6267644208076626, 0.522160591589084, 0.7117289724168866, -0.6437782301720258, 0.2712843372224381, 0.6033468190197396, 0.8021238883637443, -0.7702350535759206, -1.6829360015664283, 0.6731359493896302, -1.0248199572464276, 0.8986669891621416, -0.3657217093686965, -0.19140225513344197, -0.027425781658837873, -0.4486319931274092, -1.2072169461605697, 1.1119462802015492, 0.7169013061838068, 1.092554147709969, 0.3877181592512865, -0.5077243469664451, 0.40449061501060224, 0.22132603560676464, 0.5266282050852957, -0.3950309560310908, -0.005066618020162976, 0.5397516109289167, -0.24187446680324345, -2.4180231477424297, -0.1118720542279614, 0.7891934411928745, -1.4595096578166131, -1.6641566424292111, 0.4641685548997316, 0.2039478823314363, 0.033767471863369765, -1.0739728733906564, -1.8950403385455485, 0.33690673212261363, -0.34158656775274315, -0.1877609055445049, -1.3877147132450043, -0.5621215400627225, -0.25322924851168455, 1.8159900315694717, -0.34533226510827736, 1.0356949538332458, 1.2021841404538256, -0.3927476513776488, 0.837235412643784, -1.6234430720105062, 1.243235860033378, 0.16800048711867446, 0.4391194684694063, -0.27275232834051005, 1.8786432214985485, -1.036152949055604, -0.8484408810170442, 0.3225952169549622, 1.866756994721403, -0.5069716474593075, 0.569264356614395, 0.28876108330768585, -0.14817903275171626, -1.863044870763895, 1.8120988870687478, 0.18420897831186897, 0.16052440170636006, 2.5581870205130657]}, {\"boxpoints\": false, \"line\": {\"width\": 1.3}, \"marker\": {\"color\": \"rgba(55, 128, 191, 1.0)\"}, \"name\": \"B\", \"orientation\": \"v\", \"type\": \"box\", \"y\": [2.1058842826318607, -2.072359511310542, -0.3416009005606861, -0.7284799185898405, -1.2504681420191213, 0.36929949318306843, 0.30650633934084254, -0.7822857645842319, -0.40249307975607373, -0.4894825593030477, -2.0423146065028983, 0.9872944141587103, -1.0569817425686823, -1.6293020589481364, -0.3653355683975144, 0.34908380245013, -0.9930184191231534, -1.5459068965500842, -0.4303553133615934, 0.6436591668209447, 0.8434328960587413, -0.8293341375988842, -0.17665403988967887, 0.05571735134683879, 0.7712899419374236, 1.8392243290245631, -0.02887245228532163, -0.27213303990882726, -0.9293654935733069, -0.1717099056031576, 0.10629681858599707, -0.15554719806862996, -0.9964845946839231, 0.6092294141232871, 0.674977835522611, 1.1574969173759908, -0.0904536430233091, 1.340391985298189, 0.7013388590982971, 0.5803876294942691, -0.4777178856989432, -0.4783100209870064, -0.23670952507275758, -1.1222153054155775, -0.10985297273626017, -0.08838416929997245, 2.705075337277412, -1.353083311770451, -0.15123585689753194, -0.5079059934573342, 0.214658887024363, 0.0962629830423297, 1.2226846938925608, -1.3849716686465248, 2.47057224290792, -0.23622331664434187, -0.01386735927959883, 0.3146974131045074, -1.611843264935958, 0.6219892118864861, -0.25545298334001854, -0.20578715948195975, 0.5026081049701817, -0.05039893194269115, -1.451888593332071, -1.6684912330390367, 0.09839970157327095, -1.1912211957943615, 0.35544779363433393, 0.6886730916876131, 0.8392771480070627, 1.6715975529189262, 0.2645710679527483, 1.3357616401053343, -1.0479861237285117, -0.2708393114170538, -0.8665667773800374, 1.3146913254236081, 2.557788297919866, 0.12340258729703828, 1.3972074095700282, -1.400939946555493, 1.050979978143761, 0.19436735904851585, -0.20423934437480293, 1.707269574355147, -1.1200963283863776, -1.8289426096328703, -0.6902735932611638, 0.1731486516107255, -1.1238930656827142, -0.26769297907693507, -1.2963287663260568, -0.4381458613461422, 0.4622567290341809, 0.564315818327561, -0.15683622731556487, -1.906840982387614, 0.5078497775235092, -0.5281224643869874]}, {\"boxpoints\": false, \"line\": {\"width\": 1.3}, \"marker\": {\"color\": \"rgba(50, 171, 96, 1.0)\"}, \"name\": \"C\", \"orientation\": \"v\", \"type\": \"box\", \"y\": [1.537971522799382, 1.9439769437729302, -0.8780238161615508, 0.4124968127293803, 0.07466725366935067, -0.5539178888964471, 0.00817695387702504, -1.2550225340364434, -0.5412576554328449, 0.24969679728174116, 0.871816558580187, 1.020279703993287, 0.011320889793238592, -1.586461887104245, -1.8968158388241263, -0.43386820768173306, 2.198788237723471, -0.3959962886467039, 1.1110544950169268, -0.19278306304304224, 0.4744246868857774, 0.007933739243698234, 0.48047374019415817, 0.08804042706014781, -0.10125114913655739, 0.027461063717202035, 0.10859744350420796, 0.8310009965841483, 0.42059356089409355, 0.48924415850726755, 1.375976816229858, 0.9838719678559592, -1.9232567317746518, 1.0578963690677599, -0.8981540314035965, -0.9759356019915912, 1.013960747882589, 2.4638321283328626, 0.079207450843994, 0.20774520694751952, -0.33314912365440885, -0.6502008769080283, -0.718880191013, -1.1968027205800376, 0.5236593226261017, -0.3941772676509596, -0.37461732273636805, -0.3876617327812021, -0.39807203644981676, 2.328221185625653, -0.11577609704476109, -1.9346430989777617, -0.17173664488861562, 0.7799954583712938, 0.44781031095378643, -1.0944610854825378, -1.7955178763191209, -0.1338640634538081, -0.6082864970908706, -0.28877383730717926, -0.39777928940682455, -0.8379345405189532, 1.8496783025891144, -0.40858164000605113, -0.17689760919626152, 1.5795155037979336, 1.5777090111862964, 0.36523953730768677, -1.4845023123428644, 1.2766513514043718, 0.6846277469502795, 0.5605741333739809, -0.7638965721430718, 0.15265752408346378, 0.2597804224859079, 0.10295420125442119, 0.9404406111536191, 0.3235412049094401, -0.6620207833327258, 0.19073897294613015, 0.22247498881272565, -1.346912502160558, 0.710632951197657, -0.7850388641380739, -0.5622713079810008, 0.7229962130587485, -0.7339866177665963, -0.9911212919749353, -1.496459383599991, 0.5426852207290529, 0.43305187586703425, 0.4258944990145214, 1.0902255833182126, 0.22734227626973183, 0.38723354327631565, 0.3713766651381148, 0.2352304988266529, 0.16145128560357638, 0.11645425996929985, 1.7896195966317734]}, {\"boxpoints\": false, \"line\": {\"width\": 1.3}, \"marker\": {\"color\": \"rgba(128, 0, 128, 1.0)\"}, \"name\": \"D\", \"orientation\": \"v\", \"type\": \"box\", \"y\": [0.3678171232589625, -0.6123213627371522, -0.2890912740793197, 1.4416062794151767, -0.031007877389082762, 0.21066867994888752, -0.8449498446329224, 0.8394801074054848, 1.1220616783066, 0.7414951286989834, 1.7059394077087338, -2.1575183351443314, -0.27228169067396957, -0.8222735398598566, -0.37270733125911626, 1.1324930909504078, 0.7237131916502513, -0.10093454511360091, -0.8344711780529005, 0.7892018039744497, -1.1768864396408643, 0.5384395360501053, -0.8716745319027909, -0.964495783243021, -0.9510926758024836, -1.5899922140297353, 0.03947906137045445, -0.9040569632222731, 1.2573838148185117, 0.032368660363067826, 0.00979716311962585, 0.30189925388456806, -0.06836893783625991, -1.4830238059635945, 2.8260226754504756, -1.7904184283143372, -0.19147572914500896, 1.1334222316178524, 0.07218388266810098, -0.6706938157194935, -0.787369287349699, 0.33772976898905305, 0.45289164094474577, -0.6386250109337946, -0.01696530433971158, 0.11800755838890979, 1.0935731165217104, -1.2066163009956685, 1.7307802442979323, -0.694055702203546, -1.0787243593311957, 0.8449859793236317, 0.08114505951215607, 0.48200938196228577, -0.30418199598000517, 0.1107989331602753, -0.34506692295258384, 1.4772323028116827, 0.8897338055409254, -1.2970117479838066, -1.7401977008647422, 0.6947525057730943, 1.4168585094952768, -0.8682925467951569, 0.14803006581044606, 1.1113961368502225, 0.45044683161909055, 0.2387529698111168, 0.07871816418155476, -0.8585228972180073, 0.09299148979946799, 0.5575922241457948, -0.015901030931749834, 1.1928407027845176, 0.1500119442760574, 0.23881238689730214, 1.5102065154067492, 0.7186660940127791, 0.6819436465246247, -1.5507226893448807, 1.1033345618082833, 1.183767610324313, 0.8523275001657111, -0.8621163691043606, 0.7145103720522716, 1.2125641299415693, -1.3289064131476391, -0.32259983388745134, 0.3280844786260632, 0.20408059488367758, 0.552476891498723, -0.12992629702660555, -0.7248427516851038, 0.6576417736756259, 1.4753555270758771, -0.41695017859014644, -0.7185905266648366, 0.5863817062130624, -0.38997417451705346, 0.6884888981305322]}],                        {\"legend\": {\"bgcolor\": \"#F5F6F9\", \"font\": {\"color\": \"#4D5663\"}}, \"paper_bgcolor\": \"#F5F6F9\", \"plot_bgcolor\": \"#F5F6F9\", \"template\": {\"data\": {\"bar\": [{\"error_x\": {\"color\": \"#2a3f5f\"}, \"error_y\": {\"color\": \"#2a3f5f\"}, \"marker\": {\"line\": {\"color\": \"#E5ECF6\", \"width\": 0.5}}, \"type\": \"bar\"}], \"barpolar\": [{\"marker\": {\"line\": {\"color\": \"#E5ECF6\", \"width\": 0.5}}, \"type\": \"barpolar\"}], \"carpet\": [{\"aaxis\": {\"endlinecolor\": \"#2a3f5f\", \"gridcolor\": \"white\", \"linecolor\": \"white\", \"minorgridcolor\": \"white\", \"startlinecolor\": \"#2a3f5f\"}, \"baxis\": {\"endlinecolor\": \"#2a3f5f\", \"gridcolor\": \"white\", \"linecolor\": \"white\", \"minorgridcolor\": \"white\", \"startlinecolor\": \"#2a3f5f\"}, \"type\": \"carpet\"}], \"choropleth\": [{\"colorbar\": {\"outlinewidth\": 0, \"ticks\": \"\"}, \"type\": \"choropleth\"}], \"contour\": [{\"colorbar\": {\"outlinewidth\": 0, \"ticks\": \"\"}, \"colorscale\": [[0.0, \"#0d0887\"], [0.1111111111111111, \"#46039f\"], [0.2222222222222222, \"#7201a8\"], [0.3333333333333333, \"#9c179e\"], [0.4444444444444444, \"#bd3786\"], [0.5555555555555556, \"#d8576b\"], [0.6666666666666666, \"#ed7953\"], [0.7777777777777778, \"#fb9f3a\"], [0.8888888888888888, \"#fdca26\"], [1.0, \"#f0f921\"]], \"type\": \"contour\"}], \"contourcarpet\": [{\"colorbar\": {\"outlinewidth\": 0, \"ticks\": \"\"}, \"type\": \"contourcarpet\"}], \"heatmap\": [{\"colorbar\": {\"outlinewidth\": 0, \"ticks\": \"\"}, \"colorscale\": [[0.0, \"#0d0887\"], [0.1111111111111111, \"#46039f\"], [0.2222222222222222, \"#7201a8\"], [0.3333333333333333, \"#9c179e\"], [0.4444444444444444, \"#bd3786\"], [0.5555555555555556, \"#d8576b\"], [0.6666666666666666, \"#ed7953\"], [0.7777777777777778, \"#fb9f3a\"], [0.8888888888888888, \"#fdca26\"], [1.0, \"#f0f921\"]], \"type\": \"heatmap\"}], \"heatmapgl\": [{\"colorbar\": {\"outlinewidth\": 0, \"ticks\": \"\"}, \"colorscale\": [[0.0, \"#0d0887\"], [0.1111111111111111, \"#46039f\"], [0.2222222222222222, \"#7201a8\"], [0.3333333333333333, \"#9c179e\"], [0.4444444444444444, \"#bd3786\"], [0.5555555555555556, \"#d8576b\"], [0.6666666666666666, \"#ed7953\"], [0.7777777777777778, \"#fb9f3a\"], [0.8888888888888888, \"#fdca26\"], [1.0, \"#f0f921\"]], \"type\": \"heatmapgl\"}], \"histogram\": [{\"marker\": {\"colorbar\": {\"outlinewidth\": 0, \"ticks\": \"\"}}, \"type\": \"histogram\"}], \"histogram2d\": [{\"colorbar\": {\"outlinewidth\": 0, \"ticks\": \"\"}, \"colorscale\": [[0.0, \"#0d0887\"], [0.1111111111111111, \"#46039f\"], [0.2222222222222222, \"#7201a8\"], [0.3333333333333333, \"#9c179e\"], [0.4444444444444444, \"#bd3786\"], [0.5555555555555556, \"#d8576b\"], [0.6666666666666666, \"#ed7953\"], [0.7777777777777778, \"#fb9f3a\"], [0.8888888888888888, \"#fdca26\"], [1.0, \"#f0f921\"]], \"type\": \"histogram2d\"}], \"histogram2dcontour\": [{\"colorbar\": {\"outlinewidth\": 0, \"ticks\": \"\"}, \"colorscale\": [[0.0, \"#0d0887\"], [0.1111111111111111, \"#46039f\"], [0.2222222222222222, \"#7201a8\"], [0.3333333333333333, \"#9c179e\"], [0.4444444444444444, \"#bd3786\"], [0.5555555555555556, \"#d8576b\"], [0.6666666666666666, \"#ed7953\"], [0.7777777777777778, \"#fb9f3a\"], [0.8888888888888888, \"#fdca26\"], [1.0, \"#f0f921\"]], \"type\": \"histogram2dcontour\"}], \"mesh3d\": [{\"colorbar\": {\"outlinewidth\": 0, \"ticks\": \"\"}, \"type\": \"mesh3d\"}], \"parcoords\": [{\"line\": {\"colorbar\": {\"outlinewidth\": 0, \"ticks\": \"\"}}, \"type\": \"parcoords\"}], \"pie\": [{\"automargin\": true, \"type\": \"pie\"}], \"scatter\": [{\"marker\": {\"colorbar\": {\"outlinewidth\": 0, \"ticks\": \"\"}}, \"type\": \"scatter\"}], \"scatter3d\": [{\"line\": {\"colorbar\": {\"outlinewidth\": 0, \"ticks\": \"\"}}, \"marker\": {\"colorbar\": {\"outlinewidth\": 0, \"ticks\": \"\"}}, \"type\": \"scatter3d\"}], \"scattercarpet\": [{\"marker\": {\"colorbar\": {\"outlinewidth\": 0, \"ticks\": \"\"}}, \"type\": \"scattercarpet\"}], \"scattergeo\": [{\"marker\": {\"colorbar\": {\"outlinewidth\": 0, \"ticks\": \"\"}}, \"type\": \"scattergeo\"}], \"scattergl\": [{\"marker\": {\"colorbar\": {\"outlinewidth\": 0, \"ticks\": \"\"}}, \"type\": \"scattergl\"}], \"scattermapbox\": [{\"marker\": {\"colorbar\": {\"outlinewidth\": 0, \"ticks\": \"\"}}, \"type\": \"scattermapbox\"}], \"scatterpolar\": [{\"marker\": {\"colorbar\": {\"outlinewidth\": 0, \"ticks\": \"\"}}, \"type\": \"scatterpolar\"}], \"scatterpolargl\": [{\"marker\": {\"colorbar\": {\"outlinewidth\": 0, \"ticks\": \"\"}}, \"type\": \"scatterpolargl\"}], \"scatterternary\": [{\"marker\": {\"colorbar\": {\"outlinewidth\": 0, \"ticks\": \"\"}}, \"type\": \"scatterternary\"}], \"surface\": [{\"colorbar\": {\"outlinewidth\": 0, \"ticks\": \"\"}, \"colorscale\": [[0.0, \"#0d0887\"], [0.1111111111111111, \"#46039f\"], [0.2222222222222222, \"#7201a8\"], [0.3333333333333333, \"#9c179e\"], [0.4444444444444444, \"#bd3786\"], [0.5555555555555556, \"#d8576b\"], [0.6666666666666666, \"#ed7953\"], [0.7777777777777778, \"#fb9f3a\"], [0.8888888888888888, \"#fdca26\"], [1.0, \"#f0f921\"]], \"type\": \"surface\"}], \"table\": [{\"cells\": {\"fill\": {\"color\": \"#EBF0F8\"}, \"line\": {\"color\": \"white\"}}, \"header\": {\"fill\": {\"color\": \"#C8D4E3\"}, \"line\": {\"color\": \"white\"}}, \"type\": \"table\"}]}, \"layout\": {\"annotationdefaults\": {\"arrowcolor\": \"#2a3f5f\", \"arrowhead\": 0, \"arrowwidth\": 1}, \"autotypenumbers\": \"strict\", \"coloraxis\": {\"colorbar\": {\"outlinewidth\": 0, \"ticks\": \"\"}}, \"colorscale\": {\"diverging\": [[0, \"#8e0152\"], [0.1, \"#c51b7d\"], [0.2, \"#de77ae\"], [0.3, \"#f1b6da\"], [0.4, \"#fde0ef\"], [0.5, \"#f7f7f7\"], [0.6, \"#e6f5d0\"], [0.7, \"#b8e186\"], [0.8, \"#7fbc41\"], [0.9, \"#4d9221\"], [1, \"#276419\"]], \"sequential\": [[0.0, \"#0d0887\"], [0.1111111111111111, \"#46039f\"], [0.2222222222222222, \"#7201a8\"], [0.3333333333333333, \"#9c179e\"], [0.4444444444444444, \"#bd3786\"], [0.5555555555555556, \"#d8576b\"], [0.6666666666666666, \"#ed7953\"], [0.7777777777777778, \"#fb9f3a\"], [0.8888888888888888, \"#fdca26\"], [1.0, \"#f0f921\"]], \"sequentialminus\": [[0.0, \"#0d0887\"], [0.1111111111111111, \"#46039f\"], [0.2222222222222222, \"#7201a8\"], [0.3333333333333333, \"#9c179e\"], [0.4444444444444444, \"#bd3786\"], [0.5555555555555556, \"#d8576b\"], [0.6666666666666666, \"#ed7953\"], [0.7777777777777778, \"#fb9f3a\"], [0.8888888888888888, \"#fdca26\"], [1.0, \"#f0f921\"]]}, \"colorway\": [\"#636efa\", \"#EF553B\", \"#00cc96\", \"#ab63fa\", \"#FFA15A\", \"#19d3f3\", \"#FF6692\", \"#B6E880\", \"#FF97FF\", \"#FECB52\"], \"font\": {\"color\": \"#2a3f5f\"}, \"geo\": {\"bgcolor\": \"white\", \"lakecolor\": \"white\", \"landcolor\": \"#E5ECF6\", \"showlakes\": true, \"showland\": true, \"subunitcolor\": \"white\"}, \"hoverlabel\": {\"align\": \"left\"}, \"hovermode\": \"closest\", \"mapbox\": {\"style\": \"light\"}, \"paper_bgcolor\": \"white\", \"plot_bgcolor\": \"#E5ECF6\", \"polar\": {\"angularaxis\": {\"gridcolor\": \"white\", \"linecolor\": \"white\", \"ticks\": \"\"}, \"bgcolor\": \"#E5ECF6\", \"radialaxis\": {\"gridcolor\": \"white\", \"linecolor\": \"white\", \"ticks\": \"\"}}, \"scene\": {\"xaxis\": {\"backgroundcolor\": \"#E5ECF6\", \"gridcolor\": \"white\", \"gridwidth\": 2, \"linecolor\": \"white\", \"showbackground\": true, \"ticks\": \"\", \"zerolinecolor\": \"white\"}, \"yaxis\": {\"backgroundcolor\": \"#E5ECF6\", \"gridcolor\": \"white\", \"gridwidth\": 2, \"linecolor\": \"white\", \"showbackground\": true, \"ticks\": \"\", \"zerolinecolor\": \"white\"}, \"zaxis\": {\"backgroundcolor\": \"#E5ECF6\", \"gridcolor\": \"white\", \"gridwidth\": 2, \"linecolor\": \"white\", \"showbackground\": true, \"ticks\": \"\", \"zerolinecolor\": \"white\"}}, \"shapedefaults\": {\"line\": {\"color\": \"#2a3f5f\"}}, \"ternary\": {\"aaxis\": {\"gridcolor\": \"white\", \"linecolor\": \"white\", \"ticks\": \"\"}, \"baxis\": {\"gridcolor\": \"white\", \"linecolor\": \"white\", \"ticks\": \"\"}, \"bgcolor\": \"#E5ECF6\", \"caxis\": {\"gridcolor\": \"white\", \"linecolor\": \"white\", \"ticks\": \"\"}}, \"title\": {\"x\": 0.05}, \"xaxis\": {\"automargin\": true, \"gridcolor\": \"white\", \"linecolor\": \"white\", \"ticks\": \"\", \"title\": {\"standoff\": 15}, \"zerolinecolor\": \"white\", \"zerolinewidth\": 2}, \"yaxis\": {\"automargin\": true, \"gridcolor\": \"white\", \"linecolor\": \"white\", \"ticks\": \"\", \"title\": {\"standoff\": 15}, \"zerolinecolor\": \"white\", \"zerolinewidth\": 2}}}, \"title\": {\"font\": {\"color\": \"#4D5663\"}}, \"xaxis\": {\"gridcolor\": \"#E1E5ED\", \"showgrid\": true, \"tickfont\": {\"color\": \"#4D5663\"}, \"title\": {\"font\": {\"color\": \"#4D5663\"}, \"text\": \"\"}, \"zerolinecolor\": \"#E1E5ED\"}, \"yaxis\": {\"gridcolor\": \"#E1E5ED\", \"showgrid\": true, \"tickfont\": {\"color\": \"#4D5663\"}, \"title\": {\"font\": {\"color\": \"#4D5663\"}, \"text\": \"\"}, \"zerolinecolor\": \"#E1E5ED\"}},                        {\"showLink\": true, \"linkText\": \"Export to plot.ly\", \"plotlyServerURL\": \"https://plot.ly\", \"responsive\": true}                    ).then(function(){\n",
       "                            \n",
       "var gd = document.getElementById('f128b4e1-f441-4efa-9af5-46cd62642fb9');\n",
       "var x = new MutationObserver(function (mutations, observer) {{\n",
       "        var display = window.getComputedStyle(gd).display;\n",
       "        if (!display || display === 'none') {{\n",
       "            console.log([gd, 'removed!']);\n",
       "            Plotly.purge(gd);\n",
       "            observer.disconnect();\n",
       "        }}\n",
       "}});\n",
       "\n",
       "// Listen for the removal of the full notebook cells\n",
       "var notebookContainer = gd.closest('#notebook-container');\n",
       "if (notebookContainer) {{\n",
       "    x.observe(notebookContainer, {childList: true});\n",
       "}}\n",
       "\n",
       "// Listen for the clearing of the current output cell\n",
       "var outputEl = gd.closest('.output');\n",
       "if (outputEl) {{\n",
       "    x.observe(outputEl, {childList: true});\n",
       "}}\n",
       "\n",
       "                        })                };                });            </script>        </div>"
      ]
     },
     "metadata": {},
     "output_type": "display_data"
    }
   ],
   "source": [
    "df.iplot(kind='box')"
   ]
  },
  {
   "cell_type": "code",
   "execution_count": 23,
   "id": "2f4c0d19",
   "metadata": {},
   "outputs": [],
   "source": [
    "df3=pd.DataFrame({'x':[1,2,3,4,5],'y':[10,20,20,20,10],'z':[500,400,300,200,100]})"
   ]
  },
  {
   "cell_type": "code",
   "execution_count": 24,
   "id": "067a624c",
   "metadata": {},
   "outputs": [
    {
     "data": {
      "text/html": [
       "<div>\n",
       "<style scoped>\n",
       "    .dataframe tbody tr th:only-of-type {\n",
       "        vertical-align: middle;\n",
       "    }\n",
       "\n",
       "    .dataframe tbody tr th {\n",
       "        vertical-align: top;\n",
       "    }\n",
       "\n",
       "    .dataframe thead th {\n",
       "        text-align: right;\n",
       "    }\n",
       "</style>\n",
       "<table border=\"1\" class=\"dataframe\">\n",
       "  <thead>\n",
       "    <tr style=\"text-align: right;\">\n",
       "      <th></th>\n",
       "      <th>x</th>\n",
       "      <th>y</th>\n",
       "      <th>z</th>\n",
       "    </tr>\n",
       "  </thead>\n",
       "  <tbody>\n",
       "    <tr>\n",
       "      <th>0</th>\n",
       "      <td>1</td>\n",
       "      <td>10</td>\n",
       "      <td>500</td>\n",
       "    </tr>\n",
       "    <tr>\n",
       "      <th>1</th>\n",
       "      <td>2</td>\n",
       "      <td>20</td>\n",
       "      <td>400</td>\n",
       "    </tr>\n",
       "    <tr>\n",
       "      <th>2</th>\n",
       "      <td>3</td>\n",
       "      <td>20</td>\n",
       "      <td>300</td>\n",
       "    </tr>\n",
       "    <tr>\n",
       "      <th>3</th>\n",
       "      <td>4</td>\n",
       "      <td>20</td>\n",
       "      <td>200</td>\n",
       "    </tr>\n",
       "    <tr>\n",
       "      <th>4</th>\n",
       "      <td>5</td>\n",
       "      <td>10</td>\n",
       "      <td>100</td>\n",
       "    </tr>\n",
       "  </tbody>\n",
       "</table>\n",
       "</div>"
      ],
      "text/plain": [
       "   x   y    z\n",
       "0  1  10  500\n",
       "1  2  20  400\n",
       "2  3  20  300\n",
       "3  4  20  200\n",
       "4  5  10  100"
      ]
     },
     "execution_count": 24,
     "metadata": {},
     "output_type": "execute_result"
    }
   ],
   "source": [
    "df3\n",
    "#this is 3 dimensions of values or 3 variables. We can use a surface plot if we wanted to create a 3 dimensional surface plot\n",
    "#of this 3 variables"
   ]
  },
  {
   "cell_type": "code",
   "execution_count": 25,
   "id": "441976f6",
   "metadata": {},
   "outputs": [
    {
     "data": {
      "application/vnd.plotly.v1+json": {
       "config": {
        "linkText": "Export to plot.ly",
        "plotlyServerURL": "https://plot.ly",
        "showLink": true
       },
       "data": [
        {
         "colorscale": [
          [
           0,
           "rgb(255, 153, 51)"
          ],
          [
           0.1111111111111111,
           "rgb(55, 128, 191)"
          ],
          [
           0.2222222222222222,
           "rgb(50, 171, 96)"
          ],
          [
           0.3333333333333333,
           "rgb(128, 0, 128)"
          ],
          [
           0.4444444444444444,
           "rgb(219, 64, 82)"
          ],
          [
           0.5555555555555556,
           "rgb(0, 128, 128)"
          ],
          [
           0.6666666666666666,
           "rgb(255, 255, 51)"
          ],
          [
           0.7777777777777778,
           "rgb(128, 128, 0)"
          ],
          [
           0.8888888888888888,
           "rgb(251, 128, 114)"
          ],
          [
           1,
           "rgb(128, 177, 211)"
          ]
         ],
         "type": "surface",
         "x": [
          0,
          1,
          2,
          3,
          4
         ],
         "y": [
          "x",
          "y",
          "z"
         ],
         "z": [
          [
           1,
           2,
           3,
           4,
           5
          ],
          [
           10,
           20,
           20,
           20,
           10
          ],
          [
           500,
           400,
           300,
           200,
           100
          ]
         ]
        }
       ],
       "layout": {
        "legend": {
         "bgcolor": "#F5F6F9",
         "font": {
          "color": "#4D5663"
         }
        },
        "paper_bgcolor": "#F5F6F9",
        "plot_bgcolor": "#F5F6F9",
        "template": {
         "data": {
          "bar": [
           {
            "error_x": {
             "color": "#2a3f5f"
            },
            "error_y": {
             "color": "#2a3f5f"
            },
            "marker": {
             "line": {
              "color": "#E5ECF6",
              "width": 0.5
             }
            },
            "type": "bar"
           }
          ],
          "barpolar": [
           {
            "marker": {
             "line": {
              "color": "#E5ECF6",
              "width": 0.5
             }
            },
            "type": "barpolar"
           }
          ],
          "carpet": [
           {
            "aaxis": {
             "endlinecolor": "#2a3f5f",
             "gridcolor": "white",
             "linecolor": "white",
             "minorgridcolor": "white",
             "startlinecolor": "#2a3f5f"
            },
            "baxis": {
             "endlinecolor": "#2a3f5f",
             "gridcolor": "white",
             "linecolor": "white",
             "minorgridcolor": "white",
             "startlinecolor": "#2a3f5f"
            },
            "type": "carpet"
           }
          ],
          "choropleth": [
           {
            "colorbar": {
             "outlinewidth": 0,
             "ticks": ""
            },
            "type": "choropleth"
           }
          ],
          "contour": [
           {
            "colorbar": {
             "outlinewidth": 0,
             "ticks": ""
            },
            "colorscale": [
             [
              0,
              "#0d0887"
             ],
             [
              0.1111111111111111,
              "#46039f"
             ],
             [
              0.2222222222222222,
              "#7201a8"
             ],
             [
              0.3333333333333333,
              "#9c179e"
             ],
             [
              0.4444444444444444,
              "#bd3786"
             ],
             [
              0.5555555555555556,
              "#d8576b"
             ],
             [
              0.6666666666666666,
              "#ed7953"
             ],
             [
              0.7777777777777778,
              "#fb9f3a"
             ],
             [
              0.8888888888888888,
              "#fdca26"
             ],
             [
              1,
              "#f0f921"
             ]
            ],
            "type": "contour"
           }
          ],
          "contourcarpet": [
           {
            "colorbar": {
             "outlinewidth": 0,
             "ticks": ""
            },
            "type": "contourcarpet"
           }
          ],
          "heatmap": [
           {
            "colorbar": {
             "outlinewidth": 0,
             "ticks": ""
            },
            "colorscale": [
             [
              0,
              "#0d0887"
             ],
             [
              0.1111111111111111,
              "#46039f"
             ],
             [
              0.2222222222222222,
              "#7201a8"
             ],
             [
              0.3333333333333333,
              "#9c179e"
             ],
             [
              0.4444444444444444,
              "#bd3786"
             ],
             [
              0.5555555555555556,
              "#d8576b"
             ],
             [
              0.6666666666666666,
              "#ed7953"
             ],
             [
              0.7777777777777778,
              "#fb9f3a"
             ],
             [
              0.8888888888888888,
              "#fdca26"
             ],
             [
              1,
              "#f0f921"
             ]
            ],
            "type": "heatmap"
           }
          ],
          "heatmapgl": [
           {
            "colorbar": {
             "outlinewidth": 0,
             "ticks": ""
            },
            "colorscale": [
             [
              0,
              "#0d0887"
             ],
             [
              0.1111111111111111,
              "#46039f"
             ],
             [
              0.2222222222222222,
              "#7201a8"
             ],
             [
              0.3333333333333333,
              "#9c179e"
             ],
             [
              0.4444444444444444,
              "#bd3786"
             ],
             [
              0.5555555555555556,
              "#d8576b"
             ],
             [
              0.6666666666666666,
              "#ed7953"
             ],
             [
              0.7777777777777778,
              "#fb9f3a"
             ],
             [
              0.8888888888888888,
              "#fdca26"
             ],
             [
              1,
              "#f0f921"
             ]
            ],
            "type": "heatmapgl"
           }
          ],
          "histogram": [
           {
            "marker": {
             "colorbar": {
              "outlinewidth": 0,
              "ticks": ""
             }
            },
            "type": "histogram"
           }
          ],
          "histogram2d": [
           {
            "colorbar": {
             "outlinewidth": 0,
             "ticks": ""
            },
            "colorscale": [
             [
              0,
              "#0d0887"
             ],
             [
              0.1111111111111111,
              "#46039f"
             ],
             [
              0.2222222222222222,
              "#7201a8"
             ],
             [
              0.3333333333333333,
              "#9c179e"
             ],
             [
              0.4444444444444444,
              "#bd3786"
             ],
             [
              0.5555555555555556,
              "#d8576b"
             ],
             [
              0.6666666666666666,
              "#ed7953"
             ],
             [
              0.7777777777777778,
              "#fb9f3a"
             ],
             [
              0.8888888888888888,
              "#fdca26"
             ],
             [
              1,
              "#f0f921"
             ]
            ],
            "type": "histogram2d"
           }
          ],
          "histogram2dcontour": [
           {
            "colorbar": {
             "outlinewidth": 0,
             "ticks": ""
            },
            "colorscale": [
             [
              0,
              "#0d0887"
             ],
             [
              0.1111111111111111,
              "#46039f"
             ],
             [
              0.2222222222222222,
              "#7201a8"
             ],
             [
              0.3333333333333333,
              "#9c179e"
             ],
             [
              0.4444444444444444,
              "#bd3786"
             ],
             [
              0.5555555555555556,
              "#d8576b"
             ],
             [
              0.6666666666666666,
              "#ed7953"
             ],
             [
              0.7777777777777778,
              "#fb9f3a"
             ],
             [
              0.8888888888888888,
              "#fdca26"
             ],
             [
              1,
              "#f0f921"
             ]
            ],
            "type": "histogram2dcontour"
           }
          ],
          "mesh3d": [
           {
            "colorbar": {
             "outlinewidth": 0,
             "ticks": ""
            },
            "type": "mesh3d"
           }
          ],
          "parcoords": [
           {
            "line": {
             "colorbar": {
              "outlinewidth": 0,
              "ticks": ""
             }
            },
            "type": "parcoords"
           }
          ],
          "pie": [
           {
            "automargin": true,
            "type": "pie"
           }
          ],
          "scatter": [
           {
            "marker": {
             "colorbar": {
              "outlinewidth": 0,
              "ticks": ""
             }
            },
            "type": "scatter"
           }
          ],
          "scatter3d": [
           {
            "line": {
             "colorbar": {
              "outlinewidth": 0,
              "ticks": ""
             }
            },
            "marker": {
             "colorbar": {
              "outlinewidth": 0,
              "ticks": ""
             }
            },
            "type": "scatter3d"
           }
          ],
          "scattercarpet": [
           {
            "marker": {
             "colorbar": {
              "outlinewidth": 0,
              "ticks": ""
             }
            },
            "type": "scattercarpet"
           }
          ],
          "scattergeo": [
           {
            "marker": {
             "colorbar": {
              "outlinewidth": 0,
              "ticks": ""
             }
            },
            "type": "scattergeo"
           }
          ],
          "scattergl": [
           {
            "marker": {
             "colorbar": {
              "outlinewidth": 0,
              "ticks": ""
             }
            },
            "type": "scattergl"
           }
          ],
          "scattermapbox": [
           {
            "marker": {
             "colorbar": {
              "outlinewidth": 0,
              "ticks": ""
             }
            },
            "type": "scattermapbox"
           }
          ],
          "scatterpolar": [
           {
            "marker": {
             "colorbar": {
              "outlinewidth": 0,
              "ticks": ""
             }
            },
            "type": "scatterpolar"
           }
          ],
          "scatterpolargl": [
           {
            "marker": {
             "colorbar": {
              "outlinewidth": 0,
              "ticks": ""
             }
            },
            "type": "scatterpolargl"
           }
          ],
          "scatterternary": [
           {
            "marker": {
             "colorbar": {
              "outlinewidth": 0,
              "ticks": ""
             }
            },
            "type": "scatterternary"
           }
          ],
          "surface": [
           {
            "colorbar": {
             "outlinewidth": 0,
             "ticks": ""
            },
            "colorscale": [
             [
              0,
              "#0d0887"
             ],
             [
              0.1111111111111111,
              "#46039f"
             ],
             [
              0.2222222222222222,
              "#7201a8"
             ],
             [
              0.3333333333333333,
              "#9c179e"
             ],
             [
              0.4444444444444444,
              "#bd3786"
             ],
             [
              0.5555555555555556,
              "#d8576b"
             ],
             [
              0.6666666666666666,
              "#ed7953"
             ],
             [
              0.7777777777777778,
              "#fb9f3a"
             ],
             [
              0.8888888888888888,
              "#fdca26"
             ],
             [
              1,
              "#f0f921"
             ]
            ],
            "type": "surface"
           }
          ],
          "table": [
           {
            "cells": {
             "fill": {
              "color": "#EBF0F8"
             },
             "line": {
              "color": "white"
             }
            },
            "header": {
             "fill": {
              "color": "#C8D4E3"
             },
             "line": {
              "color": "white"
             }
            },
            "type": "table"
           }
          ]
         },
         "layout": {
          "annotationdefaults": {
           "arrowcolor": "#2a3f5f",
           "arrowhead": 0,
           "arrowwidth": 1
          },
          "autotypenumbers": "strict",
          "coloraxis": {
           "colorbar": {
            "outlinewidth": 0,
            "ticks": ""
           }
          },
          "colorscale": {
           "diverging": [
            [
             0,
             "#8e0152"
            ],
            [
             0.1,
             "#c51b7d"
            ],
            [
             0.2,
             "#de77ae"
            ],
            [
             0.3,
             "#f1b6da"
            ],
            [
             0.4,
             "#fde0ef"
            ],
            [
             0.5,
             "#f7f7f7"
            ],
            [
             0.6,
             "#e6f5d0"
            ],
            [
             0.7,
             "#b8e186"
            ],
            [
             0.8,
             "#7fbc41"
            ],
            [
             0.9,
             "#4d9221"
            ],
            [
             1,
             "#276419"
            ]
           ],
           "sequential": [
            [
             0,
             "#0d0887"
            ],
            [
             0.1111111111111111,
             "#46039f"
            ],
            [
             0.2222222222222222,
             "#7201a8"
            ],
            [
             0.3333333333333333,
             "#9c179e"
            ],
            [
             0.4444444444444444,
             "#bd3786"
            ],
            [
             0.5555555555555556,
             "#d8576b"
            ],
            [
             0.6666666666666666,
             "#ed7953"
            ],
            [
             0.7777777777777778,
             "#fb9f3a"
            ],
            [
             0.8888888888888888,
             "#fdca26"
            ],
            [
             1,
             "#f0f921"
            ]
           ],
           "sequentialminus": [
            [
             0,
             "#0d0887"
            ],
            [
             0.1111111111111111,
             "#46039f"
            ],
            [
             0.2222222222222222,
             "#7201a8"
            ],
            [
             0.3333333333333333,
             "#9c179e"
            ],
            [
             0.4444444444444444,
             "#bd3786"
            ],
            [
             0.5555555555555556,
             "#d8576b"
            ],
            [
             0.6666666666666666,
             "#ed7953"
            ],
            [
             0.7777777777777778,
             "#fb9f3a"
            ],
            [
             0.8888888888888888,
             "#fdca26"
            ],
            [
             1,
             "#f0f921"
            ]
           ]
          },
          "colorway": [
           "#636efa",
           "#EF553B",
           "#00cc96",
           "#ab63fa",
           "#FFA15A",
           "#19d3f3",
           "#FF6692",
           "#B6E880",
           "#FF97FF",
           "#FECB52"
          ],
          "font": {
           "color": "#2a3f5f"
          },
          "geo": {
           "bgcolor": "white",
           "lakecolor": "white",
           "landcolor": "#E5ECF6",
           "showlakes": true,
           "showland": true,
           "subunitcolor": "white"
          },
          "hoverlabel": {
           "align": "left"
          },
          "hovermode": "closest",
          "mapbox": {
           "style": "light"
          },
          "paper_bgcolor": "white",
          "plot_bgcolor": "#E5ECF6",
          "polar": {
           "angularaxis": {
            "gridcolor": "white",
            "linecolor": "white",
            "ticks": ""
           },
           "bgcolor": "#E5ECF6",
           "radialaxis": {
            "gridcolor": "white",
            "linecolor": "white",
            "ticks": ""
           }
          },
          "scene": {
           "xaxis": {
            "backgroundcolor": "#E5ECF6",
            "gridcolor": "white",
            "gridwidth": 2,
            "linecolor": "white",
            "showbackground": true,
            "ticks": "",
            "zerolinecolor": "white"
           },
           "yaxis": {
            "backgroundcolor": "#E5ECF6",
            "gridcolor": "white",
            "gridwidth": 2,
            "linecolor": "white",
            "showbackground": true,
            "ticks": "",
            "zerolinecolor": "white"
           },
           "zaxis": {
            "backgroundcolor": "#E5ECF6",
            "gridcolor": "white",
            "gridwidth": 2,
            "linecolor": "white",
            "showbackground": true,
            "ticks": "",
            "zerolinecolor": "white"
           }
          },
          "shapedefaults": {
           "line": {
            "color": "#2a3f5f"
           }
          },
          "ternary": {
           "aaxis": {
            "gridcolor": "white",
            "linecolor": "white",
            "ticks": ""
           },
           "baxis": {
            "gridcolor": "white",
            "linecolor": "white",
            "ticks": ""
           },
           "bgcolor": "#E5ECF6",
           "caxis": {
            "gridcolor": "white",
            "linecolor": "white",
            "ticks": ""
           }
          },
          "title": {
           "x": 0.05
          },
          "xaxis": {
           "automargin": true,
           "gridcolor": "white",
           "linecolor": "white",
           "ticks": "",
           "title": {
            "standoff": 15
           },
           "zerolinecolor": "white",
           "zerolinewidth": 2
          },
          "yaxis": {
           "automargin": true,
           "gridcolor": "white",
           "linecolor": "white",
           "ticks": "",
           "title": {
            "standoff": 15
           },
           "zerolinecolor": "white",
           "zerolinewidth": 2
          }
         }
        },
        "title": {
         "font": {
          "color": "#4D5663"
         }
        },
        "xaxis": {
         "gridcolor": "#E1E5ED",
         "showgrid": true,
         "tickfont": {
          "color": "#4D5663"
         },
         "title": {
          "font": {
           "color": "#4D5663"
          },
          "text": ""
         },
         "zerolinecolor": "#E1E5ED"
        },
        "yaxis": {
         "gridcolor": "#E1E5ED",
         "showgrid": true,
         "tickfont": {
          "color": "#4D5663"
         },
         "title": {
          "font": {
           "color": "#4D5663"
          },
          "text": ""
         },
         "zerolinecolor": "#E1E5ED"
        }
       }
      },
      "text/html": [
       "<div>                            <div id=\"7ebdcfed-067a-4f96-bcc9-7318b4407efd\" class=\"plotly-graph-div\" style=\"height:525px; width:100%;\"></div>            <script type=\"text/javascript\">                require([\"plotly\"], function(Plotly) {                    window.PLOTLYENV=window.PLOTLYENV || {};\n",
       "                    window.PLOTLYENV.BASE_URL='https://plot.ly';                                    if (document.getElementById(\"7ebdcfed-067a-4f96-bcc9-7318b4407efd\")) {                    Plotly.newPlot(                        \"7ebdcfed-067a-4f96-bcc9-7318b4407efd\",                        [{\"colorscale\": [[0.0, \"rgb(255, 153, 51)\"], [0.1111111111111111, \"rgb(55, 128, 191)\"], [0.2222222222222222, \"rgb(50, 171, 96)\"], [0.3333333333333333, \"rgb(128, 0, 128)\"], [0.4444444444444444, \"rgb(219, 64, 82)\"], [0.5555555555555556, \"rgb(0, 128, 128)\"], [0.6666666666666666, \"rgb(255, 255, 51)\"], [0.7777777777777778, \"rgb(128, 128, 0)\"], [0.8888888888888888, \"rgb(251, 128, 114)\"], [1.0, \"rgb(128, 177, 211)\"]], \"type\": \"surface\", \"x\": [0, 1, 2, 3, 4], \"y\": [\"x\", \"y\", \"z\"], \"z\": [[1, 2, 3, 4, 5], [10, 20, 20, 20, 10], [500, 400, 300, 200, 100]]}],                        {\"legend\": {\"bgcolor\": \"#F5F6F9\", \"font\": {\"color\": \"#4D5663\"}}, \"paper_bgcolor\": \"#F5F6F9\", \"plot_bgcolor\": \"#F5F6F9\", \"template\": {\"data\": {\"bar\": [{\"error_x\": {\"color\": \"#2a3f5f\"}, \"error_y\": {\"color\": \"#2a3f5f\"}, \"marker\": {\"line\": {\"color\": \"#E5ECF6\", \"width\": 0.5}}, \"type\": \"bar\"}], \"barpolar\": [{\"marker\": {\"line\": {\"color\": \"#E5ECF6\", \"width\": 0.5}}, \"type\": \"barpolar\"}], \"carpet\": [{\"aaxis\": {\"endlinecolor\": \"#2a3f5f\", \"gridcolor\": \"white\", \"linecolor\": \"white\", \"minorgridcolor\": \"white\", \"startlinecolor\": \"#2a3f5f\"}, \"baxis\": {\"endlinecolor\": \"#2a3f5f\", \"gridcolor\": \"white\", \"linecolor\": \"white\", \"minorgridcolor\": \"white\", \"startlinecolor\": \"#2a3f5f\"}, \"type\": \"carpet\"}], \"choropleth\": [{\"colorbar\": {\"outlinewidth\": 0, \"ticks\": \"\"}, \"type\": \"choropleth\"}], \"contour\": [{\"colorbar\": {\"outlinewidth\": 0, \"ticks\": \"\"}, \"colorscale\": [[0.0, \"#0d0887\"], [0.1111111111111111, \"#46039f\"], [0.2222222222222222, \"#7201a8\"], [0.3333333333333333, \"#9c179e\"], [0.4444444444444444, \"#bd3786\"], [0.5555555555555556, \"#d8576b\"], [0.6666666666666666, \"#ed7953\"], [0.7777777777777778, \"#fb9f3a\"], [0.8888888888888888, \"#fdca26\"], [1.0, \"#f0f921\"]], \"type\": \"contour\"}], \"contourcarpet\": [{\"colorbar\": {\"outlinewidth\": 0, \"ticks\": \"\"}, \"type\": \"contourcarpet\"}], \"heatmap\": [{\"colorbar\": {\"outlinewidth\": 0, \"ticks\": \"\"}, \"colorscale\": [[0.0, \"#0d0887\"], [0.1111111111111111, \"#46039f\"], [0.2222222222222222, \"#7201a8\"], [0.3333333333333333, \"#9c179e\"], [0.4444444444444444, \"#bd3786\"], [0.5555555555555556, \"#d8576b\"], [0.6666666666666666, \"#ed7953\"], [0.7777777777777778, \"#fb9f3a\"], [0.8888888888888888, \"#fdca26\"], [1.0, \"#f0f921\"]], \"type\": \"heatmap\"}], \"heatmapgl\": [{\"colorbar\": {\"outlinewidth\": 0, \"ticks\": \"\"}, \"colorscale\": [[0.0, \"#0d0887\"], [0.1111111111111111, \"#46039f\"], [0.2222222222222222, \"#7201a8\"], [0.3333333333333333, \"#9c179e\"], [0.4444444444444444, \"#bd3786\"], [0.5555555555555556, \"#d8576b\"], [0.6666666666666666, \"#ed7953\"], [0.7777777777777778, \"#fb9f3a\"], [0.8888888888888888, \"#fdca26\"], [1.0, \"#f0f921\"]], \"type\": \"heatmapgl\"}], \"histogram\": [{\"marker\": {\"colorbar\": {\"outlinewidth\": 0, \"ticks\": \"\"}}, \"type\": \"histogram\"}], \"histogram2d\": [{\"colorbar\": {\"outlinewidth\": 0, \"ticks\": \"\"}, \"colorscale\": [[0.0, \"#0d0887\"], [0.1111111111111111, \"#46039f\"], [0.2222222222222222, \"#7201a8\"], [0.3333333333333333, \"#9c179e\"], [0.4444444444444444, \"#bd3786\"], [0.5555555555555556, \"#d8576b\"], [0.6666666666666666, \"#ed7953\"], [0.7777777777777778, \"#fb9f3a\"], [0.8888888888888888, \"#fdca26\"], [1.0, \"#f0f921\"]], \"type\": \"histogram2d\"}], \"histogram2dcontour\": [{\"colorbar\": {\"outlinewidth\": 0, \"ticks\": \"\"}, \"colorscale\": [[0.0, \"#0d0887\"], [0.1111111111111111, \"#46039f\"], [0.2222222222222222, \"#7201a8\"], [0.3333333333333333, \"#9c179e\"], [0.4444444444444444, \"#bd3786\"], [0.5555555555555556, \"#d8576b\"], [0.6666666666666666, \"#ed7953\"], [0.7777777777777778, \"#fb9f3a\"], [0.8888888888888888, \"#fdca26\"], [1.0, \"#f0f921\"]], \"type\": \"histogram2dcontour\"}], \"mesh3d\": [{\"colorbar\": {\"outlinewidth\": 0, \"ticks\": \"\"}, \"type\": \"mesh3d\"}], \"parcoords\": [{\"line\": {\"colorbar\": {\"outlinewidth\": 0, \"ticks\": \"\"}}, \"type\": \"parcoords\"}], \"pie\": [{\"automargin\": true, \"type\": \"pie\"}], \"scatter\": [{\"marker\": {\"colorbar\": {\"outlinewidth\": 0, \"ticks\": \"\"}}, \"type\": \"scatter\"}], \"scatter3d\": [{\"line\": {\"colorbar\": {\"outlinewidth\": 0, \"ticks\": \"\"}}, \"marker\": {\"colorbar\": {\"outlinewidth\": 0, \"ticks\": \"\"}}, \"type\": \"scatter3d\"}], \"scattercarpet\": [{\"marker\": {\"colorbar\": {\"outlinewidth\": 0, \"ticks\": \"\"}}, \"type\": \"scattercarpet\"}], \"scattergeo\": [{\"marker\": {\"colorbar\": {\"outlinewidth\": 0, \"ticks\": \"\"}}, \"type\": \"scattergeo\"}], \"scattergl\": [{\"marker\": {\"colorbar\": {\"outlinewidth\": 0, \"ticks\": \"\"}}, \"type\": \"scattergl\"}], \"scattermapbox\": [{\"marker\": {\"colorbar\": {\"outlinewidth\": 0, \"ticks\": \"\"}}, \"type\": \"scattermapbox\"}], \"scatterpolar\": [{\"marker\": {\"colorbar\": {\"outlinewidth\": 0, \"ticks\": \"\"}}, \"type\": \"scatterpolar\"}], \"scatterpolargl\": [{\"marker\": {\"colorbar\": {\"outlinewidth\": 0, \"ticks\": \"\"}}, \"type\": \"scatterpolargl\"}], \"scatterternary\": [{\"marker\": {\"colorbar\": {\"outlinewidth\": 0, \"ticks\": \"\"}}, \"type\": \"scatterternary\"}], \"surface\": [{\"colorbar\": {\"outlinewidth\": 0, \"ticks\": \"\"}, \"colorscale\": [[0.0, \"#0d0887\"], [0.1111111111111111, \"#46039f\"], [0.2222222222222222, \"#7201a8\"], [0.3333333333333333, \"#9c179e\"], [0.4444444444444444, \"#bd3786\"], [0.5555555555555556, \"#d8576b\"], [0.6666666666666666, \"#ed7953\"], [0.7777777777777778, \"#fb9f3a\"], [0.8888888888888888, \"#fdca26\"], [1.0, \"#f0f921\"]], \"type\": \"surface\"}], \"table\": [{\"cells\": {\"fill\": {\"color\": \"#EBF0F8\"}, \"line\": {\"color\": \"white\"}}, \"header\": {\"fill\": {\"color\": \"#C8D4E3\"}, \"line\": {\"color\": \"white\"}}, \"type\": \"table\"}]}, \"layout\": {\"annotationdefaults\": {\"arrowcolor\": \"#2a3f5f\", \"arrowhead\": 0, \"arrowwidth\": 1}, \"autotypenumbers\": \"strict\", \"coloraxis\": {\"colorbar\": {\"outlinewidth\": 0, \"ticks\": \"\"}}, \"colorscale\": {\"diverging\": [[0, \"#8e0152\"], [0.1, \"#c51b7d\"], [0.2, \"#de77ae\"], [0.3, \"#f1b6da\"], [0.4, \"#fde0ef\"], [0.5, \"#f7f7f7\"], [0.6, \"#e6f5d0\"], [0.7, \"#b8e186\"], [0.8, \"#7fbc41\"], [0.9, \"#4d9221\"], [1, \"#276419\"]], \"sequential\": [[0.0, \"#0d0887\"], [0.1111111111111111, \"#46039f\"], [0.2222222222222222, \"#7201a8\"], [0.3333333333333333, \"#9c179e\"], [0.4444444444444444, \"#bd3786\"], [0.5555555555555556, \"#d8576b\"], [0.6666666666666666, \"#ed7953\"], [0.7777777777777778, \"#fb9f3a\"], [0.8888888888888888, \"#fdca26\"], [1.0, \"#f0f921\"]], \"sequentialminus\": [[0.0, \"#0d0887\"], [0.1111111111111111, \"#46039f\"], [0.2222222222222222, \"#7201a8\"], [0.3333333333333333, \"#9c179e\"], [0.4444444444444444, \"#bd3786\"], [0.5555555555555556, \"#d8576b\"], [0.6666666666666666, \"#ed7953\"], [0.7777777777777778, \"#fb9f3a\"], [0.8888888888888888, \"#fdca26\"], [1.0, \"#f0f921\"]]}, \"colorway\": [\"#636efa\", \"#EF553B\", \"#00cc96\", \"#ab63fa\", \"#FFA15A\", \"#19d3f3\", \"#FF6692\", \"#B6E880\", \"#FF97FF\", \"#FECB52\"], \"font\": {\"color\": \"#2a3f5f\"}, \"geo\": {\"bgcolor\": \"white\", \"lakecolor\": \"white\", \"landcolor\": \"#E5ECF6\", \"showlakes\": true, \"showland\": true, \"subunitcolor\": \"white\"}, \"hoverlabel\": {\"align\": \"left\"}, \"hovermode\": \"closest\", \"mapbox\": {\"style\": \"light\"}, \"paper_bgcolor\": \"white\", \"plot_bgcolor\": \"#E5ECF6\", \"polar\": {\"angularaxis\": {\"gridcolor\": \"white\", \"linecolor\": \"white\", \"ticks\": \"\"}, \"bgcolor\": \"#E5ECF6\", \"radialaxis\": {\"gridcolor\": \"white\", \"linecolor\": \"white\", \"ticks\": \"\"}}, \"scene\": {\"xaxis\": {\"backgroundcolor\": \"#E5ECF6\", \"gridcolor\": \"white\", \"gridwidth\": 2, \"linecolor\": \"white\", \"showbackground\": true, \"ticks\": \"\", \"zerolinecolor\": \"white\"}, \"yaxis\": {\"backgroundcolor\": \"#E5ECF6\", \"gridcolor\": \"white\", \"gridwidth\": 2, \"linecolor\": \"white\", \"showbackground\": true, \"ticks\": \"\", \"zerolinecolor\": \"white\"}, \"zaxis\": {\"backgroundcolor\": \"#E5ECF6\", \"gridcolor\": \"white\", \"gridwidth\": 2, \"linecolor\": \"white\", \"showbackground\": true, \"ticks\": \"\", \"zerolinecolor\": \"white\"}}, \"shapedefaults\": {\"line\": {\"color\": \"#2a3f5f\"}}, \"ternary\": {\"aaxis\": {\"gridcolor\": \"white\", \"linecolor\": \"white\", \"ticks\": \"\"}, \"baxis\": {\"gridcolor\": \"white\", \"linecolor\": \"white\", \"ticks\": \"\"}, \"bgcolor\": \"#E5ECF6\", \"caxis\": {\"gridcolor\": \"white\", \"linecolor\": \"white\", \"ticks\": \"\"}}, \"title\": {\"x\": 0.05}, \"xaxis\": {\"automargin\": true, \"gridcolor\": \"white\", \"linecolor\": \"white\", \"ticks\": \"\", \"title\": {\"standoff\": 15}, \"zerolinecolor\": \"white\", \"zerolinewidth\": 2}, \"yaxis\": {\"automargin\": true, \"gridcolor\": \"white\", \"linecolor\": \"white\", \"ticks\": \"\", \"title\": {\"standoff\": 15}, \"zerolinecolor\": \"white\", \"zerolinewidth\": 2}}}, \"title\": {\"font\": {\"color\": \"#4D5663\"}}, \"xaxis\": {\"gridcolor\": \"#E1E5ED\", \"showgrid\": true, \"tickfont\": {\"color\": \"#4D5663\"}, \"title\": {\"font\": {\"color\": \"#4D5663\"}, \"text\": \"\"}, \"zerolinecolor\": \"#E1E5ED\"}, \"yaxis\": {\"gridcolor\": \"#E1E5ED\", \"showgrid\": true, \"tickfont\": {\"color\": \"#4D5663\"}, \"title\": {\"font\": {\"color\": \"#4D5663\"}, \"text\": \"\"}, \"zerolinecolor\": \"#E1E5ED\"}},                        {\"showLink\": true, \"linkText\": \"Export to plot.ly\", \"plotlyServerURL\": \"https://plot.ly\", \"responsive\": true}                    ).then(function(){\n",
       "                            \n",
       "var gd = document.getElementById('7ebdcfed-067a-4f96-bcc9-7318b4407efd');\n",
       "var x = new MutationObserver(function (mutations, observer) {{\n",
       "        var display = window.getComputedStyle(gd).display;\n",
       "        if (!display || display === 'none') {{\n",
       "            console.log([gd, 'removed!']);\n",
       "            Plotly.purge(gd);\n",
       "            observer.disconnect();\n",
       "        }}\n",
       "}});\n",
       "\n",
       "// Listen for the removal of the full notebook cells\n",
       "var notebookContainer = gd.closest('#notebook-container');\n",
       "if (notebookContainer) {{\n",
       "    x.observe(notebookContainer, {childList: true});\n",
       "}}\n",
       "\n",
       "// Listen for the clearing of the current output cell\n",
       "var outputEl = gd.closest('.output');\n",
       "if (outputEl) {{\n",
       "    x.observe(outputEl, {childList: true});\n",
       "}}\n",
       "\n",
       "                        })                };                });            </script>        </div>"
      ]
     },
     "metadata": {},
     "output_type": "display_data"
    }
   ],
   "source": [
    "df3.iplot(kind='surface')"
   ]
  },
  {
   "cell_type": "code",
   "execution_count": 26,
   "id": "e83dfda0",
   "metadata": {},
   "outputs": [
    {
     "data": {
      "application/vnd.plotly.v1+json": {
       "config": {
        "linkText": "Export to plot.ly",
        "plotlyServerURL": "https://plot.ly",
        "showLink": true
       },
       "data": [
        {
         "colorscale": [
          [
           0,
           "rgb(165,0,38)"
          ],
          [
           0.1,
           "rgb(215,48,39)"
          ],
          [
           0.2,
           "rgb(244,109,67)"
          ],
          [
           0.3,
           "rgb(253,174,97)"
          ],
          [
           0.4,
           "rgb(254,224,144)"
          ],
          [
           0.5,
           "rgb(255,255,191)"
          ],
          [
           0.6,
           "rgb(224,243,248)"
          ],
          [
           0.7,
           "rgb(171,217,233)"
          ],
          [
           0.8,
           "rgb(116,173,209)"
          ],
          [
           0.9,
           "rgb(69,117,180)"
          ],
          [
           1,
           "rgb(49,54,149)"
          ]
         ],
         "type": "surface",
         "x": [
          0,
          1,
          2,
          3,
          4
         ],
         "y": [
          "x",
          "y",
          "z"
         ],
         "z": [
          [
           1,
           2,
           3,
           4,
           5
          ],
          [
           10,
           20,
           20,
           20,
           10
          ],
          [
           500,
           400,
           300,
           200,
           100
          ]
         ]
        }
       ],
       "layout": {
        "legend": {
         "bgcolor": "#F5F6F9",
         "font": {
          "color": "#4D5663"
         }
        },
        "paper_bgcolor": "#F5F6F9",
        "plot_bgcolor": "#F5F6F9",
        "template": {
         "data": {
          "bar": [
           {
            "error_x": {
             "color": "#2a3f5f"
            },
            "error_y": {
             "color": "#2a3f5f"
            },
            "marker": {
             "line": {
              "color": "#E5ECF6",
              "width": 0.5
             }
            },
            "type": "bar"
           }
          ],
          "barpolar": [
           {
            "marker": {
             "line": {
              "color": "#E5ECF6",
              "width": 0.5
             }
            },
            "type": "barpolar"
           }
          ],
          "carpet": [
           {
            "aaxis": {
             "endlinecolor": "#2a3f5f",
             "gridcolor": "white",
             "linecolor": "white",
             "minorgridcolor": "white",
             "startlinecolor": "#2a3f5f"
            },
            "baxis": {
             "endlinecolor": "#2a3f5f",
             "gridcolor": "white",
             "linecolor": "white",
             "minorgridcolor": "white",
             "startlinecolor": "#2a3f5f"
            },
            "type": "carpet"
           }
          ],
          "choropleth": [
           {
            "colorbar": {
             "outlinewidth": 0,
             "ticks": ""
            },
            "type": "choropleth"
           }
          ],
          "contour": [
           {
            "colorbar": {
             "outlinewidth": 0,
             "ticks": ""
            },
            "colorscale": [
             [
              0,
              "#0d0887"
             ],
             [
              0.1111111111111111,
              "#46039f"
             ],
             [
              0.2222222222222222,
              "#7201a8"
             ],
             [
              0.3333333333333333,
              "#9c179e"
             ],
             [
              0.4444444444444444,
              "#bd3786"
             ],
             [
              0.5555555555555556,
              "#d8576b"
             ],
             [
              0.6666666666666666,
              "#ed7953"
             ],
             [
              0.7777777777777778,
              "#fb9f3a"
             ],
             [
              0.8888888888888888,
              "#fdca26"
             ],
             [
              1,
              "#f0f921"
             ]
            ],
            "type": "contour"
           }
          ],
          "contourcarpet": [
           {
            "colorbar": {
             "outlinewidth": 0,
             "ticks": ""
            },
            "type": "contourcarpet"
           }
          ],
          "heatmap": [
           {
            "colorbar": {
             "outlinewidth": 0,
             "ticks": ""
            },
            "colorscale": [
             [
              0,
              "#0d0887"
             ],
             [
              0.1111111111111111,
              "#46039f"
             ],
             [
              0.2222222222222222,
              "#7201a8"
             ],
             [
              0.3333333333333333,
              "#9c179e"
             ],
             [
              0.4444444444444444,
              "#bd3786"
             ],
             [
              0.5555555555555556,
              "#d8576b"
             ],
             [
              0.6666666666666666,
              "#ed7953"
             ],
             [
              0.7777777777777778,
              "#fb9f3a"
             ],
             [
              0.8888888888888888,
              "#fdca26"
             ],
             [
              1,
              "#f0f921"
             ]
            ],
            "type": "heatmap"
           }
          ],
          "heatmapgl": [
           {
            "colorbar": {
             "outlinewidth": 0,
             "ticks": ""
            },
            "colorscale": [
             [
              0,
              "#0d0887"
             ],
             [
              0.1111111111111111,
              "#46039f"
             ],
             [
              0.2222222222222222,
              "#7201a8"
             ],
             [
              0.3333333333333333,
              "#9c179e"
             ],
             [
              0.4444444444444444,
              "#bd3786"
             ],
             [
              0.5555555555555556,
              "#d8576b"
             ],
             [
              0.6666666666666666,
              "#ed7953"
             ],
             [
              0.7777777777777778,
              "#fb9f3a"
             ],
             [
              0.8888888888888888,
              "#fdca26"
             ],
             [
              1,
              "#f0f921"
             ]
            ],
            "type": "heatmapgl"
           }
          ],
          "histogram": [
           {
            "marker": {
             "colorbar": {
              "outlinewidth": 0,
              "ticks": ""
             }
            },
            "type": "histogram"
           }
          ],
          "histogram2d": [
           {
            "colorbar": {
             "outlinewidth": 0,
             "ticks": ""
            },
            "colorscale": [
             [
              0,
              "#0d0887"
             ],
             [
              0.1111111111111111,
              "#46039f"
             ],
             [
              0.2222222222222222,
              "#7201a8"
             ],
             [
              0.3333333333333333,
              "#9c179e"
             ],
             [
              0.4444444444444444,
              "#bd3786"
             ],
             [
              0.5555555555555556,
              "#d8576b"
             ],
             [
              0.6666666666666666,
              "#ed7953"
             ],
             [
              0.7777777777777778,
              "#fb9f3a"
             ],
             [
              0.8888888888888888,
              "#fdca26"
             ],
             [
              1,
              "#f0f921"
             ]
            ],
            "type": "histogram2d"
           }
          ],
          "histogram2dcontour": [
           {
            "colorbar": {
             "outlinewidth": 0,
             "ticks": ""
            },
            "colorscale": [
             [
              0,
              "#0d0887"
             ],
             [
              0.1111111111111111,
              "#46039f"
             ],
             [
              0.2222222222222222,
              "#7201a8"
             ],
             [
              0.3333333333333333,
              "#9c179e"
             ],
             [
              0.4444444444444444,
              "#bd3786"
             ],
             [
              0.5555555555555556,
              "#d8576b"
             ],
             [
              0.6666666666666666,
              "#ed7953"
             ],
             [
              0.7777777777777778,
              "#fb9f3a"
             ],
             [
              0.8888888888888888,
              "#fdca26"
             ],
             [
              1,
              "#f0f921"
             ]
            ],
            "type": "histogram2dcontour"
           }
          ],
          "mesh3d": [
           {
            "colorbar": {
             "outlinewidth": 0,
             "ticks": ""
            },
            "type": "mesh3d"
           }
          ],
          "parcoords": [
           {
            "line": {
             "colorbar": {
              "outlinewidth": 0,
              "ticks": ""
             }
            },
            "type": "parcoords"
           }
          ],
          "pie": [
           {
            "automargin": true,
            "type": "pie"
           }
          ],
          "scatter": [
           {
            "marker": {
             "colorbar": {
              "outlinewidth": 0,
              "ticks": ""
             }
            },
            "type": "scatter"
           }
          ],
          "scatter3d": [
           {
            "line": {
             "colorbar": {
              "outlinewidth": 0,
              "ticks": ""
             }
            },
            "marker": {
             "colorbar": {
              "outlinewidth": 0,
              "ticks": ""
             }
            },
            "type": "scatter3d"
           }
          ],
          "scattercarpet": [
           {
            "marker": {
             "colorbar": {
              "outlinewidth": 0,
              "ticks": ""
             }
            },
            "type": "scattercarpet"
           }
          ],
          "scattergeo": [
           {
            "marker": {
             "colorbar": {
              "outlinewidth": 0,
              "ticks": ""
             }
            },
            "type": "scattergeo"
           }
          ],
          "scattergl": [
           {
            "marker": {
             "colorbar": {
              "outlinewidth": 0,
              "ticks": ""
             }
            },
            "type": "scattergl"
           }
          ],
          "scattermapbox": [
           {
            "marker": {
             "colorbar": {
              "outlinewidth": 0,
              "ticks": ""
             }
            },
            "type": "scattermapbox"
           }
          ],
          "scatterpolar": [
           {
            "marker": {
             "colorbar": {
              "outlinewidth": 0,
              "ticks": ""
             }
            },
            "type": "scatterpolar"
           }
          ],
          "scatterpolargl": [
           {
            "marker": {
             "colorbar": {
              "outlinewidth": 0,
              "ticks": ""
             }
            },
            "type": "scatterpolargl"
           }
          ],
          "scatterternary": [
           {
            "marker": {
             "colorbar": {
              "outlinewidth": 0,
              "ticks": ""
             }
            },
            "type": "scatterternary"
           }
          ],
          "surface": [
           {
            "colorbar": {
             "outlinewidth": 0,
             "ticks": ""
            },
            "colorscale": [
             [
              0,
              "#0d0887"
             ],
             [
              0.1111111111111111,
              "#46039f"
             ],
             [
              0.2222222222222222,
              "#7201a8"
             ],
             [
              0.3333333333333333,
              "#9c179e"
             ],
             [
              0.4444444444444444,
              "#bd3786"
             ],
             [
              0.5555555555555556,
              "#d8576b"
             ],
             [
              0.6666666666666666,
              "#ed7953"
             ],
             [
              0.7777777777777778,
              "#fb9f3a"
             ],
             [
              0.8888888888888888,
              "#fdca26"
             ],
             [
              1,
              "#f0f921"
             ]
            ],
            "type": "surface"
           }
          ],
          "table": [
           {
            "cells": {
             "fill": {
              "color": "#EBF0F8"
             },
             "line": {
              "color": "white"
             }
            },
            "header": {
             "fill": {
              "color": "#C8D4E3"
             },
             "line": {
              "color": "white"
             }
            },
            "type": "table"
           }
          ]
         },
         "layout": {
          "annotationdefaults": {
           "arrowcolor": "#2a3f5f",
           "arrowhead": 0,
           "arrowwidth": 1
          },
          "autotypenumbers": "strict",
          "coloraxis": {
           "colorbar": {
            "outlinewidth": 0,
            "ticks": ""
           }
          },
          "colorscale": {
           "diverging": [
            [
             0,
             "#8e0152"
            ],
            [
             0.1,
             "#c51b7d"
            ],
            [
             0.2,
             "#de77ae"
            ],
            [
             0.3,
             "#f1b6da"
            ],
            [
             0.4,
             "#fde0ef"
            ],
            [
             0.5,
             "#f7f7f7"
            ],
            [
             0.6,
             "#e6f5d0"
            ],
            [
             0.7,
             "#b8e186"
            ],
            [
             0.8,
             "#7fbc41"
            ],
            [
             0.9,
             "#4d9221"
            ],
            [
             1,
             "#276419"
            ]
           ],
           "sequential": [
            [
             0,
             "#0d0887"
            ],
            [
             0.1111111111111111,
             "#46039f"
            ],
            [
             0.2222222222222222,
             "#7201a8"
            ],
            [
             0.3333333333333333,
             "#9c179e"
            ],
            [
             0.4444444444444444,
             "#bd3786"
            ],
            [
             0.5555555555555556,
             "#d8576b"
            ],
            [
             0.6666666666666666,
             "#ed7953"
            ],
            [
             0.7777777777777778,
             "#fb9f3a"
            ],
            [
             0.8888888888888888,
             "#fdca26"
            ],
            [
             1,
             "#f0f921"
            ]
           ],
           "sequentialminus": [
            [
             0,
             "#0d0887"
            ],
            [
             0.1111111111111111,
             "#46039f"
            ],
            [
             0.2222222222222222,
             "#7201a8"
            ],
            [
             0.3333333333333333,
             "#9c179e"
            ],
            [
             0.4444444444444444,
             "#bd3786"
            ],
            [
             0.5555555555555556,
             "#d8576b"
            ],
            [
             0.6666666666666666,
             "#ed7953"
            ],
            [
             0.7777777777777778,
             "#fb9f3a"
            ],
            [
             0.8888888888888888,
             "#fdca26"
            ],
            [
             1,
             "#f0f921"
            ]
           ]
          },
          "colorway": [
           "#636efa",
           "#EF553B",
           "#00cc96",
           "#ab63fa",
           "#FFA15A",
           "#19d3f3",
           "#FF6692",
           "#B6E880",
           "#FF97FF",
           "#FECB52"
          ],
          "font": {
           "color": "#2a3f5f"
          },
          "geo": {
           "bgcolor": "white",
           "lakecolor": "white",
           "landcolor": "#E5ECF6",
           "showlakes": true,
           "showland": true,
           "subunitcolor": "white"
          },
          "hoverlabel": {
           "align": "left"
          },
          "hovermode": "closest",
          "mapbox": {
           "style": "light"
          },
          "paper_bgcolor": "white",
          "plot_bgcolor": "#E5ECF6",
          "polar": {
           "angularaxis": {
            "gridcolor": "white",
            "linecolor": "white",
            "ticks": ""
           },
           "bgcolor": "#E5ECF6",
           "radialaxis": {
            "gridcolor": "white",
            "linecolor": "white",
            "ticks": ""
           }
          },
          "scene": {
           "xaxis": {
            "backgroundcolor": "#E5ECF6",
            "gridcolor": "white",
            "gridwidth": 2,
            "linecolor": "white",
            "showbackground": true,
            "ticks": "",
            "zerolinecolor": "white"
           },
           "yaxis": {
            "backgroundcolor": "#E5ECF6",
            "gridcolor": "white",
            "gridwidth": 2,
            "linecolor": "white",
            "showbackground": true,
            "ticks": "",
            "zerolinecolor": "white"
           },
           "zaxis": {
            "backgroundcolor": "#E5ECF6",
            "gridcolor": "white",
            "gridwidth": 2,
            "linecolor": "white",
            "showbackground": true,
            "ticks": "",
            "zerolinecolor": "white"
           }
          },
          "shapedefaults": {
           "line": {
            "color": "#2a3f5f"
           }
          },
          "ternary": {
           "aaxis": {
            "gridcolor": "white",
            "linecolor": "white",
            "ticks": ""
           },
           "baxis": {
            "gridcolor": "white",
            "linecolor": "white",
            "ticks": ""
           },
           "bgcolor": "#E5ECF6",
           "caxis": {
            "gridcolor": "white",
            "linecolor": "white",
            "ticks": ""
           }
          },
          "title": {
           "x": 0.05
          },
          "xaxis": {
           "automargin": true,
           "gridcolor": "white",
           "linecolor": "white",
           "ticks": "",
           "title": {
            "standoff": 15
           },
           "zerolinecolor": "white",
           "zerolinewidth": 2
          },
          "yaxis": {
           "automargin": true,
           "gridcolor": "white",
           "linecolor": "white",
           "ticks": "",
           "title": {
            "standoff": 15
           },
           "zerolinecolor": "white",
           "zerolinewidth": 2
          }
         }
        },
        "title": {
         "font": {
          "color": "#4D5663"
         }
        },
        "xaxis": {
         "gridcolor": "#E1E5ED",
         "showgrid": true,
         "tickfont": {
          "color": "#4D5663"
         },
         "title": {
          "font": {
           "color": "#4D5663"
          },
          "text": ""
         },
         "zerolinecolor": "#E1E5ED"
        },
        "yaxis": {
         "gridcolor": "#E1E5ED",
         "showgrid": true,
         "tickfont": {
          "color": "#4D5663"
         },
         "title": {
          "font": {
           "color": "#4D5663"
          },
          "text": ""
         },
         "zerolinecolor": "#E1E5ED"
        }
       }
      },
      "text/html": [
       "<div>                            <div id=\"80d50820-2c18-43e7-9772-4b1fbf75e7c7\" class=\"plotly-graph-div\" style=\"height:525px; width:100%;\"></div>            <script type=\"text/javascript\">                require([\"plotly\"], function(Plotly) {                    window.PLOTLYENV=window.PLOTLYENV || {};\n",
       "                    window.PLOTLYENV.BASE_URL='https://plot.ly';                                    if (document.getElementById(\"80d50820-2c18-43e7-9772-4b1fbf75e7c7\")) {                    Plotly.newPlot(                        \"80d50820-2c18-43e7-9772-4b1fbf75e7c7\",                        [{\"colorscale\": [[0.0, \"rgb(165,0,38)\"], [0.1, \"rgb(215,48,39)\"], [0.2, \"rgb(244,109,67)\"], [0.3, \"rgb(253,174,97)\"], [0.4, \"rgb(254,224,144)\"], [0.5, \"rgb(255,255,191)\"], [0.6, \"rgb(224,243,248)\"], [0.7, \"rgb(171,217,233)\"], [0.8, \"rgb(116,173,209)\"], [0.9, \"rgb(69,117,180)\"], [1.0, \"rgb(49,54,149)\"]], \"type\": \"surface\", \"x\": [0, 1, 2, 3, 4], \"y\": [\"x\", \"y\", \"z\"], \"z\": [[1, 2, 3, 4, 5], [10, 20, 20, 20, 10], [500, 400, 300, 200, 100]]}],                        {\"legend\": {\"bgcolor\": \"#F5F6F9\", \"font\": {\"color\": \"#4D5663\"}}, \"paper_bgcolor\": \"#F5F6F9\", \"plot_bgcolor\": \"#F5F6F9\", \"template\": {\"data\": {\"bar\": [{\"error_x\": {\"color\": \"#2a3f5f\"}, \"error_y\": {\"color\": \"#2a3f5f\"}, \"marker\": {\"line\": {\"color\": \"#E5ECF6\", \"width\": 0.5}}, \"type\": \"bar\"}], \"barpolar\": [{\"marker\": {\"line\": {\"color\": \"#E5ECF6\", \"width\": 0.5}}, \"type\": \"barpolar\"}], \"carpet\": [{\"aaxis\": {\"endlinecolor\": \"#2a3f5f\", \"gridcolor\": \"white\", \"linecolor\": \"white\", \"minorgridcolor\": \"white\", \"startlinecolor\": \"#2a3f5f\"}, \"baxis\": {\"endlinecolor\": \"#2a3f5f\", \"gridcolor\": \"white\", \"linecolor\": \"white\", \"minorgridcolor\": \"white\", \"startlinecolor\": \"#2a3f5f\"}, \"type\": \"carpet\"}], \"choropleth\": [{\"colorbar\": {\"outlinewidth\": 0, \"ticks\": \"\"}, \"type\": \"choropleth\"}], \"contour\": [{\"colorbar\": {\"outlinewidth\": 0, \"ticks\": \"\"}, \"colorscale\": [[0.0, \"#0d0887\"], [0.1111111111111111, \"#46039f\"], [0.2222222222222222, \"#7201a8\"], [0.3333333333333333, \"#9c179e\"], [0.4444444444444444, \"#bd3786\"], [0.5555555555555556, \"#d8576b\"], [0.6666666666666666, \"#ed7953\"], [0.7777777777777778, \"#fb9f3a\"], [0.8888888888888888, \"#fdca26\"], [1.0, \"#f0f921\"]], \"type\": \"contour\"}], \"contourcarpet\": [{\"colorbar\": {\"outlinewidth\": 0, \"ticks\": \"\"}, \"type\": \"contourcarpet\"}], \"heatmap\": [{\"colorbar\": {\"outlinewidth\": 0, \"ticks\": \"\"}, \"colorscale\": [[0.0, \"#0d0887\"], [0.1111111111111111, \"#46039f\"], [0.2222222222222222, \"#7201a8\"], [0.3333333333333333, \"#9c179e\"], [0.4444444444444444, \"#bd3786\"], [0.5555555555555556, \"#d8576b\"], [0.6666666666666666, \"#ed7953\"], [0.7777777777777778, \"#fb9f3a\"], [0.8888888888888888, \"#fdca26\"], [1.0, \"#f0f921\"]], \"type\": \"heatmap\"}], \"heatmapgl\": [{\"colorbar\": {\"outlinewidth\": 0, \"ticks\": \"\"}, \"colorscale\": [[0.0, \"#0d0887\"], [0.1111111111111111, \"#46039f\"], [0.2222222222222222, \"#7201a8\"], [0.3333333333333333, \"#9c179e\"], [0.4444444444444444, \"#bd3786\"], [0.5555555555555556, \"#d8576b\"], [0.6666666666666666, \"#ed7953\"], [0.7777777777777778, \"#fb9f3a\"], [0.8888888888888888, \"#fdca26\"], [1.0, \"#f0f921\"]], \"type\": \"heatmapgl\"}], \"histogram\": [{\"marker\": {\"colorbar\": {\"outlinewidth\": 0, \"ticks\": \"\"}}, \"type\": \"histogram\"}], \"histogram2d\": [{\"colorbar\": {\"outlinewidth\": 0, \"ticks\": \"\"}, \"colorscale\": [[0.0, \"#0d0887\"], [0.1111111111111111, \"#46039f\"], [0.2222222222222222, \"#7201a8\"], [0.3333333333333333, \"#9c179e\"], [0.4444444444444444, \"#bd3786\"], [0.5555555555555556, \"#d8576b\"], [0.6666666666666666, \"#ed7953\"], [0.7777777777777778, \"#fb9f3a\"], [0.8888888888888888, \"#fdca26\"], [1.0, \"#f0f921\"]], \"type\": \"histogram2d\"}], \"histogram2dcontour\": [{\"colorbar\": {\"outlinewidth\": 0, \"ticks\": \"\"}, \"colorscale\": [[0.0, \"#0d0887\"], [0.1111111111111111, \"#46039f\"], [0.2222222222222222, \"#7201a8\"], [0.3333333333333333, \"#9c179e\"], [0.4444444444444444, \"#bd3786\"], [0.5555555555555556, \"#d8576b\"], [0.6666666666666666, \"#ed7953\"], [0.7777777777777778, \"#fb9f3a\"], [0.8888888888888888, \"#fdca26\"], [1.0, \"#f0f921\"]], \"type\": \"histogram2dcontour\"}], \"mesh3d\": [{\"colorbar\": {\"outlinewidth\": 0, \"ticks\": \"\"}, \"type\": \"mesh3d\"}], \"parcoords\": [{\"line\": {\"colorbar\": {\"outlinewidth\": 0, \"ticks\": \"\"}}, \"type\": \"parcoords\"}], \"pie\": [{\"automargin\": true, \"type\": \"pie\"}], \"scatter\": [{\"marker\": {\"colorbar\": {\"outlinewidth\": 0, \"ticks\": \"\"}}, \"type\": \"scatter\"}], \"scatter3d\": [{\"line\": {\"colorbar\": {\"outlinewidth\": 0, \"ticks\": \"\"}}, \"marker\": {\"colorbar\": {\"outlinewidth\": 0, \"ticks\": \"\"}}, \"type\": \"scatter3d\"}], \"scattercarpet\": [{\"marker\": {\"colorbar\": {\"outlinewidth\": 0, \"ticks\": \"\"}}, \"type\": \"scattercarpet\"}], \"scattergeo\": [{\"marker\": {\"colorbar\": {\"outlinewidth\": 0, \"ticks\": \"\"}}, \"type\": \"scattergeo\"}], \"scattergl\": [{\"marker\": {\"colorbar\": {\"outlinewidth\": 0, \"ticks\": \"\"}}, \"type\": \"scattergl\"}], \"scattermapbox\": [{\"marker\": {\"colorbar\": {\"outlinewidth\": 0, \"ticks\": \"\"}}, \"type\": \"scattermapbox\"}], \"scatterpolar\": [{\"marker\": {\"colorbar\": {\"outlinewidth\": 0, \"ticks\": \"\"}}, \"type\": \"scatterpolar\"}], \"scatterpolargl\": [{\"marker\": {\"colorbar\": {\"outlinewidth\": 0, \"ticks\": \"\"}}, \"type\": \"scatterpolargl\"}], \"scatterternary\": [{\"marker\": {\"colorbar\": {\"outlinewidth\": 0, \"ticks\": \"\"}}, \"type\": \"scatterternary\"}], \"surface\": [{\"colorbar\": {\"outlinewidth\": 0, \"ticks\": \"\"}, \"colorscale\": [[0.0, \"#0d0887\"], [0.1111111111111111, \"#46039f\"], [0.2222222222222222, \"#7201a8\"], [0.3333333333333333, \"#9c179e\"], [0.4444444444444444, \"#bd3786\"], [0.5555555555555556, \"#d8576b\"], [0.6666666666666666, \"#ed7953\"], [0.7777777777777778, \"#fb9f3a\"], [0.8888888888888888, \"#fdca26\"], [1.0, \"#f0f921\"]], \"type\": \"surface\"}], \"table\": [{\"cells\": {\"fill\": {\"color\": \"#EBF0F8\"}, \"line\": {\"color\": \"white\"}}, \"header\": {\"fill\": {\"color\": \"#C8D4E3\"}, \"line\": {\"color\": \"white\"}}, \"type\": \"table\"}]}, \"layout\": {\"annotationdefaults\": {\"arrowcolor\": \"#2a3f5f\", \"arrowhead\": 0, \"arrowwidth\": 1}, \"autotypenumbers\": \"strict\", \"coloraxis\": {\"colorbar\": {\"outlinewidth\": 0, \"ticks\": \"\"}}, \"colorscale\": {\"diverging\": [[0, \"#8e0152\"], [0.1, \"#c51b7d\"], [0.2, \"#de77ae\"], [0.3, \"#f1b6da\"], [0.4, \"#fde0ef\"], [0.5, \"#f7f7f7\"], [0.6, \"#e6f5d0\"], [0.7, \"#b8e186\"], [0.8, \"#7fbc41\"], [0.9, \"#4d9221\"], [1, \"#276419\"]], \"sequential\": [[0.0, \"#0d0887\"], [0.1111111111111111, \"#46039f\"], [0.2222222222222222, \"#7201a8\"], [0.3333333333333333, \"#9c179e\"], [0.4444444444444444, \"#bd3786\"], [0.5555555555555556, \"#d8576b\"], [0.6666666666666666, \"#ed7953\"], [0.7777777777777778, \"#fb9f3a\"], [0.8888888888888888, \"#fdca26\"], [1.0, \"#f0f921\"]], \"sequentialminus\": [[0.0, \"#0d0887\"], [0.1111111111111111, \"#46039f\"], [0.2222222222222222, \"#7201a8\"], [0.3333333333333333, \"#9c179e\"], [0.4444444444444444, \"#bd3786\"], [0.5555555555555556, \"#d8576b\"], [0.6666666666666666, \"#ed7953\"], [0.7777777777777778, \"#fb9f3a\"], [0.8888888888888888, \"#fdca26\"], [1.0, \"#f0f921\"]]}, \"colorway\": [\"#636efa\", \"#EF553B\", \"#00cc96\", \"#ab63fa\", \"#FFA15A\", \"#19d3f3\", \"#FF6692\", \"#B6E880\", \"#FF97FF\", \"#FECB52\"], \"font\": {\"color\": \"#2a3f5f\"}, \"geo\": {\"bgcolor\": \"white\", \"lakecolor\": \"white\", \"landcolor\": \"#E5ECF6\", \"showlakes\": true, \"showland\": true, \"subunitcolor\": \"white\"}, \"hoverlabel\": {\"align\": \"left\"}, \"hovermode\": \"closest\", \"mapbox\": {\"style\": \"light\"}, \"paper_bgcolor\": \"white\", \"plot_bgcolor\": \"#E5ECF6\", \"polar\": {\"angularaxis\": {\"gridcolor\": \"white\", \"linecolor\": \"white\", \"ticks\": \"\"}, \"bgcolor\": \"#E5ECF6\", \"radialaxis\": {\"gridcolor\": \"white\", \"linecolor\": \"white\", \"ticks\": \"\"}}, \"scene\": {\"xaxis\": {\"backgroundcolor\": \"#E5ECF6\", \"gridcolor\": \"white\", \"gridwidth\": 2, \"linecolor\": \"white\", \"showbackground\": true, \"ticks\": \"\", \"zerolinecolor\": \"white\"}, \"yaxis\": {\"backgroundcolor\": \"#E5ECF6\", \"gridcolor\": \"white\", \"gridwidth\": 2, \"linecolor\": \"white\", \"showbackground\": true, \"ticks\": \"\", \"zerolinecolor\": \"white\"}, \"zaxis\": {\"backgroundcolor\": \"#E5ECF6\", \"gridcolor\": \"white\", \"gridwidth\": 2, \"linecolor\": \"white\", \"showbackground\": true, \"ticks\": \"\", \"zerolinecolor\": \"white\"}}, \"shapedefaults\": {\"line\": {\"color\": \"#2a3f5f\"}}, \"ternary\": {\"aaxis\": {\"gridcolor\": \"white\", \"linecolor\": \"white\", \"ticks\": \"\"}, \"baxis\": {\"gridcolor\": \"white\", \"linecolor\": \"white\", \"ticks\": \"\"}, \"bgcolor\": \"#E5ECF6\", \"caxis\": {\"gridcolor\": \"white\", \"linecolor\": \"white\", \"ticks\": \"\"}}, \"title\": {\"x\": 0.05}, \"xaxis\": {\"automargin\": true, \"gridcolor\": \"white\", \"linecolor\": \"white\", \"ticks\": \"\", \"title\": {\"standoff\": 15}, \"zerolinecolor\": \"white\", \"zerolinewidth\": 2}, \"yaxis\": {\"automargin\": true, \"gridcolor\": \"white\", \"linecolor\": \"white\", \"ticks\": \"\", \"title\": {\"standoff\": 15}, \"zerolinecolor\": \"white\", \"zerolinewidth\": 2}}}, \"title\": {\"font\": {\"color\": \"#4D5663\"}}, \"xaxis\": {\"gridcolor\": \"#E1E5ED\", \"showgrid\": true, \"tickfont\": {\"color\": \"#4D5663\"}, \"title\": {\"font\": {\"color\": \"#4D5663\"}, \"text\": \"\"}, \"zerolinecolor\": \"#E1E5ED\"}, \"yaxis\": {\"gridcolor\": \"#E1E5ED\", \"showgrid\": true, \"tickfont\": {\"color\": \"#4D5663\"}, \"title\": {\"font\": {\"color\": \"#4D5663\"}, \"text\": \"\"}, \"zerolinecolor\": \"#E1E5ED\"}},                        {\"showLink\": true, \"linkText\": \"Export to plot.ly\", \"plotlyServerURL\": \"https://plot.ly\", \"responsive\": true}                    ).then(function(){\n",
       "                            \n",
       "var gd = document.getElementById('80d50820-2c18-43e7-9772-4b1fbf75e7c7');\n",
       "var x = new MutationObserver(function (mutations, observer) {{\n",
       "        var display = window.getComputedStyle(gd).display;\n",
       "        if (!display || display === 'none') {{\n",
       "            console.log([gd, 'removed!']);\n",
       "            Plotly.purge(gd);\n",
       "            observer.disconnect();\n",
       "        }}\n",
       "}});\n",
       "\n",
       "// Listen for the removal of the full notebook cells\n",
       "var notebookContainer = gd.closest('#notebook-container');\n",
       "if (notebookContainer) {{\n",
       "    x.observe(notebookContainer, {childList: true});\n",
       "}}\n",
       "\n",
       "// Listen for the clearing of the current output cell\n",
       "var outputEl = gd.closest('.output');\n",
       "if (outputEl) {{\n",
       "    x.observe(outputEl, {childList: true});\n",
       "}}\n",
       "\n",
       "                        })                };                });            </script>        </div>"
      ]
     },
     "metadata": {},
     "output_type": "display_data"
    }
   ],
   "source": [
    "df3.iplot(kind='surface',colorscale='rdylbu')\n",
    "#rd(red),yl(yellow),bu(blue). We can check plotly documentation for all the colorscale codes"
   ]
  },
  {
   "cell_type": "code",
   "execution_count": 27,
   "id": "f7d39792",
   "metadata": {},
   "outputs": [
    {
     "data": {
      "application/vnd.plotly.v1+json": {
       "config": {
        "linkText": "Export to plot.ly",
        "plotlyServerURL": "https://plot.ly",
        "showLink": true
       },
       "data": [
        {
         "histfunc": "count",
         "histnorm": "",
         "marker": {
          "color": "rgba(255, 153, 51, 1.0)",
          "line": {
           "color": "#4D5663",
           "width": 1.3
          }
         },
         "name": "A",
         "nbinsx": 25,
         "opacity": 0.8,
         "orientation": "v",
         "type": "histogram",
         "x": [
          -0.6707154253506642,
          -1.9500262411133285,
          0.47330149330972787,
          0.3220821058806944,
          0.20805808808316156,
          -0.35109658451676334,
          0.6962852968692117,
          -0.10784531902689991,
          1.5086544793457553,
          -1.340268292912184,
          0.7644344119612071,
          -0.26780932113299405,
          0.1878224556979502,
          1.171246085614569,
          0.1851093548441989,
          0.2823252049199303,
          0.6932277961556744,
          -0.6769518643083233,
          -0.19354333756548917,
          2.1363357457530587,
          0.040971497941110074,
          -1.7778136621759986,
          3.13702519812112,
          1.5018405020580647,
          -1.6127044945937676,
          -0.03130235727745821,
          0.09640237026125606,
          -0.5360328057285065,
          0.8757207392735993,
          0.28188882285582134,
          -0.6267644208076626,
          0.522160591589084,
          0.7117289724168866,
          -0.6437782301720258,
          0.2712843372224381,
          0.6033468190197396,
          0.8021238883637443,
          -0.7702350535759206,
          -1.6829360015664283,
          0.6731359493896302,
          -1.0248199572464276,
          0.8986669891621416,
          -0.3657217093686965,
          -0.19140225513344197,
          -0.027425781658837873,
          -0.4486319931274092,
          -1.2072169461605697,
          1.1119462802015492,
          0.7169013061838068,
          1.092554147709969,
          0.3877181592512865,
          -0.5077243469664451,
          0.40449061501060224,
          0.22132603560676464,
          0.5266282050852957,
          -0.3950309560310908,
          -0.005066618020162976,
          0.5397516109289167,
          -0.24187446680324345,
          -2.4180231477424297,
          -0.1118720542279614,
          0.7891934411928745,
          -1.4595096578166131,
          -1.6641566424292111,
          0.4641685548997316,
          0.2039478823314363,
          0.033767471863369765,
          -1.0739728733906564,
          -1.8950403385455485,
          0.33690673212261363,
          -0.34158656775274315,
          -0.1877609055445049,
          -1.3877147132450043,
          -0.5621215400627225,
          -0.25322924851168455,
          1.8159900315694717,
          -0.34533226510827736,
          1.0356949538332458,
          1.2021841404538256,
          -0.3927476513776488,
          0.837235412643784,
          -1.6234430720105062,
          1.243235860033378,
          0.16800048711867446,
          0.4391194684694063,
          -0.27275232834051005,
          1.8786432214985485,
          -1.036152949055604,
          -0.8484408810170442,
          0.3225952169549622,
          1.866756994721403,
          -0.5069716474593075,
          0.569264356614395,
          0.28876108330768585,
          -0.14817903275171626,
          -1.863044870763895,
          1.8120988870687478,
          0.18420897831186897,
          0.16052440170636006,
          2.5581870205130657
         ]
        }
       ],
       "layout": {
        "barmode": "overlay",
        "legend": {
         "bgcolor": "#F5F6F9",
         "font": {
          "color": "#4D5663"
         }
        },
        "paper_bgcolor": "#F5F6F9",
        "plot_bgcolor": "#F5F6F9",
        "template": {
         "data": {
          "bar": [
           {
            "error_x": {
             "color": "#2a3f5f"
            },
            "error_y": {
             "color": "#2a3f5f"
            },
            "marker": {
             "line": {
              "color": "#E5ECF6",
              "width": 0.5
             }
            },
            "type": "bar"
           }
          ],
          "barpolar": [
           {
            "marker": {
             "line": {
              "color": "#E5ECF6",
              "width": 0.5
             }
            },
            "type": "barpolar"
           }
          ],
          "carpet": [
           {
            "aaxis": {
             "endlinecolor": "#2a3f5f",
             "gridcolor": "white",
             "linecolor": "white",
             "minorgridcolor": "white",
             "startlinecolor": "#2a3f5f"
            },
            "baxis": {
             "endlinecolor": "#2a3f5f",
             "gridcolor": "white",
             "linecolor": "white",
             "minorgridcolor": "white",
             "startlinecolor": "#2a3f5f"
            },
            "type": "carpet"
           }
          ],
          "choropleth": [
           {
            "colorbar": {
             "outlinewidth": 0,
             "ticks": ""
            },
            "type": "choropleth"
           }
          ],
          "contour": [
           {
            "colorbar": {
             "outlinewidth": 0,
             "ticks": ""
            },
            "colorscale": [
             [
              0,
              "#0d0887"
             ],
             [
              0.1111111111111111,
              "#46039f"
             ],
             [
              0.2222222222222222,
              "#7201a8"
             ],
             [
              0.3333333333333333,
              "#9c179e"
             ],
             [
              0.4444444444444444,
              "#bd3786"
             ],
             [
              0.5555555555555556,
              "#d8576b"
             ],
             [
              0.6666666666666666,
              "#ed7953"
             ],
             [
              0.7777777777777778,
              "#fb9f3a"
             ],
             [
              0.8888888888888888,
              "#fdca26"
             ],
             [
              1,
              "#f0f921"
             ]
            ],
            "type": "contour"
           }
          ],
          "contourcarpet": [
           {
            "colorbar": {
             "outlinewidth": 0,
             "ticks": ""
            },
            "type": "contourcarpet"
           }
          ],
          "heatmap": [
           {
            "colorbar": {
             "outlinewidth": 0,
             "ticks": ""
            },
            "colorscale": [
             [
              0,
              "#0d0887"
             ],
             [
              0.1111111111111111,
              "#46039f"
             ],
             [
              0.2222222222222222,
              "#7201a8"
             ],
             [
              0.3333333333333333,
              "#9c179e"
             ],
             [
              0.4444444444444444,
              "#bd3786"
             ],
             [
              0.5555555555555556,
              "#d8576b"
             ],
             [
              0.6666666666666666,
              "#ed7953"
             ],
             [
              0.7777777777777778,
              "#fb9f3a"
             ],
             [
              0.8888888888888888,
              "#fdca26"
             ],
             [
              1,
              "#f0f921"
             ]
            ],
            "type": "heatmap"
           }
          ],
          "heatmapgl": [
           {
            "colorbar": {
             "outlinewidth": 0,
             "ticks": ""
            },
            "colorscale": [
             [
              0,
              "#0d0887"
             ],
             [
              0.1111111111111111,
              "#46039f"
             ],
             [
              0.2222222222222222,
              "#7201a8"
             ],
             [
              0.3333333333333333,
              "#9c179e"
             ],
             [
              0.4444444444444444,
              "#bd3786"
             ],
             [
              0.5555555555555556,
              "#d8576b"
             ],
             [
              0.6666666666666666,
              "#ed7953"
             ],
             [
              0.7777777777777778,
              "#fb9f3a"
             ],
             [
              0.8888888888888888,
              "#fdca26"
             ],
             [
              1,
              "#f0f921"
             ]
            ],
            "type": "heatmapgl"
           }
          ],
          "histogram": [
           {
            "marker": {
             "colorbar": {
              "outlinewidth": 0,
              "ticks": ""
             }
            },
            "type": "histogram"
           }
          ],
          "histogram2d": [
           {
            "colorbar": {
             "outlinewidth": 0,
             "ticks": ""
            },
            "colorscale": [
             [
              0,
              "#0d0887"
             ],
             [
              0.1111111111111111,
              "#46039f"
             ],
             [
              0.2222222222222222,
              "#7201a8"
             ],
             [
              0.3333333333333333,
              "#9c179e"
             ],
             [
              0.4444444444444444,
              "#bd3786"
             ],
             [
              0.5555555555555556,
              "#d8576b"
             ],
             [
              0.6666666666666666,
              "#ed7953"
             ],
             [
              0.7777777777777778,
              "#fb9f3a"
             ],
             [
              0.8888888888888888,
              "#fdca26"
             ],
             [
              1,
              "#f0f921"
             ]
            ],
            "type": "histogram2d"
           }
          ],
          "histogram2dcontour": [
           {
            "colorbar": {
             "outlinewidth": 0,
             "ticks": ""
            },
            "colorscale": [
             [
              0,
              "#0d0887"
             ],
             [
              0.1111111111111111,
              "#46039f"
             ],
             [
              0.2222222222222222,
              "#7201a8"
             ],
             [
              0.3333333333333333,
              "#9c179e"
             ],
             [
              0.4444444444444444,
              "#bd3786"
             ],
             [
              0.5555555555555556,
              "#d8576b"
             ],
             [
              0.6666666666666666,
              "#ed7953"
             ],
             [
              0.7777777777777778,
              "#fb9f3a"
             ],
             [
              0.8888888888888888,
              "#fdca26"
             ],
             [
              1,
              "#f0f921"
             ]
            ],
            "type": "histogram2dcontour"
           }
          ],
          "mesh3d": [
           {
            "colorbar": {
             "outlinewidth": 0,
             "ticks": ""
            },
            "type": "mesh3d"
           }
          ],
          "parcoords": [
           {
            "line": {
             "colorbar": {
              "outlinewidth": 0,
              "ticks": ""
             }
            },
            "type": "parcoords"
           }
          ],
          "pie": [
           {
            "automargin": true,
            "type": "pie"
           }
          ],
          "scatter": [
           {
            "marker": {
             "colorbar": {
              "outlinewidth": 0,
              "ticks": ""
             }
            },
            "type": "scatter"
           }
          ],
          "scatter3d": [
           {
            "line": {
             "colorbar": {
              "outlinewidth": 0,
              "ticks": ""
             }
            },
            "marker": {
             "colorbar": {
              "outlinewidth": 0,
              "ticks": ""
             }
            },
            "type": "scatter3d"
           }
          ],
          "scattercarpet": [
           {
            "marker": {
             "colorbar": {
              "outlinewidth": 0,
              "ticks": ""
             }
            },
            "type": "scattercarpet"
           }
          ],
          "scattergeo": [
           {
            "marker": {
             "colorbar": {
              "outlinewidth": 0,
              "ticks": ""
             }
            },
            "type": "scattergeo"
           }
          ],
          "scattergl": [
           {
            "marker": {
             "colorbar": {
              "outlinewidth": 0,
              "ticks": ""
             }
            },
            "type": "scattergl"
           }
          ],
          "scattermapbox": [
           {
            "marker": {
             "colorbar": {
              "outlinewidth": 0,
              "ticks": ""
             }
            },
            "type": "scattermapbox"
           }
          ],
          "scatterpolar": [
           {
            "marker": {
             "colorbar": {
              "outlinewidth": 0,
              "ticks": ""
             }
            },
            "type": "scatterpolar"
           }
          ],
          "scatterpolargl": [
           {
            "marker": {
             "colorbar": {
              "outlinewidth": 0,
              "ticks": ""
             }
            },
            "type": "scatterpolargl"
           }
          ],
          "scatterternary": [
           {
            "marker": {
             "colorbar": {
              "outlinewidth": 0,
              "ticks": ""
             }
            },
            "type": "scatterternary"
           }
          ],
          "surface": [
           {
            "colorbar": {
             "outlinewidth": 0,
             "ticks": ""
            },
            "colorscale": [
             [
              0,
              "#0d0887"
             ],
             [
              0.1111111111111111,
              "#46039f"
             ],
             [
              0.2222222222222222,
              "#7201a8"
             ],
             [
              0.3333333333333333,
              "#9c179e"
             ],
             [
              0.4444444444444444,
              "#bd3786"
             ],
             [
              0.5555555555555556,
              "#d8576b"
             ],
             [
              0.6666666666666666,
              "#ed7953"
             ],
             [
              0.7777777777777778,
              "#fb9f3a"
             ],
             [
              0.8888888888888888,
              "#fdca26"
             ],
             [
              1,
              "#f0f921"
             ]
            ],
            "type": "surface"
           }
          ],
          "table": [
           {
            "cells": {
             "fill": {
              "color": "#EBF0F8"
             },
             "line": {
              "color": "white"
             }
            },
            "header": {
             "fill": {
              "color": "#C8D4E3"
             },
             "line": {
              "color": "white"
             }
            },
            "type": "table"
           }
          ]
         },
         "layout": {
          "annotationdefaults": {
           "arrowcolor": "#2a3f5f",
           "arrowhead": 0,
           "arrowwidth": 1
          },
          "autotypenumbers": "strict",
          "coloraxis": {
           "colorbar": {
            "outlinewidth": 0,
            "ticks": ""
           }
          },
          "colorscale": {
           "diverging": [
            [
             0,
             "#8e0152"
            ],
            [
             0.1,
             "#c51b7d"
            ],
            [
             0.2,
             "#de77ae"
            ],
            [
             0.3,
             "#f1b6da"
            ],
            [
             0.4,
             "#fde0ef"
            ],
            [
             0.5,
             "#f7f7f7"
            ],
            [
             0.6,
             "#e6f5d0"
            ],
            [
             0.7,
             "#b8e186"
            ],
            [
             0.8,
             "#7fbc41"
            ],
            [
             0.9,
             "#4d9221"
            ],
            [
             1,
             "#276419"
            ]
           ],
           "sequential": [
            [
             0,
             "#0d0887"
            ],
            [
             0.1111111111111111,
             "#46039f"
            ],
            [
             0.2222222222222222,
             "#7201a8"
            ],
            [
             0.3333333333333333,
             "#9c179e"
            ],
            [
             0.4444444444444444,
             "#bd3786"
            ],
            [
             0.5555555555555556,
             "#d8576b"
            ],
            [
             0.6666666666666666,
             "#ed7953"
            ],
            [
             0.7777777777777778,
             "#fb9f3a"
            ],
            [
             0.8888888888888888,
             "#fdca26"
            ],
            [
             1,
             "#f0f921"
            ]
           ],
           "sequentialminus": [
            [
             0,
             "#0d0887"
            ],
            [
             0.1111111111111111,
             "#46039f"
            ],
            [
             0.2222222222222222,
             "#7201a8"
            ],
            [
             0.3333333333333333,
             "#9c179e"
            ],
            [
             0.4444444444444444,
             "#bd3786"
            ],
            [
             0.5555555555555556,
             "#d8576b"
            ],
            [
             0.6666666666666666,
             "#ed7953"
            ],
            [
             0.7777777777777778,
             "#fb9f3a"
            ],
            [
             0.8888888888888888,
             "#fdca26"
            ],
            [
             1,
             "#f0f921"
            ]
           ]
          },
          "colorway": [
           "#636efa",
           "#EF553B",
           "#00cc96",
           "#ab63fa",
           "#FFA15A",
           "#19d3f3",
           "#FF6692",
           "#B6E880",
           "#FF97FF",
           "#FECB52"
          ],
          "font": {
           "color": "#2a3f5f"
          },
          "geo": {
           "bgcolor": "white",
           "lakecolor": "white",
           "landcolor": "#E5ECF6",
           "showlakes": true,
           "showland": true,
           "subunitcolor": "white"
          },
          "hoverlabel": {
           "align": "left"
          },
          "hovermode": "closest",
          "mapbox": {
           "style": "light"
          },
          "paper_bgcolor": "white",
          "plot_bgcolor": "#E5ECF6",
          "polar": {
           "angularaxis": {
            "gridcolor": "white",
            "linecolor": "white",
            "ticks": ""
           },
           "bgcolor": "#E5ECF6",
           "radialaxis": {
            "gridcolor": "white",
            "linecolor": "white",
            "ticks": ""
           }
          },
          "scene": {
           "xaxis": {
            "backgroundcolor": "#E5ECF6",
            "gridcolor": "white",
            "gridwidth": 2,
            "linecolor": "white",
            "showbackground": true,
            "ticks": "",
            "zerolinecolor": "white"
           },
           "yaxis": {
            "backgroundcolor": "#E5ECF6",
            "gridcolor": "white",
            "gridwidth": 2,
            "linecolor": "white",
            "showbackground": true,
            "ticks": "",
            "zerolinecolor": "white"
           },
           "zaxis": {
            "backgroundcolor": "#E5ECF6",
            "gridcolor": "white",
            "gridwidth": 2,
            "linecolor": "white",
            "showbackground": true,
            "ticks": "",
            "zerolinecolor": "white"
           }
          },
          "shapedefaults": {
           "line": {
            "color": "#2a3f5f"
           }
          },
          "ternary": {
           "aaxis": {
            "gridcolor": "white",
            "linecolor": "white",
            "ticks": ""
           },
           "baxis": {
            "gridcolor": "white",
            "linecolor": "white",
            "ticks": ""
           },
           "bgcolor": "#E5ECF6",
           "caxis": {
            "gridcolor": "white",
            "linecolor": "white",
            "ticks": ""
           }
          },
          "title": {
           "x": 0.05
          },
          "xaxis": {
           "automargin": true,
           "gridcolor": "white",
           "linecolor": "white",
           "ticks": "",
           "title": {
            "standoff": 15
           },
           "zerolinecolor": "white",
           "zerolinewidth": 2
          },
          "yaxis": {
           "automargin": true,
           "gridcolor": "white",
           "linecolor": "white",
           "ticks": "",
           "title": {
            "standoff": 15
           },
           "zerolinecolor": "white",
           "zerolinewidth": 2
          }
         }
        },
        "title": {
         "font": {
          "color": "#4D5663"
         }
        },
        "xaxis": {
         "gridcolor": "#E1E5ED",
         "showgrid": true,
         "tickfont": {
          "color": "#4D5663"
         },
         "title": {
          "font": {
           "color": "#4D5663"
          },
          "text": ""
         },
         "zerolinecolor": "#E1E5ED"
        },
        "yaxis": {
         "gridcolor": "#E1E5ED",
         "showgrid": true,
         "tickfont": {
          "color": "#4D5663"
         },
         "title": {
          "font": {
           "color": "#4D5663"
          },
          "text": ""
         },
         "zerolinecolor": "#E1E5ED"
        }
       }
      },
      "text/html": [
       "<div>                            <div id=\"b7cd500f-4e9a-4ecf-976c-b815900d92e9\" class=\"plotly-graph-div\" style=\"height:525px; width:100%;\"></div>            <script type=\"text/javascript\">                require([\"plotly\"], function(Plotly) {                    window.PLOTLYENV=window.PLOTLYENV || {};\n",
       "                    window.PLOTLYENV.BASE_URL='https://plot.ly';                                    if (document.getElementById(\"b7cd500f-4e9a-4ecf-976c-b815900d92e9\")) {                    Plotly.newPlot(                        \"b7cd500f-4e9a-4ecf-976c-b815900d92e9\",                        [{\"histfunc\": \"count\", \"histnorm\": \"\", \"marker\": {\"color\": \"rgba(255, 153, 51, 1.0)\", \"line\": {\"color\": \"#4D5663\", \"width\": 1.3}}, \"name\": \"A\", \"nbinsx\": 25, \"opacity\": 0.8, \"orientation\": \"v\", \"type\": \"histogram\", \"x\": [-0.6707154253506642, -1.9500262411133285, 0.47330149330972787, 0.3220821058806944, 0.20805808808316156, -0.35109658451676334, 0.6962852968692117, -0.10784531902689991, 1.5086544793457553, -1.340268292912184, 0.7644344119612071, -0.26780932113299405, 0.1878224556979502, 1.171246085614569, 0.1851093548441989, 0.2823252049199303, 0.6932277961556744, -0.6769518643083233, -0.19354333756548917, 2.1363357457530587, 0.040971497941110074, -1.7778136621759986, 3.13702519812112, 1.5018405020580647, -1.6127044945937676, -0.03130235727745821, 0.09640237026125606, -0.5360328057285065, 0.8757207392735993, 0.28188882285582134, -0.6267644208076626, 0.522160591589084, 0.7117289724168866, -0.6437782301720258, 0.2712843372224381, 0.6033468190197396, 0.8021238883637443, -0.7702350535759206, -1.6829360015664283, 0.6731359493896302, -1.0248199572464276, 0.8986669891621416, -0.3657217093686965, -0.19140225513344197, -0.027425781658837873, -0.4486319931274092, -1.2072169461605697, 1.1119462802015492, 0.7169013061838068, 1.092554147709969, 0.3877181592512865, -0.5077243469664451, 0.40449061501060224, 0.22132603560676464, 0.5266282050852957, -0.3950309560310908, -0.005066618020162976, 0.5397516109289167, -0.24187446680324345, -2.4180231477424297, -0.1118720542279614, 0.7891934411928745, -1.4595096578166131, -1.6641566424292111, 0.4641685548997316, 0.2039478823314363, 0.033767471863369765, -1.0739728733906564, -1.8950403385455485, 0.33690673212261363, -0.34158656775274315, -0.1877609055445049, -1.3877147132450043, -0.5621215400627225, -0.25322924851168455, 1.8159900315694717, -0.34533226510827736, 1.0356949538332458, 1.2021841404538256, -0.3927476513776488, 0.837235412643784, -1.6234430720105062, 1.243235860033378, 0.16800048711867446, 0.4391194684694063, -0.27275232834051005, 1.8786432214985485, -1.036152949055604, -0.8484408810170442, 0.3225952169549622, 1.866756994721403, -0.5069716474593075, 0.569264356614395, 0.28876108330768585, -0.14817903275171626, -1.863044870763895, 1.8120988870687478, 0.18420897831186897, 0.16052440170636006, 2.5581870205130657]}],                        {\"barmode\": \"overlay\", \"legend\": {\"bgcolor\": \"#F5F6F9\", \"font\": {\"color\": \"#4D5663\"}}, \"paper_bgcolor\": \"#F5F6F9\", \"plot_bgcolor\": \"#F5F6F9\", \"template\": {\"data\": {\"bar\": [{\"error_x\": {\"color\": \"#2a3f5f\"}, \"error_y\": {\"color\": \"#2a3f5f\"}, \"marker\": {\"line\": {\"color\": \"#E5ECF6\", \"width\": 0.5}}, \"type\": \"bar\"}], \"barpolar\": [{\"marker\": {\"line\": {\"color\": \"#E5ECF6\", \"width\": 0.5}}, \"type\": \"barpolar\"}], \"carpet\": [{\"aaxis\": {\"endlinecolor\": \"#2a3f5f\", \"gridcolor\": \"white\", \"linecolor\": \"white\", \"minorgridcolor\": \"white\", \"startlinecolor\": \"#2a3f5f\"}, \"baxis\": {\"endlinecolor\": \"#2a3f5f\", \"gridcolor\": \"white\", \"linecolor\": \"white\", \"minorgridcolor\": \"white\", \"startlinecolor\": \"#2a3f5f\"}, \"type\": \"carpet\"}], \"choropleth\": [{\"colorbar\": {\"outlinewidth\": 0, \"ticks\": \"\"}, \"type\": \"choropleth\"}], \"contour\": [{\"colorbar\": {\"outlinewidth\": 0, \"ticks\": \"\"}, \"colorscale\": [[0.0, \"#0d0887\"], [0.1111111111111111, \"#46039f\"], [0.2222222222222222, \"#7201a8\"], [0.3333333333333333, \"#9c179e\"], [0.4444444444444444, \"#bd3786\"], [0.5555555555555556, \"#d8576b\"], [0.6666666666666666, \"#ed7953\"], [0.7777777777777778, \"#fb9f3a\"], [0.8888888888888888, \"#fdca26\"], [1.0, \"#f0f921\"]], \"type\": \"contour\"}], \"contourcarpet\": [{\"colorbar\": {\"outlinewidth\": 0, \"ticks\": \"\"}, \"type\": \"contourcarpet\"}], \"heatmap\": [{\"colorbar\": {\"outlinewidth\": 0, \"ticks\": \"\"}, \"colorscale\": [[0.0, \"#0d0887\"], [0.1111111111111111, \"#46039f\"], [0.2222222222222222, \"#7201a8\"], [0.3333333333333333, \"#9c179e\"], [0.4444444444444444, \"#bd3786\"], [0.5555555555555556, \"#d8576b\"], [0.6666666666666666, \"#ed7953\"], [0.7777777777777778, \"#fb9f3a\"], [0.8888888888888888, \"#fdca26\"], [1.0, \"#f0f921\"]], \"type\": \"heatmap\"}], \"heatmapgl\": [{\"colorbar\": {\"outlinewidth\": 0, \"ticks\": \"\"}, \"colorscale\": [[0.0, \"#0d0887\"], [0.1111111111111111, \"#46039f\"], [0.2222222222222222, \"#7201a8\"], [0.3333333333333333, \"#9c179e\"], [0.4444444444444444, \"#bd3786\"], [0.5555555555555556, \"#d8576b\"], [0.6666666666666666, \"#ed7953\"], [0.7777777777777778, \"#fb9f3a\"], [0.8888888888888888, \"#fdca26\"], [1.0, \"#f0f921\"]], \"type\": \"heatmapgl\"}], \"histogram\": [{\"marker\": {\"colorbar\": {\"outlinewidth\": 0, \"ticks\": \"\"}}, \"type\": \"histogram\"}], \"histogram2d\": [{\"colorbar\": {\"outlinewidth\": 0, \"ticks\": \"\"}, \"colorscale\": [[0.0, \"#0d0887\"], [0.1111111111111111, \"#46039f\"], [0.2222222222222222, \"#7201a8\"], [0.3333333333333333, \"#9c179e\"], [0.4444444444444444, \"#bd3786\"], [0.5555555555555556, \"#d8576b\"], [0.6666666666666666, \"#ed7953\"], [0.7777777777777778, \"#fb9f3a\"], [0.8888888888888888, \"#fdca26\"], [1.0, \"#f0f921\"]], \"type\": \"histogram2d\"}], \"histogram2dcontour\": [{\"colorbar\": {\"outlinewidth\": 0, \"ticks\": \"\"}, \"colorscale\": [[0.0, \"#0d0887\"], [0.1111111111111111, \"#46039f\"], [0.2222222222222222, \"#7201a8\"], [0.3333333333333333, \"#9c179e\"], [0.4444444444444444, \"#bd3786\"], [0.5555555555555556, \"#d8576b\"], [0.6666666666666666, \"#ed7953\"], [0.7777777777777778, \"#fb9f3a\"], [0.8888888888888888, \"#fdca26\"], [1.0, \"#f0f921\"]], \"type\": \"histogram2dcontour\"}], \"mesh3d\": [{\"colorbar\": {\"outlinewidth\": 0, \"ticks\": \"\"}, \"type\": \"mesh3d\"}], \"parcoords\": [{\"line\": {\"colorbar\": {\"outlinewidth\": 0, \"ticks\": \"\"}}, \"type\": \"parcoords\"}], \"pie\": [{\"automargin\": true, \"type\": \"pie\"}], \"scatter\": [{\"marker\": {\"colorbar\": {\"outlinewidth\": 0, \"ticks\": \"\"}}, \"type\": \"scatter\"}], \"scatter3d\": [{\"line\": {\"colorbar\": {\"outlinewidth\": 0, \"ticks\": \"\"}}, \"marker\": {\"colorbar\": {\"outlinewidth\": 0, \"ticks\": \"\"}}, \"type\": \"scatter3d\"}], \"scattercarpet\": [{\"marker\": {\"colorbar\": {\"outlinewidth\": 0, \"ticks\": \"\"}}, \"type\": \"scattercarpet\"}], \"scattergeo\": [{\"marker\": {\"colorbar\": {\"outlinewidth\": 0, \"ticks\": \"\"}}, \"type\": \"scattergeo\"}], \"scattergl\": [{\"marker\": {\"colorbar\": {\"outlinewidth\": 0, \"ticks\": \"\"}}, \"type\": \"scattergl\"}], \"scattermapbox\": [{\"marker\": {\"colorbar\": {\"outlinewidth\": 0, \"ticks\": \"\"}}, \"type\": \"scattermapbox\"}], \"scatterpolar\": [{\"marker\": {\"colorbar\": {\"outlinewidth\": 0, \"ticks\": \"\"}}, \"type\": \"scatterpolar\"}], \"scatterpolargl\": [{\"marker\": {\"colorbar\": {\"outlinewidth\": 0, \"ticks\": \"\"}}, \"type\": \"scatterpolargl\"}], \"scatterternary\": [{\"marker\": {\"colorbar\": {\"outlinewidth\": 0, \"ticks\": \"\"}}, \"type\": \"scatterternary\"}], \"surface\": [{\"colorbar\": {\"outlinewidth\": 0, \"ticks\": \"\"}, \"colorscale\": [[0.0, \"#0d0887\"], [0.1111111111111111, \"#46039f\"], [0.2222222222222222, \"#7201a8\"], [0.3333333333333333, \"#9c179e\"], [0.4444444444444444, \"#bd3786\"], [0.5555555555555556, \"#d8576b\"], [0.6666666666666666, \"#ed7953\"], [0.7777777777777778, \"#fb9f3a\"], [0.8888888888888888, \"#fdca26\"], [1.0, \"#f0f921\"]], \"type\": \"surface\"}], \"table\": [{\"cells\": {\"fill\": {\"color\": \"#EBF0F8\"}, \"line\": {\"color\": \"white\"}}, \"header\": {\"fill\": {\"color\": \"#C8D4E3\"}, \"line\": {\"color\": \"white\"}}, \"type\": \"table\"}]}, \"layout\": {\"annotationdefaults\": {\"arrowcolor\": \"#2a3f5f\", \"arrowhead\": 0, \"arrowwidth\": 1}, \"autotypenumbers\": \"strict\", \"coloraxis\": {\"colorbar\": {\"outlinewidth\": 0, \"ticks\": \"\"}}, \"colorscale\": {\"diverging\": [[0, \"#8e0152\"], [0.1, \"#c51b7d\"], [0.2, \"#de77ae\"], [0.3, \"#f1b6da\"], [0.4, \"#fde0ef\"], [0.5, \"#f7f7f7\"], [0.6, \"#e6f5d0\"], [0.7, \"#b8e186\"], [0.8, \"#7fbc41\"], [0.9, \"#4d9221\"], [1, \"#276419\"]], \"sequential\": [[0.0, \"#0d0887\"], [0.1111111111111111, \"#46039f\"], [0.2222222222222222, \"#7201a8\"], [0.3333333333333333, \"#9c179e\"], [0.4444444444444444, \"#bd3786\"], [0.5555555555555556, \"#d8576b\"], [0.6666666666666666, \"#ed7953\"], [0.7777777777777778, \"#fb9f3a\"], [0.8888888888888888, \"#fdca26\"], [1.0, \"#f0f921\"]], \"sequentialminus\": [[0.0, \"#0d0887\"], [0.1111111111111111, \"#46039f\"], [0.2222222222222222, \"#7201a8\"], [0.3333333333333333, \"#9c179e\"], [0.4444444444444444, \"#bd3786\"], [0.5555555555555556, \"#d8576b\"], [0.6666666666666666, \"#ed7953\"], [0.7777777777777778, \"#fb9f3a\"], [0.8888888888888888, \"#fdca26\"], [1.0, \"#f0f921\"]]}, \"colorway\": [\"#636efa\", \"#EF553B\", \"#00cc96\", \"#ab63fa\", \"#FFA15A\", \"#19d3f3\", \"#FF6692\", \"#B6E880\", \"#FF97FF\", \"#FECB52\"], \"font\": {\"color\": \"#2a3f5f\"}, \"geo\": {\"bgcolor\": \"white\", \"lakecolor\": \"white\", \"landcolor\": \"#E5ECF6\", \"showlakes\": true, \"showland\": true, \"subunitcolor\": \"white\"}, \"hoverlabel\": {\"align\": \"left\"}, \"hovermode\": \"closest\", \"mapbox\": {\"style\": \"light\"}, \"paper_bgcolor\": \"white\", \"plot_bgcolor\": \"#E5ECF6\", \"polar\": {\"angularaxis\": {\"gridcolor\": \"white\", \"linecolor\": \"white\", \"ticks\": \"\"}, \"bgcolor\": \"#E5ECF6\", \"radialaxis\": {\"gridcolor\": \"white\", \"linecolor\": \"white\", \"ticks\": \"\"}}, \"scene\": {\"xaxis\": {\"backgroundcolor\": \"#E5ECF6\", \"gridcolor\": \"white\", \"gridwidth\": 2, \"linecolor\": \"white\", \"showbackground\": true, \"ticks\": \"\", \"zerolinecolor\": \"white\"}, \"yaxis\": {\"backgroundcolor\": \"#E5ECF6\", \"gridcolor\": \"white\", \"gridwidth\": 2, \"linecolor\": \"white\", \"showbackground\": true, \"ticks\": \"\", \"zerolinecolor\": \"white\"}, \"zaxis\": {\"backgroundcolor\": \"#E5ECF6\", \"gridcolor\": \"white\", \"gridwidth\": 2, \"linecolor\": \"white\", \"showbackground\": true, \"ticks\": \"\", \"zerolinecolor\": \"white\"}}, \"shapedefaults\": {\"line\": {\"color\": \"#2a3f5f\"}}, \"ternary\": {\"aaxis\": {\"gridcolor\": \"white\", \"linecolor\": \"white\", \"ticks\": \"\"}, \"baxis\": {\"gridcolor\": \"white\", \"linecolor\": \"white\", \"ticks\": \"\"}, \"bgcolor\": \"#E5ECF6\", \"caxis\": {\"gridcolor\": \"white\", \"linecolor\": \"white\", \"ticks\": \"\"}}, \"title\": {\"x\": 0.05}, \"xaxis\": {\"automargin\": true, \"gridcolor\": \"white\", \"linecolor\": \"white\", \"ticks\": \"\", \"title\": {\"standoff\": 15}, \"zerolinecolor\": \"white\", \"zerolinewidth\": 2}, \"yaxis\": {\"automargin\": true, \"gridcolor\": \"white\", \"linecolor\": \"white\", \"ticks\": \"\", \"title\": {\"standoff\": 15}, \"zerolinecolor\": \"white\", \"zerolinewidth\": 2}}}, \"title\": {\"font\": {\"color\": \"#4D5663\"}}, \"xaxis\": {\"gridcolor\": \"#E1E5ED\", \"showgrid\": true, \"tickfont\": {\"color\": \"#4D5663\"}, \"title\": {\"font\": {\"color\": \"#4D5663\"}, \"text\": \"\"}, \"zerolinecolor\": \"#E1E5ED\"}, \"yaxis\": {\"gridcolor\": \"#E1E5ED\", \"showgrid\": true, \"tickfont\": {\"color\": \"#4D5663\"}, \"title\": {\"font\": {\"color\": \"#4D5663\"}, \"text\": \"\"}, \"zerolinecolor\": \"#E1E5ED\"}},                        {\"showLink\": true, \"linkText\": \"Export to plot.ly\", \"plotlyServerURL\": \"https://plot.ly\", \"responsive\": true}                    ).then(function(){\n",
       "                            \n",
       "var gd = document.getElementById('b7cd500f-4e9a-4ecf-976c-b815900d92e9');\n",
       "var x = new MutationObserver(function (mutations, observer) {{\n",
       "        var display = window.getComputedStyle(gd).display;\n",
       "        if (!display || display === 'none') {{\n",
       "            console.log([gd, 'removed!']);\n",
       "            Plotly.purge(gd);\n",
       "            observer.disconnect();\n",
       "        }}\n",
       "}});\n",
       "\n",
       "// Listen for the removal of the full notebook cells\n",
       "var notebookContainer = gd.closest('#notebook-container');\n",
       "if (notebookContainer) {{\n",
       "    x.observe(notebookContainer, {childList: true});\n",
       "}}\n",
       "\n",
       "// Listen for the clearing of the current output cell\n",
       "var outputEl = gd.closest('.output');\n",
       "if (outputEl) {{\n",
       "    x.observe(outputEl, {childList: true});\n",
       "}}\n",
       "\n",
       "                        })                };                });            </script>        </div>"
      ]
     },
     "metadata": {},
     "output_type": "display_data"
    }
   ],
   "source": [
    "df['A'].iplot(kind='hist',bins=25)"
   ]
  },
  {
   "cell_type": "code",
   "execution_count": 29,
   "id": "bdfac9ec",
   "metadata": {},
   "outputs": [
    {
     "data": {
      "application/vnd.plotly.v1+json": {
       "config": {
        "linkText": "Export to plot.ly",
        "plotlyServerURL": "https://plot.ly",
        "showLink": true
       },
       "data": [
        {
         "histfunc": "count",
         "histnorm": "",
         "marker": {
          "color": "rgba(255, 153, 51, 1.0)",
          "line": {
           "color": "#4D5663",
           "width": 1.3
          }
         },
         "name": "A",
         "nbinsx": 50,
         "opacity": 0.8,
         "orientation": "v",
         "type": "histogram",
         "x": [
          -0.6707154253506642,
          -1.9500262411133285,
          0.47330149330972787,
          0.3220821058806944,
          0.20805808808316156,
          -0.35109658451676334,
          0.6962852968692117,
          -0.10784531902689991,
          1.5086544793457553,
          -1.340268292912184,
          0.7644344119612071,
          -0.26780932113299405,
          0.1878224556979502,
          1.171246085614569,
          0.1851093548441989,
          0.2823252049199303,
          0.6932277961556744,
          -0.6769518643083233,
          -0.19354333756548917,
          2.1363357457530587,
          0.040971497941110074,
          -1.7778136621759986,
          3.13702519812112,
          1.5018405020580647,
          -1.6127044945937676,
          -0.03130235727745821,
          0.09640237026125606,
          -0.5360328057285065,
          0.8757207392735993,
          0.28188882285582134,
          -0.6267644208076626,
          0.522160591589084,
          0.7117289724168866,
          -0.6437782301720258,
          0.2712843372224381,
          0.6033468190197396,
          0.8021238883637443,
          -0.7702350535759206,
          -1.6829360015664283,
          0.6731359493896302,
          -1.0248199572464276,
          0.8986669891621416,
          -0.3657217093686965,
          -0.19140225513344197,
          -0.027425781658837873,
          -0.4486319931274092,
          -1.2072169461605697,
          1.1119462802015492,
          0.7169013061838068,
          1.092554147709969,
          0.3877181592512865,
          -0.5077243469664451,
          0.40449061501060224,
          0.22132603560676464,
          0.5266282050852957,
          -0.3950309560310908,
          -0.005066618020162976,
          0.5397516109289167,
          -0.24187446680324345,
          -2.4180231477424297,
          -0.1118720542279614,
          0.7891934411928745,
          -1.4595096578166131,
          -1.6641566424292111,
          0.4641685548997316,
          0.2039478823314363,
          0.033767471863369765,
          -1.0739728733906564,
          -1.8950403385455485,
          0.33690673212261363,
          -0.34158656775274315,
          -0.1877609055445049,
          -1.3877147132450043,
          -0.5621215400627225,
          -0.25322924851168455,
          1.8159900315694717,
          -0.34533226510827736,
          1.0356949538332458,
          1.2021841404538256,
          -0.3927476513776488,
          0.837235412643784,
          -1.6234430720105062,
          1.243235860033378,
          0.16800048711867446,
          0.4391194684694063,
          -0.27275232834051005,
          1.8786432214985485,
          -1.036152949055604,
          -0.8484408810170442,
          0.3225952169549622,
          1.866756994721403,
          -0.5069716474593075,
          0.569264356614395,
          0.28876108330768585,
          -0.14817903275171626,
          -1.863044870763895,
          1.8120988870687478,
          0.18420897831186897,
          0.16052440170636006,
          2.5581870205130657
         ]
        },
        {
         "histfunc": "count",
         "histnorm": "",
         "marker": {
          "color": "rgba(55, 128, 191, 1.0)",
          "line": {
           "color": "#4D5663",
           "width": 1.3
          }
         },
         "name": "B",
         "nbinsx": 50,
         "opacity": 0.8,
         "orientation": "v",
         "type": "histogram",
         "x": [
          2.1058842826318607,
          -2.072359511310542,
          -0.3416009005606861,
          -0.7284799185898405,
          -1.2504681420191213,
          0.36929949318306843,
          0.30650633934084254,
          -0.7822857645842319,
          -0.40249307975607373,
          -0.4894825593030477,
          -2.0423146065028983,
          0.9872944141587103,
          -1.0569817425686823,
          -1.6293020589481364,
          -0.3653355683975144,
          0.34908380245013,
          -0.9930184191231534,
          -1.5459068965500842,
          -0.4303553133615934,
          0.6436591668209447,
          0.8434328960587413,
          -0.8293341375988842,
          -0.17665403988967887,
          0.05571735134683879,
          0.7712899419374236,
          1.8392243290245631,
          -0.02887245228532163,
          -0.27213303990882726,
          -0.9293654935733069,
          -0.1717099056031576,
          0.10629681858599707,
          -0.15554719806862996,
          -0.9964845946839231,
          0.6092294141232871,
          0.674977835522611,
          1.1574969173759908,
          -0.0904536430233091,
          1.340391985298189,
          0.7013388590982971,
          0.5803876294942691,
          -0.4777178856989432,
          -0.4783100209870064,
          -0.23670952507275758,
          -1.1222153054155775,
          -0.10985297273626017,
          -0.08838416929997245,
          2.705075337277412,
          -1.353083311770451,
          -0.15123585689753194,
          -0.5079059934573342,
          0.214658887024363,
          0.0962629830423297,
          1.2226846938925608,
          -1.3849716686465248,
          2.47057224290792,
          -0.23622331664434187,
          -0.01386735927959883,
          0.3146974131045074,
          -1.611843264935958,
          0.6219892118864861,
          -0.25545298334001854,
          -0.20578715948195975,
          0.5026081049701817,
          -0.05039893194269115,
          -1.451888593332071,
          -1.6684912330390367,
          0.09839970157327095,
          -1.1912211957943615,
          0.35544779363433393,
          0.6886730916876131,
          0.8392771480070627,
          1.6715975529189262,
          0.2645710679527483,
          1.3357616401053343,
          -1.0479861237285117,
          -0.2708393114170538,
          -0.8665667773800374,
          1.3146913254236081,
          2.557788297919866,
          0.12340258729703828,
          1.3972074095700282,
          -1.400939946555493,
          1.050979978143761,
          0.19436735904851585,
          -0.20423934437480293,
          1.707269574355147,
          -1.1200963283863776,
          -1.8289426096328703,
          -0.6902735932611638,
          0.1731486516107255,
          -1.1238930656827142,
          -0.26769297907693507,
          -1.2963287663260568,
          -0.4381458613461422,
          0.4622567290341809,
          0.564315818327561,
          -0.15683622731556487,
          -1.906840982387614,
          0.5078497775235092,
          -0.5281224643869874
         ]
        },
        {
         "histfunc": "count",
         "histnorm": "",
         "marker": {
          "color": "rgba(50, 171, 96, 1.0)",
          "line": {
           "color": "#4D5663",
           "width": 1.3
          }
         },
         "name": "C",
         "nbinsx": 50,
         "opacity": 0.8,
         "orientation": "v",
         "type": "histogram",
         "x": [
          1.537971522799382,
          1.9439769437729302,
          -0.8780238161615508,
          0.4124968127293803,
          0.07466725366935067,
          -0.5539178888964471,
          0.00817695387702504,
          -1.2550225340364434,
          -0.5412576554328449,
          0.24969679728174116,
          0.871816558580187,
          1.020279703993287,
          0.011320889793238592,
          -1.586461887104245,
          -1.8968158388241263,
          -0.43386820768173306,
          2.198788237723471,
          -0.3959962886467039,
          1.1110544950169268,
          -0.19278306304304224,
          0.4744246868857774,
          0.007933739243698234,
          0.48047374019415817,
          0.08804042706014781,
          -0.10125114913655739,
          0.027461063717202035,
          0.10859744350420796,
          0.8310009965841483,
          0.42059356089409355,
          0.48924415850726755,
          1.375976816229858,
          0.9838719678559592,
          -1.9232567317746518,
          1.0578963690677599,
          -0.8981540314035965,
          -0.9759356019915912,
          1.013960747882589,
          2.4638321283328626,
          0.079207450843994,
          0.20774520694751952,
          -0.33314912365440885,
          -0.6502008769080283,
          -0.718880191013,
          -1.1968027205800376,
          0.5236593226261017,
          -0.3941772676509596,
          -0.37461732273636805,
          -0.3876617327812021,
          -0.39807203644981676,
          2.328221185625653,
          -0.11577609704476109,
          -1.9346430989777617,
          -0.17173664488861562,
          0.7799954583712938,
          0.44781031095378643,
          -1.0944610854825378,
          -1.7955178763191209,
          -0.1338640634538081,
          -0.6082864970908706,
          -0.28877383730717926,
          -0.39777928940682455,
          -0.8379345405189532,
          1.8496783025891144,
          -0.40858164000605113,
          -0.17689760919626152,
          1.5795155037979336,
          1.5777090111862964,
          0.36523953730768677,
          -1.4845023123428644,
          1.2766513514043718,
          0.6846277469502795,
          0.5605741333739809,
          -0.7638965721430718,
          0.15265752408346378,
          0.2597804224859079,
          0.10295420125442119,
          0.9404406111536191,
          0.3235412049094401,
          -0.6620207833327258,
          0.19073897294613015,
          0.22247498881272565,
          -1.346912502160558,
          0.710632951197657,
          -0.7850388641380739,
          -0.5622713079810008,
          0.7229962130587485,
          -0.7339866177665963,
          -0.9911212919749353,
          -1.496459383599991,
          0.5426852207290529,
          0.43305187586703425,
          0.4258944990145214,
          1.0902255833182126,
          0.22734227626973183,
          0.38723354327631565,
          0.3713766651381148,
          0.2352304988266529,
          0.16145128560357638,
          0.11645425996929985,
          1.7896195966317734
         ]
        },
        {
         "histfunc": "count",
         "histnorm": "",
         "marker": {
          "color": "rgba(128, 0, 128, 1.0)",
          "line": {
           "color": "#4D5663",
           "width": 1.3
          }
         },
         "name": "D",
         "nbinsx": 50,
         "opacity": 0.8,
         "orientation": "v",
         "type": "histogram",
         "x": [
          0.3678171232589625,
          -0.6123213627371522,
          -0.2890912740793197,
          1.4416062794151767,
          -0.031007877389082762,
          0.21066867994888752,
          -0.8449498446329224,
          0.8394801074054848,
          1.1220616783066,
          0.7414951286989834,
          1.7059394077087338,
          -2.1575183351443314,
          -0.27228169067396957,
          -0.8222735398598566,
          -0.37270733125911626,
          1.1324930909504078,
          0.7237131916502513,
          -0.10093454511360091,
          -0.8344711780529005,
          0.7892018039744497,
          -1.1768864396408643,
          0.5384395360501053,
          -0.8716745319027909,
          -0.964495783243021,
          -0.9510926758024836,
          -1.5899922140297353,
          0.03947906137045445,
          -0.9040569632222731,
          1.2573838148185117,
          0.032368660363067826,
          0.00979716311962585,
          0.30189925388456806,
          -0.06836893783625991,
          -1.4830238059635945,
          2.8260226754504756,
          -1.7904184283143372,
          -0.19147572914500896,
          1.1334222316178524,
          0.07218388266810098,
          -0.6706938157194935,
          -0.787369287349699,
          0.33772976898905305,
          0.45289164094474577,
          -0.6386250109337946,
          -0.01696530433971158,
          0.11800755838890979,
          1.0935731165217104,
          -1.2066163009956685,
          1.7307802442979323,
          -0.694055702203546,
          -1.0787243593311957,
          0.8449859793236317,
          0.08114505951215607,
          0.48200938196228577,
          -0.30418199598000517,
          0.1107989331602753,
          -0.34506692295258384,
          1.4772323028116827,
          0.8897338055409254,
          -1.2970117479838066,
          -1.7401977008647422,
          0.6947525057730943,
          1.4168585094952768,
          -0.8682925467951569,
          0.14803006581044606,
          1.1113961368502225,
          0.45044683161909055,
          0.2387529698111168,
          0.07871816418155476,
          -0.8585228972180073,
          0.09299148979946799,
          0.5575922241457948,
          -0.015901030931749834,
          1.1928407027845176,
          0.1500119442760574,
          0.23881238689730214,
          1.5102065154067492,
          0.7186660940127791,
          0.6819436465246247,
          -1.5507226893448807,
          1.1033345618082833,
          1.183767610324313,
          0.8523275001657111,
          -0.8621163691043606,
          0.7145103720522716,
          1.2125641299415693,
          -1.3289064131476391,
          -0.32259983388745134,
          0.3280844786260632,
          0.20408059488367758,
          0.552476891498723,
          -0.12992629702660555,
          -0.7248427516851038,
          0.6576417736756259,
          1.4753555270758771,
          -0.41695017859014644,
          -0.7185905266648366,
          0.5863817062130624,
          -0.38997417451705346,
          0.6884888981305322
         ]
        }
       ],
       "layout": {
        "barmode": "overlay",
        "legend": {
         "bgcolor": "#F5F6F9",
         "font": {
          "color": "#4D5663"
         }
        },
        "paper_bgcolor": "#F5F6F9",
        "plot_bgcolor": "#F5F6F9",
        "template": {
         "data": {
          "bar": [
           {
            "error_x": {
             "color": "#2a3f5f"
            },
            "error_y": {
             "color": "#2a3f5f"
            },
            "marker": {
             "line": {
              "color": "#E5ECF6",
              "width": 0.5
             }
            },
            "type": "bar"
           }
          ],
          "barpolar": [
           {
            "marker": {
             "line": {
              "color": "#E5ECF6",
              "width": 0.5
             }
            },
            "type": "barpolar"
           }
          ],
          "carpet": [
           {
            "aaxis": {
             "endlinecolor": "#2a3f5f",
             "gridcolor": "white",
             "linecolor": "white",
             "minorgridcolor": "white",
             "startlinecolor": "#2a3f5f"
            },
            "baxis": {
             "endlinecolor": "#2a3f5f",
             "gridcolor": "white",
             "linecolor": "white",
             "minorgridcolor": "white",
             "startlinecolor": "#2a3f5f"
            },
            "type": "carpet"
           }
          ],
          "choropleth": [
           {
            "colorbar": {
             "outlinewidth": 0,
             "ticks": ""
            },
            "type": "choropleth"
           }
          ],
          "contour": [
           {
            "colorbar": {
             "outlinewidth": 0,
             "ticks": ""
            },
            "colorscale": [
             [
              0,
              "#0d0887"
             ],
             [
              0.1111111111111111,
              "#46039f"
             ],
             [
              0.2222222222222222,
              "#7201a8"
             ],
             [
              0.3333333333333333,
              "#9c179e"
             ],
             [
              0.4444444444444444,
              "#bd3786"
             ],
             [
              0.5555555555555556,
              "#d8576b"
             ],
             [
              0.6666666666666666,
              "#ed7953"
             ],
             [
              0.7777777777777778,
              "#fb9f3a"
             ],
             [
              0.8888888888888888,
              "#fdca26"
             ],
             [
              1,
              "#f0f921"
             ]
            ],
            "type": "contour"
           }
          ],
          "contourcarpet": [
           {
            "colorbar": {
             "outlinewidth": 0,
             "ticks": ""
            },
            "type": "contourcarpet"
           }
          ],
          "heatmap": [
           {
            "colorbar": {
             "outlinewidth": 0,
             "ticks": ""
            },
            "colorscale": [
             [
              0,
              "#0d0887"
             ],
             [
              0.1111111111111111,
              "#46039f"
             ],
             [
              0.2222222222222222,
              "#7201a8"
             ],
             [
              0.3333333333333333,
              "#9c179e"
             ],
             [
              0.4444444444444444,
              "#bd3786"
             ],
             [
              0.5555555555555556,
              "#d8576b"
             ],
             [
              0.6666666666666666,
              "#ed7953"
             ],
             [
              0.7777777777777778,
              "#fb9f3a"
             ],
             [
              0.8888888888888888,
              "#fdca26"
             ],
             [
              1,
              "#f0f921"
             ]
            ],
            "type": "heatmap"
           }
          ],
          "heatmapgl": [
           {
            "colorbar": {
             "outlinewidth": 0,
             "ticks": ""
            },
            "colorscale": [
             [
              0,
              "#0d0887"
             ],
             [
              0.1111111111111111,
              "#46039f"
             ],
             [
              0.2222222222222222,
              "#7201a8"
             ],
             [
              0.3333333333333333,
              "#9c179e"
             ],
             [
              0.4444444444444444,
              "#bd3786"
             ],
             [
              0.5555555555555556,
              "#d8576b"
             ],
             [
              0.6666666666666666,
              "#ed7953"
             ],
             [
              0.7777777777777778,
              "#fb9f3a"
             ],
             [
              0.8888888888888888,
              "#fdca26"
             ],
             [
              1,
              "#f0f921"
             ]
            ],
            "type": "heatmapgl"
           }
          ],
          "histogram": [
           {
            "marker": {
             "colorbar": {
              "outlinewidth": 0,
              "ticks": ""
             }
            },
            "type": "histogram"
           }
          ],
          "histogram2d": [
           {
            "colorbar": {
             "outlinewidth": 0,
             "ticks": ""
            },
            "colorscale": [
             [
              0,
              "#0d0887"
             ],
             [
              0.1111111111111111,
              "#46039f"
             ],
             [
              0.2222222222222222,
              "#7201a8"
             ],
             [
              0.3333333333333333,
              "#9c179e"
             ],
             [
              0.4444444444444444,
              "#bd3786"
             ],
             [
              0.5555555555555556,
              "#d8576b"
             ],
             [
              0.6666666666666666,
              "#ed7953"
             ],
             [
              0.7777777777777778,
              "#fb9f3a"
             ],
             [
              0.8888888888888888,
              "#fdca26"
             ],
             [
              1,
              "#f0f921"
             ]
            ],
            "type": "histogram2d"
           }
          ],
          "histogram2dcontour": [
           {
            "colorbar": {
             "outlinewidth": 0,
             "ticks": ""
            },
            "colorscale": [
             [
              0,
              "#0d0887"
             ],
             [
              0.1111111111111111,
              "#46039f"
             ],
             [
              0.2222222222222222,
              "#7201a8"
             ],
             [
              0.3333333333333333,
              "#9c179e"
             ],
             [
              0.4444444444444444,
              "#bd3786"
             ],
             [
              0.5555555555555556,
              "#d8576b"
             ],
             [
              0.6666666666666666,
              "#ed7953"
             ],
             [
              0.7777777777777778,
              "#fb9f3a"
             ],
             [
              0.8888888888888888,
              "#fdca26"
             ],
             [
              1,
              "#f0f921"
             ]
            ],
            "type": "histogram2dcontour"
           }
          ],
          "mesh3d": [
           {
            "colorbar": {
             "outlinewidth": 0,
             "ticks": ""
            },
            "type": "mesh3d"
           }
          ],
          "parcoords": [
           {
            "line": {
             "colorbar": {
              "outlinewidth": 0,
              "ticks": ""
             }
            },
            "type": "parcoords"
           }
          ],
          "pie": [
           {
            "automargin": true,
            "type": "pie"
           }
          ],
          "scatter": [
           {
            "marker": {
             "colorbar": {
              "outlinewidth": 0,
              "ticks": ""
             }
            },
            "type": "scatter"
           }
          ],
          "scatter3d": [
           {
            "line": {
             "colorbar": {
              "outlinewidth": 0,
              "ticks": ""
             }
            },
            "marker": {
             "colorbar": {
              "outlinewidth": 0,
              "ticks": ""
             }
            },
            "type": "scatter3d"
           }
          ],
          "scattercarpet": [
           {
            "marker": {
             "colorbar": {
              "outlinewidth": 0,
              "ticks": ""
             }
            },
            "type": "scattercarpet"
           }
          ],
          "scattergeo": [
           {
            "marker": {
             "colorbar": {
              "outlinewidth": 0,
              "ticks": ""
             }
            },
            "type": "scattergeo"
           }
          ],
          "scattergl": [
           {
            "marker": {
             "colorbar": {
              "outlinewidth": 0,
              "ticks": ""
             }
            },
            "type": "scattergl"
           }
          ],
          "scattermapbox": [
           {
            "marker": {
             "colorbar": {
              "outlinewidth": 0,
              "ticks": ""
             }
            },
            "type": "scattermapbox"
           }
          ],
          "scatterpolar": [
           {
            "marker": {
             "colorbar": {
              "outlinewidth": 0,
              "ticks": ""
             }
            },
            "type": "scatterpolar"
           }
          ],
          "scatterpolargl": [
           {
            "marker": {
             "colorbar": {
              "outlinewidth": 0,
              "ticks": ""
             }
            },
            "type": "scatterpolargl"
           }
          ],
          "scatterternary": [
           {
            "marker": {
             "colorbar": {
              "outlinewidth": 0,
              "ticks": ""
             }
            },
            "type": "scatterternary"
           }
          ],
          "surface": [
           {
            "colorbar": {
             "outlinewidth": 0,
             "ticks": ""
            },
            "colorscale": [
             [
              0,
              "#0d0887"
             ],
             [
              0.1111111111111111,
              "#46039f"
             ],
             [
              0.2222222222222222,
              "#7201a8"
             ],
             [
              0.3333333333333333,
              "#9c179e"
             ],
             [
              0.4444444444444444,
              "#bd3786"
             ],
             [
              0.5555555555555556,
              "#d8576b"
             ],
             [
              0.6666666666666666,
              "#ed7953"
             ],
             [
              0.7777777777777778,
              "#fb9f3a"
             ],
             [
              0.8888888888888888,
              "#fdca26"
             ],
             [
              1,
              "#f0f921"
             ]
            ],
            "type": "surface"
           }
          ],
          "table": [
           {
            "cells": {
             "fill": {
              "color": "#EBF0F8"
             },
             "line": {
              "color": "white"
             }
            },
            "header": {
             "fill": {
              "color": "#C8D4E3"
             },
             "line": {
              "color": "white"
             }
            },
            "type": "table"
           }
          ]
         },
         "layout": {
          "annotationdefaults": {
           "arrowcolor": "#2a3f5f",
           "arrowhead": 0,
           "arrowwidth": 1
          },
          "autotypenumbers": "strict",
          "coloraxis": {
           "colorbar": {
            "outlinewidth": 0,
            "ticks": ""
           }
          },
          "colorscale": {
           "diverging": [
            [
             0,
             "#8e0152"
            ],
            [
             0.1,
             "#c51b7d"
            ],
            [
             0.2,
             "#de77ae"
            ],
            [
             0.3,
             "#f1b6da"
            ],
            [
             0.4,
             "#fde0ef"
            ],
            [
             0.5,
             "#f7f7f7"
            ],
            [
             0.6,
             "#e6f5d0"
            ],
            [
             0.7,
             "#b8e186"
            ],
            [
             0.8,
             "#7fbc41"
            ],
            [
             0.9,
             "#4d9221"
            ],
            [
             1,
             "#276419"
            ]
           ],
           "sequential": [
            [
             0,
             "#0d0887"
            ],
            [
             0.1111111111111111,
             "#46039f"
            ],
            [
             0.2222222222222222,
             "#7201a8"
            ],
            [
             0.3333333333333333,
             "#9c179e"
            ],
            [
             0.4444444444444444,
             "#bd3786"
            ],
            [
             0.5555555555555556,
             "#d8576b"
            ],
            [
             0.6666666666666666,
             "#ed7953"
            ],
            [
             0.7777777777777778,
             "#fb9f3a"
            ],
            [
             0.8888888888888888,
             "#fdca26"
            ],
            [
             1,
             "#f0f921"
            ]
           ],
           "sequentialminus": [
            [
             0,
             "#0d0887"
            ],
            [
             0.1111111111111111,
             "#46039f"
            ],
            [
             0.2222222222222222,
             "#7201a8"
            ],
            [
             0.3333333333333333,
             "#9c179e"
            ],
            [
             0.4444444444444444,
             "#bd3786"
            ],
            [
             0.5555555555555556,
             "#d8576b"
            ],
            [
             0.6666666666666666,
             "#ed7953"
            ],
            [
             0.7777777777777778,
             "#fb9f3a"
            ],
            [
             0.8888888888888888,
             "#fdca26"
            ],
            [
             1,
             "#f0f921"
            ]
           ]
          },
          "colorway": [
           "#636efa",
           "#EF553B",
           "#00cc96",
           "#ab63fa",
           "#FFA15A",
           "#19d3f3",
           "#FF6692",
           "#B6E880",
           "#FF97FF",
           "#FECB52"
          ],
          "font": {
           "color": "#2a3f5f"
          },
          "geo": {
           "bgcolor": "white",
           "lakecolor": "white",
           "landcolor": "#E5ECF6",
           "showlakes": true,
           "showland": true,
           "subunitcolor": "white"
          },
          "hoverlabel": {
           "align": "left"
          },
          "hovermode": "closest",
          "mapbox": {
           "style": "light"
          },
          "paper_bgcolor": "white",
          "plot_bgcolor": "#E5ECF6",
          "polar": {
           "angularaxis": {
            "gridcolor": "white",
            "linecolor": "white",
            "ticks": ""
           },
           "bgcolor": "#E5ECF6",
           "radialaxis": {
            "gridcolor": "white",
            "linecolor": "white",
            "ticks": ""
           }
          },
          "scene": {
           "xaxis": {
            "backgroundcolor": "#E5ECF6",
            "gridcolor": "white",
            "gridwidth": 2,
            "linecolor": "white",
            "showbackground": true,
            "ticks": "",
            "zerolinecolor": "white"
           },
           "yaxis": {
            "backgroundcolor": "#E5ECF6",
            "gridcolor": "white",
            "gridwidth": 2,
            "linecolor": "white",
            "showbackground": true,
            "ticks": "",
            "zerolinecolor": "white"
           },
           "zaxis": {
            "backgroundcolor": "#E5ECF6",
            "gridcolor": "white",
            "gridwidth": 2,
            "linecolor": "white",
            "showbackground": true,
            "ticks": "",
            "zerolinecolor": "white"
           }
          },
          "shapedefaults": {
           "line": {
            "color": "#2a3f5f"
           }
          },
          "ternary": {
           "aaxis": {
            "gridcolor": "white",
            "linecolor": "white",
            "ticks": ""
           },
           "baxis": {
            "gridcolor": "white",
            "linecolor": "white",
            "ticks": ""
           },
           "bgcolor": "#E5ECF6",
           "caxis": {
            "gridcolor": "white",
            "linecolor": "white",
            "ticks": ""
           }
          },
          "title": {
           "x": 0.05
          },
          "xaxis": {
           "automargin": true,
           "gridcolor": "white",
           "linecolor": "white",
           "ticks": "",
           "title": {
            "standoff": 15
           },
           "zerolinecolor": "white",
           "zerolinewidth": 2
          },
          "yaxis": {
           "automargin": true,
           "gridcolor": "white",
           "linecolor": "white",
           "ticks": "",
           "title": {
            "standoff": 15
           },
           "zerolinecolor": "white",
           "zerolinewidth": 2
          }
         }
        },
        "title": {
         "font": {
          "color": "#4D5663"
         }
        },
        "xaxis": {
         "gridcolor": "#E1E5ED",
         "showgrid": true,
         "tickfont": {
          "color": "#4D5663"
         },
         "title": {
          "font": {
           "color": "#4D5663"
          },
          "text": ""
         },
         "zerolinecolor": "#E1E5ED"
        },
        "yaxis": {
         "gridcolor": "#E1E5ED",
         "showgrid": true,
         "tickfont": {
          "color": "#4D5663"
         },
         "title": {
          "font": {
           "color": "#4D5663"
          },
          "text": ""
         },
         "zerolinecolor": "#E1E5ED"
        }
       }
      },
      "text/html": [
       "<div>                            <div id=\"8009105a-8f96-4aa0-87de-09bcb4ae658c\" class=\"plotly-graph-div\" style=\"height:525px; width:100%;\"></div>            <script type=\"text/javascript\">                require([\"plotly\"], function(Plotly) {                    window.PLOTLYENV=window.PLOTLYENV || {};\n",
       "                    window.PLOTLYENV.BASE_URL='https://plot.ly';                                    if (document.getElementById(\"8009105a-8f96-4aa0-87de-09bcb4ae658c\")) {                    Plotly.newPlot(                        \"8009105a-8f96-4aa0-87de-09bcb4ae658c\",                        [{\"histfunc\": \"count\", \"histnorm\": \"\", \"marker\": {\"color\": \"rgba(255, 153, 51, 1.0)\", \"line\": {\"color\": \"#4D5663\", \"width\": 1.3}}, \"name\": \"A\", \"nbinsx\": 50, \"opacity\": 0.8, \"orientation\": \"v\", \"type\": \"histogram\", \"x\": [-0.6707154253506642, -1.9500262411133285, 0.47330149330972787, 0.3220821058806944, 0.20805808808316156, -0.35109658451676334, 0.6962852968692117, -0.10784531902689991, 1.5086544793457553, -1.340268292912184, 0.7644344119612071, -0.26780932113299405, 0.1878224556979502, 1.171246085614569, 0.1851093548441989, 0.2823252049199303, 0.6932277961556744, -0.6769518643083233, -0.19354333756548917, 2.1363357457530587, 0.040971497941110074, -1.7778136621759986, 3.13702519812112, 1.5018405020580647, -1.6127044945937676, -0.03130235727745821, 0.09640237026125606, -0.5360328057285065, 0.8757207392735993, 0.28188882285582134, -0.6267644208076626, 0.522160591589084, 0.7117289724168866, -0.6437782301720258, 0.2712843372224381, 0.6033468190197396, 0.8021238883637443, -0.7702350535759206, -1.6829360015664283, 0.6731359493896302, -1.0248199572464276, 0.8986669891621416, -0.3657217093686965, -0.19140225513344197, -0.027425781658837873, -0.4486319931274092, -1.2072169461605697, 1.1119462802015492, 0.7169013061838068, 1.092554147709969, 0.3877181592512865, -0.5077243469664451, 0.40449061501060224, 0.22132603560676464, 0.5266282050852957, -0.3950309560310908, -0.005066618020162976, 0.5397516109289167, -0.24187446680324345, -2.4180231477424297, -0.1118720542279614, 0.7891934411928745, -1.4595096578166131, -1.6641566424292111, 0.4641685548997316, 0.2039478823314363, 0.033767471863369765, -1.0739728733906564, -1.8950403385455485, 0.33690673212261363, -0.34158656775274315, -0.1877609055445049, -1.3877147132450043, -0.5621215400627225, -0.25322924851168455, 1.8159900315694717, -0.34533226510827736, 1.0356949538332458, 1.2021841404538256, -0.3927476513776488, 0.837235412643784, -1.6234430720105062, 1.243235860033378, 0.16800048711867446, 0.4391194684694063, -0.27275232834051005, 1.8786432214985485, -1.036152949055604, -0.8484408810170442, 0.3225952169549622, 1.866756994721403, -0.5069716474593075, 0.569264356614395, 0.28876108330768585, -0.14817903275171626, -1.863044870763895, 1.8120988870687478, 0.18420897831186897, 0.16052440170636006, 2.5581870205130657]}, {\"histfunc\": \"count\", \"histnorm\": \"\", \"marker\": {\"color\": \"rgba(55, 128, 191, 1.0)\", \"line\": {\"color\": \"#4D5663\", \"width\": 1.3}}, \"name\": \"B\", \"nbinsx\": 50, \"opacity\": 0.8, \"orientation\": \"v\", \"type\": \"histogram\", \"x\": [2.1058842826318607, -2.072359511310542, -0.3416009005606861, -0.7284799185898405, -1.2504681420191213, 0.36929949318306843, 0.30650633934084254, -0.7822857645842319, -0.40249307975607373, -0.4894825593030477, -2.0423146065028983, 0.9872944141587103, -1.0569817425686823, -1.6293020589481364, -0.3653355683975144, 0.34908380245013, -0.9930184191231534, -1.5459068965500842, -0.4303553133615934, 0.6436591668209447, 0.8434328960587413, -0.8293341375988842, -0.17665403988967887, 0.05571735134683879, 0.7712899419374236, 1.8392243290245631, -0.02887245228532163, -0.27213303990882726, -0.9293654935733069, -0.1717099056031576, 0.10629681858599707, -0.15554719806862996, -0.9964845946839231, 0.6092294141232871, 0.674977835522611, 1.1574969173759908, -0.0904536430233091, 1.340391985298189, 0.7013388590982971, 0.5803876294942691, -0.4777178856989432, -0.4783100209870064, -0.23670952507275758, -1.1222153054155775, -0.10985297273626017, -0.08838416929997245, 2.705075337277412, -1.353083311770451, -0.15123585689753194, -0.5079059934573342, 0.214658887024363, 0.0962629830423297, 1.2226846938925608, -1.3849716686465248, 2.47057224290792, -0.23622331664434187, -0.01386735927959883, 0.3146974131045074, -1.611843264935958, 0.6219892118864861, -0.25545298334001854, -0.20578715948195975, 0.5026081049701817, -0.05039893194269115, -1.451888593332071, -1.6684912330390367, 0.09839970157327095, -1.1912211957943615, 0.35544779363433393, 0.6886730916876131, 0.8392771480070627, 1.6715975529189262, 0.2645710679527483, 1.3357616401053343, -1.0479861237285117, -0.2708393114170538, -0.8665667773800374, 1.3146913254236081, 2.557788297919866, 0.12340258729703828, 1.3972074095700282, -1.400939946555493, 1.050979978143761, 0.19436735904851585, -0.20423934437480293, 1.707269574355147, -1.1200963283863776, -1.8289426096328703, -0.6902735932611638, 0.1731486516107255, -1.1238930656827142, -0.26769297907693507, -1.2963287663260568, -0.4381458613461422, 0.4622567290341809, 0.564315818327561, -0.15683622731556487, -1.906840982387614, 0.5078497775235092, -0.5281224643869874]}, {\"histfunc\": \"count\", \"histnorm\": \"\", \"marker\": {\"color\": \"rgba(50, 171, 96, 1.0)\", \"line\": {\"color\": \"#4D5663\", \"width\": 1.3}}, \"name\": \"C\", \"nbinsx\": 50, \"opacity\": 0.8, \"orientation\": \"v\", \"type\": \"histogram\", \"x\": [1.537971522799382, 1.9439769437729302, -0.8780238161615508, 0.4124968127293803, 0.07466725366935067, -0.5539178888964471, 0.00817695387702504, -1.2550225340364434, -0.5412576554328449, 0.24969679728174116, 0.871816558580187, 1.020279703993287, 0.011320889793238592, -1.586461887104245, -1.8968158388241263, -0.43386820768173306, 2.198788237723471, -0.3959962886467039, 1.1110544950169268, -0.19278306304304224, 0.4744246868857774, 0.007933739243698234, 0.48047374019415817, 0.08804042706014781, -0.10125114913655739, 0.027461063717202035, 0.10859744350420796, 0.8310009965841483, 0.42059356089409355, 0.48924415850726755, 1.375976816229858, 0.9838719678559592, -1.9232567317746518, 1.0578963690677599, -0.8981540314035965, -0.9759356019915912, 1.013960747882589, 2.4638321283328626, 0.079207450843994, 0.20774520694751952, -0.33314912365440885, -0.6502008769080283, -0.718880191013, -1.1968027205800376, 0.5236593226261017, -0.3941772676509596, -0.37461732273636805, -0.3876617327812021, -0.39807203644981676, 2.328221185625653, -0.11577609704476109, -1.9346430989777617, -0.17173664488861562, 0.7799954583712938, 0.44781031095378643, -1.0944610854825378, -1.7955178763191209, -0.1338640634538081, -0.6082864970908706, -0.28877383730717926, -0.39777928940682455, -0.8379345405189532, 1.8496783025891144, -0.40858164000605113, -0.17689760919626152, 1.5795155037979336, 1.5777090111862964, 0.36523953730768677, -1.4845023123428644, 1.2766513514043718, 0.6846277469502795, 0.5605741333739809, -0.7638965721430718, 0.15265752408346378, 0.2597804224859079, 0.10295420125442119, 0.9404406111536191, 0.3235412049094401, -0.6620207833327258, 0.19073897294613015, 0.22247498881272565, -1.346912502160558, 0.710632951197657, -0.7850388641380739, -0.5622713079810008, 0.7229962130587485, -0.7339866177665963, -0.9911212919749353, -1.496459383599991, 0.5426852207290529, 0.43305187586703425, 0.4258944990145214, 1.0902255833182126, 0.22734227626973183, 0.38723354327631565, 0.3713766651381148, 0.2352304988266529, 0.16145128560357638, 0.11645425996929985, 1.7896195966317734]}, {\"histfunc\": \"count\", \"histnorm\": \"\", \"marker\": {\"color\": \"rgba(128, 0, 128, 1.0)\", \"line\": {\"color\": \"#4D5663\", \"width\": 1.3}}, \"name\": \"D\", \"nbinsx\": 50, \"opacity\": 0.8, \"orientation\": \"v\", \"type\": \"histogram\", \"x\": [0.3678171232589625, -0.6123213627371522, -0.2890912740793197, 1.4416062794151767, -0.031007877389082762, 0.21066867994888752, -0.8449498446329224, 0.8394801074054848, 1.1220616783066, 0.7414951286989834, 1.7059394077087338, -2.1575183351443314, -0.27228169067396957, -0.8222735398598566, -0.37270733125911626, 1.1324930909504078, 0.7237131916502513, -0.10093454511360091, -0.8344711780529005, 0.7892018039744497, -1.1768864396408643, 0.5384395360501053, -0.8716745319027909, -0.964495783243021, -0.9510926758024836, -1.5899922140297353, 0.03947906137045445, -0.9040569632222731, 1.2573838148185117, 0.032368660363067826, 0.00979716311962585, 0.30189925388456806, -0.06836893783625991, -1.4830238059635945, 2.8260226754504756, -1.7904184283143372, -0.19147572914500896, 1.1334222316178524, 0.07218388266810098, -0.6706938157194935, -0.787369287349699, 0.33772976898905305, 0.45289164094474577, -0.6386250109337946, -0.01696530433971158, 0.11800755838890979, 1.0935731165217104, -1.2066163009956685, 1.7307802442979323, -0.694055702203546, -1.0787243593311957, 0.8449859793236317, 0.08114505951215607, 0.48200938196228577, -0.30418199598000517, 0.1107989331602753, -0.34506692295258384, 1.4772323028116827, 0.8897338055409254, -1.2970117479838066, -1.7401977008647422, 0.6947525057730943, 1.4168585094952768, -0.8682925467951569, 0.14803006581044606, 1.1113961368502225, 0.45044683161909055, 0.2387529698111168, 0.07871816418155476, -0.8585228972180073, 0.09299148979946799, 0.5575922241457948, -0.015901030931749834, 1.1928407027845176, 0.1500119442760574, 0.23881238689730214, 1.5102065154067492, 0.7186660940127791, 0.6819436465246247, -1.5507226893448807, 1.1033345618082833, 1.183767610324313, 0.8523275001657111, -0.8621163691043606, 0.7145103720522716, 1.2125641299415693, -1.3289064131476391, -0.32259983388745134, 0.3280844786260632, 0.20408059488367758, 0.552476891498723, -0.12992629702660555, -0.7248427516851038, 0.6576417736756259, 1.4753555270758771, -0.41695017859014644, -0.7185905266648366, 0.5863817062130624, -0.38997417451705346, 0.6884888981305322]}],                        {\"barmode\": \"overlay\", \"legend\": {\"bgcolor\": \"#F5F6F9\", \"font\": {\"color\": \"#4D5663\"}}, \"paper_bgcolor\": \"#F5F6F9\", \"plot_bgcolor\": \"#F5F6F9\", \"template\": {\"data\": {\"bar\": [{\"error_x\": {\"color\": \"#2a3f5f\"}, \"error_y\": {\"color\": \"#2a3f5f\"}, \"marker\": {\"line\": {\"color\": \"#E5ECF6\", \"width\": 0.5}}, \"type\": \"bar\"}], \"barpolar\": [{\"marker\": {\"line\": {\"color\": \"#E5ECF6\", \"width\": 0.5}}, \"type\": \"barpolar\"}], \"carpet\": [{\"aaxis\": {\"endlinecolor\": \"#2a3f5f\", \"gridcolor\": \"white\", \"linecolor\": \"white\", \"minorgridcolor\": \"white\", \"startlinecolor\": \"#2a3f5f\"}, \"baxis\": {\"endlinecolor\": \"#2a3f5f\", \"gridcolor\": \"white\", \"linecolor\": \"white\", \"minorgridcolor\": \"white\", \"startlinecolor\": \"#2a3f5f\"}, \"type\": \"carpet\"}], \"choropleth\": [{\"colorbar\": {\"outlinewidth\": 0, \"ticks\": \"\"}, \"type\": \"choropleth\"}], \"contour\": [{\"colorbar\": {\"outlinewidth\": 0, \"ticks\": \"\"}, \"colorscale\": [[0.0, \"#0d0887\"], [0.1111111111111111, \"#46039f\"], [0.2222222222222222, \"#7201a8\"], [0.3333333333333333, \"#9c179e\"], [0.4444444444444444, \"#bd3786\"], [0.5555555555555556, \"#d8576b\"], [0.6666666666666666, \"#ed7953\"], [0.7777777777777778, \"#fb9f3a\"], [0.8888888888888888, \"#fdca26\"], [1.0, \"#f0f921\"]], \"type\": \"contour\"}], \"contourcarpet\": [{\"colorbar\": {\"outlinewidth\": 0, \"ticks\": \"\"}, \"type\": \"contourcarpet\"}], \"heatmap\": [{\"colorbar\": {\"outlinewidth\": 0, \"ticks\": \"\"}, \"colorscale\": [[0.0, \"#0d0887\"], [0.1111111111111111, \"#46039f\"], [0.2222222222222222, \"#7201a8\"], [0.3333333333333333, \"#9c179e\"], [0.4444444444444444, \"#bd3786\"], [0.5555555555555556, \"#d8576b\"], [0.6666666666666666, \"#ed7953\"], [0.7777777777777778, \"#fb9f3a\"], [0.8888888888888888, \"#fdca26\"], [1.0, \"#f0f921\"]], \"type\": \"heatmap\"}], \"heatmapgl\": [{\"colorbar\": {\"outlinewidth\": 0, \"ticks\": \"\"}, \"colorscale\": [[0.0, \"#0d0887\"], [0.1111111111111111, \"#46039f\"], [0.2222222222222222, \"#7201a8\"], [0.3333333333333333, \"#9c179e\"], [0.4444444444444444, \"#bd3786\"], [0.5555555555555556, \"#d8576b\"], [0.6666666666666666, \"#ed7953\"], [0.7777777777777778, \"#fb9f3a\"], [0.8888888888888888, \"#fdca26\"], [1.0, \"#f0f921\"]], \"type\": \"heatmapgl\"}], \"histogram\": [{\"marker\": {\"colorbar\": {\"outlinewidth\": 0, \"ticks\": \"\"}}, \"type\": \"histogram\"}], \"histogram2d\": [{\"colorbar\": {\"outlinewidth\": 0, \"ticks\": \"\"}, \"colorscale\": [[0.0, \"#0d0887\"], [0.1111111111111111, \"#46039f\"], [0.2222222222222222, \"#7201a8\"], [0.3333333333333333, \"#9c179e\"], [0.4444444444444444, \"#bd3786\"], [0.5555555555555556, \"#d8576b\"], [0.6666666666666666, \"#ed7953\"], [0.7777777777777778, \"#fb9f3a\"], [0.8888888888888888, \"#fdca26\"], [1.0, \"#f0f921\"]], \"type\": \"histogram2d\"}], \"histogram2dcontour\": [{\"colorbar\": {\"outlinewidth\": 0, \"ticks\": \"\"}, \"colorscale\": [[0.0, \"#0d0887\"], [0.1111111111111111, \"#46039f\"], [0.2222222222222222, \"#7201a8\"], [0.3333333333333333, \"#9c179e\"], [0.4444444444444444, \"#bd3786\"], [0.5555555555555556, \"#d8576b\"], [0.6666666666666666, \"#ed7953\"], [0.7777777777777778, \"#fb9f3a\"], [0.8888888888888888, \"#fdca26\"], [1.0, \"#f0f921\"]], \"type\": \"histogram2dcontour\"}], \"mesh3d\": [{\"colorbar\": {\"outlinewidth\": 0, \"ticks\": \"\"}, \"type\": \"mesh3d\"}], \"parcoords\": [{\"line\": {\"colorbar\": {\"outlinewidth\": 0, \"ticks\": \"\"}}, \"type\": \"parcoords\"}], \"pie\": [{\"automargin\": true, \"type\": \"pie\"}], \"scatter\": [{\"marker\": {\"colorbar\": {\"outlinewidth\": 0, \"ticks\": \"\"}}, \"type\": \"scatter\"}], \"scatter3d\": [{\"line\": {\"colorbar\": {\"outlinewidth\": 0, \"ticks\": \"\"}}, \"marker\": {\"colorbar\": {\"outlinewidth\": 0, \"ticks\": \"\"}}, \"type\": \"scatter3d\"}], \"scattercarpet\": [{\"marker\": {\"colorbar\": {\"outlinewidth\": 0, \"ticks\": \"\"}}, \"type\": \"scattercarpet\"}], \"scattergeo\": [{\"marker\": {\"colorbar\": {\"outlinewidth\": 0, \"ticks\": \"\"}}, \"type\": \"scattergeo\"}], \"scattergl\": [{\"marker\": {\"colorbar\": {\"outlinewidth\": 0, \"ticks\": \"\"}}, \"type\": \"scattergl\"}], \"scattermapbox\": [{\"marker\": {\"colorbar\": {\"outlinewidth\": 0, \"ticks\": \"\"}}, \"type\": \"scattermapbox\"}], \"scatterpolar\": [{\"marker\": {\"colorbar\": {\"outlinewidth\": 0, \"ticks\": \"\"}}, \"type\": \"scatterpolar\"}], \"scatterpolargl\": [{\"marker\": {\"colorbar\": {\"outlinewidth\": 0, \"ticks\": \"\"}}, \"type\": \"scatterpolargl\"}], \"scatterternary\": [{\"marker\": {\"colorbar\": {\"outlinewidth\": 0, \"ticks\": \"\"}}, \"type\": \"scatterternary\"}], \"surface\": [{\"colorbar\": {\"outlinewidth\": 0, \"ticks\": \"\"}, \"colorscale\": [[0.0, \"#0d0887\"], [0.1111111111111111, \"#46039f\"], [0.2222222222222222, \"#7201a8\"], [0.3333333333333333, \"#9c179e\"], [0.4444444444444444, \"#bd3786\"], [0.5555555555555556, \"#d8576b\"], [0.6666666666666666, \"#ed7953\"], [0.7777777777777778, \"#fb9f3a\"], [0.8888888888888888, \"#fdca26\"], [1.0, \"#f0f921\"]], \"type\": \"surface\"}], \"table\": [{\"cells\": {\"fill\": {\"color\": \"#EBF0F8\"}, \"line\": {\"color\": \"white\"}}, \"header\": {\"fill\": {\"color\": \"#C8D4E3\"}, \"line\": {\"color\": \"white\"}}, \"type\": \"table\"}]}, \"layout\": {\"annotationdefaults\": {\"arrowcolor\": \"#2a3f5f\", \"arrowhead\": 0, \"arrowwidth\": 1}, \"autotypenumbers\": \"strict\", \"coloraxis\": {\"colorbar\": {\"outlinewidth\": 0, \"ticks\": \"\"}}, \"colorscale\": {\"diverging\": [[0, \"#8e0152\"], [0.1, \"#c51b7d\"], [0.2, \"#de77ae\"], [0.3, \"#f1b6da\"], [0.4, \"#fde0ef\"], [0.5, \"#f7f7f7\"], [0.6, \"#e6f5d0\"], [0.7, \"#b8e186\"], [0.8, \"#7fbc41\"], [0.9, \"#4d9221\"], [1, \"#276419\"]], \"sequential\": [[0.0, \"#0d0887\"], [0.1111111111111111, \"#46039f\"], [0.2222222222222222, \"#7201a8\"], [0.3333333333333333, \"#9c179e\"], [0.4444444444444444, \"#bd3786\"], [0.5555555555555556, \"#d8576b\"], [0.6666666666666666, \"#ed7953\"], [0.7777777777777778, \"#fb9f3a\"], [0.8888888888888888, \"#fdca26\"], [1.0, \"#f0f921\"]], \"sequentialminus\": [[0.0, \"#0d0887\"], [0.1111111111111111, \"#46039f\"], [0.2222222222222222, \"#7201a8\"], [0.3333333333333333, \"#9c179e\"], [0.4444444444444444, \"#bd3786\"], [0.5555555555555556, \"#d8576b\"], [0.6666666666666666, \"#ed7953\"], [0.7777777777777778, \"#fb9f3a\"], [0.8888888888888888, \"#fdca26\"], [1.0, \"#f0f921\"]]}, \"colorway\": [\"#636efa\", \"#EF553B\", \"#00cc96\", \"#ab63fa\", \"#FFA15A\", \"#19d3f3\", \"#FF6692\", \"#B6E880\", \"#FF97FF\", \"#FECB52\"], \"font\": {\"color\": \"#2a3f5f\"}, \"geo\": {\"bgcolor\": \"white\", \"lakecolor\": \"white\", \"landcolor\": \"#E5ECF6\", \"showlakes\": true, \"showland\": true, \"subunitcolor\": \"white\"}, \"hoverlabel\": {\"align\": \"left\"}, \"hovermode\": \"closest\", \"mapbox\": {\"style\": \"light\"}, \"paper_bgcolor\": \"white\", \"plot_bgcolor\": \"#E5ECF6\", \"polar\": {\"angularaxis\": {\"gridcolor\": \"white\", \"linecolor\": \"white\", \"ticks\": \"\"}, \"bgcolor\": \"#E5ECF6\", \"radialaxis\": {\"gridcolor\": \"white\", \"linecolor\": \"white\", \"ticks\": \"\"}}, \"scene\": {\"xaxis\": {\"backgroundcolor\": \"#E5ECF6\", \"gridcolor\": \"white\", \"gridwidth\": 2, \"linecolor\": \"white\", \"showbackground\": true, \"ticks\": \"\", \"zerolinecolor\": \"white\"}, \"yaxis\": {\"backgroundcolor\": \"#E5ECF6\", \"gridcolor\": \"white\", \"gridwidth\": 2, \"linecolor\": \"white\", \"showbackground\": true, \"ticks\": \"\", \"zerolinecolor\": \"white\"}, \"zaxis\": {\"backgroundcolor\": \"#E5ECF6\", \"gridcolor\": \"white\", \"gridwidth\": 2, \"linecolor\": \"white\", \"showbackground\": true, \"ticks\": \"\", \"zerolinecolor\": \"white\"}}, \"shapedefaults\": {\"line\": {\"color\": \"#2a3f5f\"}}, \"ternary\": {\"aaxis\": {\"gridcolor\": \"white\", \"linecolor\": \"white\", \"ticks\": \"\"}, \"baxis\": {\"gridcolor\": \"white\", \"linecolor\": \"white\", \"ticks\": \"\"}, \"bgcolor\": \"#E5ECF6\", \"caxis\": {\"gridcolor\": \"white\", \"linecolor\": \"white\", \"ticks\": \"\"}}, \"title\": {\"x\": 0.05}, \"xaxis\": {\"automargin\": true, \"gridcolor\": \"white\", \"linecolor\": \"white\", \"ticks\": \"\", \"title\": {\"standoff\": 15}, \"zerolinecolor\": \"white\", \"zerolinewidth\": 2}, \"yaxis\": {\"automargin\": true, \"gridcolor\": \"white\", \"linecolor\": \"white\", \"ticks\": \"\", \"title\": {\"standoff\": 15}, \"zerolinecolor\": \"white\", \"zerolinewidth\": 2}}}, \"title\": {\"font\": {\"color\": \"#4D5663\"}}, \"xaxis\": {\"gridcolor\": \"#E1E5ED\", \"showgrid\": true, \"tickfont\": {\"color\": \"#4D5663\"}, \"title\": {\"font\": {\"color\": \"#4D5663\"}, \"text\": \"\"}, \"zerolinecolor\": \"#E1E5ED\"}, \"yaxis\": {\"gridcolor\": \"#E1E5ED\", \"showgrid\": true, \"tickfont\": {\"color\": \"#4D5663\"}, \"title\": {\"font\": {\"color\": \"#4D5663\"}, \"text\": \"\"}, \"zerolinecolor\": \"#E1E5ED\"}},                        {\"showLink\": true, \"linkText\": \"Export to plot.ly\", \"plotlyServerURL\": \"https://plot.ly\", \"responsive\": true}                    ).then(function(){\n",
       "                            \n",
       "var gd = document.getElementById('8009105a-8f96-4aa0-87de-09bcb4ae658c');\n",
       "var x = new MutationObserver(function (mutations, observer) {{\n",
       "        var display = window.getComputedStyle(gd).display;\n",
       "        if (!display || display === 'none') {{\n",
       "            console.log([gd, 'removed!']);\n",
       "            Plotly.purge(gd);\n",
       "            observer.disconnect();\n",
       "        }}\n",
       "}});\n",
       "\n",
       "// Listen for the removal of the full notebook cells\n",
       "var notebookContainer = gd.closest('#notebook-container');\n",
       "if (notebookContainer) {{\n",
       "    x.observe(notebookContainer, {childList: true});\n",
       "}}\n",
       "\n",
       "// Listen for the clearing of the current output cell\n",
       "var outputEl = gd.closest('.output');\n",
       "if (outputEl) {{\n",
       "    x.observe(outputEl, {childList: true});\n",
       "}}\n",
       "\n",
       "                        })                };                });            </script>        </div>"
      ]
     },
     "metadata": {},
     "output_type": "display_data"
    }
   ],
   "source": [
    "df.iplot(kind='hist',bins=50)\n",
    "#if we plot histogram of the entire dataframe we get the overlappig histogram of all the columns"
   ]
  },
  {
   "cell_type": "code",
   "execution_count": 30,
   "id": "45266dd9",
   "metadata": {},
   "outputs": [
    {
     "name": "stderr",
     "output_type": "stream",
     "text": [
      "C:\\Users\\hp\\Anaconda3\\lib\\site-packages\\cufflinks\\plotlytools.py:849: FutureWarning:\n",
      "\n",
      "The pandas.np module is deprecated and will be removed from pandas in a future version. Import numpy directly instead\n",
      "\n",
      "C:\\Users\\hp\\Anaconda3\\lib\\site-packages\\cufflinks\\plotlytools.py:850: FutureWarning:\n",
      "\n",
      "The pandas.np module is deprecated and will be removed from pandas in a future version. Import numpy directly instead\n",
      "\n"
     ]
    },
    {
     "data": {
      "application/vnd.plotly.v1+json": {
       "config": {
        "linkText": "Export to plot.ly",
        "plotlyServerURL": "https://plot.ly",
        "showLink": true
       },
       "data": [
        {
         "line": {
          "color": "rgba(255, 153, 51, 1.0)",
          "dash": "solid",
          "shape": "linear",
          "width": 1.3
         },
         "mode": "lines",
         "name": "A",
         "text": "",
         "type": "scatter",
         "x": [
          0,
          1,
          2,
          3,
          4,
          5,
          6,
          7,
          8,
          9,
          10,
          11,
          12,
          13,
          14,
          15,
          16,
          17,
          18,
          19,
          20,
          21,
          22,
          23,
          24,
          25,
          26,
          27,
          28,
          29,
          30,
          31,
          32,
          33,
          34,
          35,
          36,
          37,
          38,
          39,
          40,
          41,
          42,
          43,
          44,
          45,
          46,
          47,
          48,
          49,
          50,
          51,
          52,
          53,
          54,
          55,
          56,
          57,
          58,
          59,
          60,
          61,
          62,
          63,
          64,
          65,
          66,
          67,
          68,
          69,
          70,
          71,
          72,
          73,
          74,
          75,
          76,
          77,
          78,
          79,
          80,
          81,
          82,
          83,
          84,
          85,
          86,
          87,
          88,
          89,
          90,
          91,
          92,
          93,
          94,
          95,
          96,
          97,
          98,
          99
         ],
         "y": [
          -0.6707154253506642,
          -1.9500262411133285,
          0.47330149330972787,
          0.3220821058806944,
          0.20805808808316156,
          -0.35109658451676334,
          0.6962852968692117,
          -0.10784531902689991,
          1.5086544793457553,
          -1.340268292912184,
          0.7644344119612071,
          -0.26780932113299405,
          0.1878224556979502,
          1.171246085614569,
          0.1851093548441989,
          0.2823252049199303,
          0.6932277961556744,
          -0.6769518643083233,
          -0.19354333756548917,
          2.1363357457530587,
          0.040971497941110074,
          -1.7778136621759986,
          3.13702519812112,
          1.5018405020580647,
          -1.6127044945937676,
          -0.03130235727745821,
          0.09640237026125606,
          -0.5360328057285065,
          0.8757207392735993,
          0.28188882285582134,
          -0.6267644208076626,
          0.522160591589084,
          0.7117289724168866,
          -0.6437782301720258,
          0.2712843372224381,
          0.6033468190197396,
          0.8021238883637443,
          -0.7702350535759206,
          -1.6829360015664283,
          0.6731359493896302,
          -1.0248199572464276,
          0.8986669891621416,
          -0.3657217093686965,
          -0.19140225513344197,
          -0.027425781658837873,
          -0.4486319931274092,
          -1.2072169461605697,
          1.1119462802015492,
          0.7169013061838068,
          1.092554147709969,
          0.3877181592512865,
          -0.5077243469664451,
          0.40449061501060224,
          0.22132603560676464,
          0.5266282050852957,
          -0.3950309560310908,
          -0.005066618020162976,
          0.5397516109289167,
          -0.24187446680324345,
          -2.4180231477424297,
          -0.1118720542279614,
          0.7891934411928745,
          -1.4595096578166131,
          -1.6641566424292111,
          0.4641685548997316,
          0.2039478823314363,
          0.033767471863369765,
          -1.0739728733906564,
          -1.8950403385455485,
          0.33690673212261363,
          -0.34158656775274315,
          -0.1877609055445049,
          -1.3877147132450043,
          -0.5621215400627225,
          -0.25322924851168455,
          1.8159900315694717,
          -0.34533226510827736,
          1.0356949538332458,
          1.2021841404538256,
          -0.3927476513776488,
          0.837235412643784,
          -1.6234430720105062,
          1.243235860033378,
          0.16800048711867446,
          0.4391194684694063,
          -0.27275232834051005,
          1.8786432214985485,
          -1.036152949055604,
          -0.8484408810170442,
          0.3225952169549622,
          1.866756994721403,
          -0.5069716474593075,
          0.569264356614395,
          0.28876108330768585,
          -0.14817903275171626,
          -1.863044870763895,
          1.8120988870687478,
          0.18420897831186897,
          0.16052440170636006,
          2.5581870205130657
         ]
        },
        {
         "line": {
          "color": "rgba(55, 128, 191, 1.0)",
          "dash": "solid",
          "shape": "linear",
          "width": 1.3
         },
         "mode": "lines",
         "name": "B",
         "text": "",
         "type": "scatter",
         "x": [
          0,
          1,
          2,
          3,
          4,
          5,
          6,
          7,
          8,
          9,
          10,
          11,
          12,
          13,
          14,
          15,
          16,
          17,
          18,
          19,
          20,
          21,
          22,
          23,
          24,
          25,
          26,
          27,
          28,
          29,
          30,
          31,
          32,
          33,
          34,
          35,
          36,
          37,
          38,
          39,
          40,
          41,
          42,
          43,
          44,
          45,
          46,
          47,
          48,
          49,
          50,
          51,
          52,
          53,
          54,
          55,
          56,
          57,
          58,
          59,
          60,
          61,
          62,
          63,
          64,
          65,
          66,
          67,
          68,
          69,
          70,
          71,
          72,
          73,
          74,
          75,
          76,
          77,
          78,
          79,
          80,
          81,
          82,
          83,
          84,
          85,
          86,
          87,
          88,
          89,
          90,
          91,
          92,
          93,
          94,
          95,
          96,
          97,
          98,
          99
         ],
         "y": [
          2.1058842826318607,
          -2.072359511310542,
          -0.3416009005606861,
          -0.7284799185898405,
          -1.2504681420191213,
          0.36929949318306843,
          0.30650633934084254,
          -0.7822857645842319,
          -0.40249307975607373,
          -0.4894825593030477,
          -2.0423146065028983,
          0.9872944141587103,
          -1.0569817425686823,
          -1.6293020589481364,
          -0.3653355683975144,
          0.34908380245013,
          -0.9930184191231534,
          -1.5459068965500842,
          -0.4303553133615934,
          0.6436591668209447,
          0.8434328960587413,
          -0.8293341375988842,
          -0.17665403988967887,
          0.05571735134683879,
          0.7712899419374236,
          1.8392243290245631,
          -0.02887245228532163,
          -0.27213303990882726,
          -0.9293654935733069,
          -0.1717099056031576,
          0.10629681858599707,
          -0.15554719806862996,
          -0.9964845946839231,
          0.6092294141232871,
          0.674977835522611,
          1.1574969173759908,
          -0.0904536430233091,
          1.340391985298189,
          0.7013388590982971,
          0.5803876294942691,
          -0.4777178856989432,
          -0.4783100209870064,
          -0.23670952507275758,
          -1.1222153054155775,
          -0.10985297273626017,
          -0.08838416929997245,
          2.705075337277412,
          -1.353083311770451,
          -0.15123585689753194,
          -0.5079059934573342,
          0.214658887024363,
          0.0962629830423297,
          1.2226846938925608,
          -1.3849716686465248,
          2.47057224290792,
          -0.23622331664434187,
          -0.01386735927959883,
          0.3146974131045074,
          -1.611843264935958,
          0.6219892118864861,
          -0.25545298334001854,
          -0.20578715948195975,
          0.5026081049701817,
          -0.05039893194269115,
          -1.451888593332071,
          -1.6684912330390367,
          0.09839970157327095,
          -1.1912211957943615,
          0.35544779363433393,
          0.6886730916876131,
          0.8392771480070627,
          1.6715975529189262,
          0.2645710679527483,
          1.3357616401053343,
          -1.0479861237285117,
          -0.2708393114170538,
          -0.8665667773800374,
          1.3146913254236081,
          2.557788297919866,
          0.12340258729703828,
          1.3972074095700282,
          -1.400939946555493,
          1.050979978143761,
          0.19436735904851585,
          -0.20423934437480293,
          1.707269574355147,
          -1.1200963283863776,
          -1.8289426096328703,
          -0.6902735932611638,
          0.1731486516107255,
          -1.1238930656827142,
          -0.26769297907693507,
          -1.2963287663260568,
          -0.4381458613461422,
          0.4622567290341809,
          0.564315818327561,
          -0.15683622731556487,
          -1.906840982387614,
          0.5078497775235092,
          -0.5281224643869874
         ]
        },
        {
         "connectgaps": false,
         "fill": "tozeroy",
         "line": {
          "color": "green",
          "dash": "solid",
          "shape": "linear",
          "width": 0.5
         },
         "mode": "lines",
         "name": "Spread",
         "showlegend": false,
         "type": "scatter",
         "x": [
          0,
          1,
          2,
          3,
          4,
          5,
          6,
          7,
          8,
          9,
          10,
          11,
          12,
          13,
          14,
          15,
          16,
          17,
          18,
          19,
          20,
          21,
          22,
          23,
          24,
          25,
          26,
          27,
          28,
          29,
          30,
          31,
          32,
          33,
          34,
          35,
          36,
          37,
          38,
          39,
          40,
          41,
          42,
          43,
          44,
          45,
          46,
          47,
          48,
          49,
          50,
          51,
          52,
          53,
          54,
          55,
          56,
          57,
          58,
          59,
          60,
          61,
          62,
          63,
          64,
          65,
          66,
          67,
          68,
          69,
          70,
          71,
          72,
          73,
          74,
          75,
          76,
          77,
          78,
          79,
          80,
          81,
          82,
          83,
          84,
          85,
          86,
          87,
          88,
          89,
          90,
          91,
          92,
          93,
          94,
          95,
          96,
          97,
          98,
          99
         ],
         "xaxis": "x2",
         "y": [
          "",
          0.12233327019721352,
          0.814902393870414,
          1.050562024470535,
          1.4585262301022828,
          "",
          0.38977895752836916,
          0.6744404455573321,
          1.911147559101829,
          "",
          2.8067490184641053,
          "",
          1.2448041982666325,
          2.8005481445627054,
          0.5504449232417133,
          "",
          1.6862462152788278,
          0.8689550322417608,
          0.23681197579610422,
          1.4926765789321141,
          "",
          "",
          3.3136792380107987,
          1.446123150711226,
          "",
          "",
          0.12527482254657768,
          "",
          1.8050862328469062,
          0.453598728458979,
          "",
          0.6777077896577139,
          1.7082135671008096,
          "",
          "",
          "",
          0.8925775313870534,
          "",
          "",
          0.09274831989536103,
          "",
          1.376977010149148,
          "",
          0.9308130502821355,
          0.0824271910774223,
          "",
          "",
          2.4650295919720002,
          0.8681371630813387,
          1.6004601411673032,
          0.1730592722269235,
          "",
          "",
          1.6062977042532893,
          "",
          "",
          0.008800741259435854,
          0.22505419782440927,
          1.3699687981327144,
          "",
          0.14358092911205714,
          0.9949806006748343,
          "",
          "",
          1.9160571482318027,
          1.872439115370473,
          "",
          0.11724832240370509,
          "",
          "",
          "",
          "",
          "",
          "",
          0.7947568752168273,
          2.0868293429865257,
          0.5212345122717601,
          "",
          "",
          "",
          "",
          "",
          0.19225588188961695,
          "",
          0.6433588128442093,
          "",
          2.998739549884926,
          0.7927896605772662,
          "",
          0.14944656534423667,
          2.9906500604041173,
          "",
          1.8655931229404517,
          0.7269069446538281,
          "",
          "",
          1.9689351143843126,
          2.091049960699483,
          "",
          3.086309484900053
         ],
         "yaxis": "y2"
        },
        {
         "connectgaps": false,
         "fill": "tozeroy",
         "line": {
          "color": "red",
          "dash": "solid",
          "shape": "linear",
          "width": 0.5
         },
         "mode": "lines",
         "name": "Spread",
         "showlegend": false,
         "type": "scatter",
         "x": [
          0,
          1,
          2,
          3,
          4,
          5,
          6,
          7,
          8,
          9,
          10,
          11,
          12,
          13,
          14,
          15,
          16,
          17,
          18,
          19,
          20,
          21,
          22,
          23,
          24,
          25,
          26,
          27,
          28,
          29,
          30,
          31,
          32,
          33,
          34,
          35,
          36,
          37,
          38,
          39,
          40,
          41,
          42,
          43,
          44,
          45,
          46,
          47,
          48,
          49,
          50,
          51,
          52,
          53,
          54,
          55,
          56,
          57,
          58,
          59,
          60,
          61,
          62,
          63,
          64,
          65,
          66,
          67,
          68,
          69,
          70,
          71,
          72,
          73,
          74,
          75,
          76,
          77,
          78,
          79,
          80,
          81,
          82,
          83,
          84,
          85,
          86,
          87,
          88,
          89,
          90,
          91,
          92,
          93,
          94,
          95,
          96,
          97,
          98,
          99
         ],
         "xaxis": "x2",
         "y": [
          -2.776599707982525,
          "",
          "",
          "",
          "",
          -0.7203960776998317,
          "",
          "",
          "",
          -0.8507857336091365,
          "",
          -1.2551037352917045,
          "",
          "",
          "",
          -0.06675859753019969,
          "",
          "",
          "",
          "",
          -0.8024613981176312,
          -0.9484795245771144,
          "",
          "",
          -2.383994436531191,
          -1.8705266863020213,
          "",
          -0.2638997658196793,
          "",
          "",
          -0.7330612393936596,
          "",
          "",
          -1.2530076442953129,
          -0.4036934983001729,
          -0.5541500983562512,
          "",
          -2.1106270388741093,
          -2.3842748606647253,
          "",
          -0.5471020715474844,
          "",
          -0.12901218429593894,
          "",
          "",
          -0.36024782382743675,
          -3.912292283437982,
          "",
          "",
          "",
          "",
          -0.6039873300087748,
          -0.8181940788819586,
          "",
          -1.9439440378226245,
          -0.1588076393867489,
          "",
          "",
          "",
          -3.040012359628916,
          "",
          "",
          -1.9621177627867947,
          -1.61375771048652,
          "",
          "",
          -0.06463222970990118,
          "",
          -2.2504881321798824,
          -0.3517663595649995,
          -1.1808637157598059,
          -1.859358458463431,
          -1.6522857811977527,
          -1.8978831801680567,
          "",
          "",
          "",
          -0.2789963715903623,
          -1.3556041574660405,
          -0.516150238674687,
          -0.5599719969262442,
          -0.22250312545501316,
          "",
          -0.026366871929841385,
          "",
          -1.980021902695657,
          "",
          "",
          -0.1581672877558804,
          "",
          "",
          -0.23927866838237238,
          "",
          "",
          -0.6104357617858972,
          -2.427360689091456,
          "",
          "",
          -0.3473253758171492,
          ""
         ],
         "yaxis": "y2"
        }
       ],
       "layout": {
        "hovermode": "x",
        "legend": {
         "bgcolor": "#F5F6F9",
         "font": {
          "color": "#4D5663"
         }
        },
        "paper_bgcolor": "#F5F6F9",
        "plot_bgcolor": "#F5F6F9",
        "template": {
         "data": {
          "bar": [
           {
            "error_x": {
             "color": "#2a3f5f"
            },
            "error_y": {
             "color": "#2a3f5f"
            },
            "marker": {
             "line": {
              "color": "#E5ECF6",
              "width": 0.5
             }
            },
            "type": "bar"
           }
          ],
          "barpolar": [
           {
            "marker": {
             "line": {
              "color": "#E5ECF6",
              "width": 0.5
             }
            },
            "type": "barpolar"
           }
          ],
          "carpet": [
           {
            "aaxis": {
             "endlinecolor": "#2a3f5f",
             "gridcolor": "white",
             "linecolor": "white",
             "minorgridcolor": "white",
             "startlinecolor": "#2a3f5f"
            },
            "baxis": {
             "endlinecolor": "#2a3f5f",
             "gridcolor": "white",
             "linecolor": "white",
             "minorgridcolor": "white",
             "startlinecolor": "#2a3f5f"
            },
            "type": "carpet"
           }
          ],
          "choropleth": [
           {
            "colorbar": {
             "outlinewidth": 0,
             "ticks": ""
            },
            "type": "choropleth"
           }
          ],
          "contour": [
           {
            "colorbar": {
             "outlinewidth": 0,
             "ticks": ""
            },
            "colorscale": [
             [
              0,
              "#0d0887"
             ],
             [
              0.1111111111111111,
              "#46039f"
             ],
             [
              0.2222222222222222,
              "#7201a8"
             ],
             [
              0.3333333333333333,
              "#9c179e"
             ],
             [
              0.4444444444444444,
              "#bd3786"
             ],
             [
              0.5555555555555556,
              "#d8576b"
             ],
             [
              0.6666666666666666,
              "#ed7953"
             ],
             [
              0.7777777777777778,
              "#fb9f3a"
             ],
             [
              0.8888888888888888,
              "#fdca26"
             ],
             [
              1,
              "#f0f921"
             ]
            ],
            "type": "contour"
           }
          ],
          "contourcarpet": [
           {
            "colorbar": {
             "outlinewidth": 0,
             "ticks": ""
            },
            "type": "contourcarpet"
           }
          ],
          "heatmap": [
           {
            "colorbar": {
             "outlinewidth": 0,
             "ticks": ""
            },
            "colorscale": [
             [
              0,
              "#0d0887"
             ],
             [
              0.1111111111111111,
              "#46039f"
             ],
             [
              0.2222222222222222,
              "#7201a8"
             ],
             [
              0.3333333333333333,
              "#9c179e"
             ],
             [
              0.4444444444444444,
              "#bd3786"
             ],
             [
              0.5555555555555556,
              "#d8576b"
             ],
             [
              0.6666666666666666,
              "#ed7953"
             ],
             [
              0.7777777777777778,
              "#fb9f3a"
             ],
             [
              0.8888888888888888,
              "#fdca26"
             ],
             [
              1,
              "#f0f921"
             ]
            ],
            "type": "heatmap"
           }
          ],
          "heatmapgl": [
           {
            "colorbar": {
             "outlinewidth": 0,
             "ticks": ""
            },
            "colorscale": [
             [
              0,
              "#0d0887"
             ],
             [
              0.1111111111111111,
              "#46039f"
             ],
             [
              0.2222222222222222,
              "#7201a8"
             ],
             [
              0.3333333333333333,
              "#9c179e"
             ],
             [
              0.4444444444444444,
              "#bd3786"
             ],
             [
              0.5555555555555556,
              "#d8576b"
             ],
             [
              0.6666666666666666,
              "#ed7953"
             ],
             [
              0.7777777777777778,
              "#fb9f3a"
             ],
             [
              0.8888888888888888,
              "#fdca26"
             ],
             [
              1,
              "#f0f921"
             ]
            ],
            "type": "heatmapgl"
           }
          ],
          "histogram": [
           {
            "marker": {
             "colorbar": {
              "outlinewidth": 0,
              "ticks": ""
             }
            },
            "type": "histogram"
           }
          ],
          "histogram2d": [
           {
            "colorbar": {
             "outlinewidth": 0,
             "ticks": ""
            },
            "colorscale": [
             [
              0,
              "#0d0887"
             ],
             [
              0.1111111111111111,
              "#46039f"
             ],
             [
              0.2222222222222222,
              "#7201a8"
             ],
             [
              0.3333333333333333,
              "#9c179e"
             ],
             [
              0.4444444444444444,
              "#bd3786"
             ],
             [
              0.5555555555555556,
              "#d8576b"
             ],
             [
              0.6666666666666666,
              "#ed7953"
             ],
             [
              0.7777777777777778,
              "#fb9f3a"
             ],
             [
              0.8888888888888888,
              "#fdca26"
             ],
             [
              1,
              "#f0f921"
             ]
            ],
            "type": "histogram2d"
           }
          ],
          "histogram2dcontour": [
           {
            "colorbar": {
             "outlinewidth": 0,
             "ticks": ""
            },
            "colorscale": [
             [
              0,
              "#0d0887"
             ],
             [
              0.1111111111111111,
              "#46039f"
             ],
             [
              0.2222222222222222,
              "#7201a8"
             ],
             [
              0.3333333333333333,
              "#9c179e"
             ],
             [
              0.4444444444444444,
              "#bd3786"
             ],
             [
              0.5555555555555556,
              "#d8576b"
             ],
             [
              0.6666666666666666,
              "#ed7953"
             ],
             [
              0.7777777777777778,
              "#fb9f3a"
             ],
             [
              0.8888888888888888,
              "#fdca26"
             ],
             [
              1,
              "#f0f921"
             ]
            ],
            "type": "histogram2dcontour"
           }
          ],
          "mesh3d": [
           {
            "colorbar": {
             "outlinewidth": 0,
             "ticks": ""
            },
            "type": "mesh3d"
           }
          ],
          "parcoords": [
           {
            "line": {
             "colorbar": {
              "outlinewidth": 0,
              "ticks": ""
             }
            },
            "type": "parcoords"
           }
          ],
          "pie": [
           {
            "automargin": true,
            "type": "pie"
           }
          ],
          "scatter": [
           {
            "marker": {
             "colorbar": {
              "outlinewidth": 0,
              "ticks": ""
             }
            },
            "type": "scatter"
           }
          ],
          "scatter3d": [
           {
            "line": {
             "colorbar": {
              "outlinewidth": 0,
              "ticks": ""
             }
            },
            "marker": {
             "colorbar": {
              "outlinewidth": 0,
              "ticks": ""
             }
            },
            "type": "scatter3d"
           }
          ],
          "scattercarpet": [
           {
            "marker": {
             "colorbar": {
              "outlinewidth": 0,
              "ticks": ""
             }
            },
            "type": "scattercarpet"
           }
          ],
          "scattergeo": [
           {
            "marker": {
             "colorbar": {
              "outlinewidth": 0,
              "ticks": ""
             }
            },
            "type": "scattergeo"
           }
          ],
          "scattergl": [
           {
            "marker": {
             "colorbar": {
              "outlinewidth": 0,
              "ticks": ""
             }
            },
            "type": "scattergl"
           }
          ],
          "scattermapbox": [
           {
            "marker": {
             "colorbar": {
              "outlinewidth": 0,
              "ticks": ""
             }
            },
            "type": "scattermapbox"
           }
          ],
          "scatterpolar": [
           {
            "marker": {
             "colorbar": {
              "outlinewidth": 0,
              "ticks": ""
             }
            },
            "type": "scatterpolar"
           }
          ],
          "scatterpolargl": [
           {
            "marker": {
             "colorbar": {
              "outlinewidth": 0,
              "ticks": ""
             }
            },
            "type": "scatterpolargl"
           }
          ],
          "scatterternary": [
           {
            "marker": {
             "colorbar": {
              "outlinewidth": 0,
              "ticks": ""
             }
            },
            "type": "scatterternary"
           }
          ],
          "surface": [
           {
            "colorbar": {
             "outlinewidth": 0,
             "ticks": ""
            },
            "colorscale": [
             [
              0,
              "#0d0887"
             ],
             [
              0.1111111111111111,
              "#46039f"
             ],
             [
              0.2222222222222222,
              "#7201a8"
             ],
             [
              0.3333333333333333,
              "#9c179e"
             ],
             [
              0.4444444444444444,
              "#bd3786"
             ],
             [
              0.5555555555555556,
              "#d8576b"
             ],
             [
              0.6666666666666666,
              "#ed7953"
             ],
             [
              0.7777777777777778,
              "#fb9f3a"
             ],
             [
              0.8888888888888888,
              "#fdca26"
             ],
             [
              1,
              "#f0f921"
             ]
            ],
            "type": "surface"
           }
          ],
          "table": [
           {
            "cells": {
             "fill": {
              "color": "#EBF0F8"
             },
             "line": {
              "color": "white"
             }
            },
            "header": {
             "fill": {
              "color": "#C8D4E3"
             },
             "line": {
              "color": "white"
             }
            },
            "type": "table"
           }
          ]
         },
         "layout": {
          "annotationdefaults": {
           "arrowcolor": "#2a3f5f",
           "arrowhead": 0,
           "arrowwidth": 1
          },
          "autotypenumbers": "strict",
          "coloraxis": {
           "colorbar": {
            "outlinewidth": 0,
            "ticks": ""
           }
          },
          "colorscale": {
           "diverging": [
            [
             0,
             "#8e0152"
            ],
            [
             0.1,
             "#c51b7d"
            ],
            [
             0.2,
             "#de77ae"
            ],
            [
             0.3,
             "#f1b6da"
            ],
            [
             0.4,
             "#fde0ef"
            ],
            [
             0.5,
             "#f7f7f7"
            ],
            [
             0.6,
             "#e6f5d0"
            ],
            [
             0.7,
             "#b8e186"
            ],
            [
             0.8,
             "#7fbc41"
            ],
            [
             0.9,
             "#4d9221"
            ],
            [
             1,
             "#276419"
            ]
           ],
           "sequential": [
            [
             0,
             "#0d0887"
            ],
            [
             0.1111111111111111,
             "#46039f"
            ],
            [
             0.2222222222222222,
             "#7201a8"
            ],
            [
             0.3333333333333333,
             "#9c179e"
            ],
            [
             0.4444444444444444,
             "#bd3786"
            ],
            [
             0.5555555555555556,
             "#d8576b"
            ],
            [
             0.6666666666666666,
             "#ed7953"
            ],
            [
             0.7777777777777778,
             "#fb9f3a"
            ],
            [
             0.8888888888888888,
             "#fdca26"
            ],
            [
             1,
             "#f0f921"
            ]
           ],
           "sequentialminus": [
            [
             0,
             "#0d0887"
            ],
            [
             0.1111111111111111,
             "#46039f"
            ],
            [
             0.2222222222222222,
             "#7201a8"
            ],
            [
             0.3333333333333333,
             "#9c179e"
            ],
            [
             0.4444444444444444,
             "#bd3786"
            ],
            [
             0.5555555555555556,
             "#d8576b"
            ],
            [
             0.6666666666666666,
             "#ed7953"
            ],
            [
             0.7777777777777778,
             "#fb9f3a"
            ],
            [
             0.8888888888888888,
             "#fdca26"
            ],
            [
             1,
             "#f0f921"
            ]
           ]
          },
          "colorway": [
           "#636efa",
           "#EF553B",
           "#00cc96",
           "#ab63fa",
           "#FFA15A",
           "#19d3f3",
           "#FF6692",
           "#B6E880",
           "#FF97FF",
           "#FECB52"
          ],
          "font": {
           "color": "#2a3f5f"
          },
          "geo": {
           "bgcolor": "white",
           "lakecolor": "white",
           "landcolor": "#E5ECF6",
           "showlakes": true,
           "showland": true,
           "subunitcolor": "white"
          },
          "hoverlabel": {
           "align": "left"
          },
          "hovermode": "closest",
          "mapbox": {
           "style": "light"
          },
          "paper_bgcolor": "white",
          "plot_bgcolor": "#E5ECF6",
          "polar": {
           "angularaxis": {
            "gridcolor": "white",
            "linecolor": "white",
            "ticks": ""
           },
           "bgcolor": "#E5ECF6",
           "radialaxis": {
            "gridcolor": "white",
            "linecolor": "white",
            "ticks": ""
           }
          },
          "scene": {
           "xaxis": {
            "backgroundcolor": "#E5ECF6",
            "gridcolor": "white",
            "gridwidth": 2,
            "linecolor": "white",
            "showbackground": true,
            "ticks": "",
            "zerolinecolor": "white"
           },
           "yaxis": {
            "backgroundcolor": "#E5ECF6",
            "gridcolor": "white",
            "gridwidth": 2,
            "linecolor": "white",
            "showbackground": true,
            "ticks": "",
            "zerolinecolor": "white"
           },
           "zaxis": {
            "backgroundcolor": "#E5ECF6",
            "gridcolor": "white",
            "gridwidth": 2,
            "linecolor": "white",
            "showbackground": true,
            "ticks": "",
            "zerolinecolor": "white"
           }
          },
          "shapedefaults": {
           "line": {
            "color": "#2a3f5f"
           }
          },
          "ternary": {
           "aaxis": {
            "gridcolor": "white",
            "linecolor": "white",
            "ticks": ""
           },
           "baxis": {
            "gridcolor": "white",
            "linecolor": "white",
            "ticks": ""
           },
           "bgcolor": "#E5ECF6",
           "caxis": {
            "gridcolor": "white",
            "linecolor": "white",
            "ticks": ""
           }
          },
          "title": {
           "x": 0.05
          },
          "xaxis": {
           "automargin": true,
           "gridcolor": "white",
           "linecolor": "white",
           "ticks": "",
           "title": {
            "standoff": 15
           },
           "zerolinecolor": "white",
           "zerolinewidth": 2
          },
          "yaxis": {
           "automargin": true,
           "gridcolor": "white",
           "linecolor": "white",
           "ticks": "",
           "title": {
            "standoff": 15
           },
           "zerolinecolor": "white",
           "zerolinewidth": 2
          }
         }
        },
        "title": {
         "font": {
          "color": "#4D5663"
         }
        },
        "xaxis": {
         "gridcolor": "#E1E5ED",
         "showgrid": true,
         "tickfont": {
          "color": "#4D5663"
         },
         "title": {
          "font": {
           "color": "#4D5663"
          },
          "text": ""
         },
         "zerolinecolor": "#E1E5ED"
        },
        "xaxis2": {
         "anchor": "y2",
         "gridcolor": "#E1E5ED",
         "showgrid": true,
         "showticklabels": false,
         "tickfont": {
          "color": "#4D5663"
         },
         "title": {
          "font": {
           "color": "#4D5663"
          },
          "text": ""
         },
         "zerolinecolor": "#E1E5ED"
        },
        "yaxis": {
         "domain": [
          0.3,
          1
         ],
         "gridcolor": "#E1E5ED",
         "showgrid": true,
         "tickfont": {
          "color": "#4D5663"
         },
         "title": {
          "font": {
           "color": "#4D5663"
          },
          "text": ""
         },
         "zerolinecolor": "#E1E5ED"
        },
        "yaxis2": {
         "domain": [
          0,
          0.25
         ],
         "gridcolor": "#E1E5ED",
         "showgrid": true,
         "tickfont": {
          "color": "#4D5663"
         },
         "title": {
          "font": {
           "color": "#4D5663"
          },
          "text": "Spread"
         },
         "zerolinecolor": "#E1E5ED"
        }
       }
      },
      "text/html": [
       "<div>                            <div id=\"b87e5563-198d-4411-97f0-51aa79249494\" class=\"plotly-graph-div\" style=\"height:525px; width:100%;\"></div>            <script type=\"text/javascript\">                require([\"plotly\"], function(Plotly) {                    window.PLOTLYENV=window.PLOTLYENV || {};\n",
       "                    window.PLOTLYENV.BASE_URL='https://plot.ly';                                    if (document.getElementById(\"b87e5563-198d-4411-97f0-51aa79249494\")) {                    Plotly.newPlot(                        \"b87e5563-198d-4411-97f0-51aa79249494\",                        [{\"line\": {\"color\": \"rgba(255, 153, 51, 1.0)\", \"dash\": \"solid\", \"shape\": \"linear\", \"width\": 1.3}, \"mode\": \"lines\", \"name\": \"A\", \"text\": \"\", \"type\": \"scatter\", \"x\": [0, 1, 2, 3, 4, 5, 6, 7, 8, 9, 10, 11, 12, 13, 14, 15, 16, 17, 18, 19, 20, 21, 22, 23, 24, 25, 26, 27, 28, 29, 30, 31, 32, 33, 34, 35, 36, 37, 38, 39, 40, 41, 42, 43, 44, 45, 46, 47, 48, 49, 50, 51, 52, 53, 54, 55, 56, 57, 58, 59, 60, 61, 62, 63, 64, 65, 66, 67, 68, 69, 70, 71, 72, 73, 74, 75, 76, 77, 78, 79, 80, 81, 82, 83, 84, 85, 86, 87, 88, 89, 90, 91, 92, 93, 94, 95, 96, 97, 98, 99], \"y\": [-0.6707154253506642, -1.9500262411133285, 0.47330149330972787, 0.3220821058806944, 0.20805808808316156, -0.35109658451676334, 0.6962852968692117, -0.10784531902689991, 1.5086544793457553, -1.340268292912184, 0.7644344119612071, -0.26780932113299405, 0.1878224556979502, 1.171246085614569, 0.1851093548441989, 0.2823252049199303, 0.6932277961556744, -0.6769518643083233, -0.19354333756548917, 2.1363357457530587, 0.040971497941110074, -1.7778136621759986, 3.13702519812112, 1.5018405020580647, -1.6127044945937676, -0.03130235727745821, 0.09640237026125606, -0.5360328057285065, 0.8757207392735993, 0.28188882285582134, -0.6267644208076626, 0.522160591589084, 0.7117289724168866, -0.6437782301720258, 0.2712843372224381, 0.6033468190197396, 0.8021238883637443, -0.7702350535759206, -1.6829360015664283, 0.6731359493896302, -1.0248199572464276, 0.8986669891621416, -0.3657217093686965, -0.19140225513344197, -0.027425781658837873, -0.4486319931274092, -1.2072169461605697, 1.1119462802015492, 0.7169013061838068, 1.092554147709969, 0.3877181592512865, -0.5077243469664451, 0.40449061501060224, 0.22132603560676464, 0.5266282050852957, -0.3950309560310908, -0.005066618020162976, 0.5397516109289167, -0.24187446680324345, -2.4180231477424297, -0.1118720542279614, 0.7891934411928745, -1.4595096578166131, -1.6641566424292111, 0.4641685548997316, 0.2039478823314363, 0.033767471863369765, -1.0739728733906564, -1.8950403385455485, 0.33690673212261363, -0.34158656775274315, -0.1877609055445049, -1.3877147132450043, -0.5621215400627225, -0.25322924851168455, 1.8159900315694717, -0.34533226510827736, 1.0356949538332458, 1.2021841404538256, -0.3927476513776488, 0.837235412643784, -1.6234430720105062, 1.243235860033378, 0.16800048711867446, 0.4391194684694063, -0.27275232834051005, 1.8786432214985485, -1.036152949055604, -0.8484408810170442, 0.3225952169549622, 1.866756994721403, -0.5069716474593075, 0.569264356614395, 0.28876108330768585, -0.14817903275171626, -1.863044870763895, 1.8120988870687478, 0.18420897831186897, 0.16052440170636006, 2.5581870205130657]}, {\"line\": {\"color\": \"rgba(55, 128, 191, 1.0)\", \"dash\": \"solid\", \"shape\": \"linear\", \"width\": 1.3}, \"mode\": \"lines\", \"name\": \"B\", \"text\": \"\", \"type\": \"scatter\", \"x\": [0, 1, 2, 3, 4, 5, 6, 7, 8, 9, 10, 11, 12, 13, 14, 15, 16, 17, 18, 19, 20, 21, 22, 23, 24, 25, 26, 27, 28, 29, 30, 31, 32, 33, 34, 35, 36, 37, 38, 39, 40, 41, 42, 43, 44, 45, 46, 47, 48, 49, 50, 51, 52, 53, 54, 55, 56, 57, 58, 59, 60, 61, 62, 63, 64, 65, 66, 67, 68, 69, 70, 71, 72, 73, 74, 75, 76, 77, 78, 79, 80, 81, 82, 83, 84, 85, 86, 87, 88, 89, 90, 91, 92, 93, 94, 95, 96, 97, 98, 99], \"y\": [2.1058842826318607, -2.072359511310542, -0.3416009005606861, -0.7284799185898405, -1.2504681420191213, 0.36929949318306843, 0.30650633934084254, -0.7822857645842319, -0.40249307975607373, -0.4894825593030477, -2.0423146065028983, 0.9872944141587103, -1.0569817425686823, -1.6293020589481364, -0.3653355683975144, 0.34908380245013, -0.9930184191231534, -1.5459068965500842, -0.4303553133615934, 0.6436591668209447, 0.8434328960587413, -0.8293341375988842, -0.17665403988967887, 0.05571735134683879, 0.7712899419374236, 1.8392243290245631, -0.02887245228532163, -0.27213303990882726, -0.9293654935733069, -0.1717099056031576, 0.10629681858599707, -0.15554719806862996, -0.9964845946839231, 0.6092294141232871, 0.674977835522611, 1.1574969173759908, -0.0904536430233091, 1.340391985298189, 0.7013388590982971, 0.5803876294942691, -0.4777178856989432, -0.4783100209870064, -0.23670952507275758, -1.1222153054155775, -0.10985297273626017, -0.08838416929997245, 2.705075337277412, -1.353083311770451, -0.15123585689753194, -0.5079059934573342, 0.214658887024363, 0.0962629830423297, 1.2226846938925608, -1.3849716686465248, 2.47057224290792, -0.23622331664434187, -0.01386735927959883, 0.3146974131045074, -1.611843264935958, 0.6219892118864861, -0.25545298334001854, -0.20578715948195975, 0.5026081049701817, -0.05039893194269115, -1.451888593332071, -1.6684912330390367, 0.09839970157327095, -1.1912211957943615, 0.35544779363433393, 0.6886730916876131, 0.8392771480070627, 1.6715975529189262, 0.2645710679527483, 1.3357616401053343, -1.0479861237285117, -0.2708393114170538, -0.8665667773800374, 1.3146913254236081, 2.557788297919866, 0.12340258729703828, 1.3972074095700282, -1.400939946555493, 1.050979978143761, 0.19436735904851585, -0.20423934437480293, 1.707269574355147, -1.1200963283863776, -1.8289426096328703, -0.6902735932611638, 0.1731486516107255, -1.1238930656827142, -0.26769297907693507, -1.2963287663260568, -0.4381458613461422, 0.4622567290341809, 0.564315818327561, -0.15683622731556487, -1.906840982387614, 0.5078497775235092, -0.5281224643869874]}, {\"connectgaps\": false, \"fill\": \"tozeroy\", \"line\": {\"color\": \"green\", \"dash\": \"solid\", \"shape\": \"linear\", \"width\": 0.5}, \"mode\": \"lines\", \"name\": \"Spread\", \"showlegend\": false, \"type\": \"scatter\", \"x\": [0, 1, 2, 3, 4, 5, 6, 7, 8, 9, 10, 11, 12, 13, 14, 15, 16, 17, 18, 19, 20, 21, 22, 23, 24, 25, 26, 27, 28, 29, 30, 31, 32, 33, 34, 35, 36, 37, 38, 39, 40, 41, 42, 43, 44, 45, 46, 47, 48, 49, 50, 51, 52, 53, 54, 55, 56, 57, 58, 59, 60, 61, 62, 63, 64, 65, 66, 67, 68, 69, 70, 71, 72, 73, 74, 75, 76, 77, 78, 79, 80, 81, 82, 83, 84, 85, 86, 87, 88, 89, 90, 91, 92, 93, 94, 95, 96, 97, 98, 99], \"xaxis\": \"x2\", \"y\": [\"\", 0.12233327019721352, 0.814902393870414, 1.050562024470535, 1.4585262301022828, \"\", 0.38977895752836916, 0.6744404455573321, 1.911147559101829, \"\", 2.8067490184641053, \"\", 1.2448041982666325, 2.8005481445627054, 0.5504449232417133, \"\", 1.6862462152788278, 0.8689550322417608, 0.23681197579610422, 1.4926765789321141, \"\", \"\", 3.3136792380107987, 1.446123150711226, \"\", \"\", 0.12527482254657768, \"\", 1.8050862328469062, 0.453598728458979, \"\", 0.6777077896577139, 1.7082135671008096, \"\", \"\", \"\", 0.8925775313870534, \"\", \"\", 0.09274831989536103, \"\", 1.376977010149148, \"\", 0.9308130502821355, 0.0824271910774223, \"\", \"\", 2.4650295919720002, 0.8681371630813387, 1.6004601411673032, 0.1730592722269235, \"\", \"\", 1.6062977042532893, \"\", \"\", 0.008800741259435854, 0.22505419782440927, 1.3699687981327144, \"\", 0.14358092911205714, 0.9949806006748343, \"\", \"\", 1.9160571482318027, 1.872439115370473, \"\", 0.11724832240370509, \"\", \"\", \"\", \"\", \"\", \"\", 0.7947568752168273, 2.0868293429865257, 0.5212345122717601, \"\", \"\", \"\", \"\", \"\", 0.19225588188961695, \"\", 0.6433588128442093, \"\", 2.998739549884926, 0.7927896605772662, \"\", 0.14944656534423667, 2.9906500604041173, \"\", 1.8655931229404517, 0.7269069446538281, \"\", \"\", 1.9689351143843126, 2.091049960699483, \"\", 3.086309484900053], \"yaxis\": \"y2\"}, {\"connectgaps\": false, \"fill\": \"tozeroy\", \"line\": {\"color\": \"red\", \"dash\": \"solid\", \"shape\": \"linear\", \"width\": 0.5}, \"mode\": \"lines\", \"name\": \"Spread\", \"showlegend\": false, \"type\": \"scatter\", \"x\": [0, 1, 2, 3, 4, 5, 6, 7, 8, 9, 10, 11, 12, 13, 14, 15, 16, 17, 18, 19, 20, 21, 22, 23, 24, 25, 26, 27, 28, 29, 30, 31, 32, 33, 34, 35, 36, 37, 38, 39, 40, 41, 42, 43, 44, 45, 46, 47, 48, 49, 50, 51, 52, 53, 54, 55, 56, 57, 58, 59, 60, 61, 62, 63, 64, 65, 66, 67, 68, 69, 70, 71, 72, 73, 74, 75, 76, 77, 78, 79, 80, 81, 82, 83, 84, 85, 86, 87, 88, 89, 90, 91, 92, 93, 94, 95, 96, 97, 98, 99], \"xaxis\": \"x2\", \"y\": [-2.776599707982525, \"\", \"\", \"\", \"\", -0.7203960776998317, \"\", \"\", \"\", -0.8507857336091365, \"\", -1.2551037352917045, \"\", \"\", \"\", -0.06675859753019969, \"\", \"\", \"\", \"\", -0.8024613981176312, -0.9484795245771144, \"\", \"\", -2.383994436531191, -1.8705266863020213, \"\", -0.2638997658196793, \"\", \"\", -0.7330612393936596, \"\", \"\", -1.2530076442953129, -0.4036934983001729, -0.5541500983562512, \"\", -2.1106270388741093, -2.3842748606647253, \"\", -0.5471020715474844, \"\", -0.12901218429593894, \"\", \"\", -0.36024782382743675, -3.912292283437982, \"\", \"\", \"\", \"\", -0.6039873300087748, -0.8181940788819586, \"\", -1.9439440378226245, -0.1588076393867489, \"\", \"\", \"\", -3.040012359628916, \"\", \"\", -1.9621177627867947, -1.61375771048652, \"\", \"\", -0.06463222970990118, \"\", -2.2504881321798824, -0.3517663595649995, -1.1808637157598059, -1.859358458463431, -1.6522857811977527, -1.8978831801680567, \"\", \"\", \"\", -0.2789963715903623, -1.3556041574660405, -0.516150238674687, -0.5599719969262442, -0.22250312545501316, \"\", -0.026366871929841385, \"\", -1.980021902695657, \"\", \"\", -0.1581672877558804, \"\", \"\", -0.23927866838237238, \"\", \"\", -0.6104357617858972, -2.427360689091456, \"\", \"\", -0.3473253758171492, \"\"], \"yaxis\": \"y2\"}],                        {\"hovermode\": \"x\", \"legend\": {\"bgcolor\": \"#F5F6F9\", \"font\": {\"color\": \"#4D5663\"}}, \"paper_bgcolor\": \"#F5F6F9\", \"plot_bgcolor\": \"#F5F6F9\", \"template\": {\"data\": {\"bar\": [{\"error_x\": {\"color\": \"#2a3f5f\"}, \"error_y\": {\"color\": \"#2a3f5f\"}, \"marker\": {\"line\": {\"color\": \"#E5ECF6\", \"width\": 0.5}}, \"type\": \"bar\"}], \"barpolar\": [{\"marker\": {\"line\": {\"color\": \"#E5ECF6\", \"width\": 0.5}}, \"type\": \"barpolar\"}], \"carpet\": [{\"aaxis\": {\"endlinecolor\": \"#2a3f5f\", \"gridcolor\": \"white\", \"linecolor\": \"white\", \"minorgridcolor\": \"white\", \"startlinecolor\": \"#2a3f5f\"}, \"baxis\": {\"endlinecolor\": \"#2a3f5f\", \"gridcolor\": \"white\", \"linecolor\": \"white\", \"minorgridcolor\": \"white\", \"startlinecolor\": \"#2a3f5f\"}, \"type\": \"carpet\"}], \"choropleth\": [{\"colorbar\": {\"outlinewidth\": 0, \"ticks\": \"\"}, \"type\": \"choropleth\"}], \"contour\": [{\"colorbar\": {\"outlinewidth\": 0, \"ticks\": \"\"}, \"colorscale\": [[0.0, \"#0d0887\"], [0.1111111111111111, \"#46039f\"], [0.2222222222222222, \"#7201a8\"], [0.3333333333333333, \"#9c179e\"], [0.4444444444444444, \"#bd3786\"], [0.5555555555555556, \"#d8576b\"], [0.6666666666666666, \"#ed7953\"], [0.7777777777777778, \"#fb9f3a\"], [0.8888888888888888, \"#fdca26\"], [1.0, \"#f0f921\"]], \"type\": \"contour\"}], \"contourcarpet\": [{\"colorbar\": {\"outlinewidth\": 0, \"ticks\": \"\"}, \"type\": \"contourcarpet\"}], \"heatmap\": [{\"colorbar\": {\"outlinewidth\": 0, \"ticks\": \"\"}, \"colorscale\": [[0.0, \"#0d0887\"], [0.1111111111111111, \"#46039f\"], [0.2222222222222222, \"#7201a8\"], [0.3333333333333333, \"#9c179e\"], [0.4444444444444444, \"#bd3786\"], [0.5555555555555556, \"#d8576b\"], [0.6666666666666666, \"#ed7953\"], [0.7777777777777778, \"#fb9f3a\"], [0.8888888888888888, \"#fdca26\"], [1.0, \"#f0f921\"]], \"type\": \"heatmap\"}], \"heatmapgl\": [{\"colorbar\": {\"outlinewidth\": 0, \"ticks\": \"\"}, \"colorscale\": [[0.0, \"#0d0887\"], [0.1111111111111111, \"#46039f\"], [0.2222222222222222, \"#7201a8\"], [0.3333333333333333, \"#9c179e\"], [0.4444444444444444, \"#bd3786\"], [0.5555555555555556, \"#d8576b\"], [0.6666666666666666, \"#ed7953\"], [0.7777777777777778, \"#fb9f3a\"], [0.8888888888888888, \"#fdca26\"], [1.0, \"#f0f921\"]], \"type\": \"heatmapgl\"}], \"histogram\": [{\"marker\": {\"colorbar\": {\"outlinewidth\": 0, \"ticks\": \"\"}}, \"type\": \"histogram\"}], \"histogram2d\": [{\"colorbar\": {\"outlinewidth\": 0, \"ticks\": \"\"}, \"colorscale\": [[0.0, \"#0d0887\"], [0.1111111111111111, \"#46039f\"], [0.2222222222222222, \"#7201a8\"], [0.3333333333333333, \"#9c179e\"], [0.4444444444444444, \"#bd3786\"], [0.5555555555555556, \"#d8576b\"], [0.6666666666666666, \"#ed7953\"], [0.7777777777777778, \"#fb9f3a\"], [0.8888888888888888, \"#fdca26\"], [1.0, \"#f0f921\"]], \"type\": \"histogram2d\"}], \"histogram2dcontour\": [{\"colorbar\": {\"outlinewidth\": 0, \"ticks\": \"\"}, \"colorscale\": [[0.0, \"#0d0887\"], [0.1111111111111111, \"#46039f\"], [0.2222222222222222, \"#7201a8\"], [0.3333333333333333, \"#9c179e\"], [0.4444444444444444, \"#bd3786\"], [0.5555555555555556, \"#d8576b\"], [0.6666666666666666, \"#ed7953\"], [0.7777777777777778, \"#fb9f3a\"], [0.8888888888888888, \"#fdca26\"], [1.0, \"#f0f921\"]], \"type\": \"histogram2dcontour\"}], \"mesh3d\": [{\"colorbar\": {\"outlinewidth\": 0, \"ticks\": \"\"}, \"type\": \"mesh3d\"}], \"parcoords\": [{\"line\": {\"colorbar\": {\"outlinewidth\": 0, \"ticks\": \"\"}}, \"type\": \"parcoords\"}], \"pie\": [{\"automargin\": true, \"type\": \"pie\"}], \"scatter\": [{\"marker\": {\"colorbar\": {\"outlinewidth\": 0, \"ticks\": \"\"}}, \"type\": \"scatter\"}], \"scatter3d\": [{\"line\": {\"colorbar\": {\"outlinewidth\": 0, \"ticks\": \"\"}}, \"marker\": {\"colorbar\": {\"outlinewidth\": 0, \"ticks\": \"\"}}, \"type\": \"scatter3d\"}], \"scattercarpet\": [{\"marker\": {\"colorbar\": {\"outlinewidth\": 0, \"ticks\": \"\"}}, \"type\": \"scattercarpet\"}], \"scattergeo\": [{\"marker\": {\"colorbar\": {\"outlinewidth\": 0, \"ticks\": \"\"}}, \"type\": \"scattergeo\"}], \"scattergl\": [{\"marker\": {\"colorbar\": {\"outlinewidth\": 0, \"ticks\": \"\"}}, \"type\": \"scattergl\"}], \"scattermapbox\": [{\"marker\": {\"colorbar\": {\"outlinewidth\": 0, \"ticks\": \"\"}}, \"type\": \"scattermapbox\"}], \"scatterpolar\": [{\"marker\": {\"colorbar\": {\"outlinewidth\": 0, \"ticks\": \"\"}}, \"type\": \"scatterpolar\"}], \"scatterpolargl\": [{\"marker\": {\"colorbar\": {\"outlinewidth\": 0, \"ticks\": \"\"}}, \"type\": \"scatterpolargl\"}], \"scatterternary\": [{\"marker\": {\"colorbar\": {\"outlinewidth\": 0, \"ticks\": \"\"}}, \"type\": \"scatterternary\"}], \"surface\": [{\"colorbar\": {\"outlinewidth\": 0, \"ticks\": \"\"}, \"colorscale\": [[0.0, \"#0d0887\"], [0.1111111111111111, \"#46039f\"], [0.2222222222222222, \"#7201a8\"], [0.3333333333333333, \"#9c179e\"], [0.4444444444444444, \"#bd3786\"], [0.5555555555555556, \"#d8576b\"], [0.6666666666666666, \"#ed7953\"], [0.7777777777777778, \"#fb9f3a\"], [0.8888888888888888, \"#fdca26\"], [1.0, \"#f0f921\"]], \"type\": \"surface\"}], \"table\": [{\"cells\": {\"fill\": {\"color\": \"#EBF0F8\"}, \"line\": {\"color\": \"white\"}}, \"header\": {\"fill\": {\"color\": \"#C8D4E3\"}, \"line\": {\"color\": \"white\"}}, \"type\": \"table\"}]}, \"layout\": {\"annotationdefaults\": {\"arrowcolor\": \"#2a3f5f\", \"arrowhead\": 0, \"arrowwidth\": 1}, \"autotypenumbers\": \"strict\", \"coloraxis\": {\"colorbar\": {\"outlinewidth\": 0, \"ticks\": \"\"}}, \"colorscale\": {\"diverging\": [[0, \"#8e0152\"], [0.1, \"#c51b7d\"], [0.2, \"#de77ae\"], [0.3, \"#f1b6da\"], [0.4, \"#fde0ef\"], [0.5, \"#f7f7f7\"], [0.6, \"#e6f5d0\"], [0.7, \"#b8e186\"], [0.8, \"#7fbc41\"], [0.9, \"#4d9221\"], [1, \"#276419\"]], \"sequential\": [[0.0, \"#0d0887\"], [0.1111111111111111, \"#46039f\"], [0.2222222222222222, \"#7201a8\"], [0.3333333333333333, \"#9c179e\"], [0.4444444444444444, \"#bd3786\"], [0.5555555555555556, \"#d8576b\"], [0.6666666666666666, \"#ed7953\"], [0.7777777777777778, \"#fb9f3a\"], [0.8888888888888888, \"#fdca26\"], [1.0, \"#f0f921\"]], \"sequentialminus\": [[0.0, \"#0d0887\"], [0.1111111111111111, \"#46039f\"], [0.2222222222222222, \"#7201a8\"], [0.3333333333333333, \"#9c179e\"], [0.4444444444444444, \"#bd3786\"], [0.5555555555555556, \"#d8576b\"], [0.6666666666666666, \"#ed7953\"], [0.7777777777777778, \"#fb9f3a\"], [0.8888888888888888, \"#fdca26\"], [1.0, \"#f0f921\"]]}, \"colorway\": [\"#636efa\", \"#EF553B\", \"#00cc96\", \"#ab63fa\", \"#FFA15A\", \"#19d3f3\", \"#FF6692\", \"#B6E880\", \"#FF97FF\", \"#FECB52\"], \"font\": {\"color\": \"#2a3f5f\"}, \"geo\": {\"bgcolor\": \"white\", \"lakecolor\": \"white\", \"landcolor\": \"#E5ECF6\", \"showlakes\": true, \"showland\": true, \"subunitcolor\": \"white\"}, \"hoverlabel\": {\"align\": \"left\"}, \"hovermode\": \"closest\", \"mapbox\": {\"style\": \"light\"}, \"paper_bgcolor\": \"white\", \"plot_bgcolor\": \"#E5ECF6\", \"polar\": {\"angularaxis\": {\"gridcolor\": \"white\", \"linecolor\": \"white\", \"ticks\": \"\"}, \"bgcolor\": \"#E5ECF6\", \"radialaxis\": {\"gridcolor\": \"white\", \"linecolor\": \"white\", \"ticks\": \"\"}}, \"scene\": {\"xaxis\": {\"backgroundcolor\": \"#E5ECF6\", \"gridcolor\": \"white\", \"gridwidth\": 2, \"linecolor\": \"white\", \"showbackground\": true, \"ticks\": \"\", \"zerolinecolor\": \"white\"}, \"yaxis\": {\"backgroundcolor\": \"#E5ECF6\", \"gridcolor\": \"white\", \"gridwidth\": 2, \"linecolor\": \"white\", \"showbackground\": true, \"ticks\": \"\", \"zerolinecolor\": \"white\"}, \"zaxis\": {\"backgroundcolor\": \"#E5ECF6\", \"gridcolor\": \"white\", \"gridwidth\": 2, \"linecolor\": \"white\", \"showbackground\": true, \"ticks\": \"\", \"zerolinecolor\": \"white\"}}, \"shapedefaults\": {\"line\": {\"color\": \"#2a3f5f\"}}, \"ternary\": {\"aaxis\": {\"gridcolor\": \"white\", \"linecolor\": \"white\", \"ticks\": \"\"}, \"baxis\": {\"gridcolor\": \"white\", \"linecolor\": \"white\", \"ticks\": \"\"}, \"bgcolor\": \"#E5ECF6\", \"caxis\": {\"gridcolor\": \"white\", \"linecolor\": \"white\", \"ticks\": \"\"}}, \"title\": {\"x\": 0.05}, \"xaxis\": {\"automargin\": true, \"gridcolor\": \"white\", \"linecolor\": \"white\", \"ticks\": \"\", \"title\": {\"standoff\": 15}, \"zerolinecolor\": \"white\", \"zerolinewidth\": 2}, \"yaxis\": {\"automargin\": true, \"gridcolor\": \"white\", \"linecolor\": \"white\", \"ticks\": \"\", \"title\": {\"standoff\": 15}, \"zerolinecolor\": \"white\", \"zerolinewidth\": 2}}}, \"title\": {\"font\": {\"color\": \"#4D5663\"}}, \"xaxis\": {\"gridcolor\": \"#E1E5ED\", \"showgrid\": true, \"tickfont\": {\"color\": \"#4D5663\"}, \"title\": {\"font\": {\"color\": \"#4D5663\"}, \"text\": \"\"}, \"zerolinecolor\": \"#E1E5ED\"}, \"xaxis2\": {\"anchor\": \"y2\", \"gridcolor\": \"#E1E5ED\", \"showgrid\": true, \"showticklabels\": false, \"tickfont\": {\"color\": \"#4D5663\"}, \"title\": {\"font\": {\"color\": \"#4D5663\"}, \"text\": \"\"}, \"zerolinecolor\": \"#E1E5ED\"}, \"yaxis\": {\"domain\": [0.3, 1], \"gridcolor\": \"#E1E5ED\", \"showgrid\": true, \"tickfont\": {\"color\": \"#4D5663\"}, \"title\": {\"font\": {\"color\": \"#4D5663\"}, \"text\": \"\"}, \"zerolinecolor\": \"#E1E5ED\"}, \"yaxis2\": {\"domain\": [0, 0.25], \"gridcolor\": \"#E1E5ED\", \"showgrid\": true, \"tickfont\": {\"color\": \"#4D5663\"}, \"title\": {\"font\": {\"color\": \"#4D5663\"}, \"text\": \"Spread\"}, \"zerolinecolor\": \"#E1E5ED\"}},                        {\"showLink\": true, \"linkText\": \"Export to plot.ly\", \"plotlyServerURL\": \"https://plot.ly\", \"responsive\": true}                    ).then(function(){\n",
       "                            \n",
       "var gd = document.getElementById('b87e5563-198d-4411-97f0-51aa79249494');\n",
       "var x = new MutationObserver(function (mutations, observer) {{\n",
       "        var display = window.getComputedStyle(gd).display;\n",
       "        if (!display || display === 'none') {{\n",
       "            console.log([gd, 'removed!']);\n",
       "            Plotly.purge(gd);\n",
       "            observer.disconnect();\n",
       "        }}\n",
       "}});\n",
       "\n",
       "// Listen for the removal of the full notebook cells\n",
       "var notebookContainer = gd.closest('#notebook-container');\n",
       "if (notebookContainer) {{\n",
       "    x.observe(notebookContainer, {childList: true});\n",
       "}}\n",
       "\n",
       "// Listen for the clearing of the current output cell\n",
       "var outputEl = gd.closest('.output');\n",
       "if (outputEl) {{\n",
       "    x.observe(outputEl, {childList: true});\n",
       "}}\n",
       "\n",
       "                        })                };                });            </script>        </div>"
      ]
     },
     "metadata": {},
     "output_type": "display_data"
    }
   ],
   "source": [
    "df[['A','B']].iplot(kind='spread')\n",
    "#essential for stock data to see the spread between 2 stocks"
   ]
  },
  {
   "cell_type": "code",
   "execution_count": 31,
   "id": "14c60ea1",
   "metadata": {},
   "outputs": [
    {
     "data": {
      "application/vnd.plotly.v1+json": {
       "config": {
        "linkText": "Export to plot.ly",
        "plotlyServerURL": "https://plot.ly",
        "showLink": true
       },
       "data": [
        {
         "marker": {
          "color": [
           "rgb(255, 153, 51)",
           "rgb(55, 128, 191)",
           "rgb(50, 171, 96)",
           "rgb(128, 0, 128)",
           "rgb(219, 64, 82)",
           "rgb(0, 128, 128)",
           "rgb(255, 255, 51)",
           "rgb(128, 128, 0)",
           "rgb(251, 128, 114)",
           "rgb(128, 177, 211)"
          ],
          "line": {
           "width": 1.3
          },
          "size": [
           90,
           100,
           36,
           65,
           57,
           43,
           56,
           27,
           43,
           61,
           75,
           79,
           56,
           19,
           12,
           46,
           105,
           46,
           81,
           51,
           66,
           56,
           66,
           57,
           53,
           56,
           58,
           74,
           65,
           67,
           87,
           78,
           12,
           80,
           35,
           33,
           79,
           112,
           57,
           60,
           48,
           41,
           39,
           28,
           67,
           47,
           47,
           47,
           46,
           108,
           53,
           12,
           52,
           73,
           66,
           31,
           15,
           52,
           42,
           49,
           46,
           36,
           98,
           46,
           51,
           91,
           91,
           64,
           22,
           85,
           71,
           68,
           38,
           59,
           61,
           58,
           77,
           63,
           40,
           60,
           61,
           25,
           72,
           38,
           43,
           72,
           39,
           33,
           21,
           68,
           65,
           65,
           80,
           61,
           64,
           64,
           61,
           59,
           58,
           96
          ],
          "symbol": "circle"
         },
         "mode": "markers",
         "text": "",
         "type": "scatter",
         "x": [
          -0.6707154253506642,
          -1.9500262411133285,
          0.47330149330972787,
          0.3220821058806944,
          0.20805808808316156,
          -0.35109658451676334,
          0.6962852968692117,
          -0.10784531902689991,
          1.5086544793457553,
          -1.340268292912184,
          0.7644344119612071,
          -0.26780932113299405,
          0.1878224556979502,
          1.171246085614569,
          0.1851093548441989,
          0.2823252049199303,
          0.6932277961556744,
          -0.6769518643083233,
          -0.19354333756548917,
          2.1363357457530587,
          0.040971497941110074,
          -1.7778136621759986,
          3.13702519812112,
          1.5018405020580647,
          -1.6127044945937676,
          -0.03130235727745821,
          0.09640237026125606,
          -0.5360328057285065,
          0.8757207392735993,
          0.28188882285582134,
          -0.6267644208076626,
          0.522160591589084,
          0.7117289724168866,
          -0.6437782301720258,
          0.2712843372224381,
          0.6033468190197396,
          0.8021238883637443,
          -0.7702350535759206,
          -1.6829360015664283,
          0.6731359493896302,
          -1.0248199572464276,
          0.8986669891621416,
          -0.3657217093686965,
          -0.19140225513344197,
          -0.027425781658837873,
          -0.4486319931274092,
          -1.2072169461605697,
          1.1119462802015492,
          0.7169013061838068,
          1.092554147709969,
          0.3877181592512865,
          -0.5077243469664451,
          0.40449061501060224,
          0.22132603560676464,
          0.5266282050852957,
          -0.3950309560310908,
          -0.005066618020162976,
          0.5397516109289167,
          -0.24187446680324345,
          -2.4180231477424297,
          -0.1118720542279614,
          0.7891934411928745,
          -1.4595096578166131,
          -1.6641566424292111,
          0.4641685548997316,
          0.2039478823314363,
          0.033767471863369765,
          -1.0739728733906564,
          -1.8950403385455485,
          0.33690673212261363,
          -0.34158656775274315,
          -0.1877609055445049,
          -1.3877147132450043,
          -0.5621215400627225,
          -0.25322924851168455,
          1.8159900315694717,
          -0.34533226510827736,
          1.0356949538332458,
          1.2021841404538256,
          -0.3927476513776488,
          0.837235412643784,
          -1.6234430720105062,
          1.243235860033378,
          0.16800048711867446,
          0.4391194684694063,
          -0.27275232834051005,
          1.8786432214985485,
          -1.036152949055604,
          -0.8484408810170442,
          0.3225952169549622,
          1.866756994721403,
          -0.5069716474593075,
          0.569264356614395,
          0.28876108330768585,
          -0.14817903275171626,
          -1.863044870763895,
          1.8120988870687478,
          0.18420897831186897,
          0.16052440170636006,
          2.5581870205130657
         ],
         "y": [
          2.1058842826318607,
          -2.072359511310542,
          -0.3416009005606861,
          -0.7284799185898405,
          -1.2504681420191213,
          0.36929949318306843,
          0.30650633934084254,
          -0.7822857645842319,
          -0.40249307975607373,
          -0.4894825593030477,
          -2.0423146065028983,
          0.9872944141587103,
          -1.0569817425686823,
          -1.6293020589481364,
          -0.3653355683975144,
          0.34908380245013,
          -0.9930184191231534,
          -1.5459068965500842,
          -0.4303553133615934,
          0.6436591668209447,
          0.8434328960587413,
          -0.8293341375988842,
          -0.17665403988967887,
          0.05571735134683879,
          0.7712899419374236,
          1.8392243290245631,
          -0.02887245228532163,
          -0.27213303990882726,
          -0.9293654935733069,
          -0.1717099056031576,
          0.10629681858599707,
          -0.15554719806862996,
          -0.9964845946839231,
          0.6092294141232871,
          0.674977835522611,
          1.1574969173759908,
          -0.0904536430233091,
          1.340391985298189,
          0.7013388590982971,
          0.5803876294942691,
          -0.4777178856989432,
          -0.4783100209870064,
          -0.23670952507275758,
          -1.1222153054155775,
          -0.10985297273626017,
          -0.08838416929997245,
          2.705075337277412,
          -1.353083311770451,
          -0.15123585689753194,
          -0.5079059934573342,
          0.214658887024363,
          0.0962629830423297,
          1.2226846938925608,
          -1.3849716686465248,
          2.47057224290792,
          -0.23622331664434187,
          -0.01386735927959883,
          0.3146974131045074,
          -1.611843264935958,
          0.6219892118864861,
          -0.25545298334001854,
          -0.20578715948195975,
          0.5026081049701817,
          -0.05039893194269115,
          -1.451888593332071,
          -1.6684912330390367,
          0.09839970157327095,
          -1.1912211957943615,
          0.35544779363433393,
          0.6886730916876131,
          0.8392771480070627,
          1.6715975529189262,
          0.2645710679527483,
          1.3357616401053343,
          -1.0479861237285117,
          -0.2708393114170538,
          -0.8665667773800374,
          1.3146913254236081,
          2.557788297919866,
          0.12340258729703828,
          1.3972074095700282,
          -1.400939946555493,
          1.050979978143761,
          0.19436735904851585,
          -0.20423934437480293,
          1.707269574355147,
          -1.1200963283863776,
          -1.8289426096328703,
          -0.6902735932611638,
          0.1731486516107255,
          -1.1238930656827142,
          -0.26769297907693507,
          -1.2963287663260568,
          -0.4381458613461422,
          0.4622567290341809,
          0.564315818327561,
          -0.15683622731556487,
          -1.906840982387614,
          0.5078497775235092,
          -0.5281224643869874
         ]
        }
       ],
       "layout": {
        "legend": {
         "bgcolor": "#F5F6F9",
         "font": {
          "color": "#4D5663"
         }
        },
        "paper_bgcolor": "#F5F6F9",
        "plot_bgcolor": "#F5F6F9",
        "template": {
         "data": {
          "bar": [
           {
            "error_x": {
             "color": "#2a3f5f"
            },
            "error_y": {
             "color": "#2a3f5f"
            },
            "marker": {
             "line": {
              "color": "#E5ECF6",
              "width": 0.5
             }
            },
            "type": "bar"
           }
          ],
          "barpolar": [
           {
            "marker": {
             "line": {
              "color": "#E5ECF6",
              "width": 0.5
             }
            },
            "type": "barpolar"
           }
          ],
          "carpet": [
           {
            "aaxis": {
             "endlinecolor": "#2a3f5f",
             "gridcolor": "white",
             "linecolor": "white",
             "minorgridcolor": "white",
             "startlinecolor": "#2a3f5f"
            },
            "baxis": {
             "endlinecolor": "#2a3f5f",
             "gridcolor": "white",
             "linecolor": "white",
             "minorgridcolor": "white",
             "startlinecolor": "#2a3f5f"
            },
            "type": "carpet"
           }
          ],
          "choropleth": [
           {
            "colorbar": {
             "outlinewidth": 0,
             "ticks": ""
            },
            "type": "choropleth"
           }
          ],
          "contour": [
           {
            "colorbar": {
             "outlinewidth": 0,
             "ticks": ""
            },
            "colorscale": [
             [
              0,
              "#0d0887"
             ],
             [
              0.1111111111111111,
              "#46039f"
             ],
             [
              0.2222222222222222,
              "#7201a8"
             ],
             [
              0.3333333333333333,
              "#9c179e"
             ],
             [
              0.4444444444444444,
              "#bd3786"
             ],
             [
              0.5555555555555556,
              "#d8576b"
             ],
             [
              0.6666666666666666,
              "#ed7953"
             ],
             [
              0.7777777777777778,
              "#fb9f3a"
             ],
             [
              0.8888888888888888,
              "#fdca26"
             ],
             [
              1,
              "#f0f921"
             ]
            ],
            "type": "contour"
           }
          ],
          "contourcarpet": [
           {
            "colorbar": {
             "outlinewidth": 0,
             "ticks": ""
            },
            "type": "contourcarpet"
           }
          ],
          "heatmap": [
           {
            "colorbar": {
             "outlinewidth": 0,
             "ticks": ""
            },
            "colorscale": [
             [
              0,
              "#0d0887"
             ],
             [
              0.1111111111111111,
              "#46039f"
             ],
             [
              0.2222222222222222,
              "#7201a8"
             ],
             [
              0.3333333333333333,
              "#9c179e"
             ],
             [
              0.4444444444444444,
              "#bd3786"
             ],
             [
              0.5555555555555556,
              "#d8576b"
             ],
             [
              0.6666666666666666,
              "#ed7953"
             ],
             [
              0.7777777777777778,
              "#fb9f3a"
             ],
             [
              0.8888888888888888,
              "#fdca26"
             ],
             [
              1,
              "#f0f921"
             ]
            ],
            "type": "heatmap"
           }
          ],
          "heatmapgl": [
           {
            "colorbar": {
             "outlinewidth": 0,
             "ticks": ""
            },
            "colorscale": [
             [
              0,
              "#0d0887"
             ],
             [
              0.1111111111111111,
              "#46039f"
             ],
             [
              0.2222222222222222,
              "#7201a8"
             ],
             [
              0.3333333333333333,
              "#9c179e"
             ],
             [
              0.4444444444444444,
              "#bd3786"
             ],
             [
              0.5555555555555556,
              "#d8576b"
             ],
             [
              0.6666666666666666,
              "#ed7953"
             ],
             [
              0.7777777777777778,
              "#fb9f3a"
             ],
             [
              0.8888888888888888,
              "#fdca26"
             ],
             [
              1,
              "#f0f921"
             ]
            ],
            "type": "heatmapgl"
           }
          ],
          "histogram": [
           {
            "marker": {
             "colorbar": {
              "outlinewidth": 0,
              "ticks": ""
             }
            },
            "type": "histogram"
           }
          ],
          "histogram2d": [
           {
            "colorbar": {
             "outlinewidth": 0,
             "ticks": ""
            },
            "colorscale": [
             [
              0,
              "#0d0887"
             ],
             [
              0.1111111111111111,
              "#46039f"
             ],
             [
              0.2222222222222222,
              "#7201a8"
             ],
             [
              0.3333333333333333,
              "#9c179e"
             ],
             [
              0.4444444444444444,
              "#bd3786"
             ],
             [
              0.5555555555555556,
              "#d8576b"
             ],
             [
              0.6666666666666666,
              "#ed7953"
             ],
             [
              0.7777777777777778,
              "#fb9f3a"
             ],
             [
              0.8888888888888888,
              "#fdca26"
             ],
             [
              1,
              "#f0f921"
             ]
            ],
            "type": "histogram2d"
           }
          ],
          "histogram2dcontour": [
           {
            "colorbar": {
             "outlinewidth": 0,
             "ticks": ""
            },
            "colorscale": [
             [
              0,
              "#0d0887"
             ],
             [
              0.1111111111111111,
              "#46039f"
             ],
             [
              0.2222222222222222,
              "#7201a8"
             ],
             [
              0.3333333333333333,
              "#9c179e"
             ],
             [
              0.4444444444444444,
              "#bd3786"
             ],
             [
              0.5555555555555556,
              "#d8576b"
             ],
             [
              0.6666666666666666,
              "#ed7953"
             ],
             [
              0.7777777777777778,
              "#fb9f3a"
             ],
             [
              0.8888888888888888,
              "#fdca26"
             ],
             [
              1,
              "#f0f921"
             ]
            ],
            "type": "histogram2dcontour"
           }
          ],
          "mesh3d": [
           {
            "colorbar": {
             "outlinewidth": 0,
             "ticks": ""
            },
            "type": "mesh3d"
           }
          ],
          "parcoords": [
           {
            "line": {
             "colorbar": {
              "outlinewidth": 0,
              "ticks": ""
             }
            },
            "type": "parcoords"
           }
          ],
          "pie": [
           {
            "automargin": true,
            "type": "pie"
           }
          ],
          "scatter": [
           {
            "marker": {
             "colorbar": {
              "outlinewidth": 0,
              "ticks": ""
             }
            },
            "type": "scatter"
           }
          ],
          "scatter3d": [
           {
            "line": {
             "colorbar": {
              "outlinewidth": 0,
              "ticks": ""
             }
            },
            "marker": {
             "colorbar": {
              "outlinewidth": 0,
              "ticks": ""
             }
            },
            "type": "scatter3d"
           }
          ],
          "scattercarpet": [
           {
            "marker": {
             "colorbar": {
              "outlinewidth": 0,
              "ticks": ""
             }
            },
            "type": "scattercarpet"
           }
          ],
          "scattergeo": [
           {
            "marker": {
             "colorbar": {
              "outlinewidth": 0,
              "ticks": ""
             }
            },
            "type": "scattergeo"
           }
          ],
          "scattergl": [
           {
            "marker": {
             "colorbar": {
              "outlinewidth": 0,
              "ticks": ""
             }
            },
            "type": "scattergl"
           }
          ],
          "scattermapbox": [
           {
            "marker": {
             "colorbar": {
              "outlinewidth": 0,
              "ticks": ""
             }
            },
            "type": "scattermapbox"
           }
          ],
          "scatterpolar": [
           {
            "marker": {
             "colorbar": {
              "outlinewidth": 0,
              "ticks": ""
             }
            },
            "type": "scatterpolar"
           }
          ],
          "scatterpolargl": [
           {
            "marker": {
             "colorbar": {
              "outlinewidth": 0,
              "ticks": ""
             }
            },
            "type": "scatterpolargl"
           }
          ],
          "scatterternary": [
           {
            "marker": {
             "colorbar": {
              "outlinewidth": 0,
              "ticks": ""
             }
            },
            "type": "scatterternary"
           }
          ],
          "surface": [
           {
            "colorbar": {
             "outlinewidth": 0,
             "ticks": ""
            },
            "colorscale": [
             [
              0,
              "#0d0887"
             ],
             [
              0.1111111111111111,
              "#46039f"
             ],
             [
              0.2222222222222222,
              "#7201a8"
             ],
             [
              0.3333333333333333,
              "#9c179e"
             ],
             [
              0.4444444444444444,
              "#bd3786"
             ],
             [
              0.5555555555555556,
              "#d8576b"
             ],
             [
              0.6666666666666666,
              "#ed7953"
             ],
             [
              0.7777777777777778,
              "#fb9f3a"
             ],
             [
              0.8888888888888888,
              "#fdca26"
             ],
             [
              1,
              "#f0f921"
             ]
            ],
            "type": "surface"
           }
          ],
          "table": [
           {
            "cells": {
             "fill": {
              "color": "#EBF0F8"
             },
             "line": {
              "color": "white"
             }
            },
            "header": {
             "fill": {
              "color": "#C8D4E3"
             },
             "line": {
              "color": "white"
             }
            },
            "type": "table"
           }
          ]
         },
         "layout": {
          "annotationdefaults": {
           "arrowcolor": "#2a3f5f",
           "arrowhead": 0,
           "arrowwidth": 1
          },
          "autotypenumbers": "strict",
          "coloraxis": {
           "colorbar": {
            "outlinewidth": 0,
            "ticks": ""
           }
          },
          "colorscale": {
           "diverging": [
            [
             0,
             "#8e0152"
            ],
            [
             0.1,
             "#c51b7d"
            ],
            [
             0.2,
             "#de77ae"
            ],
            [
             0.3,
             "#f1b6da"
            ],
            [
             0.4,
             "#fde0ef"
            ],
            [
             0.5,
             "#f7f7f7"
            ],
            [
             0.6,
             "#e6f5d0"
            ],
            [
             0.7,
             "#b8e186"
            ],
            [
             0.8,
             "#7fbc41"
            ],
            [
             0.9,
             "#4d9221"
            ],
            [
             1,
             "#276419"
            ]
           ],
           "sequential": [
            [
             0,
             "#0d0887"
            ],
            [
             0.1111111111111111,
             "#46039f"
            ],
            [
             0.2222222222222222,
             "#7201a8"
            ],
            [
             0.3333333333333333,
             "#9c179e"
            ],
            [
             0.4444444444444444,
             "#bd3786"
            ],
            [
             0.5555555555555556,
             "#d8576b"
            ],
            [
             0.6666666666666666,
             "#ed7953"
            ],
            [
             0.7777777777777778,
             "#fb9f3a"
            ],
            [
             0.8888888888888888,
             "#fdca26"
            ],
            [
             1,
             "#f0f921"
            ]
           ],
           "sequentialminus": [
            [
             0,
             "#0d0887"
            ],
            [
             0.1111111111111111,
             "#46039f"
            ],
            [
             0.2222222222222222,
             "#7201a8"
            ],
            [
             0.3333333333333333,
             "#9c179e"
            ],
            [
             0.4444444444444444,
             "#bd3786"
            ],
            [
             0.5555555555555556,
             "#d8576b"
            ],
            [
             0.6666666666666666,
             "#ed7953"
            ],
            [
             0.7777777777777778,
             "#fb9f3a"
            ],
            [
             0.8888888888888888,
             "#fdca26"
            ],
            [
             1,
             "#f0f921"
            ]
           ]
          },
          "colorway": [
           "#636efa",
           "#EF553B",
           "#00cc96",
           "#ab63fa",
           "#FFA15A",
           "#19d3f3",
           "#FF6692",
           "#B6E880",
           "#FF97FF",
           "#FECB52"
          ],
          "font": {
           "color": "#2a3f5f"
          },
          "geo": {
           "bgcolor": "white",
           "lakecolor": "white",
           "landcolor": "#E5ECF6",
           "showlakes": true,
           "showland": true,
           "subunitcolor": "white"
          },
          "hoverlabel": {
           "align": "left"
          },
          "hovermode": "closest",
          "mapbox": {
           "style": "light"
          },
          "paper_bgcolor": "white",
          "plot_bgcolor": "#E5ECF6",
          "polar": {
           "angularaxis": {
            "gridcolor": "white",
            "linecolor": "white",
            "ticks": ""
           },
           "bgcolor": "#E5ECF6",
           "radialaxis": {
            "gridcolor": "white",
            "linecolor": "white",
            "ticks": ""
           }
          },
          "scene": {
           "xaxis": {
            "backgroundcolor": "#E5ECF6",
            "gridcolor": "white",
            "gridwidth": 2,
            "linecolor": "white",
            "showbackground": true,
            "ticks": "",
            "zerolinecolor": "white"
           },
           "yaxis": {
            "backgroundcolor": "#E5ECF6",
            "gridcolor": "white",
            "gridwidth": 2,
            "linecolor": "white",
            "showbackground": true,
            "ticks": "",
            "zerolinecolor": "white"
           },
           "zaxis": {
            "backgroundcolor": "#E5ECF6",
            "gridcolor": "white",
            "gridwidth": 2,
            "linecolor": "white",
            "showbackground": true,
            "ticks": "",
            "zerolinecolor": "white"
           }
          },
          "shapedefaults": {
           "line": {
            "color": "#2a3f5f"
           }
          },
          "ternary": {
           "aaxis": {
            "gridcolor": "white",
            "linecolor": "white",
            "ticks": ""
           },
           "baxis": {
            "gridcolor": "white",
            "linecolor": "white",
            "ticks": ""
           },
           "bgcolor": "#E5ECF6",
           "caxis": {
            "gridcolor": "white",
            "linecolor": "white",
            "ticks": ""
           }
          },
          "title": {
           "x": 0.05
          },
          "xaxis": {
           "automargin": true,
           "gridcolor": "white",
           "linecolor": "white",
           "ticks": "",
           "title": {
            "standoff": 15
           },
           "zerolinecolor": "white",
           "zerolinewidth": 2
          },
          "yaxis": {
           "automargin": true,
           "gridcolor": "white",
           "linecolor": "white",
           "ticks": "",
           "title": {
            "standoff": 15
           },
           "zerolinecolor": "white",
           "zerolinewidth": 2
          }
         }
        },
        "title": {
         "font": {
          "color": "#4D5663"
         }
        },
        "xaxis": {
         "gridcolor": "#E1E5ED",
         "showgrid": true,
         "tickfont": {
          "color": "#4D5663"
         },
         "title": {
          "font": {
           "color": "#4D5663"
          },
          "text": ""
         },
         "zerolinecolor": "#E1E5ED"
        },
        "yaxis": {
         "gridcolor": "#E1E5ED",
         "showgrid": true,
         "tickfont": {
          "color": "#4D5663"
         },
         "title": {
          "font": {
           "color": "#4D5663"
          },
          "text": ""
         },
         "zerolinecolor": "#E1E5ED"
        }
       }
      },
      "text/html": [
       "<div>                            <div id=\"e632d24b-ede5-4d32-9aaa-91c8d824d7e5\" class=\"plotly-graph-div\" style=\"height:525px; width:100%;\"></div>            <script type=\"text/javascript\">                require([\"plotly\"], function(Plotly) {                    window.PLOTLYENV=window.PLOTLYENV || {};\n",
       "                    window.PLOTLYENV.BASE_URL='https://plot.ly';                                    if (document.getElementById(\"e632d24b-ede5-4d32-9aaa-91c8d824d7e5\")) {                    Plotly.newPlot(                        \"e632d24b-ede5-4d32-9aaa-91c8d824d7e5\",                        [{\"marker\": {\"color\": [\"rgb(255, 153, 51)\", \"rgb(55, 128, 191)\", \"rgb(50, 171, 96)\", \"rgb(128, 0, 128)\", \"rgb(219, 64, 82)\", \"rgb(0, 128, 128)\", \"rgb(255, 255, 51)\", \"rgb(128, 128, 0)\", \"rgb(251, 128, 114)\", \"rgb(128, 177, 211)\"], \"line\": {\"width\": 1.3}, \"size\": [90, 100, 36, 65, 57, 43, 56, 27, 43, 61, 75, 79, 56, 19, 12, 46, 105, 46, 81, 51, 66, 56, 66, 57, 53, 56, 58, 74, 65, 67, 87, 78, 12, 80, 35, 33, 79, 112, 57, 60, 48, 41, 39, 28, 67, 47, 47, 47, 46, 108, 53, 12, 52, 73, 66, 31, 15, 52, 42, 49, 46, 36, 98, 46, 51, 91, 91, 64, 22, 85, 71, 68, 38, 59, 61, 58, 77, 63, 40, 60, 61, 25, 72, 38, 43, 72, 39, 33, 21, 68, 65, 65, 80, 61, 64, 64, 61, 59, 58, 96], \"symbol\": \"circle\"}, \"mode\": \"markers\", \"text\": \"\", \"type\": \"scatter\", \"x\": [-0.6707154253506642, -1.9500262411133285, 0.47330149330972787, 0.3220821058806944, 0.20805808808316156, -0.35109658451676334, 0.6962852968692117, -0.10784531902689991, 1.5086544793457553, -1.340268292912184, 0.7644344119612071, -0.26780932113299405, 0.1878224556979502, 1.171246085614569, 0.1851093548441989, 0.2823252049199303, 0.6932277961556744, -0.6769518643083233, -0.19354333756548917, 2.1363357457530587, 0.040971497941110074, -1.7778136621759986, 3.13702519812112, 1.5018405020580647, -1.6127044945937676, -0.03130235727745821, 0.09640237026125606, -0.5360328057285065, 0.8757207392735993, 0.28188882285582134, -0.6267644208076626, 0.522160591589084, 0.7117289724168866, -0.6437782301720258, 0.2712843372224381, 0.6033468190197396, 0.8021238883637443, -0.7702350535759206, -1.6829360015664283, 0.6731359493896302, -1.0248199572464276, 0.8986669891621416, -0.3657217093686965, -0.19140225513344197, -0.027425781658837873, -0.4486319931274092, -1.2072169461605697, 1.1119462802015492, 0.7169013061838068, 1.092554147709969, 0.3877181592512865, -0.5077243469664451, 0.40449061501060224, 0.22132603560676464, 0.5266282050852957, -0.3950309560310908, -0.005066618020162976, 0.5397516109289167, -0.24187446680324345, -2.4180231477424297, -0.1118720542279614, 0.7891934411928745, -1.4595096578166131, -1.6641566424292111, 0.4641685548997316, 0.2039478823314363, 0.033767471863369765, -1.0739728733906564, -1.8950403385455485, 0.33690673212261363, -0.34158656775274315, -0.1877609055445049, -1.3877147132450043, -0.5621215400627225, -0.25322924851168455, 1.8159900315694717, -0.34533226510827736, 1.0356949538332458, 1.2021841404538256, -0.3927476513776488, 0.837235412643784, -1.6234430720105062, 1.243235860033378, 0.16800048711867446, 0.4391194684694063, -0.27275232834051005, 1.8786432214985485, -1.036152949055604, -0.8484408810170442, 0.3225952169549622, 1.866756994721403, -0.5069716474593075, 0.569264356614395, 0.28876108330768585, -0.14817903275171626, -1.863044870763895, 1.8120988870687478, 0.18420897831186897, 0.16052440170636006, 2.5581870205130657], \"y\": [2.1058842826318607, -2.072359511310542, -0.3416009005606861, -0.7284799185898405, -1.2504681420191213, 0.36929949318306843, 0.30650633934084254, -0.7822857645842319, -0.40249307975607373, -0.4894825593030477, -2.0423146065028983, 0.9872944141587103, -1.0569817425686823, -1.6293020589481364, -0.3653355683975144, 0.34908380245013, -0.9930184191231534, -1.5459068965500842, -0.4303553133615934, 0.6436591668209447, 0.8434328960587413, -0.8293341375988842, -0.17665403988967887, 0.05571735134683879, 0.7712899419374236, 1.8392243290245631, -0.02887245228532163, -0.27213303990882726, -0.9293654935733069, -0.1717099056031576, 0.10629681858599707, -0.15554719806862996, -0.9964845946839231, 0.6092294141232871, 0.674977835522611, 1.1574969173759908, -0.0904536430233091, 1.340391985298189, 0.7013388590982971, 0.5803876294942691, -0.4777178856989432, -0.4783100209870064, -0.23670952507275758, -1.1222153054155775, -0.10985297273626017, -0.08838416929997245, 2.705075337277412, -1.353083311770451, -0.15123585689753194, -0.5079059934573342, 0.214658887024363, 0.0962629830423297, 1.2226846938925608, -1.3849716686465248, 2.47057224290792, -0.23622331664434187, -0.01386735927959883, 0.3146974131045074, -1.611843264935958, 0.6219892118864861, -0.25545298334001854, -0.20578715948195975, 0.5026081049701817, -0.05039893194269115, -1.451888593332071, -1.6684912330390367, 0.09839970157327095, -1.1912211957943615, 0.35544779363433393, 0.6886730916876131, 0.8392771480070627, 1.6715975529189262, 0.2645710679527483, 1.3357616401053343, -1.0479861237285117, -0.2708393114170538, -0.8665667773800374, 1.3146913254236081, 2.557788297919866, 0.12340258729703828, 1.3972074095700282, -1.400939946555493, 1.050979978143761, 0.19436735904851585, -0.20423934437480293, 1.707269574355147, -1.1200963283863776, -1.8289426096328703, -0.6902735932611638, 0.1731486516107255, -1.1238930656827142, -0.26769297907693507, -1.2963287663260568, -0.4381458613461422, 0.4622567290341809, 0.564315818327561, -0.15683622731556487, -1.906840982387614, 0.5078497775235092, -0.5281224643869874]}],                        {\"legend\": {\"bgcolor\": \"#F5F6F9\", \"font\": {\"color\": \"#4D5663\"}}, \"paper_bgcolor\": \"#F5F6F9\", \"plot_bgcolor\": \"#F5F6F9\", \"template\": {\"data\": {\"bar\": [{\"error_x\": {\"color\": \"#2a3f5f\"}, \"error_y\": {\"color\": \"#2a3f5f\"}, \"marker\": {\"line\": {\"color\": \"#E5ECF6\", \"width\": 0.5}}, \"type\": \"bar\"}], \"barpolar\": [{\"marker\": {\"line\": {\"color\": \"#E5ECF6\", \"width\": 0.5}}, \"type\": \"barpolar\"}], \"carpet\": [{\"aaxis\": {\"endlinecolor\": \"#2a3f5f\", \"gridcolor\": \"white\", \"linecolor\": \"white\", \"minorgridcolor\": \"white\", \"startlinecolor\": \"#2a3f5f\"}, \"baxis\": {\"endlinecolor\": \"#2a3f5f\", \"gridcolor\": \"white\", \"linecolor\": \"white\", \"minorgridcolor\": \"white\", \"startlinecolor\": \"#2a3f5f\"}, \"type\": \"carpet\"}], \"choropleth\": [{\"colorbar\": {\"outlinewidth\": 0, \"ticks\": \"\"}, \"type\": \"choropleth\"}], \"contour\": [{\"colorbar\": {\"outlinewidth\": 0, \"ticks\": \"\"}, \"colorscale\": [[0.0, \"#0d0887\"], [0.1111111111111111, \"#46039f\"], [0.2222222222222222, \"#7201a8\"], [0.3333333333333333, \"#9c179e\"], [0.4444444444444444, \"#bd3786\"], [0.5555555555555556, \"#d8576b\"], [0.6666666666666666, \"#ed7953\"], [0.7777777777777778, \"#fb9f3a\"], [0.8888888888888888, \"#fdca26\"], [1.0, \"#f0f921\"]], \"type\": \"contour\"}], \"contourcarpet\": [{\"colorbar\": {\"outlinewidth\": 0, \"ticks\": \"\"}, \"type\": \"contourcarpet\"}], \"heatmap\": [{\"colorbar\": {\"outlinewidth\": 0, \"ticks\": \"\"}, \"colorscale\": [[0.0, \"#0d0887\"], [0.1111111111111111, \"#46039f\"], [0.2222222222222222, \"#7201a8\"], [0.3333333333333333, \"#9c179e\"], [0.4444444444444444, \"#bd3786\"], [0.5555555555555556, \"#d8576b\"], [0.6666666666666666, \"#ed7953\"], [0.7777777777777778, \"#fb9f3a\"], [0.8888888888888888, \"#fdca26\"], [1.0, \"#f0f921\"]], \"type\": \"heatmap\"}], \"heatmapgl\": [{\"colorbar\": {\"outlinewidth\": 0, \"ticks\": \"\"}, \"colorscale\": [[0.0, \"#0d0887\"], [0.1111111111111111, \"#46039f\"], [0.2222222222222222, \"#7201a8\"], [0.3333333333333333, \"#9c179e\"], [0.4444444444444444, \"#bd3786\"], [0.5555555555555556, \"#d8576b\"], [0.6666666666666666, \"#ed7953\"], [0.7777777777777778, \"#fb9f3a\"], [0.8888888888888888, \"#fdca26\"], [1.0, \"#f0f921\"]], \"type\": \"heatmapgl\"}], \"histogram\": [{\"marker\": {\"colorbar\": {\"outlinewidth\": 0, \"ticks\": \"\"}}, \"type\": \"histogram\"}], \"histogram2d\": [{\"colorbar\": {\"outlinewidth\": 0, \"ticks\": \"\"}, \"colorscale\": [[0.0, \"#0d0887\"], [0.1111111111111111, \"#46039f\"], [0.2222222222222222, \"#7201a8\"], [0.3333333333333333, \"#9c179e\"], [0.4444444444444444, \"#bd3786\"], [0.5555555555555556, \"#d8576b\"], [0.6666666666666666, \"#ed7953\"], [0.7777777777777778, \"#fb9f3a\"], [0.8888888888888888, \"#fdca26\"], [1.0, \"#f0f921\"]], \"type\": \"histogram2d\"}], \"histogram2dcontour\": [{\"colorbar\": {\"outlinewidth\": 0, \"ticks\": \"\"}, \"colorscale\": [[0.0, \"#0d0887\"], [0.1111111111111111, \"#46039f\"], [0.2222222222222222, \"#7201a8\"], [0.3333333333333333, \"#9c179e\"], [0.4444444444444444, \"#bd3786\"], [0.5555555555555556, \"#d8576b\"], [0.6666666666666666, \"#ed7953\"], [0.7777777777777778, \"#fb9f3a\"], [0.8888888888888888, \"#fdca26\"], [1.0, \"#f0f921\"]], \"type\": \"histogram2dcontour\"}], \"mesh3d\": [{\"colorbar\": {\"outlinewidth\": 0, \"ticks\": \"\"}, \"type\": \"mesh3d\"}], \"parcoords\": [{\"line\": {\"colorbar\": {\"outlinewidth\": 0, \"ticks\": \"\"}}, \"type\": \"parcoords\"}], \"pie\": [{\"automargin\": true, \"type\": \"pie\"}], \"scatter\": [{\"marker\": {\"colorbar\": {\"outlinewidth\": 0, \"ticks\": \"\"}}, \"type\": \"scatter\"}], \"scatter3d\": [{\"line\": {\"colorbar\": {\"outlinewidth\": 0, \"ticks\": \"\"}}, \"marker\": {\"colorbar\": {\"outlinewidth\": 0, \"ticks\": \"\"}}, \"type\": \"scatter3d\"}], \"scattercarpet\": [{\"marker\": {\"colorbar\": {\"outlinewidth\": 0, \"ticks\": \"\"}}, \"type\": \"scattercarpet\"}], \"scattergeo\": [{\"marker\": {\"colorbar\": {\"outlinewidth\": 0, \"ticks\": \"\"}}, \"type\": \"scattergeo\"}], \"scattergl\": [{\"marker\": {\"colorbar\": {\"outlinewidth\": 0, \"ticks\": \"\"}}, \"type\": \"scattergl\"}], \"scattermapbox\": [{\"marker\": {\"colorbar\": {\"outlinewidth\": 0, \"ticks\": \"\"}}, \"type\": \"scattermapbox\"}], \"scatterpolar\": [{\"marker\": {\"colorbar\": {\"outlinewidth\": 0, \"ticks\": \"\"}}, \"type\": \"scatterpolar\"}], \"scatterpolargl\": [{\"marker\": {\"colorbar\": {\"outlinewidth\": 0, \"ticks\": \"\"}}, \"type\": \"scatterpolargl\"}], \"scatterternary\": [{\"marker\": {\"colorbar\": {\"outlinewidth\": 0, \"ticks\": \"\"}}, \"type\": \"scatterternary\"}], \"surface\": [{\"colorbar\": {\"outlinewidth\": 0, \"ticks\": \"\"}, \"colorscale\": [[0.0, \"#0d0887\"], [0.1111111111111111, \"#46039f\"], [0.2222222222222222, \"#7201a8\"], [0.3333333333333333, \"#9c179e\"], [0.4444444444444444, \"#bd3786\"], [0.5555555555555556, \"#d8576b\"], [0.6666666666666666, \"#ed7953\"], [0.7777777777777778, \"#fb9f3a\"], [0.8888888888888888, \"#fdca26\"], [1.0, \"#f0f921\"]], \"type\": \"surface\"}], \"table\": [{\"cells\": {\"fill\": {\"color\": \"#EBF0F8\"}, \"line\": {\"color\": \"white\"}}, \"header\": {\"fill\": {\"color\": \"#C8D4E3\"}, \"line\": {\"color\": \"white\"}}, \"type\": \"table\"}]}, \"layout\": {\"annotationdefaults\": {\"arrowcolor\": \"#2a3f5f\", \"arrowhead\": 0, \"arrowwidth\": 1}, \"autotypenumbers\": \"strict\", \"coloraxis\": {\"colorbar\": {\"outlinewidth\": 0, \"ticks\": \"\"}}, \"colorscale\": {\"diverging\": [[0, \"#8e0152\"], [0.1, \"#c51b7d\"], [0.2, \"#de77ae\"], [0.3, \"#f1b6da\"], [0.4, \"#fde0ef\"], [0.5, \"#f7f7f7\"], [0.6, \"#e6f5d0\"], [0.7, \"#b8e186\"], [0.8, \"#7fbc41\"], [0.9, \"#4d9221\"], [1, \"#276419\"]], \"sequential\": [[0.0, \"#0d0887\"], [0.1111111111111111, \"#46039f\"], [0.2222222222222222, \"#7201a8\"], [0.3333333333333333, \"#9c179e\"], [0.4444444444444444, \"#bd3786\"], [0.5555555555555556, \"#d8576b\"], [0.6666666666666666, \"#ed7953\"], [0.7777777777777778, \"#fb9f3a\"], [0.8888888888888888, \"#fdca26\"], [1.0, \"#f0f921\"]], \"sequentialminus\": [[0.0, \"#0d0887\"], [0.1111111111111111, \"#46039f\"], [0.2222222222222222, \"#7201a8\"], [0.3333333333333333, \"#9c179e\"], [0.4444444444444444, \"#bd3786\"], [0.5555555555555556, \"#d8576b\"], [0.6666666666666666, \"#ed7953\"], [0.7777777777777778, \"#fb9f3a\"], [0.8888888888888888, \"#fdca26\"], [1.0, \"#f0f921\"]]}, \"colorway\": [\"#636efa\", \"#EF553B\", \"#00cc96\", \"#ab63fa\", \"#FFA15A\", \"#19d3f3\", \"#FF6692\", \"#B6E880\", \"#FF97FF\", \"#FECB52\"], \"font\": {\"color\": \"#2a3f5f\"}, \"geo\": {\"bgcolor\": \"white\", \"lakecolor\": \"white\", \"landcolor\": \"#E5ECF6\", \"showlakes\": true, \"showland\": true, \"subunitcolor\": \"white\"}, \"hoverlabel\": {\"align\": \"left\"}, \"hovermode\": \"closest\", \"mapbox\": {\"style\": \"light\"}, \"paper_bgcolor\": \"white\", \"plot_bgcolor\": \"#E5ECF6\", \"polar\": {\"angularaxis\": {\"gridcolor\": \"white\", \"linecolor\": \"white\", \"ticks\": \"\"}, \"bgcolor\": \"#E5ECF6\", \"radialaxis\": {\"gridcolor\": \"white\", \"linecolor\": \"white\", \"ticks\": \"\"}}, \"scene\": {\"xaxis\": {\"backgroundcolor\": \"#E5ECF6\", \"gridcolor\": \"white\", \"gridwidth\": 2, \"linecolor\": \"white\", \"showbackground\": true, \"ticks\": \"\", \"zerolinecolor\": \"white\"}, \"yaxis\": {\"backgroundcolor\": \"#E5ECF6\", \"gridcolor\": \"white\", \"gridwidth\": 2, \"linecolor\": \"white\", \"showbackground\": true, \"ticks\": \"\", \"zerolinecolor\": \"white\"}, \"zaxis\": {\"backgroundcolor\": \"#E5ECF6\", \"gridcolor\": \"white\", \"gridwidth\": 2, \"linecolor\": \"white\", \"showbackground\": true, \"ticks\": \"\", \"zerolinecolor\": \"white\"}}, \"shapedefaults\": {\"line\": {\"color\": \"#2a3f5f\"}}, \"ternary\": {\"aaxis\": {\"gridcolor\": \"white\", \"linecolor\": \"white\", \"ticks\": \"\"}, \"baxis\": {\"gridcolor\": \"white\", \"linecolor\": \"white\", \"ticks\": \"\"}, \"bgcolor\": \"#E5ECF6\", \"caxis\": {\"gridcolor\": \"white\", \"linecolor\": \"white\", \"ticks\": \"\"}}, \"title\": {\"x\": 0.05}, \"xaxis\": {\"automargin\": true, \"gridcolor\": \"white\", \"linecolor\": \"white\", \"ticks\": \"\", \"title\": {\"standoff\": 15}, \"zerolinecolor\": \"white\", \"zerolinewidth\": 2}, \"yaxis\": {\"automargin\": true, \"gridcolor\": \"white\", \"linecolor\": \"white\", \"ticks\": \"\", \"title\": {\"standoff\": 15}, \"zerolinecolor\": \"white\", \"zerolinewidth\": 2}}}, \"title\": {\"font\": {\"color\": \"#4D5663\"}}, \"xaxis\": {\"gridcolor\": \"#E1E5ED\", \"showgrid\": true, \"tickfont\": {\"color\": \"#4D5663\"}, \"title\": {\"font\": {\"color\": \"#4D5663\"}, \"text\": \"\"}, \"zerolinecolor\": \"#E1E5ED\"}, \"yaxis\": {\"gridcolor\": \"#E1E5ED\", \"showgrid\": true, \"tickfont\": {\"color\": \"#4D5663\"}, \"title\": {\"font\": {\"color\": \"#4D5663\"}, \"text\": \"\"}, \"zerolinecolor\": \"#E1E5ED\"}},                        {\"showLink\": true, \"linkText\": \"Export to plot.ly\", \"plotlyServerURL\": \"https://plot.ly\", \"responsive\": true}                    ).then(function(){\n",
       "                            \n",
       "var gd = document.getElementById('e632d24b-ede5-4d32-9aaa-91c8d824d7e5');\n",
       "var x = new MutationObserver(function (mutations, observer) {{\n",
       "        var display = window.getComputedStyle(gd).display;\n",
       "        if (!display || display === 'none') {{\n",
       "            console.log([gd, 'removed!']);\n",
       "            Plotly.purge(gd);\n",
       "            observer.disconnect();\n",
       "        }}\n",
       "}});\n",
       "\n",
       "// Listen for the removal of the full notebook cells\n",
       "var notebookContainer = gd.closest('#notebook-container');\n",
       "if (notebookContainer) {{\n",
       "    x.observe(notebookContainer, {childList: true});\n",
       "}}\n",
       "\n",
       "// Listen for the clearing of the current output cell\n",
       "var outputEl = gd.closest('.output');\n",
       "if (outputEl) {{\n",
       "    x.observe(outputEl, {childList: true});\n",
       "}}\n",
       "\n",
       "                        })                };                });            </script>        </div>"
      ]
     },
     "metadata": {},
     "output_type": "display_data"
    }
   ],
   "source": [
    "df.iplot(kind='bubble',x='A',y='B',size='C')\n",
    "#bubble plot is similar to scatter plot, the difference is that the size of the points is based of another column value which\n",
    "#is C in this case"
   ]
  },
  {
   "cell_type": "code",
   "execution_count": 32,
   "id": "dafca2bd",
   "metadata": {},
   "outputs": [
    {
     "data": {
      "application/vnd.plotly.v1+json": {
       "config": {
        "linkText": "Export to plot.ly",
        "plotlyServerURL": "https://plot.ly",
        "showLink": true
       },
       "data": [
        {
         "histfunc": "count",
         "histnorm": "",
         "marker": {
          "color": "rgba(255, 153, 51, 1.0)",
          "line": {
           "color": "#4D5663",
           "width": 1.3
          }
         },
         "name": "A",
         "nbinsx": 10,
         "opacity": 0.8,
         "orientation": "v",
         "type": "histogram",
         "x": [
          -0.6707154253506642,
          -1.9500262411133285,
          0.47330149330972787,
          0.3220821058806944,
          0.20805808808316156,
          -0.35109658451676334,
          0.6962852968692117,
          -0.10784531902689991,
          1.5086544793457553,
          -1.340268292912184,
          0.7644344119612071,
          -0.26780932113299405,
          0.1878224556979502,
          1.171246085614569,
          0.1851093548441989,
          0.2823252049199303,
          0.6932277961556744,
          -0.6769518643083233,
          -0.19354333756548917,
          2.1363357457530587,
          0.040971497941110074,
          -1.7778136621759986,
          3.13702519812112,
          1.5018405020580647,
          -1.6127044945937676,
          -0.03130235727745821,
          0.09640237026125606,
          -0.5360328057285065,
          0.8757207392735993,
          0.28188882285582134,
          -0.6267644208076626,
          0.522160591589084,
          0.7117289724168866,
          -0.6437782301720258,
          0.2712843372224381,
          0.6033468190197396,
          0.8021238883637443,
          -0.7702350535759206,
          -1.6829360015664283,
          0.6731359493896302,
          -1.0248199572464276,
          0.8986669891621416,
          -0.3657217093686965,
          -0.19140225513344197,
          -0.027425781658837873,
          -0.4486319931274092,
          -1.2072169461605697,
          1.1119462802015492,
          0.7169013061838068,
          1.092554147709969,
          0.3877181592512865,
          -0.5077243469664451,
          0.40449061501060224,
          0.22132603560676464,
          0.5266282050852957,
          -0.3950309560310908,
          -0.005066618020162976,
          0.5397516109289167,
          -0.24187446680324345,
          -2.4180231477424297,
          -0.1118720542279614,
          0.7891934411928745,
          -1.4595096578166131,
          -1.6641566424292111,
          0.4641685548997316,
          0.2039478823314363,
          0.033767471863369765,
          -1.0739728733906564,
          -1.8950403385455485,
          0.33690673212261363,
          -0.34158656775274315,
          -0.1877609055445049,
          -1.3877147132450043,
          -0.5621215400627225,
          -0.25322924851168455,
          1.8159900315694717,
          -0.34533226510827736,
          1.0356949538332458,
          1.2021841404538256,
          -0.3927476513776488,
          0.837235412643784,
          -1.6234430720105062,
          1.243235860033378,
          0.16800048711867446,
          0.4391194684694063,
          -0.27275232834051005,
          1.8786432214985485,
          -1.036152949055604,
          -0.8484408810170442,
          0.3225952169549622,
          1.866756994721403,
          -0.5069716474593075,
          0.569264356614395,
          0.28876108330768585,
          -0.14817903275171626,
          -1.863044870763895,
          1.8120988870687478,
          0.18420897831186897,
          0.16052440170636006,
          2.5581870205130657
         ],
         "xaxis": "x",
         "yaxis": "y"
        },
        {
         "line": {
          "color": "rgba(128, 128, 128, 1.0)",
          "dash": "solid",
          "shape": "linear",
          "width": 1.3
         },
         "marker": {
          "size": 2,
          "symbol": "circle"
         },
         "mode": "markers",
         "name": "A",
         "text": "",
         "type": "scatter",
         "x": [
          2.1058842826318607,
          -2.072359511310542,
          -0.3416009005606861,
          -0.7284799185898405,
          -1.2504681420191213,
          0.36929949318306843,
          0.30650633934084254,
          -0.7822857645842319,
          -0.40249307975607373,
          -0.4894825593030477,
          -2.0423146065028983,
          0.9872944141587103,
          -1.0569817425686823,
          -1.6293020589481364,
          -0.3653355683975144,
          0.34908380245013,
          -0.9930184191231534,
          -1.5459068965500842,
          -0.4303553133615934,
          0.6436591668209447,
          0.8434328960587413,
          -0.8293341375988842,
          -0.17665403988967887,
          0.05571735134683879,
          0.7712899419374236,
          1.8392243290245631,
          -0.02887245228532163,
          -0.27213303990882726,
          -0.9293654935733069,
          -0.1717099056031576,
          0.10629681858599707,
          -0.15554719806862996,
          -0.9964845946839231,
          0.6092294141232871,
          0.674977835522611,
          1.1574969173759908,
          -0.0904536430233091,
          1.340391985298189,
          0.7013388590982971,
          0.5803876294942691,
          -0.4777178856989432,
          -0.4783100209870064,
          -0.23670952507275758,
          -1.1222153054155775,
          -0.10985297273626017,
          -0.08838416929997245,
          2.705075337277412,
          -1.353083311770451,
          -0.15123585689753194,
          -0.5079059934573342,
          0.214658887024363,
          0.0962629830423297,
          1.2226846938925608,
          -1.3849716686465248,
          2.47057224290792,
          -0.23622331664434187,
          -0.01386735927959883,
          0.3146974131045074,
          -1.611843264935958,
          0.6219892118864861,
          -0.25545298334001854,
          -0.20578715948195975,
          0.5026081049701817,
          -0.05039893194269115,
          -1.451888593332071,
          -1.6684912330390367,
          0.09839970157327095,
          -1.1912211957943615,
          0.35544779363433393,
          0.6886730916876131,
          0.8392771480070627,
          1.6715975529189262,
          0.2645710679527483,
          1.3357616401053343,
          -1.0479861237285117,
          -0.2708393114170538,
          -0.8665667773800374,
          1.3146913254236081,
          2.557788297919866,
          0.12340258729703828,
          1.3972074095700282,
          -1.400939946555493,
          1.050979978143761,
          0.19436735904851585,
          -0.20423934437480293,
          1.707269574355147,
          -1.1200963283863776,
          -1.8289426096328703,
          -0.6902735932611638,
          0.1731486516107255,
          -1.1238930656827142,
          -0.26769297907693507,
          -1.2963287663260568,
          -0.4381458613461422,
          0.4622567290341809,
          0.564315818327561,
          -0.15683622731556487,
          -1.906840982387614,
          0.5078497775235092,
          -0.5281224643869874
         ],
         "xaxis": "x2",
         "y": [
          -0.6707154253506642,
          -1.9500262411133285,
          0.47330149330972787,
          0.3220821058806944,
          0.20805808808316156,
          -0.35109658451676334,
          0.6962852968692117,
          -0.10784531902689991,
          1.5086544793457553,
          -1.340268292912184,
          0.7644344119612071,
          -0.26780932113299405,
          0.1878224556979502,
          1.171246085614569,
          0.1851093548441989,
          0.2823252049199303,
          0.6932277961556744,
          -0.6769518643083233,
          -0.19354333756548917,
          2.1363357457530587,
          0.040971497941110074,
          -1.7778136621759986,
          3.13702519812112,
          1.5018405020580647,
          -1.6127044945937676,
          -0.03130235727745821,
          0.09640237026125606,
          -0.5360328057285065,
          0.8757207392735993,
          0.28188882285582134,
          -0.6267644208076626,
          0.522160591589084,
          0.7117289724168866,
          -0.6437782301720258,
          0.2712843372224381,
          0.6033468190197396,
          0.8021238883637443,
          -0.7702350535759206,
          -1.6829360015664283,
          0.6731359493896302,
          -1.0248199572464276,
          0.8986669891621416,
          -0.3657217093686965,
          -0.19140225513344197,
          -0.027425781658837873,
          -0.4486319931274092,
          -1.2072169461605697,
          1.1119462802015492,
          0.7169013061838068,
          1.092554147709969,
          0.3877181592512865,
          -0.5077243469664451,
          0.40449061501060224,
          0.22132603560676464,
          0.5266282050852957,
          -0.3950309560310908,
          -0.005066618020162976,
          0.5397516109289167,
          -0.24187446680324345,
          -2.4180231477424297,
          -0.1118720542279614,
          0.7891934411928745,
          -1.4595096578166131,
          -1.6641566424292111,
          0.4641685548997316,
          0.2039478823314363,
          0.033767471863369765,
          -1.0739728733906564,
          -1.8950403385455485,
          0.33690673212261363,
          -0.34158656775274315,
          -0.1877609055445049,
          -1.3877147132450043,
          -0.5621215400627225,
          -0.25322924851168455,
          1.8159900315694717,
          -0.34533226510827736,
          1.0356949538332458,
          1.2021841404538256,
          -0.3927476513776488,
          0.837235412643784,
          -1.6234430720105062,
          1.243235860033378,
          0.16800048711867446,
          0.4391194684694063,
          -0.27275232834051005,
          1.8786432214985485,
          -1.036152949055604,
          -0.8484408810170442,
          0.3225952169549622,
          1.866756994721403,
          -0.5069716474593075,
          0.569264356614395,
          0.28876108330768585,
          -0.14817903275171626,
          -1.863044870763895,
          1.8120988870687478,
          0.18420897831186897,
          0.16052440170636006,
          2.5581870205130657
         ],
         "yaxis": "y2"
        },
        {
         "line": {
          "color": "rgba(128, 128, 128, 1.0)",
          "dash": "solid",
          "shape": "linear",
          "width": 1.3
         },
         "marker": {
          "size": 2,
          "symbol": "circle"
         },
         "mode": "markers",
         "name": "A",
         "text": "",
         "type": "scatter",
         "x": [
          1.537971522799382,
          1.9439769437729302,
          -0.8780238161615508,
          0.4124968127293803,
          0.07466725366935067,
          -0.5539178888964471,
          0.00817695387702504,
          -1.2550225340364434,
          -0.5412576554328449,
          0.24969679728174116,
          0.871816558580187,
          1.020279703993287,
          0.011320889793238592,
          -1.586461887104245,
          -1.8968158388241263,
          -0.43386820768173306,
          2.198788237723471,
          -0.3959962886467039,
          1.1110544950169268,
          -0.19278306304304224,
          0.4744246868857774,
          0.007933739243698234,
          0.48047374019415817,
          0.08804042706014781,
          -0.10125114913655739,
          0.027461063717202035,
          0.10859744350420796,
          0.8310009965841483,
          0.42059356089409355,
          0.48924415850726755,
          1.375976816229858,
          0.9838719678559592,
          -1.9232567317746518,
          1.0578963690677599,
          -0.8981540314035965,
          -0.9759356019915912,
          1.013960747882589,
          2.4638321283328626,
          0.079207450843994,
          0.20774520694751952,
          -0.33314912365440885,
          -0.6502008769080283,
          -0.718880191013,
          -1.1968027205800376,
          0.5236593226261017,
          -0.3941772676509596,
          -0.37461732273636805,
          -0.3876617327812021,
          -0.39807203644981676,
          2.328221185625653,
          -0.11577609704476109,
          -1.9346430989777617,
          -0.17173664488861562,
          0.7799954583712938,
          0.44781031095378643,
          -1.0944610854825378,
          -1.7955178763191209,
          -0.1338640634538081,
          -0.6082864970908706,
          -0.28877383730717926,
          -0.39777928940682455,
          -0.8379345405189532,
          1.8496783025891144,
          -0.40858164000605113,
          -0.17689760919626152,
          1.5795155037979336,
          1.5777090111862964,
          0.36523953730768677,
          -1.4845023123428644,
          1.2766513514043718,
          0.6846277469502795,
          0.5605741333739809,
          -0.7638965721430718,
          0.15265752408346378,
          0.2597804224859079,
          0.10295420125442119,
          0.9404406111536191,
          0.3235412049094401,
          -0.6620207833327258,
          0.19073897294613015,
          0.22247498881272565,
          -1.346912502160558,
          0.710632951197657,
          -0.7850388641380739,
          -0.5622713079810008,
          0.7229962130587485,
          -0.7339866177665963,
          -0.9911212919749353,
          -1.496459383599991,
          0.5426852207290529,
          0.43305187586703425,
          0.4258944990145214,
          1.0902255833182126,
          0.22734227626973183,
          0.38723354327631565,
          0.3713766651381148,
          0.2352304988266529,
          0.16145128560357638,
          0.11645425996929985,
          1.7896195966317734
         ],
         "xaxis": "x3",
         "y": [
          -0.6707154253506642,
          -1.9500262411133285,
          0.47330149330972787,
          0.3220821058806944,
          0.20805808808316156,
          -0.35109658451676334,
          0.6962852968692117,
          -0.10784531902689991,
          1.5086544793457553,
          -1.340268292912184,
          0.7644344119612071,
          -0.26780932113299405,
          0.1878224556979502,
          1.171246085614569,
          0.1851093548441989,
          0.2823252049199303,
          0.6932277961556744,
          -0.6769518643083233,
          -0.19354333756548917,
          2.1363357457530587,
          0.040971497941110074,
          -1.7778136621759986,
          3.13702519812112,
          1.5018405020580647,
          -1.6127044945937676,
          -0.03130235727745821,
          0.09640237026125606,
          -0.5360328057285065,
          0.8757207392735993,
          0.28188882285582134,
          -0.6267644208076626,
          0.522160591589084,
          0.7117289724168866,
          -0.6437782301720258,
          0.2712843372224381,
          0.6033468190197396,
          0.8021238883637443,
          -0.7702350535759206,
          -1.6829360015664283,
          0.6731359493896302,
          -1.0248199572464276,
          0.8986669891621416,
          -0.3657217093686965,
          -0.19140225513344197,
          -0.027425781658837873,
          -0.4486319931274092,
          -1.2072169461605697,
          1.1119462802015492,
          0.7169013061838068,
          1.092554147709969,
          0.3877181592512865,
          -0.5077243469664451,
          0.40449061501060224,
          0.22132603560676464,
          0.5266282050852957,
          -0.3950309560310908,
          -0.005066618020162976,
          0.5397516109289167,
          -0.24187446680324345,
          -2.4180231477424297,
          -0.1118720542279614,
          0.7891934411928745,
          -1.4595096578166131,
          -1.6641566424292111,
          0.4641685548997316,
          0.2039478823314363,
          0.033767471863369765,
          -1.0739728733906564,
          -1.8950403385455485,
          0.33690673212261363,
          -0.34158656775274315,
          -0.1877609055445049,
          -1.3877147132450043,
          -0.5621215400627225,
          -0.25322924851168455,
          1.8159900315694717,
          -0.34533226510827736,
          1.0356949538332458,
          1.2021841404538256,
          -0.3927476513776488,
          0.837235412643784,
          -1.6234430720105062,
          1.243235860033378,
          0.16800048711867446,
          0.4391194684694063,
          -0.27275232834051005,
          1.8786432214985485,
          -1.036152949055604,
          -0.8484408810170442,
          0.3225952169549622,
          1.866756994721403,
          -0.5069716474593075,
          0.569264356614395,
          0.28876108330768585,
          -0.14817903275171626,
          -1.863044870763895,
          1.8120988870687478,
          0.18420897831186897,
          0.16052440170636006,
          2.5581870205130657
         ],
         "yaxis": "y3"
        },
        {
         "line": {
          "color": "rgba(128, 128, 128, 1.0)",
          "dash": "solid",
          "shape": "linear",
          "width": 1.3
         },
         "marker": {
          "size": 2,
          "symbol": "circle"
         },
         "mode": "markers",
         "name": "A",
         "text": "",
         "type": "scatter",
         "x": [
          0.3678171232589625,
          -0.6123213627371522,
          -0.2890912740793197,
          1.4416062794151767,
          -0.031007877389082762,
          0.21066867994888752,
          -0.8449498446329224,
          0.8394801074054848,
          1.1220616783066,
          0.7414951286989834,
          1.7059394077087338,
          -2.1575183351443314,
          -0.27228169067396957,
          -0.8222735398598566,
          -0.37270733125911626,
          1.1324930909504078,
          0.7237131916502513,
          -0.10093454511360091,
          -0.8344711780529005,
          0.7892018039744497,
          -1.1768864396408643,
          0.5384395360501053,
          -0.8716745319027909,
          -0.964495783243021,
          -0.9510926758024836,
          -1.5899922140297353,
          0.03947906137045445,
          -0.9040569632222731,
          1.2573838148185117,
          0.032368660363067826,
          0.00979716311962585,
          0.30189925388456806,
          -0.06836893783625991,
          -1.4830238059635945,
          2.8260226754504756,
          -1.7904184283143372,
          -0.19147572914500896,
          1.1334222316178524,
          0.07218388266810098,
          -0.6706938157194935,
          -0.787369287349699,
          0.33772976898905305,
          0.45289164094474577,
          -0.6386250109337946,
          -0.01696530433971158,
          0.11800755838890979,
          1.0935731165217104,
          -1.2066163009956685,
          1.7307802442979323,
          -0.694055702203546,
          -1.0787243593311957,
          0.8449859793236317,
          0.08114505951215607,
          0.48200938196228577,
          -0.30418199598000517,
          0.1107989331602753,
          -0.34506692295258384,
          1.4772323028116827,
          0.8897338055409254,
          -1.2970117479838066,
          -1.7401977008647422,
          0.6947525057730943,
          1.4168585094952768,
          -0.8682925467951569,
          0.14803006581044606,
          1.1113961368502225,
          0.45044683161909055,
          0.2387529698111168,
          0.07871816418155476,
          -0.8585228972180073,
          0.09299148979946799,
          0.5575922241457948,
          -0.015901030931749834,
          1.1928407027845176,
          0.1500119442760574,
          0.23881238689730214,
          1.5102065154067492,
          0.7186660940127791,
          0.6819436465246247,
          -1.5507226893448807,
          1.1033345618082833,
          1.183767610324313,
          0.8523275001657111,
          -0.8621163691043606,
          0.7145103720522716,
          1.2125641299415693,
          -1.3289064131476391,
          -0.32259983388745134,
          0.3280844786260632,
          0.20408059488367758,
          0.552476891498723,
          -0.12992629702660555,
          -0.7248427516851038,
          0.6576417736756259,
          1.4753555270758771,
          -0.41695017859014644,
          -0.7185905266648366,
          0.5863817062130624,
          -0.38997417451705346,
          0.6884888981305322
         ],
         "xaxis": "x4",
         "y": [
          -0.6707154253506642,
          -1.9500262411133285,
          0.47330149330972787,
          0.3220821058806944,
          0.20805808808316156,
          -0.35109658451676334,
          0.6962852968692117,
          -0.10784531902689991,
          1.5086544793457553,
          -1.340268292912184,
          0.7644344119612071,
          -0.26780932113299405,
          0.1878224556979502,
          1.171246085614569,
          0.1851093548441989,
          0.2823252049199303,
          0.6932277961556744,
          -0.6769518643083233,
          -0.19354333756548917,
          2.1363357457530587,
          0.040971497941110074,
          -1.7778136621759986,
          3.13702519812112,
          1.5018405020580647,
          -1.6127044945937676,
          -0.03130235727745821,
          0.09640237026125606,
          -0.5360328057285065,
          0.8757207392735993,
          0.28188882285582134,
          -0.6267644208076626,
          0.522160591589084,
          0.7117289724168866,
          -0.6437782301720258,
          0.2712843372224381,
          0.6033468190197396,
          0.8021238883637443,
          -0.7702350535759206,
          -1.6829360015664283,
          0.6731359493896302,
          -1.0248199572464276,
          0.8986669891621416,
          -0.3657217093686965,
          -0.19140225513344197,
          -0.027425781658837873,
          -0.4486319931274092,
          -1.2072169461605697,
          1.1119462802015492,
          0.7169013061838068,
          1.092554147709969,
          0.3877181592512865,
          -0.5077243469664451,
          0.40449061501060224,
          0.22132603560676464,
          0.5266282050852957,
          -0.3950309560310908,
          -0.005066618020162976,
          0.5397516109289167,
          -0.24187446680324345,
          -2.4180231477424297,
          -0.1118720542279614,
          0.7891934411928745,
          -1.4595096578166131,
          -1.6641566424292111,
          0.4641685548997316,
          0.2039478823314363,
          0.033767471863369765,
          -1.0739728733906564,
          -1.8950403385455485,
          0.33690673212261363,
          -0.34158656775274315,
          -0.1877609055445049,
          -1.3877147132450043,
          -0.5621215400627225,
          -0.25322924851168455,
          1.8159900315694717,
          -0.34533226510827736,
          1.0356949538332458,
          1.2021841404538256,
          -0.3927476513776488,
          0.837235412643784,
          -1.6234430720105062,
          1.243235860033378,
          0.16800048711867446,
          0.4391194684694063,
          -0.27275232834051005,
          1.8786432214985485,
          -1.036152949055604,
          -0.8484408810170442,
          0.3225952169549622,
          1.866756994721403,
          -0.5069716474593075,
          0.569264356614395,
          0.28876108330768585,
          -0.14817903275171626,
          -1.863044870763895,
          1.8120988870687478,
          0.18420897831186897,
          0.16052440170636006,
          2.5581870205130657
         ],
         "yaxis": "y4"
        },
        {
         "line": {
          "color": "rgba(128, 128, 128, 1.0)",
          "dash": "solid",
          "shape": "linear",
          "width": 1.3
         },
         "marker": {
          "size": 2,
          "symbol": "circle"
         },
         "mode": "markers",
         "name": "B",
         "text": "",
         "type": "scatter",
         "x": [
          -0.6707154253506642,
          -1.9500262411133285,
          0.47330149330972787,
          0.3220821058806944,
          0.20805808808316156,
          -0.35109658451676334,
          0.6962852968692117,
          -0.10784531902689991,
          1.5086544793457553,
          -1.340268292912184,
          0.7644344119612071,
          -0.26780932113299405,
          0.1878224556979502,
          1.171246085614569,
          0.1851093548441989,
          0.2823252049199303,
          0.6932277961556744,
          -0.6769518643083233,
          -0.19354333756548917,
          2.1363357457530587,
          0.040971497941110074,
          -1.7778136621759986,
          3.13702519812112,
          1.5018405020580647,
          -1.6127044945937676,
          -0.03130235727745821,
          0.09640237026125606,
          -0.5360328057285065,
          0.8757207392735993,
          0.28188882285582134,
          -0.6267644208076626,
          0.522160591589084,
          0.7117289724168866,
          -0.6437782301720258,
          0.2712843372224381,
          0.6033468190197396,
          0.8021238883637443,
          -0.7702350535759206,
          -1.6829360015664283,
          0.6731359493896302,
          -1.0248199572464276,
          0.8986669891621416,
          -0.3657217093686965,
          -0.19140225513344197,
          -0.027425781658837873,
          -0.4486319931274092,
          -1.2072169461605697,
          1.1119462802015492,
          0.7169013061838068,
          1.092554147709969,
          0.3877181592512865,
          -0.5077243469664451,
          0.40449061501060224,
          0.22132603560676464,
          0.5266282050852957,
          -0.3950309560310908,
          -0.005066618020162976,
          0.5397516109289167,
          -0.24187446680324345,
          -2.4180231477424297,
          -0.1118720542279614,
          0.7891934411928745,
          -1.4595096578166131,
          -1.6641566424292111,
          0.4641685548997316,
          0.2039478823314363,
          0.033767471863369765,
          -1.0739728733906564,
          -1.8950403385455485,
          0.33690673212261363,
          -0.34158656775274315,
          -0.1877609055445049,
          -1.3877147132450043,
          -0.5621215400627225,
          -0.25322924851168455,
          1.8159900315694717,
          -0.34533226510827736,
          1.0356949538332458,
          1.2021841404538256,
          -0.3927476513776488,
          0.837235412643784,
          -1.6234430720105062,
          1.243235860033378,
          0.16800048711867446,
          0.4391194684694063,
          -0.27275232834051005,
          1.8786432214985485,
          -1.036152949055604,
          -0.8484408810170442,
          0.3225952169549622,
          1.866756994721403,
          -0.5069716474593075,
          0.569264356614395,
          0.28876108330768585,
          -0.14817903275171626,
          -1.863044870763895,
          1.8120988870687478,
          0.18420897831186897,
          0.16052440170636006,
          2.5581870205130657
         ],
         "xaxis": "x5",
         "y": [
          2.1058842826318607,
          -2.072359511310542,
          -0.3416009005606861,
          -0.7284799185898405,
          -1.2504681420191213,
          0.36929949318306843,
          0.30650633934084254,
          -0.7822857645842319,
          -0.40249307975607373,
          -0.4894825593030477,
          -2.0423146065028983,
          0.9872944141587103,
          -1.0569817425686823,
          -1.6293020589481364,
          -0.3653355683975144,
          0.34908380245013,
          -0.9930184191231534,
          -1.5459068965500842,
          -0.4303553133615934,
          0.6436591668209447,
          0.8434328960587413,
          -0.8293341375988842,
          -0.17665403988967887,
          0.05571735134683879,
          0.7712899419374236,
          1.8392243290245631,
          -0.02887245228532163,
          -0.27213303990882726,
          -0.9293654935733069,
          -0.1717099056031576,
          0.10629681858599707,
          -0.15554719806862996,
          -0.9964845946839231,
          0.6092294141232871,
          0.674977835522611,
          1.1574969173759908,
          -0.0904536430233091,
          1.340391985298189,
          0.7013388590982971,
          0.5803876294942691,
          -0.4777178856989432,
          -0.4783100209870064,
          -0.23670952507275758,
          -1.1222153054155775,
          -0.10985297273626017,
          -0.08838416929997245,
          2.705075337277412,
          -1.353083311770451,
          -0.15123585689753194,
          -0.5079059934573342,
          0.214658887024363,
          0.0962629830423297,
          1.2226846938925608,
          -1.3849716686465248,
          2.47057224290792,
          -0.23622331664434187,
          -0.01386735927959883,
          0.3146974131045074,
          -1.611843264935958,
          0.6219892118864861,
          -0.25545298334001854,
          -0.20578715948195975,
          0.5026081049701817,
          -0.05039893194269115,
          -1.451888593332071,
          -1.6684912330390367,
          0.09839970157327095,
          -1.1912211957943615,
          0.35544779363433393,
          0.6886730916876131,
          0.8392771480070627,
          1.6715975529189262,
          0.2645710679527483,
          1.3357616401053343,
          -1.0479861237285117,
          -0.2708393114170538,
          -0.8665667773800374,
          1.3146913254236081,
          2.557788297919866,
          0.12340258729703828,
          1.3972074095700282,
          -1.400939946555493,
          1.050979978143761,
          0.19436735904851585,
          -0.20423934437480293,
          1.707269574355147,
          -1.1200963283863776,
          -1.8289426096328703,
          -0.6902735932611638,
          0.1731486516107255,
          -1.1238930656827142,
          -0.26769297907693507,
          -1.2963287663260568,
          -0.4381458613461422,
          0.4622567290341809,
          0.564315818327561,
          -0.15683622731556487,
          -1.906840982387614,
          0.5078497775235092,
          -0.5281224643869874
         ],
         "yaxis": "y5"
        },
        {
         "histfunc": "count",
         "histnorm": "",
         "marker": {
          "color": "rgba(55, 128, 191, 1.0)",
          "line": {
           "color": "#4D5663",
           "width": 1.3
          }
         },
         "name": "B",
         "nbinsx": 10,
         "opacity": 0.8,
         "orientation": "v",
         "type": "histogram",
         "x": [
          2.1058842826318607,
          -2.072359511310542,
          -0.3416009005606861,
          -0.7284799185898405,
          -1.2504681420191213,
          0.36929949318306843,
          0.30650633934084254,
          -0.7822857645842319,
          -0.40249307975607373,
          -0.4894825593030477,
          -2.0423146065028983,
          0.9872944141587103,
          -1.0569817425686823,
          -1.6293020589481364,
          -0.3653355683975144,
          0.34908380245013,
          -0.9930184191231534,
          -1.5459068965500842,
          -0.4303553133615934,
          0.6436591668209447,
          0.8434328960587413,
          -0.8293341375988842,
          -0.17665403988967887,
          0.05571735134683879,
          0.7712899419374236,
          1.8392243290245631,
          -0.02887245228532163,
          -0.27213303990882726,
          -0.9293654935733069,
          -0.1717099056031576,
          0.10629681858599707,
          -0.15554719806862996,
          -0.9964845946839231,
          0.6092294141232871,
          0.674977835522611,
          1.1574969173759908,
          -0.0904536430233091,
          1.340391985298189,
          0.7013388590982971,
          0.5803876294942691,
          -0.4777178856989432,
          -0.4783100209870064,
          -0.23670952507275758,
          -1.1222153054155775,
          -0.10985297273626017,
          -0.08838416929997245,
          2.705075337277412,
          -1.353083311770451,
          -0.15123585689753194,
          -0.5079059934573342,
          0.214658887024363,
          0.0962629830423297,
          1.2226846938925608,
          -1.3849716686465248,
          2.47057224290792,
          -0.23622331664434187,
          -0.01386735927959883,
          0.3146974131045074,
          -1.611843264935958,
          0.6219892118864861,
          -0.25545298334001854,
          -0.20578715948195975,
          0.5026081049701817,
          -0.05039893194269115,
          -1.451888593332071,
          -1.6684912330390367,
          0.09839970157327095,
          -1.1912211957943615,
          0.35544779363433393,
          0.6886730916876131,
          0.8392771480070627,
          1.6715975529189262,
          0.2645710679527483,
          1.3357616401053343,
          -1.0479861237285117,
          -0.2708393114170538,
          -0.8665667773800374,
          1.3146913254236081,
          2.557788297919866,
          0.12340258729703828,
          1.3972074095700282,
          -1.400939946555493,
          1.050979978143761,
          0.19436735904851585,
          -0.20423934437480293,
          1.707269574355147,
          -1.1200963283863776,
          -1.8289426096328703,
          -0.6902735932611638,
          0.1731486516107255,
          -1.1238930656827142,
          -0.26769297907693507,
          -1.2963287663260568,
          -0.4381458613461422,
          0.4622567290341809,
          0.564315818327561,
          -0.15683622731556487,
          -1.906840982387614,
          0.5078497775235092,
          -0.5281224643869874
         ],
         "xaxis": "x6",
         "yaxis": "y6"
        },
        {
         "line": {
          "color": "rgba(128, 128, 128, 1.0)",
          "dash": "solid",
          "shape": "linear",
          "width": 1.3
         },
         "marker": {
          "size": 2,
          "symbol": "circle"
         },
         "mode": "markers",
         "name": "B",
         "text": "",
         "type": "scatter",
         "x": [
          1.537971522799382,
          1.9439769437729302,
          -0.8780238161615508,
          0.4124968127293803,
          0.07466725366935067,
          -0.5539178888964471,
          0.00817695387702504,
          -1.2550225340364434,
          -0.5412576554328449,
          0.24969679728174116,
          0.871816558580187,
          1.020279703993287,
          0.011320889793238592,
          -1.586461887104245,
          -1.8968158388241263,
          -0.43386820768173306,
          2.198788237723471,
          -0.3959962886467039,
          1.1110544950169268,
          -0.19278306304304224,
          0.4744246868857774,
          0.007933739243698234,
          0.48047374019415817,
          0.08804042706014781,
          -0.10125114913655739,
          0.027461063717202035,
          0.10859744350420796,
          0.8310009965841483,
          0.42059356089409355,
          0.48924415850726755,
          1.375976816229858,
          0.9838719678559592,
          -1.9232567317746518,
          1.0578963690677599,
          -0.8981540314035965,
          -0.9759356019915912,
          1.013960747882589,
          2.4638321283328626,
          0.079207450843994,
          0.20774520694751952,
          -0.33314912365440885,
          -0.6502008769080283,
          -0.718880191013,
          -1.1968027205800376,
          0.5236593226261017,
          -0.3941772676509596,
          -0.37461732273636805,
          -0.3876617327812021,
          -0.39807203644981676,
          2.328221185625653,
          -0.11577609704476109,
          -1.9346430989777617,
          -0.17173664488861562,
          0.7799954583712938,
          0.44781031095378643,
          -1.0944610854825378,
          -1.7955178763191209,
          -0.1338640634538081,
          -0.6082864970908706,
          -0.28877383730717926,
          -0.39777928940682455,
          -0.8379345405189532,
          1.8496783025891144,
          -0.40858164000605113,
          -0.17689760919626152,
          1.5795155037979336,
          1.5777090111862964,
          0.36523953730768677,
          -1.4845023123428644,
          1.2766513514043718,
          0.6846277469502795,
          0.5605741333739809,
          -0.7638965721430718,
          0.15265752408346378,
          0.2597804224859079,
          0.10295420125442119,
          0.9404406111536191,
          0.3235412049094401,
          -0.6620207833327258,
          0.19073897294613015,
          0.22247498881272565,
          -1.346912502160558,
          0.710632951197657,
          -0.7850388641380739,
          -0.5622713079810008,
          0.7229962130587485,
          -0.7339866177665963,
          -0.9911212919749353,
          -1.496459383599991,
          0.5426852207290529,
          0.43305187586703425,
          0.4258944990145214,
          1.0902255833182126,
          0.22734227626973183,
          0.38723354327631565,
          0.3713766651381148,
          0.2352304988266529,
          0.16145128560357638,
          0.11645425996929985,
          1.7896195966317734
         ],
         "xaxis": "x7",
         "y": [
          2.1058842826318607,
          -2.072359511310542,
          -0.3416009005606861,
          -0.7284799185898405,
          -1.2504681420191213,
          0.36929949318306843,
          0.30650633934084254,
          -0.7822857645842319,
          -0.40249307975607373,
          -0.4894825593030477,
          -2.0423146065028983,
          0.9872944141587103,
          -1.0569817425686823,
          -1.6293020589481364,
          -0.3653355683975144,
          0.34908380245013,
          -0.9930184191231534,
          -1.5459068965500842,
          -0.4303553133615934,
          0.6436591668209447,
          0.8434328960587413,
          -0.8293341375988842,
          -0.17665403988967887,
          0.05571735134683879,
          0.7712899419374236,
          1.8392243290245631,
          -0.02887245228532163,
          -0.27213303990882726,
          -0.9293654935733069,
          -0.1717099056031576,
          0.10629681858599707,
          -0.15554719806862996,
          -0.9964845946839231,
          0.6092294141232871,
          0.674977835522611,
          1.1574969173759908,
          -0.0904536430233091,
          1.340391985298189,
          0.7013388590982971,
          0.5803876294942691,
          -0.4777178856989432,
          -0.4783100209870064,
          -0.23670952507275758,
          -1.1222153054155775,
          -0.10985297273626017,
          -0.08838416929997245,
          2.705075337277412,
          -1.353083311770451,
          -0.15123585689753194,
          -0.5079059934573342,
          0.214658887024363,
          0.0962629830423297,
          1.2226846938925608,
          -1.3849716686465248,
          2.47057224290792,
          -0.23622331664434187,
          -0.01386735927959883,
          0.3146974131045074,
          -1.611843264935958,
          0.6219892118864861,
          -0.25545298334001854,
          -0.20578715948195975,
          0.5026081049701817,
          -0.05039893194269115,
          -1.451888593332071,
          -1.6684912330390367,
          0.09839970157327095,
          -1.1912211957943615,
          0.35544779363433393,
          0.6886730916876131,
          0.8392771480070627,
          1.6715975529189262,
          0.2645710679527483,
          1.3357616401053343,
          -1.0479861237285117,
          -0.2708393114170538,
          -0.8665667773800374,
          1.3146913254236081,
          2.557788297919866,
          0.12340258729703828,
          1.3972074095700282,
          -1.400939946555493,
          1.050979978143761,
          0.19436735904851585,
          -0.20423934437480293,
          1.707269574355147,
          -1.1200963283863776,
          -1.8289426096328703,
          -0.6902735932611638,
          0.1731486516107255,
          -1.1238930656827142,
          -0.26769297907693507,
          -1.2963287663260568,
          -0.4381458613461422,
          0.4622567290341809,
          0.564315818327561,
          -0.15683622731556487,
          -1.906840982387614,
          0.5078497775235092,
          -0.5281224643869874
         ],
         "yaxis": "y7"
        },
        {
         "line": {
          "color": "rgba(128, 128, 128, 1.0)",
          "dash": "solid",
          "shape": "linear",
          "width": 1.3
         },
         "marker": {
          "size": 2,
          "symbol": "circle"
         },
         "mode": "markers",
         "name": "B",
         "text": "",
         "type": "scatter",
         "x": [
          0.3678171232589625,
          -0.6123213627371522,
          -0.2890912740793197,
          1.4416062794151767,
          -0.031007877389082762,
          0.21066867994888752,
          -0.8449498446329224,
          0.8394801074054848,
          1.1220616783066,
          0.7414951286989834,
          1.7059394077087338,
          -2.1575183351443314,
          -0.27228169067396957,
          -0.8222735398598566,
          -0.37270733125911626,
          1.1324930909504078,
          0.7237131916502513,
          -0.10093454511360091,
          -0.8344711780529005,
          0.7892018039744497,
          -1.1768864396408643,
          0.5384395360501053,
          -0.8716745319027909,
          -0.964495783243021,
          -0.9510926758024836,
          -1.5899922140297353,
          0.03947906137045445,
          -0.9040569632222731,
          1.2573838148185117,
          0.032368660363067826,
          0.00979716311962585,
          0.30189925388456806,
          -0.06836893783625991,
          -1.4830238059635945,
          2.8260226754504756,
          -1.7904184283143372,
          -0.19147572914500896,
          1.1334222316178524,
          0.07218388266810098,
          -0.6706938157194935,
          -0.787369287349699,
          0.33772976898905305,
          0.45289164094474577,
          -0.6386250109337946,
          -0.01696530433971158,
          0.11800755838890979,
          1.0935731165217104,
          -1.2066163009956685,
          1.7307802442979323,
          -0.694055702203546,
          -1.0787243593311957,
          0.8449859793236317,
          0.08114505951215607,
          0.48200938196228577,
          -0.30418199598000517,
          0.1107989331602753,
          -0.34506692295258384,
          1.4772323028116827,
          0.8897338055409254,
          -1.2970117479838066,
          -1.7401977008647422,
          0.6947525057730943,
          1.4168585094952768,
          -0.8682925467951569,
          0.14803006581044606,
          1.1113961368502225,
          0.45044683161909055,
          0.2387529698111168,
          0.07871816418155476,
          -0.8585228972180073,
          0.09299148979946799,
          0.5575922241457948,
          -0.015901030931749834,
          1.1928407027845176,
          0.1500119442760574,
          0.23881238689730214,
          1.5102065154067492,
          0.7186660940127791,
          0.6819436465246247,
          -1.5507226893448807,
          1.1033345618082833,
          1.183767610324313,
          0.8523275001657111,
          -0.8621163691043606,
          0.7145103720522716,
          1.2125641299415693,
          -1.3289064131476391,
          -0.32259983388745134,
          0.3280844786260632,
          0.20408059488367758,
          0.552476891498723,
          -0.12992629702660555,
          -0.7248427516851038,
          0.6576417736756259,
          1.4753555270758771,
          -0.41695017859014644,
          -0.7185905266648366,
          0.5863817062130624,
          -0.38997417451705346,
          0.6884888981305322
         ],
         "xaxis": "x8",
         "y": [
          2.1058842826318607,
          -2.072359511310542,
          -0.3416009005606861,
          -0.7284799185898405,
          -1.2504681420191213,
          0.36929949318306843,
          0.30650633934084254,
          -0.7822857645842319,
          -0.40249307975607373,
          -0.4894825593030477,
          -2.0423146065028983,
          0.9872944141587103,
          -1.0569817425686823,
          -1.6293020589481364,
          -0.3653355683975144,
          0.34908380245013,
          -0.9930184191231534,
          -1.5459068965500842,
          -0.4303553133615934,
          0.6436591668209447,
          0.8434328960587413,
          -0.8293341375988842,
          -0.17665403988967887,
          0.05571735134683879,
          0.7712899419374236,
          1.8392243290245631,
          -0.02887245228532163,
          -0.27213303990882726,
          -0.9293654935733069,
          -0.1717099056031576,
          0.10629681858599707,
          -0.15554719806862996,
          -0.9964845946839231,
          0.6092294141232871,
          0.674977835522611,
          1.1574969173759908,
          -0.0904536430233091,
          1.340391985298189,
          0.7013388590982971,
          0.5803876294942691,
          -0.4777178856989432,
          -0.4783100209870064,
          -0.23670952507275758,
          -1.1222153054155775,
          -0.10985297273626017,
          -0.08838416929997245,
          2.705075337277412,
          -1.353083311770451,
          -0.15123585689753194,
          -0.5079059934573342,
          0.214658887024363,
          0.0962629830423297,
          1.2226846938925608,
          -1.3849716686465248,
          2.47057224290792,
          -0.23622331664434187,
          -0.01386735927959883,
          0.3146974131045074,
          -1.611843264935958,
          0.6219892118864861,
          -0.25545298334001854,
          -0.20578715948195975,
          0.5026081049701817,
          -0.05039893194269115,
          -1.451888593332071,
          -1.6684912330390367,
          0.09839970157327095,
          -1.1912211957943615,
          0.35544779363433393,
          0.6886730916876131,
          0.8392771480070627,
          1.6715975529189262,
          0.2645710679527483,
          1.3357616401053343,
          -1.0479861237285117,
          -0.2708393114170538,
          -0.8665667773800374,
          1.3146913254236081,
          2.557788297919866,
          0.12340258729703828,
          1.3972074095700282,
          -1.400939946555493,
          1.050979978143761,
          0.19436735904851585,
          -0.20423934437480293,
          1.707269574355147,
          -1.1200963283863776,
          -1.8289426096328703,
          -0.6902735932611638,
          0.1731486516107255,
          -1.1238930656827142,
          -0.26769297907693507,
          -1.2963287663260568,
          -0.4381458613461422,
          0.4622567290341809,
          0.564315818327561,
          -0.15683622731556487,
          -1.906840982387614,
          0.5078497775235092,
          -0.5281224643869874
         ],
         "yaxis": "y8"
        },
        {
         "line": {
          "color": "rgba(128, 128, 128, 1.0)",
          "dash": "solid",
          "shape": "linear",
          "width": 1.3
         },
         "marker": {
          "size": 2,
          "symbol": "circle"
         },
         "mode": "markers",
         "name": "C",
         "text": "",
         "type": "scatter",
         "x": [
          -0.6707154253506642,
          -1.9500262411133285,
          0.47330149330972787,
          0.3220821058806944,
          0.20805808808316156,
          -0.35109658451676334,
          0.6962852968692117,
          -0.10784531902689991,
          1.5086544793457553,
          -1.340268292912184,
          0.7644344119612071,
          -0.26780932113299405,
          0.1878224556979502,
          1.171246085614569,
          0.1851093548441989,
          0.2823252049199303,
          0.6932277961556744,
          -0.6769518643083233,
          -0.19354333756548917,
          2.1363357457530587,
          0.040971497941110074,
          -1.7778136621759986,
          3.13702519812112,
          1.5018405020580647,
          -1.6127044945937676,
          -0.03130235727745821,
          0.09640237026125606,
          -0.5360328057285065,
          0.8757207392735993,
          0.28188882285582134,
          -0.6267644208076626,
          0.522160591589084,
          0.7117289724168866,
          -0.6437782301720258,
          0.2712843372224381,
          0.6033468190197396,
          0.8021238883637443,
          -0.7702350535759206,
          -1.6829360015664283,
          0.6731359493896302,
          -1.0248199572464276,
          0.8986669891621416,
          -0.3657217093686965,
          -0.19140225513344197,
          -0.027425781658837873,
          -0.4486319931274092,
          -1.2072169461605697,
          1.1119462802015492,
          0.7169013061838068,
          1.092554147709969,
          0.3877181592512865,
          -0.5077243469664451,
          0.40449061501060224,
          0.22132603560676464,
          0.5266282050852957,
          -0.3950309560310908,
          -0.005066618020162976,
          0.5397516109289167,
          -0.24187446680324345,
          -2.4180231477424297,
          -0.1118720542279614,
          0.7891934411928745,
          -1.4595096578166131,
          -1.6641566424292111,
          0.4641685548997316,
          0.2039478823314363,
          0.033767471863369765,
          -1.0739728733906564,
          -1.8950403385455485,
          0.33690673212261363,
          -0.34158656775274315,
          -0.1877609055445049,
          -1.3877147132450043,
          -0.5621215400627225,
          -0.25322924851168455,
          1.8159900315694717,
          -0.34533226510827736,
          1.0356949538332458,
          1.2021841404538256,
          -0.3927476513776488,
          0.837235412643784,
          -1.6234430720105062,
          1.243235860033378,
          0.16800048711867446,
          0.4391194684694063,
          -0.27275232834051005,
          1.8786432214985485,
          -1.036152949055604,
          -0.8484408810170442,
          0.3225952169549622,
          1.866756994721403,
          -0.5069716474593075,
          0.569264356614395,
          0.28876108330768585,
          -0.14817903275171626,
          -1.863044870763895,
          1.8120988870687478,
          0.18420897831186897,
          0.16052440170636006,
          2.5581870205130657
         ],
         "xaxis": "x9",
         "y": [
          1.537971522799382,
          1.9439769437729302,
          -0.8780238161615508,
          0.4124968127293803,
          0.07466725366935067,
          -0.5539178888964471,
          0.00817695387702504,
          -1.2550225340364434,
          -0.5412576554328449,
          0.24969679728174116,
          0.871816558580187,
          1.020279703993287,
          0.011320889793238592,
          -1.586461887104245,
          -1.8968158388241263,
          -0.43386820768173306,
          2.198788237723471,
          -0.3959962886467039,
          1.1110544950169268,
          -0.19278306304304224,
          0.4744246868857774,
          0.007933739243698234,
          0.48047374019415817,
          0.08804042706014781,
          -0.10125114913655739,
          0.027461063717202035,
          0.10859744350420796,
          0.8310009965841483,
          0.42059356089409355,
          0.48924415850726755,
          1.375976816229858,
          0.9838719678559592,
          -1.9232567317746518,
          1.0578963690677599,
          -0.8981540314035965,
          -0.9759356019915912,
          1.013960747882589,
          2.4638321283328626,
          0.079207450843994,
          0.20774520694751952,
          -0.33314912365440885,
          -0.6502008769080283,
          -0.718880191013,
          -1.1968027205800376,
          0.5236593226261017,
          -0.3941772676509596,
          -0.37461732273636805,
          -0.3876617327812021,
          -0.39807203644981676,
          2.328221185625653,
          -0.11577609704476109,
          -1.9346430989777617,
          -0.17173664488861562,
          0.7799954583712938,
          0.44781031095378643,
          -1.0944610854825378,
          -1.7955178763191209,
          -0.1338640634538081,
          -0.6082864970908706,
          -0.28877383730717926,
          -0.39777928940682455,
          -0.8379345405189532,
          1.8496783025891144,
          -0.40858164000605113,
          -0.17689760919626152,
          1.5795155037979336,
          1.5777090111862964,
          0.36523953730768677,
          -1.4845023123428644,
          1.2766513514043718,
          0.6846277469502795,
          0.5605741333739809,
          -0.7638965721430718,
          0.15265752408346378,
          0.2597804224859079,
          0.10295420125442119,
          0.9404406111536191,
          0.3235412049094401,
          -0.6620207833327258,
          0.19073897294613015,
          0.22247498881272565,
          -1.346912502160558,
          0.710632951197657,
          -0.7850388641380739,
          -0.5622713079810008,
          0.7229962130587485,
          -0.7339866177665963,
          -0.9911212919749353,
          -1.496459383599991,
          0.5426852207290529,
          0.43305187586703425,
          0.4258944990145214,
          1.0902255833182126,
          0.22734227626973183,
          0.38723354327631565,
          0.3713766651381148,
          0.2352304988266529,
          0.16145128560357638,
          0.11645425996929985,
          1.7896195966317734
         ],
         "yaxis": "y9"
        },
        {
         "line": {
          "color": "rgba(128, 128, 128, 1.0)",
          "dash": "solid",
          "shape": "linear",
          "width": 1.3
         },
         "marker": {
          "size": 2,
          "symbol": "circle"
         },
         "mode": "markers",
         "name": "C",
         "text": "",
         "type": "scatter",
         "x": [
          2.1058842826318607,
          -2.072359511310542,
          -0.3416009005606861,
          -0.7284799185898405,
          -1.2504681420191213,
          0.36929949318306843,
          0.30650633934084254,
          -0.7822857645842319,
          -0.40249307975607373,
          -0.4894825593030477,
          -2.0423146065028983,
          0.9872944141587103,
          -1.0569817425686823,
          -1.6293020589481364,
          -0.3653355683975144,
          0.34908380245013,
          -0.9930184191231534,
          -1.5459068965500842,
          -0.4303553133615934,
          0.6436591668209447,
          0.8434328960587413,
          -0.8293341375988842,
          -0.17665403988967887,
          0.05571735134683879,
          0.7712899419374236,
          1.8392243290245631,
          -0.02887245228532163,
          -0.27213303990882726,
          -0.9293654935733069,
          -0.1717099056031576,
          0.10629681858599707,
          -0.15554719806862996,
          -0.9964845946839231,
          0.6092294141232871,
          0.674977835522611,
          1.1574969173759908,
          -0.0904536430233091,
          1.340391985298189,
          0.7013388590982971,
          0.5803876294942691,
          -0.4777178856989432,
          -0.4783100209870064,
          -0.23670952507275758,
          -1.1222153054155775,
          -0.10985297273626017,
          -0.08838416929997245,
          2.705075337277412,
          -1.353083311770451,
          -0.15123585689753194,
          -0.5079059934573342,
          0.214658887024363,
          0.0962629830423297,
          1.2226846938925608,
          -1.3849716686465248,
          2.47057224290792,
          -0.23622331664434187,
          -0.01386735927959883,
          0.3146974131045074,
          -1.611843264935958,
          0.6219892118864861,
          -0.25545298334001854,
          -0.20578715948195975,
          0.5026081049701817,
          -0.05039893194269115,
          -1.451888593332071,
          -1.6684912330390367,
          0.09839970157327095,
          -1.1912211957943615,
          0.35544779363433393,
          0.6886730916876131,
          0.8392771480070627,
          1.6715975529189262,
          0.2645710679527483,
          1.3357616401053343,
          -1.0479861237285117,
          -0.2708393114170538,
          -0.8665667773800374,
          1.3146913254236081,
          2.557788297919866,
          0.12340258729703828,
          1.3972074095700282,
          -1.400939946555493,
          1.050979978143761,
          0.19436735904851585,
          -0.20423934437480293,
          1.707269574355147,
          -1.1200963283863776,
          -1.8289426096328703,
          -0.6902735932611638,
          0.1731486516107255,
          -1.1238930656827142,
          -0.26769297907693507,
          -1.2963287663260568,
          -0.4381458613461422,
          0.4622567290341809,
          0.564315818327561,
          -0.15683622731556487,
          -1.906840982387614,
          0.5078497775235092,
          -0.5281224643869874
         ],
         "xaxis": "x10",
         "y": [
          1.537971522799382,
          1.9439769437729302,
          -0.8780238161615508,
          0.4124968127293803,
          0.07466725366935067,
          -0.5539178888964471,
          0.00817695387702504,
          -1.2550225340364434,
          -0.5412576554328449,
          0.24969679728174116,
          0.871816558580187,
          1.020279703993287,
          0.011320889793238592,
          -1.586461887104245,
          -1.8968158388241263,
          -0.43386820768173306,
          2.198788237723471,
          -0.3959962886467039,
          1.1110544950169268,
          -0.19278306304304224,
          0.4744246868857774,
          0.007933739243698234,
          0.48047374019415817,
          0.08804042706014781,
          -0.10125114913655739,
          0.027461063717202035,
          0.10859744350420796,
          0.8310009965841483,
          0.42059356089409355,
          0.48924415850726755,
          1.375976816229858,
          0.9838719678559592,
          -1.9232567317746518,
          1.0578963690677599,
          -0.8981540314035965,
          -0.9759356019915912,
          1.013960747882589,
          2.4638321283328626,
          0.079207450843994,
          0.20774520694751952,
          -0.33314912365440885,
          -0.6502008769080283,
          -0.718880191013,
          -1.1968027205800376,
          0.5236593226261017,
          -0.3941772676509596,
          -0.37461732273636805,
          -0.3876617327812021,
          -0.39807203644981676,
          2.328221185625653,
          -0.11577609704476109,
          -1.9346430989777617,
          -0.17173664488861562,
          0.7799954583712938,
          0.44781031095378643,
          -1.0944610854825378,
          -1.7955178763191209,
          -0.1338640634538081,
          -0.6082864970908706,
          -0.28877383730717926,
          -0.39777928940682455,
          -0.8379345405189532,
          1.8496783025891144,
          -0.40858164000605113,
          -0.17689760919626152,
          1.5795155037979336,
          1.5777090111862964,
          0.36523953730768677,
          -1.4845023123428644,
          1.2766513514043718,
          0.6846277469502795,
          0.5605741333739809,
          -0.7638965721430718,
          0.15265752408346378,
          0.2597804224859079,
          0.10295420125442119,
          0.9404406111536191,
          0.3235412049094401,
          -0.6620207833327258,
          0.19073897294613015,
          0.22247498881272565,
          -1.346912502160558,
          0.710632951197657,
          -0.7850388641380739,
          -0.5622713079810008,
          0.7229962130587485,
          -0.7339866177665963,
          -0.9911212919749353,
          -1.496459383599991,
          0.5426852207290529,
          0.43305187586703425,
          0.4258944990145214,
          1.0902255833182126,
          0.22734227626973183,
          0.38723354327631565,
          0.3713766651381148,
          0.2352304988266529,
          0.16145128560357638,
          0.11645425996929985,
          1.7896195966317734
         ],
         "yaxis": "y10"
        },
        {
         "histfunc": "count",
         "histnorm": "",
         "marker": {
          "color": "rgba(50, 171, 96, 1.0)",
          "line": {
           "color": "#4D5663",
           "width": 1.3
          }
         },
         "name": "C",
         "nbinsx": 10,
         "opacity": 0.8,
         "orientation": "v",
         "type": "histogram",
         "x": [
          1.537971522799382,
          1.9439769437729302,
          -0.8780238161615508,
          0.4124968127293803,
          0.07466725366935067,
          -0.5539178888964471,
          0.00817695387702504,
          -1.2550225340364434,
          -0.5412576554328449,
          0.24969679728174116,
          0.871816558580187,
          1.020279703993287,
          0.011320889793238592,
          -1.586461887104245,
          -1.8968158388241263,
          -0.43386820768173306,
          2.198788237723471,
          -0.3959962886467039,
          1.1110544950169268,
          -0.19278306304304224,
          0.4744246868857774,
          0.007933739243698234,
          0.48047374019415817,
          0.08804042706014781,
          -0.10125114913655739,
          0.027461063717202035,
          0.10859744350420796,
          0.8310009965841483,
          0.42059356089409355,
          0.48924415850726755,
          1.375976816229858,
          0.9838719678559592,
          -1.9232567317746518,
          1.0578963690677599,
          -0.8981540314035965,
          -0.9759356019915912,
          1.013960747882589,
          2.4638321283328626,
          0.079207450843994,
          0.20774520694751952,
          -0.33314912365440885,
          -0.6502008769080283,
          -0.718880191013,
          -1.1968027205800376,
          0.5236593226261017,
          -0.3941772676509596,
          -0.37461732273636805,
          -0.3876617327812021,
          -0.39807203644981676,
          2.328221185625653,
          -0.11577609704476109,
          -1.9346430989777617,
          -0.17173664488861562,
          0.7799954583712938,
          0.44781031095378643,
          -1.0944610854825378,
          -1.7955178763191209,
          -0.1338640634538081,
          -0.6082864970908706,
          -0.28877383730717926,
          -0.39777928940682455,
          -0.8379345405189532,
          1.8496783025891144,
          -0.40858164000605113,
          -0.17689760919626152,
          1.5795155037979336,
          1.5777090111862964,
          0.36523953730768677,
          -1.4845023123428644,
          1.2766513514043718,
          0.6846277469502795,
          0.5605741333739809,
          -0.7638965721430718,
          0.15265752408346378,
          0.2597804224859079,
          0.10295420125442119,
          0.9404406111536191,
          0.3235412049094401,
          -0.6620207833327258,
          0.19073897294613015,
          0.22247498881272565,
          -1.346912502160558,
          0.710632951197657,
          -0.7850388641380739,
          -0.5622713079810008,
          0.7229962130587485,
          -0.7339866177665963,
          -0.9911212919749353,
          -1.496459383599991,
          0.5426852207290529,
          0.43305187586703425,
          0.4258944990145214,
          1.0902255833182126,
          0.22734227626973183,
          0.38723354327631565,
          0.3713766651381148,
          0.2352304988266529,
          0.16145128560357638,
          0.11645425996929985,
          1.7896195966317734
         ],
         "xaxis": "x11",
         "yaxis": "y11"
        },
        {
         "line": {
          "color": "rgba(128, 128, 128, 1.0)",
          "dash": "solid",
          "shape": "linear",
          "width": 1.3
         },
         "marker": {
          "size": 2,
          "symbol": "circle"
         },
         "mode": "markers",
         "name": "C",
         "text": "",
         "type": "scatter",
         "x": [
          0.3678171232589625,
          -0.6123213627371522,
          -0.2890912740793197,
          1.4416062794151767,
          -0.031007877389082762,
          0.21066867994888752,
          -0.8449498446329224,
          0.8394801074054848,
          1.1220616783066,
          0.7414951286989834,
          1.7059394077087338,
          -2.1575183351443314,
          -0.27228169067396957,
          -0.8222735398598566,
          -0.37270733125911626,
          1.1324930909504078,
          0.7237131916502513,
          -0.10093454511360091,
          -0.8344711780529005,
          0.7892018039744497,
          -1.1768864396408643,
          0.5384395360501053,
          -0.8716745319027909,
          -0.964495783243021,
          -0.9510926758024836,
          -1.5899922140297353,
          0.03947906137045445,
          -0.9040569632222731,
          1.2573838148185117,
          0.032368660363067826,
          0.00979716311962585,
          0.30189925388456806,
          -0.06836893783625991,
          -1.4830238059635945,
          2.8260226754504756,
          -1.7904184283143372,
          -0.19147572914500896,
          1.1334222316178524,
          0.07218388266810098,
          -0.6706938157194935,
          -0.787369287349699,
          0.33772976898905305,
          0.45289164094474577,
          -0.6386250109337946,
          -0.01696530433971158,
          0.11800755838890979,
          1.0935731165217104,
          -1.2066163009956685,
          1.7307802442979323,
          -0.694055702203546,
          -1.0787243593311957,
          0.8449859793236317,
          0.08114505951215607,
          0.48200938196228577,
          -0.30418199598000517,
          0.1107989331602753,
          -0.34506692295258384,
          1.4772323028116827,
          0.8897338055409254,
          -1.2970117479838066,
          -1.7401977008647422,
          0.6947525057730943,
          1.4168585094952768,
          -0.8682925467951569,
          0.14803006581044606,
          1.1113961368502225,
          0.45044683161909055,
          0.2387529698111168,
          0.07871816418155476,
          -0.8585228972180073,
          0.09299148979946799,
          0.5575922241457948,
          -0.015901030931749834,
          1.1928407027845176,
          0.1500119442760574,
          0.23881238689730214,
          1.5102065154067492,
          0.7186660940127791,
          0.6819436465246247,
          -1.5507226893448807,
          1.1033345618082833,
          1.183767610324313,
          0.8523275001657111,
          -0.8621163691043606,
          0.7145103720522716,
          1.2125641299415693,
          -1.3289064131476391,
          -0.32259983388745134,
          0.3280844786260632,
          0.20408059488367758,
          0.552476891498723,
          -0.12992629702660555,
          -0.7248427516851038,
          0.6576417736756259,
          1.4753555270758771,
          -0.41695017859014644,
          -0.7185905266648366,
          0.5863817062130624,
          -0.38997417451705346,
          0.6884888981305322
         ],
         "xaxis": "x12",
         "y": [
          1.537971522799382,
          1.9439769437729302,
          -0.8780238161615508,
          0.4124968127293803,
          0.07466725366935067,
          -0.5539178888964471,
          0.00817695387702504,
          -1.2550225340364434,
          -0.5412576554328449,
          0.24969679728174116,
          0.871816558580187,
          1.020279703993287,
          0.011320889793238592,
          -1.586461887104245,
          -1.8968158388241263,
          -0.43386820768173306,
          2.198788237723471,
          -0.3959962886467039,
          1.1110544950169268,
          -0.19278306304304224,
          0.4744246868857774,
          0.007933739243698234,
          0.48047374019415817,
          0.08804042706014781,
          -0.10125114913655739,
          0.027461063717202035,
          0.10859744350420796,
          0.8310009965841483,
          0.42059356089409355,
          0.48924415850726755,
          1.375976816229858,
          0.9838719678559592,
          -1.9232567317746518,
          1.0578963690677599,
          -0.8981540314035965,
          -0.9759356019915912,
          1.013960747882589,
          2.4638321283328626,
          0.079207450843994,
          0.20774520694751952,
          -0.33314912365440885,
          -0.6502008769080283,
          -0.718880191013,
          -1.1968027205800376,
          0.5236593226261017,
          -0.3941772676509596,
          -0.37461732273636805,
          -0.3876617327812021,
          -0.39807203644981676,
          2.328221185625653,
          -0.11577609704476109,
          -1.9346430989777617,
          -0.17173664488861562,
          0.7799954583712938,
          0.44781031095378643,
          -1.0944610854825378,
          -1.7955178763191209,
          -0.1338640634538081,
          -0.6082864970908706,
          -0.28877383730717926,
          -0.39777928940682455,
          -0.8379345405189532,
          1.8496783025891144,
          -0.40858164000605113,
          -0.17689760919626152,
          1.5795155037979336,
          1.5777090111862964,
          0.36523953730768677,
          -1.4845023123428644,
          1.2766513514043718,
          0.6846277469502795,
          0.5605741333739809,
          -0.7638965721430718,
          0.15265752408346378,
          0.2597804224859079,
          0.10295420125442119,
          0.9404406111536191,
          0.3235412049094401,
          -0.6620207833327258,
          0.19073897294613015,
          0.22247498881272565,
          -1.346912502160558,
          0.710632951197657,
          -0.7850388641380739,
          -0.5622713079810008,
          0.7229962130587485,
          -0.7339866177665963,
          -0.9911212919749353,
          -1.496459383599991,
          0.5426852207290529,
          0.43305187586703425,
          0.4258944990145214,
          1.0902255833182126,
          0.22734227626973183,
          0.38723354327631565,
          0.3713766651381148,
          0.2352304988266529,
          0.16145128560357638,
          0.11645425996929985,
          1.7896195966317734
         ],
         "yaxis": "y12"
        },
        {
         "line": {
          "color": "rgba(128, 128, 128, 1.0)",
          "dash": "solid",
          "shape": "linear",
          "width": 1.3
         },
         "marker": {
          "size": 2,
          "symbol": "circle"
         },
         "mode": "markers",
         "name": "D",
         "text": "",
         "type": "scatter",
         "x": [
          -0.6707154253506642,
          -1.9500262411133285,
          0.47330149330972787,
          0.3220821058806944,
          0.20805808808316156,
          -0.35109658451676334,
          0.6962852968692117,
          -0.10784531902689991,
          1.5086544793457553,
          -1.340268292912184,
          0.7644344119612071,
          -0.26780932113299405,
          0.1878224556979502,
          1.171246085614569,
          0.1851093548441989,
          0.2823252049199303,
          0.6932277961556744,
          -0.6769518643083233,
          -0.19354333756548917,
          2.1363357457530587,
          0.040971497941110074,
          -1.7778136621759986,
          3.13702519812112,
          1.5018405020580647,
          -1.6127044945937676,
          -0.03130235727745821,
          0.09640237026125606,
          -0.5360328057285065,
          0.8757207392735993,
          0.28188882285582134,
          -0.6267644208076626,
          0.522160591589084,
          0.7117289724168866,
          -0.6437782301720258,
          0.2712843372224381,
          0.6033468190197396,
          0.8021238883637443,
          -0.7702350535759206,
          -1.6829360015664283,
          0.6731359493896302,
          -1.0248199572464276,
          0.8986669891621416,
          -0.3657217093686965,
          -0.19140225513344197,
          -0.027425781658837873,
          -0.4486319931274092,
          -1.2072169461605697,
          1.1119462802015492,
          0.7169013061838068,
          1.092554147709969,
          0.3877181592512865,
          -0.5077243469664451,
          0.40449061501060224,
          0.22132603560676464,
          0.5266282050852957,
          -0.3950309560310908,
          -0.005066618020162976,
          0.5397516109289167,
          -0.24187446680324345,
          -2.4180231477424297,
          -0.1118720542279614,
          0.7891934411928745,
          -1.4595096578166131,
          -1.6641566424292111,
          0.4641685548997316,
          0.2039478823314363,
          0.033767471863369765,
          -1.0739728733906564,
          -1.8950403385455485,
          0.33690673212261363,
          -0.34158656775274315,
          -0.1877609055445049,
          -1.3877147132450043,
          -0.5621215400627225,
          -0.25322924851168455,
          1.8159900315694717,
          -0.34533226510827736,
          1.0356949538332458,
          1.2021841404538256,
          -0.3927476513776488,
          0.837235412643784,
          -1.6234430720105062,
          1.243235860033378,
          0.16800048711867446,
          0.4391194684694063,
          -0.27275232834051005,
          1.8786432214985485,
          -1.036152949055604,
          -0.8484408810170442,
          0.3225952169549622,
          1.866756994721403,
          -0.5069716474593075,
          0.569264356614395,
          0.28876108330768585,
          -0.14817903275171626,
          -1.863044870763895,
          1.8120988870687478,
          0.18420897831186897,
          0.16052440170636006,
          2.5581870205130657
         ],
         "xaxis": "x13",
         "y": [
          0.3678171232589625,
          -0.6123213627371522,
          -0.2890912740793197,
          1.4416062794151767,
          -0.031007877389082762,
          0.21066867994888752,
          -0.8449498446329224,
          0.8394801074054848,
          1.1220616783066,
          0.7414951286989834,
          1.7059394077087338,
          -2.1575183351443314,
          -0.27228169067396957,
          -0.8222735398598566,
          -0.37270733125911626,
          1.1324930909504078,
          0.7237131916502513,
          -0.10093454511360091,
          -0.8344711780529005,
          0.7892018039744497,
          -1.1768864396408643,
          0.5384395360501053,
          -0.8716745319027909,
          -0.964495783243021,
          -0.9510926758024836,
          -1.5899922140297353,
          0.03947906137045445,
          -0.9040569632222731,
          1.2573838148185117,
          0.032368660363067826,
          0.00979716311962585,
          0.30189925388456806,
          -0.06836893783625991,
          -1.4830238059635945,
          2.8260226754504756,
          -1.7904184283143372,
          -0.19147572914500896,
          1.1334222316178524,
          0.07218388266810098,
          -0.6706938157194935,
          -0.787369287349699,
          0.33772976898905305,
          0.45289164094474577,
          -0.6386250109337946,
          -0.01696530433971158,
          0.11800755838890979,
          1.0935731165217104,
          -1.2066163009956685,
          1.7307802442979323,
          -0.694055702203546,
          -1.0787243593311957,
          0.8449859793236317,
          0.08114505951215607,
          0.48200938196228577,
          -0.30418199598000517,
          0.1107989331602753,
          -0.34506692295258384,
          1.4772323028116827,
          0.8897338055409254,
          -1.2970117479838066,
          -1.7401977008647422,
          0.6947525057730943,
          1.4168585094952768,
          -0.8682925467951569,
          0.14803006581044606,
          1.1113961368502225,
          0.45044683161909055,
          0.2387529698111168,
          0.07871816418155476,
          -0.8585228972180073,
          0.09299148979946799,
          0.5575922241457948,
          -0.015901030931749834,
          1.1928407027845176,
          0.1500119442760574,
          0.23881238689730214,
          1.5102065154067492,
          0.7186660940127791,
          0.6819436465246247,
          -1.5507226893448807,
          1.1033345618082833,
          1.183767610324313,
          0.8523275001657111,
          -0.8621163691043606,
          0.7145103720522716,
          1.2125641299415693,
          -1.3289064131476391,
          -0.32259983388745134,
          0.3280844786260632,
          0.20408059488367758,
          0.552476891498723,
          -0.12992629702660555,
          -0.7248427516851038,
          0.6576417736756259,
          1.4753555270758771,
          -0.41695017859014644,
          -0.7185905266648366,
          0.5863817062130624,
          -0.38997417451705346,
          0.6884888981305322
         ],
         "yaxis": "y13"
        },
        {
         "line": {
          "color": "rgba(128, 128, 128, 1.0)",
          "dash": "solid",
          "shape": "linear",
          "width": 1.3
         },
         "marker": {
          "size": 2,
          "symbol": "circle"
         },
         "mode": "markers",
         "name": "D",
         "text": "",
         "type": "scatter",
         "x": [
          2.1058842826318607,
          -2.072359511310542,
          -0.3416009005606861,
          -0.7284799185898405,
          -1.2504681420191213,
          0.36929949318306843,
          0.30650633934084254,
          -0.7822857645842319,
          -0.40249307975607373,
          -0.4894825593030477,
          -2.0423146065028983,
          0.9872944141587103,
          -1.0569817425686823,
          -1.6293020589481364,
          -0.3653355683975144,
          0.34908380245013,
          -0.9930184191231534,
          -1.5459068965500842,
          -0.4303553133615934,
          0.6436591668209447,
          0.8434328960587413,
          -0.8293341375988842,
          -0.17665403988967887,
          0.05571735134683879,
          0.7712899419374236,
          1.8392243290245631,
          -0.02887245228532163,
          -0.27213303990882726,
          -0.9293654935733069,
          -0.1717099056031576,
          0.10629681858599707,
          -0.15554719806862996,
          -0.9964845946839231,
          0.6092294141232871,
          0.674977835522611,
          1.1574969173759908,
          -0.0904536430233091,
          1.340391985298189,
          0.7013388590982971,
          0.5803876294942691,
          -0.4777178856989432,
          -0.4783100209870064,
          -0.23670952507275758,
          -1.1222153054155775,
          -0.10985297273626017,
          -0.08838416929997245,
          2.705075337277412,
          -1.353083311770451,
          -0.15123585689753194,
          -0.5079059934573342,
          0.214658887024363,
          0.0962629830423297,
          1.2226846938925608,
          -1.3849716686465248,
          2.47057224290792,
          -0.23622331664434187,
          -0.01386735927959883,
          0.3146974131045074,
          -1.611843264935958,
          0.6219892118864861,
          -0.25545298334001854,
          -0.20578715948195975,
          0.5026081049701817,
          -0.05039893194269115,
          -1.451888593332071,
          -1.6684912330390367,
          0.09839970157327095,
          -1.1912211957943615,
          0.35544779363433393,
          0.6886730916876131,
          0.8392771480070627,
          1.6715975529189262,
          0.2645710679527483,
          1.3357616401053343,
          -1.0479861237285117,
          -0.2708393114170538,
          -0.8665667773800374,
          1.3146913254236081,
          2.557788297919866,
          0.12340258729703828,
          1.3972074095700282,
          -1.400939946555493,
          1.050979978143761,
          0.19436735904851585,
          -0.20423934437480293,
          1.707269574355147,
          -1.1200963283863776,
          -1.8289426096328703,
          -0.6902735932611638,
          0.1731486516107255,
          -1.1238930656827142,
          -0.26769297907693507,
          -1.2963287663260568,
          -0.4381458613461422,
          0.4622567290341809,
          0.564315818327561,
          -0.15683622731556487,
          -1.906840982387614,
          0.5078497775235092,
          -0.5281224643869874
         ],
         "xaxis": "x14",
         "y": [
          0.3678171232589625,
          -0.6123213627371522,
          -0.2890912740793197,
          1.4416062794151767,
          -0.031007877389082762,
          0.21066867994888752,
          -0.8449498446329224,
          0.8394801074054848,
          1.1220616783066,
          0.7414951286989834,
          1.7059394077087338,
          -2.1575183351443314,
          -0.27228169067396957,
          -0.8222735398598566,
          -0.37270733125911626,
          1.1324930909504078,
          0.7237131916502513,
          -0.10093454511360091,
          -0.8344711780529005,
          0.7892018039744497,
          -1.1768864396408643,
          0.5384395360501053,
          -0.8716745319027909,
          -0.964495783243021,
          -0.9510926758024836,
          -1.5899922140297353,
          0.03947906137045445,
          -0.9040569632222731,
          1.2573838148185117,
          0.032368660363067826,
          0.00979716311962585,
          0.30189925388456806,
          -0.06836893783625991,
          -1.4830238059635945,
          2.8260226754504756,
          -1.7904184283143372,
          -0.19147572914500896,
          1.1334222316178524,
          0.07218388266810098,
          -0.6706938157194935,
          -0.787369287349699,
          0.33772976898905305,
          0.45289164094474577,
          -0.6386250109337946,
          -0.01696530433971158,
          0.11800755838890979,
          1.0935731165217104,
          -1.2066163009956685,
          1.7307802442979323,
          -0.694055702203546,
          -1.0787243593311957,
          0.8449859793236317,
          0.08114505951215607,
          0.48200938196228577,
          -0.30418199598000517,
          0.1107989331602753,
          -0.34506692295258384,
          1.4772323028116827,
          0.8897338055409254,
          -1.2970117479838066,
          -1.7401977008647422,
          0.6947525057730943,
          1.4168585094952768,
          -0.8682925467951569,
          0.14803006581044606,
          1.1113961368502225,
          0.45044683161909055,
          0.2387529698111168,
          0.07871816418155476,
          -0.8585228972180073,
          0.09299148979946799,
          0.5575922241457948,
          -0.015901030931749834,
          1.1928407027845176,
          0.1500119442760574,
          0.23881238689730214,
          1.5102065154067492,
          0.7186660940127791,
          0.6819436465246247,
          -1.5507226893448807,
          1.1033345618082833,
          1.183767610324313,
          0.8523275001657111,
          -0.8621163691043606,
          0.7145103720522716,
          1.2125641299415693,
          -1.3289064131476391,
          -0.32259983388745134,
          0.3280844786260632,
          0.20408059488367758,
          0.552476891498723,
          -0.12992629702660555,
          -0.7248427516851038,
          0.6576417736756259,
          1.4753555270758771,
          -0.41695017859014644,
          -0.7185905266648366,
          0.5863817062130624,
          -0.38997417451705346,
          0.6884888981305322
         ],
         "yaxis": "y14"
        },
        {
         "line": {
          "color": "rgba(128, 128, 128, 1.0)",
          "dash": "solid",
          "shape": "linear",
          "width": 1.3
         },
         "marker": {
          "size": 2,
          "symbol": "circle"
         },
         "mode": "markers",
         "name": "D",
         "text": "",
         "type": "scatter",
         "x": [
          1.537971522799382,
          1.9439769437729302,
          -0.8780238161615508,
          0.4124968127293803,
          0.07466725366935067,
          -0.5539178888964471,
          0.00817695387702504,
          -1.2550225340364434,
          -0.5412576554328449,
          0.24969679728174116,
          0.871816558580187,
          1.020279703993287,
          0.011320889793238592,
          -1.586461887104245,
          -1.8968158388241263,
          -0.43386820768173306,
          2.198788237723471,
          -0.3959962886467039,
          1.1110544950169268,
          -0.19278306304304224,
          0.4744246868857774,
          0.007933739243698234,
          0.48047374019415817,
          0.08804042706014781,
          -0.10125114913655739,
          0.027461063717202035,
          0.10859744350420796,
          0.8310009965841483,
          0.42059356089409355,
          0.48924415850726755,
          1.375976816229858,
          0.9838719678559592,
          -1.9232567317746518,
          1.0578963690677599,
          -0.8981540314035965,
          -0.9759356019915912,
          1.013960747882589,
          2.4638321283328626,
          0.079207450843994,
          0.20774520694751952,
          -0.33314912365440885,
          -0.6502008769080283,
          -0.718880191013,
          -1.1968027205800376,
          0.5236593226261017,
          -0.3941772676509596,
          -0.37461732273636805,
          -0.3876617327812021,
          -0.39807203644981676,
          2.328221185625653,
          -0.11577609704476109,
          -1.9346430989777617,
          -0.17173664488861562,
          0.7799954583712938,
          0.44781031095378643,
          -1.0944610854825378,
          -1.7955178763191209,
          -0.1338640634538081,
          -0.6082864970908706,
          -0.28877383730717926,
          -0.39777928940682455,
          -0.8379345405189532,
          1.8496783025891144,
          -0.40858164000605113,
          -0.17689760919626152,
          1.5795155037979336,
          1.5777090111862964,
          0.36523953730768677,
          -1.4845023123428644,
          1.2766513514043718,
          0.6846277469502795,
          0.5605741333739809,
          -0.7638965721430718,
          0.15265752408346378,
          0.2597804224859079,
          0.10295420125442119,
          0.9404406111536191,
          0.3235412049094401,
          -0.6620207833327258,
          0.19073897294613015,
          0.22247498881272565,
          -1.346912502160558,
          0.710632951197657,
          -0.7850388641380739,
          -0.5622713079810008,
          0.7229962130587485,
          -0.7339866177665963,
          -0.9911212919749353,
          -1.496459383599991,
          0.5426852207290529,
          0.43305187586703425,
          0.4258944990145214,
          1.0902255833182126,
          0.22734227626973183,
          0.38723354327631565,
          0.3713766651381148,
          0.2352304988266529,
          0.16145128560357638,
          0.11645425996929985,
          1.7896195966317734
         ],
         "xaxis": "x15",
         "y": [
          0.3678171232589625,
          -0.6123213627371522,
          -0.2890912740793197,
          1.4416062794151767,
          -0.031007877389082762,
          0.21066867994888752,
          -0.8449498446329224,
          0.8394801074054848,
          1.1220616783066,
          0.7414951286989834,
          1.7059394077087338,
          -2.1575183351443314,
          -0.27228169067396957,
          -0.8222735398598566,
          -0.37270733125911626,
          1.1324930909504078,
          0.7237131916502513,
          -0.10093454511360091,
          -0.8344711780529005,
          0.7892018039744497,
          -1.1768864396408643,
          0.5384395360501053,
          -0.8716745319027909,
          -0.964495783243021,
          -0.9510926758024836,
          -1.5899922140297353,
          0.03947906137045445,
          -0.9040569632222731,
          1.2573838148185117,
          0.032368660363067826,
          0.00979716311962585,
          0.30189925388456806,
          -0.06836893783625991,
          -1.4830238059635945,
          2.8260226754504756,
          -1.7904184283143372,
          -0.19147572914500896,
          1.1334222316178524,
          0.07218388266810098,
          -0.6706938157194935,
          -0.787369287349699,
          0.33772976898905305,
          0.45289164094474577,
          -0.6386250109337946,
          -0.01696530433971158,
          0.11800755838890979,
          1.0935731165217104,
          -1.2066163009956685,
          1.7307802442979323,
          -0.694055702203546,
          -1.0787243593311957,
          0.8449859793236317,
          0.08114505951215607,
          0.48200938196228577,
          -0.30418199598000517,
          0.1107989331602753,
          -0.34506692295258384,
          1.4772323028116827,
          0.8897338055409254,
          -1.2970117479838066,
          -1.7401977008647422,
          0.6947525057730943,
          1.4168585094952768,
          -0.8682925467951569,
          0.14803006581044606,
          1.1113961368502225,
          0.45044683161909055,
          0.2387529698111168,
          0.07871816418155476,
          -0.8585228972180073,
          0.09299148979946799,
          0.5575922241457948,
          -0.015901030931749834,
          1.1928407027845176,
          0.1500119442760574,
          0.23881238689730214,
          1.5102065154067492,
          0.7186660940127791,
          0.6819436465246247,
          -1.5507226893448807,
          1.1033345618082833,
          1.183767610324313,
          0.8523275001657111,
          -0.8621163691043606,
          0.7145103720522716,
          1.2125641299415693,
          -1.3289064131476391,
          -0.32259983388745134,
          0.3280844786260632,
          0.20408059488367758,
          0.552476891498723,
          -0.12992629702660555,
          -0.7248427516851038,
          0.6576417736756259,
          1.4753555270758771,
          -0.41695017859014644,
          -0.7185905266648366,
          0.5863817062130624,
          -0.38997417451705346,
          0.6884888981305322
         ],
         "yaxis": "y15"
        },
        {
         "histfunc": "count",
         "histnorm": "",
         "marker": {
          "color": "rgba(128, 0, 128, 1.0)",
          "line": {
           "color": "#4D5663",
           "width": 1.3
          }
         },
         "name": "D",
         "nbinsx": 10,
         "opacity": 0.8,
         "orientation": "v",
         "type": "histogram",
         "x": [
          0.3678171232589625,
          -0.6123213627371522,
          -0.2890912740793197,
          1.4416062794151767,
          -0.031007877389082762,
          0.21066867994888752,
          -0.8449498446329224,
          0.8394801074054848,
          1.1220616783066,
          0.7414951286989834,
          1.7059394077087338,
          -2.1575183351443314,
          -0.27228169067396957,
          -0.8222735398598566,
          -0.37270733125911626,
          1.1324930909504078,
          0.7237131916502513,
          -0.10093454511360091,
          -0.8344711780529005,
          0.7892018039744497,
          -1.1768864396408643,
          0.5384395360501053,
          -0.8716745319027909,
          -0.964495783243021,
          -0.9510926758024836,
          -1.5899922140297353,
          0.03947906137045445,
          -0.9040569632222731,
          1.2573838148185117,
          0.032368660363067826,
          0.00979716311962585,
          0.30189925388456806,
          -0.06836893783625991,
          -1.4830238059635945,
          2.8260226754504756,
          -1.7904184283143372,
          -0.19147572914500896,
          1.1334222316178524,
          0.07218388266810098,
          -0.6706938157194935,
          -0.787369287349699,
          0.33772976898905305,
          0.45289164094474577,
          -0.6386250109337946,
          -0.01696530433971158,
          0.11800755838890979,
          1.0935731165217104,
          -1.2066163009956685,
          1.7307802442979323,
          -0.694055702203546,
          -1.0787243593311957,
          0.8449859793236317,
          0.08114505951215607,
          0.48200938196228577,
          -0.30418199598000517,
          0.1107989331602753,
          -0.34506692295258384,
          1.4772323028116827,
          0.8897338055409254,
          -1.2970117479838066,
          -1.7401977008647422,
          0.6947525057730943,
          1.4168585094952768,
          -0.8682925467951569,
          0.14803006581044606,
          1.1113961368502225,
          0.45044683161909055,
          0.2387529698111168,
          0.07871816418155476,
          -0.8585228972180073,
          0.09299148979946799,
          0.5575922241457948,
          -0.015901030931749834,
          1.1928407027845176,
          0.1500119442760574,
          0.23881238689730214,
          1.5102065154067492,
          0.7186660940127791,
          0.6819436465246247,
          -1.5507226893448807,
          1.1033345618082833,
          1.183767610324313,
          0.8523275001657111,
          -0.8621163691043606,
          0.7145103720522716,
          1.2125641299415693,
          -1.3289064131476391,
          -0.32259983388745134,
          0.3280844786260632,
          0.20408059488367758,
          0.552476891498723,
          -0.12992629702660555,
          -0.7248427516851038,
          0.6576417736756259,
          1.4753555270758771,
          -0.41695017859014644,
          -0.7185905266648366,
          0.5863817062130624,
          -0.38997417451705346,
          0.6884888981305322
         ],
         "xaxis": "x16",
         "yaxis": "y16"
        }
       ],
       "layout": {
        "bargap": 0.02,
        "legend": {
         "bgcolor": "#F5F6F9",
         "font": {
          "color": "#4D5663"
         }
        },
        "paper_bgcolor": "#F5F6F9",
        "plot_bgcolor": "#F5F6F9",
        "showlegend": false,
        "template": {
         "data": {
          "bar": [
           {
            "error_x": {
             "color": "#2a3f5f"
            },
            "error_y": {
             "color": "#2a3f5f"
            },
            "marker": {
             "line": {
              "color": "#E5ECF6",
              "width": 0.5
             }
            },
            "type": "bar"
           }
          ],
          "barpolar": [
           {
            "marker": {
             "line": {
              "color": "#E5ECF6",
              "width": 0.5
             }
            },
            "type": "barpolar"
           }
          ],
          "carpet": [
           {
            "aaxis": {
             "endlinecolor": "#2a3f5f",
             "gridcolor": "white",
             "linecolor": "white",
             "minorgridcolor": "white",
             "startlinecolor": "#2a3f5f"
            },
            "baxis": {
             "endlinecolor": "#2a3f5f",
             "gridcolor": "white",
             "linecolor": "white",
             "minorgridcolor": "white",
             "startlinecolor": "#2a3f5f"
            },
            "type": "carpet"
           }
          ],
          "choropleth": [
           {
            "colorbar": {
             "outlinewidth": 0,
             "ticks": ""
            },
            "type": "choropleth"
           }
          ],
          "contour": [
           {
            "colorbar": {
             "outlinewidth": 0,
             "ticks": ""
            },
            "colorscale": [
             [
              0,
              "#0d0887"
             ],
             [
              0.1111111111111111,
              "#46039f"
             ],
             [
              0.2222222222222222,
              "#7201a8"
             ],
             [
              0.3333333333333333,
              "#9c179e"
             ],
             [
              0.4444444444444444,
              "#bd3786"
             ],
             [
              0.5555555555555556,
              "#d8576b"
             ],
             [
              0.6666666666666666,
              "#ed7953"
             ],
             [
              0.7777777777777778,
              "#fb9f3a"
             ],
             [
              0.8888888888888888,
              "#fdca26"
             ],
             [
              1,
              "#f0f921"
             ]
            ],
            "type": "contour"
           }
          ],
          "contourcarpet": [
           {
            "colorbar": {
             "outlinewidth": 0,
             "ticks": ""
            },
            "type": "contourcarpet"
           }
          ],
          "heatmap": [
           {
            "colorbar": {
             "outlinewidth": 0,
             "ticks": ""
            },
            "colorscale": [
             [
              0,
              "#0d0887"
             ],
             [
              0.1111111111111111,
              "#46039f"
             ],
             [
              0.2222222222222222,
              "#7201a8"
             ],
             [
              0.3333333333333333,
              "#9c179e"
             ],
             [
              0.4444444444444444,
              "#bd3786"
             ],
             [
              0.5555555555555556,
              "#d8576b"
             ],
             [
              0.6666666666666666,
              "#ed7953"
             ],
             [
              0.7777777777777778,
              "#fb9f3a"
             ],
             [
              0.8888888888888888,
              "#fdca26"
             ],
             [
              1,
              "#f0f921"
             ]
            ],
            "type": "heatmap"
           }
          ],
          "heatmapgl": [
           {
            "colorbar": {
             "outlinewidth": 0,
             "ticks": ""
            },
            "colorscale": [
             [
              0,
              "#0d0887"
             ],
             [
              0.1111111111111111,
              "#46039f"
             ],
             [
              0.2222222222222222,
              "#7201a8"
             ],
             [
              0.3333333333333333,
              "#9c179e"
             ],
             [
              0.4444444444444444,
              "#bd3786"
             ],
             [
              0.5555555555555556,
              "#d8576b"
             ],
             [
              0.6666666666666666,
              "#ed7953"
             ],
             [
              0.7777777777777778,
              "#fb9f3a"
             ],
             [
              0.8888888888888888,
              "#fdca26"
             ],
             [
              1,
              "#f0f921"
             ]
            ],
            "type": "heatmapgl"
           }
          ],
          "histogram": [
           {
            "marker": {
             "colorbar": {
              "outlinewidth": 0,
              "ticks": ""
             }
            },
            "type": "histogram"
           }
          ],
          "histogram2d": [
           {
            "colorbar": {
             "outlinewidth": 0,
             "ticks": ""
            },
            "colorscale": [
             [
              0,
              "#0d0887"
             ],
             [
              0.1111111111111111,
              "#46039f"
             ],
             [
              0.2222222222222222,
              "#7201a8"
             ],
             [
              0.3333333333333333,
              "#9c179e"
             ],
             [
              0.4444444444444444,
              "#bd3786"
             ],
             [
              0.5555555555555556,
              "#d8576b"
             ],
             [
              0.6666666666666666,
              "#ed7953"
             ],
             [
              0.7777777777777778,
              "#fb9f3a"
             ],
             [
              0.8888888888888888,
              "#fdca26"
             ],
             [
              1,
              "#f0f921"
             ]
            ],
            "type": "histogram2d"
           }
          ],
          "histogram2dcontour": [
           {
            "colorbar": {
             "outlinewidth": 0,
             "ticks": ""
            },
            "colorscale": [
             [
              0,
              "#0d0887"
             ],
             [
              0.1111111111111111,
              "#46039f"
             ],
             [
              0.2222222222222222,
              "#7201a8"
             ],
             [
              0.3333333333333333,
              "#9c179e"
             ],
             [
              0.4444444444444444,
              "#bd3786"
             ],
             [
              0.5555555555555556,
              "#d8576b"
             ],
             [
              0.6666666666666666,
              "#ed7953"
             ],
             [
              0.7777777777777778,
              "#fb9f3a"
             ],
             [
              0.8888888888888888,
              "#fdca26"
             ],
             [
              1,
              "#f0f921"
             ]
            ],
            "type": "histogram2dcontour"
           }
          ],
          "mesh3d": [
           {
            "colorbar": {
             "outlinewidth": 0,
             "ticks": ""
            },
            "type": "mesh3d"
           }
          ],
          "parcoords": [
           {
            "line": {
             "colorbar": {
              "outlinewidth": 0,
              "ticks": ""
             }
            },
            "type": "parcoords"
           }
          ],
          "pie": [
           {
            "automargin": true,
            "type": "pie"
           }
          ],
          "scatter": [
           {
            "marker": {
             "colorbar": {
              "outlinewidth": 0,
              "ticks": ""
             }
            },
            "type": "scatter"
           }
          ],
          "scatter3d": [
           {
            "line": {
             "colorbar": {
              "outlinewidth": 0,
              "ticks": ""
             }
            },
            "marker": {
             "colorbar": {
              "outlinewidth": 0,
              "ticks": ""
             }
            },
            "type": "scatter3d"
           }
          ],
          "scattercarpet": [
           {
            "marker": {
             "colorbar": {
              "outlinewidth": 0,
              "ticks": ""
             }
            },
            "type": "scattercarpet"
           }
          ],
          "scattergeo": [
           {
            "marker": {
             "colorbar": {
              "outlinewidth": 0,
              "ticks": ""
             }
            },
            "type": "scattergeo"
           }
          ],
          "scattergl": [
           {
            "marker": {
             "colorbar": {
              "outlinewidth": 0,
              "ticks": ""
             }
            },
            "type": "scattergl"
           }
          ],
          "scattermapbox": [
           {
            "marker": {
             "colorbar": {
              "outlinewidth": 0,
              "ticks": ""
             }
            },
            "type": "scattermapbox"
           }
          ],
          "scatterpolar": [
           {
            "marker": {
             "colorbar": {
              "outlinewidth": 0,
              "ticks": ""
             }
            },
            "type": "scatterpolar"
           }
          ],
          "scatterpolargl": [
           {
            "marker": {
             "colorbar": {
              "outlinewidth": 0,
              "ticks": ""
             }
            },
            "type": "scatterpolargl"
           }
          ],
          "scatterternary": [
           {
            "marker": {
             "colorbar": {
              "outlinewidth": 0,
              "ticks": ""
             }
            },
            "type": "scatterternary"
           }
          ],
          "surface": [
           {
            "colorbar": {
             "outlinewidth": 0,
             "ticks": ""
            },
            "colorscale": [
             [
              0,
              "#0d0887"
             ],
             [
              0.1111111111111111,
              "#46039f"
             ],
             [
              0.2222222222222222,
              "#7201a8"
             ],
             [
              0.3333333333333333,
              "#9c179e"
             ],
             [
              0.4444444444444444,
              "#bd3786"
             ],
             [
              0.5555555555555556,
              "#d8576b"
             ],
             [
              0.6666666666666666,
              "#ed7953"
             ],
             [
              0.7777777777777778,
              "#fb9f3a"
             ],
             [
              0.8888888888888888,
              "#fdca26"
             ],
             [
              1,
              "#f0f921"
             ]
            ],
            "type": "surface"
           }
          ],
          "table": [
           {
            "cells": {
             "fill": {
              "color": "#EBF0F8"
             },
             "line": {
              "color": "white"
             }
            },
            "header": {
             "fill": {
              "color": "#C8D4E3"
             },
             "line": {
              "color": "white"
             }
            },
            "type": "table"
           }
          ]
         },
         "layout": {
          "annotationdefaults": {
           "arrowcolor": "#2a3f5f",
           "arrowhead": 0,
           "arrowwidth": 1
          },
          "autotypenumbers": "strict",
          "coloraxis": {
           "colorbar": {
            "outlinewidth": 0,
            "ticks": ""
           }
          },
          "colorscale": {
           "diverging": [
            [
             0,
             "#8e0152"
            ],
            [
             0.1,
             "#c51b7d"
            ],
            [
             0.2,
             "#de77ae"
            ],
            [
             0.3,
             "#f1b6da"
            ],
            [
             0.4,
             "#fde0ef"
            ],
            [
             0.5,
             "#f7f7f7"
            ],
            [
             0.6,
             "#e6f5d0"
            ],
            [
             0.7,
             "#b8e186"
            ],
            [
             0.8,
             "#7fbc41"
            ],
            [
             0.9,
             "#4d9221"
            ],
            [
             1,
             "#276419"
            ]
           ],
           "sequential": [
            [
             0,
             "#0d0887"
            ],
            [
             0.1111111111111111,
             "#46039f"
            ],
            [
             0.2222222222222222,
             "#7201a8"
            ],
            [
             0.3333333333333333,
             "#9c179e"
            ],
            [
             0.4444444444444444,
             "#bd3786"
            ],
            [
             0.5555555555555556,
             "#d8576b"
            ],
            [
             0.6666666666666666,
             "#ed7953"
            ],
            [
             0.7777777777777778,
             "#fb9f3a"
            ],
            [
             0.8888888888888888,
             "#fdca26"
            ],
            [
             1,
             "#f0f921"
            ]
           ],
           "sequentialminus": [
            [
             0,
             "#0d0887"
            ],
            [
             0.1111111111111111,
             "#46039f"
            ],
            [
             0.2222222222222222,
             "#7201a8"
            ],
            [
             0.3333333333333333,
             "#9c179e"
            ],
            [
             0.4444444444444444,
             "#bd3786"
            ],
            [
             0.5555555555555556,
             "#d8576b"
            ],
            [
             0.6666666666666666,
             "#ed7953"
            ],
            [
             0.7777777777777778,
             "#fb9f3a"
            ],
            [
             0.8888888888888888,
             "#fdca26"
            ],
            [
             1,
             "#f0f921"
            ]
           ]
          },
          "colorway": [
           "#636efa",
           "#EF553B",
           "#00cc96",
           "#ab63fa",
           "#FFA15A",
           "#19d3f3",
           "#FF6692",
           "#B6E880",
           "#FF97FF",
           "#FECB52"
          ],
          "font": {
           "color": "#2a3f5f"
          },
          "geo": {
           "bgcolor": "white",
           "lakecolor": "white",
           "landcolor": "#E5ECF6",
           "showlakes": true,
           "showland": true,
           "subunitcolor": "white"
          },
          "hoverlabel": {
           "align": "left"
          },
          "hovermode": "closest",
          "mapbox": {
           "style": "light"
          },
          "paper_bgcolor": "white",
          "plot_bgcolor": "#E5ECF6",
          "polar": {
           "angularaxis": {
            "gridcolor": "white",
            "linecolor": "white",
            "ticks": ""
           },
           "bgcolor": "#E5ECF6",
           "radialaxis": {
            "gridcolor": "white",
            "linecolor": "white",
            "ticks": ""
           }
          },
          "scene": {
           "xaxis": {
            "backgroundcolor": "#E5ECF6",
            "gridcolor": "white",
            "gridwidth": 2,
            "linecolor": "white",
            "showbackground": true,
            "ticks": "",
            "zerolinecolor": "white"
           },
           "yaxis": {
            "backgroundcolor": "#E5ECF6",
            "gridcolor": "white",
            "gridwidth": 2,
            "linecolor": "white",
            "showbackground": true,
            "ticks": "",
            "zerolinecolor": "white"
           },
           "zaxis": {
            "backgroundcolor": "#E5ECF6",
            "gridcolor": "white",
            "gridwidth": 2,
            "linecolor": "white",
            "showbackground": true,
            "ticks": "",
            "zerolinecolor": "white"
           }
          },
          "shapedefaults": {
           "line": {
            "color": "#2a3f5f"
           }
          },
          "ternary": {
           "aaxis": {
            "gridcolor": "white",
            "linecolor": "white",
            "ticks": ""
           },
           "baxis": {
            "gridcolor": "white",
            "linecolor": "white",
            "ticks": ""
           },
           "bgcolor": "#E5ECF6",
           "caxis": {
            "gridcolor": "white",
            "linecolor": "white",
            "ticks": ""
           }
          },
          "title": {
           "x": 0.05
          },
          "xaxis": {
           "automargin": true,
           "gridcolor": "white",
           "linecolor": "white",
           "ticks": "",
           "title": {
            "standoff": 15
           },
           "zerolinecolor": "white",
           "zerolinewidth": 2
          },
          "yaxis": {
           "automargin": true,
           "gridcolor": "white",
           "linecolor": "white",
           "ticks": "",
           "title": {
            "standoff": 15
           },
           "zerolinecolor": "white",
           "zerolinewidth": 2
          }
         }
        },
        "title": {
         "font": {
          "color": "#4D5663"
         }
        },
        "xaxis": {
         "anchor": "y",
         "domain": [
          0,
          0.2125
         ],
         "gridcolor": "#E1E5ED",
         "showgrid": false,
         "tickfont": {
          "color": "#4D5663"
         },
         "title": {
          "font": {
           "color": "#4D5663"
          },
          "text": ""
         },
         "zerolinecolor": "#E1E5ED"
        },
        "xaxis10": {
         "anchor": "y10",
         "domain": [
          0.2625,
          0.475
         ],
         "gridcolor": "#E1E5ED",
         "showgrid": false,
         "tickfont": {
          "color": "#4D5663"
         },
         "title": {
          "font": {
           "color": "#4D5663"
          },
          "text": ""
         },
         "zerolinecolor": "#E1E5ED"
        },
        "xaxis11": {
         "anchor": "y11",
         "domain": [
          0.525,
          0.7375
         ],
         "gridcolor": "#E1E5ED",
         "showgrid": false,
         "tickfont": {
          "color": "#4D5663"
         },
         "title": {
          "font": {
           "color": "#4D5663"
          },
          "text": ""
         },
         "zerolinecolor": "#E1E5ED"
        },
        "xaxis12": {
         "anchor": "y12",
         "domain": [
          0.7875,
          1
         ],
         "gridcolor": "#E1E5ED",
         "showgrid": false,
         "tickfont": {
          "color": "#4D5663"
         },
         "title": {
          "font": {
           "color": "#4D5663"
          },
          "text": ""
         },
         "zerolinecolor": "#E1E5ED"
        },
        "xaxis13": {
         "anchor": "y13",
         "domain": [
          0,
          0.2125
         ],
         "gridcolor": "#E1E5ED",
         "showgrid": false,
         "tickfont": {
          "color": "#4D5663"
         },
         "title": {
          "font": {
           "color": "#4D5663"
          },
          "text": ""
         },
         "zerolinecolor": "#E1E5ED"
        },
        "xaxis14": {
         "anchor": "y14",
         "domain": [
          0.2625,
          0.475
         ],
         "gridcolor": "#E1E5ED",
         "showgrid": false,
         "tickfont": {
          "color": "#4D5663"
         },
         "title": {
          "font": {
           "color": "#4D5663"
          },
          "text": ""
         },
         "zerolinecolor": "#E1E5ED"
        },
        "xaxis15": {
         "anchor": "y15",
         "domain": [
          0.525,
          0.7375
         ],
         "gridcolor": "#E1E5ED",
         "showgrid": false,
         "tickfont": {
          "color": "#4D5663"
         },
         "title": {
          "font": {
           "color": "#4D5663"
          },
          "text": ""
         },
         "zerolinecolor": "#E1E5ED"
        },
        "xaxis16": {
         "anchor": "y16",
         "domain": [
          0.7875,
          1
         ],
         "gridcolor": "#E1E5ED",
         "showgrid": false,
         "tickfont": {
          "color": "#4D5663"
         },
         "title": {
          "font": {
           "color": "#4D5663"
          },
          "text": ""
         },
         "zerolinecolor": "#E1E5ED"
        },
        "xaxis2": {
         "anchor": "y2",
         "domain": [
          0.2625,
          0.475
         ],
         "gridcolor": "#E1E5ED",
         "showgrid": false,
         "tickfont": {
          "color": "#4D5663"
         },
         "title": {
          "font": {
           "color": "#4D5663"
          },
          "text": ""
         },
         "zerolinecolor": "#E1E5ED"
        },
        "xaxis3": {
         "anchor": "y3",
         "domain": [
          0.525,
          0.7375
         ],
         "gridcolor": "#E1E5ED",
         "showgrid": false,
         "tickfont": {
          "color": "#4D5663"
         },
         "title": {
          "font": {
           "color": "#4D5663"
          },
          "text": ""
         },
         "zerolinecolor": "#E1E5ED"
        },
        "xaxis4": {
         "anchor": "y4",
         "domain": [
          0.7875,
          1
         ],
         "gridcolor": "#E1E5ED",
         "showgrid": false,
         "tickfont": {
          "color": "#4D5663"
         },
         "title": {
          "font": {
           "color": "#4D5663"
          },
          "text": ""
         },
         "zerolinecolor": "#E1E5ED"
        },
        "xaxis5": {
         "anchor": "y5",
         "domain": [
          0,
          0.2125
         ],
         "gridcolor": "#E1E5ED",
         "showgrid": false,
         "tickfont": {
          "color": "#4D5663"
         },
         "title": {
          "font": {
           "color": "#4D5663"
          },
          "text": ""
         },
         "zerolinecolor": "#E1E5ED"
        },
        "xaxis6": {
         "anchor": "y6",
         "domain": [
          0.2625,
          0.475
         ],
         "gridcolor": "#E1E5ED",
         "showgrid": false,
         "tickfont": {
          "color": "#4D5663"
         },
         "title": {
          "font": {
           "color": "#4D5663"
          },
          "text": ""
         },
         "zerolinecolor": "#E1E5ED"
        },
        "xaxis7": {
         "anchor": "y7",
         "domain": [
          0.525,
          0.7375
         ],
         "gridcolor": "#E1E5ED",
         "showgrid": false,
         "tickfont": {
          "color": "#4D5663"
         },
         "title": {
          "font": {
           "color": "#4D5663"
          },
          "text": ""
         },
         "zerolinecolor": "#E1E5ED"
        },
        "xaxis8": {
         "anchor": "y8",
         "domain": [
          0.7875,
          1
         ],
         "gridcolor": "#E1E5ED",
         "showgrid": false,
         "tickfont": {
          "color": "#4D5663"
         },
         "title": {
          "font": {
           "color": "#4D5663"
          },
          "text": ""
         },
         "zerolinecolor": "#E1E5ED"
        },
        "xaxis9": {
         "anchor": "y9",
         "domain": [
          0,
          0.2125
         ],
         "gridcolor": "#E1E5ED",
         "showgrid": false,
         "tickfont": {
          "color": "#4D5663"
         },
         "title": {
          "font": {
           "color": "#4D5663"
          },
          "text": ""
         },
         "zerolinecolor": "#E1E5ED"
        },
        "yaxis": {
         "anchor": "x",
         "domain": [
          0.8025,
          1
         ],
         "gridcolor": "#E1E5ED",
         "showgrid": false,
         "tickfont": {
          "color": "#4D5663"
         },
         "title": {
          "font": {
           "color": "#4D5663"
          },
          "text": ""
         },
         "zerolinecolor": "#E1E5ED"
        },
        "yaxis10": {
         "anchor": "x10",
         "domain": [
          0.2675,
          0.465
         ],
         "gridcolor": "#E1E5ED",
         "showgrid": false,
         "tickfont": {
          "color": "#4D5663"
         },
         "title": {
          "font": {
           "color": "#4D5663"
          },
          "text": ""
         },
         "zerolinecolor": "#E1E5ED"
        },
        "yaxis11": {
         "anchor": "x11",
         "domain": [
          0.2675,
          0.465
         ],
         "gridcolor": "#E1E5ED",
         "showgrid": false,
         "tickfont": {
          "color": "#4D5663"
         },
         "title": {
          "font": {
           "color": "#4D5663"
          },
          "text": ""
         },
         "zerolinecolor": "#E1E5ED"
        },
        "yaxis12": {
         "anchor": "x12",
         "domain": [
          0.2675,
          0.465
         ],
         "gridcolor": "#E1E5ED",
         "showgrid": false,
         "tickfont": {
          "color": "#4D5663"
         },
         "title": {
          "font": {
           "color": "#4D5663"
          },
          "text": ""
         },
         "zerolinecolor": "#E1E5ED"
        },
        "yaxis13": {
         "anchor": "x13",
         "domain": [
          0,
          0.1975
         ],
         "gridcolor": "#E1E5ED",
         "showgrid": false,
         "tickfont": {
          "color": "#4D5663"
         },
         "title": {
          "font": {
           "color": "#4D5663"
          },
          "text": ""
         },
         "zerolinecolor": "#E1E5ED"
        },
        "yaxis14": {
         "anchor": "x14",
         "domain": [
          0,
          0.1975
         ],
         "gridcolor": "#E1E5ED",
         "showgrid": false,
         "tickfont": {
          "color": "#4D5663"
         },
         "title": {
          "font": {
           "color": "#4D5663"
          },
          "text": ""
         },
         "zerolinecolor": "#E1E5ED"
        },
        "yaxis15": {
         "anchor": "x15",
         "domain": [
          0,
          0.1975
         ],
         "gridcolor": "#E1E5ED",
         "showgrid": false,
         "tickfont": {
          "color": "#4D5663"
         },
         "title": {
          "font": {
           "color": "#4D5663"
          },
          "text": ""
         },
         "zerolinecolor": "#E1E5ED"
        },
        "yaxis16": {
         "anchor": "x16",
         "domain": [
          0,
          0.1975
         ],
         "gridcolor": "#E1E5ED",
         "showgrid": false,
         "tickfont": {
          "color": "#4D5663"
         },
         "title": {
          "font": {
           "color": "#4D5663"
          },
          "text": ""
         },
         "zerolinecolor": "#E1E5ED"
        },
        "yaxis2": {
         "anchor": "x2",
         "domain": [
          0.8025,
          1
         ],
         "gridcolor": "#E1E5ED",
         "showgrid": false,
         "tickfont": {
          "color": "#4D5663"
         },
         "title": {
          "font": {
           "color": "#4D5663"
          },
          "text": ""
         },
         "zerolinecolor": "#E1E5ED"
        },
        "yaxis3": {
         "anchor": "x3",
         "domain": [
          0.8025,
          1
         ],
         "gridcolor": "#E1E5ED",
         "showgrid": false,
         "tickfont": {
          "color": "#4D5663"
         },
         "title": {
          "font": {
           "color": "#4D5663"
          },
          "text": ""
         },
         "zerolinecolor": "#E1E5ED"
        },
        "yaxis4": {
         "anchor": "x4",
         "domain": [
          0.8025,
          1
         ],
         "gridcolor": "#E1E5ED",
         "showgrid": false,
         "tickfont": {
          "color": "#4D5663"
         },
         "title": {
          "font": {
           "color": "#4D5663"
          },
          "text": ""
         },
         "zerolinecolor": "#E1E5ED"
        },
        "yaxis5": {
         "anchor": "x5",
         "domain": [
          0.535,
          0.7325
         ],
         "gridcolor": "#E1E5ED",
         "showgrid": false,
         "tickfont": {
          "color": "#4D5663"
         },
         "title": {
          "font": {
           "color": "#4D5663"
          },
          "text": ""
         },
         "zerolinecolor": "#E1E5ED"
        },
        "yaxis6": {
         "anchor": "x6",
         "domain": [
          0.535,
          0.7325
         ],
         "gridcolor": "#E1E5ED",
         "showgrid": false,
         "tickfont": {
          "color": "#4D5663"
         },
         "title": {
          "font": {
           "color": "#4D5663"
          },
          "text": ""
         },
         "zerolinecolor": "#E1E5ED"
        },
        "yaxis7": {
         "anchor": "x7",
         "domain": [
          0.535,
          0.7325
         ],
         "gridcolor": "#E1E5ED",
         "showgrid": false,
         "tickfont": {
          "color": "#4D5663"
         },
         "title": {
          "font": {
           "color": "#4D5663"
          },
          "text": ""
         },
         "zerolinecolor": "#E1E5ED"
        },
        "yaxis8": {
         "anchor": "x8",
         "domain": [
          0.535,
          0.7325
         ],
         "gridcolor": "#E1E5ED",
         "showgrid": false,
         "tickfont": {
          "color": "#4D5663"
         },
         "title": {
          "font": {
           "color": "#4D5663"
          },
          "text": ""
         },
         "zerolinecolor": "#E1E5ED"
        },
        "yaxis9": {
         "anchor": "x9",
         "domain": [
          0.2675,
          0.465
         ],
         "gridcolor": "#E1E5ED",
         "showgrid": false,
         "tickfont": {
          "color": "#4D5663"
         },
         "title": {
          "font": {
           "color": "#4D5663"
          },
          "text": ""
         },
         "zerolinecolor": "#E1E5ED"
        }
       }
      },
      "text/html": [
       "<div>                            <div id=\"0d11d59b-e7d2-4ec5-8045-20d3987f0bb7\" class=\"plotly-graph-div\" style=\"height:525px; width:100%;\"></div>            <script type=\"text/javascript\">                require([\"plotly\"], function(Plotly) {                    window.PLOTLYENV=window.PLOTLYENV || {};\n",
       "                    window.PLOTLYENV.BASE_URL='https://plot.ly';                                    if (document.getElementById(\"0d11d59b-e7d2-4ec5-8045-20d3987f0bb7\")) {                    Plotly.newPlot(                        \"0d11d59b-e7d2-4ec5-8045-20d3987f0bb7\",                        [{\"histfunc\": \"count\", \"histnorm\": \"\", \"marker\": {\"color\": \"rgba(255, 153, 51, 1.0)\", \"line\": {\"color\": \"#4D5663\", \"width\": 1.3}}, \"name\": \"A\", \"nbinsx\": 10, \"opacity\": 0.8, \"orientation\": \"v\", \"type\": \"histogram\", \"x\": [-0.6707154253506642, -1.9500262411133285, 0.47330149330972787, 0.3220821058806944, 0.20805808808316156, -0.35109658451676334, 0.6962852968692117, -0.10784531902689991, 1.5086544793457553, -1.340268292912184, 0.7644344119612071, -0.26780932113299405, 0.1878224556979502, 1.171246085614569, 0.1851093548441989, 0.2823252049199303, 0.6932277961556744, -0.6769518643083233, -0.19354333756548917, 2.1363357457530587, 0.040971497941110074, -1.7778136621759986, 3.13702519812112, 1.5018405020580647, -1.6127044945937676, -0.03130235727745821, 0.09640237026125606, -0.5360328057285065, 0.8757207392735993, 0.28188882285582134, -0.6267644208076626, 0.522160591589084, 0.7117289724168866, -0.6437782301720258, 0.2712843372224381, 0.6033468190197396, 0.8021238883637443, -0.7702350535759206, -1.6829360015664283, 0.6731359493896302, -1.0248199572464276, 0.8986669891621416, -0.3657217093686965, -0.19140225513344197, -0.027425781658837873, -0.4486319931274092, -1.2072169461605697, 1.1119462802015492, 0.7169013061838068, 1.092554147709969, 0.3877181592512865, -0.5077243469664451, 0.40449061501060224, 0.22132603560676464, 0.5266282050852957, -0.3950309560310908, -0.005066618020162976, 0.5397516109289167, -0.24187446680324345, -2.4180231477424297, -0.1118720542279614, 0.7891934411928745, -1.4595096578166131, -1.6641566424292111, 0.4641685548997316, 0.2039478823314363, 0.033767471863369765, -1.0739728733906564, -1.8950403385455485, 0.33690673212261363, -0.34158656775274315, -0.1877609055445049, -1.3877147132450043, -0.5621215400627225, -0.25322924851168455, 1.8159900315694717, -0.34533226510827736, 1.0356949538332458, 1.2021841404538256, -0.3927476513776488, 0.837235412643784, -1.6234430720105062, 1.243235860033378, 0.16800048711867446, 0.4391194684694063, -0.27275232834051005, 1.8786432214985485, -1.036152949055604, -0.8484408810170442, 0.3225952169549622, 1.866756994721403, -0.5069716474593075, 0.569264356614395, 0.28876108330768585, -0.14817903275171626, -1.863044870763895, 1.8120988870687478, 0.18420897831186897, 0.16052440170636006, 2.5581870205130657], \"xaxis\": \"x\", \"yaxis\": \"y\"}, {\"line\": {\"color\": \"rgba(128, 128, 128, 1.0)\", \"dash\": \"solid\", \"shape\": \"linear\", \"width\": 1.3}, \"marker\": {\"size\": 2, \"symbol\": \"circle\"}, \"mode\": \"markers\", \"name\": \"A\", \"text\": \"\", \"type\": \"scatter\", \"x\": [2.1058842826318607, -2.072359511310542, -0.3416009005606861, -0.7284799185898405, -1.2504681420191213, 0.36929949318306843, 0.30650633934084254, -0.7822857645842319, -0.40249307975607373, -0.4894825593030477, -2.0423146065028983, 0.9872944141587103, -1.0569817425686823, -1.6293020589481364, -0.3653355683975144, 0.34908380245013, -0.9930184191231534, -1.5459068965500842, -0.4303553133615934, 0.6436591668209447, 0.8434328960587413, -0.8293341375988842, -0.17665403988967887, 0.05571735134683879, 0.7712899419374236, 1.8392243290245631, -0.02887245228532163, -0.27213303990882726, -0.9293654935733069, -0.1717099056031576, 0.10629681858599707, -0.15554719806862996, -0.9964845946839231, 0.6092294141232871, 0.674977835522611, 1.1574969173759908, -0.0904536430233091, 1.340391985298189, 0.7013388590982971, 0.5803876294942691, -0.4777178856989432, -0.4783100209870064, -0.23670952507275758, -1.1222153054155775, -0.10985297273626017, -0.08838416929997245, 2.705075337277412, -1.353083311770451, -0.15123585689753194, -0.5079059934573342, 0.214658887024363, 0.0962629830423297, 1.2226846938925608, -1.3849716686465248, 2.47057224290792, -0.23622331664434187, -0.01386735927959883, 0.3146974131045074, -1.611843264935958, 0.6219892118864861, -0.25545298334001854, -0.20578715948195975, 0.5026081049701817, -0.05039893194269115, -1.451888593332071, -1.6684912330390367, 0.09839970157327095, -1.1912211957943615, 0.35544779363433393, 0.6886730916876131, 0.8392771480070627, 1.6715975529189262, 0.2645710679527483, 1.3357616401053343, -1.0479861237285117, -0.2708393114170538, -0.8665667773800374, 1.3146913254236081, 2.557788297919866, 0.12340258729703828, 1.3972074095700282, -1.400939946555493, 1.050979978143761, 0.19436735904851585, -0.20423934437480293, 1.707269574355147, -1.1200963283863776, -1.8289426096328703, -0.6902735932611638, 0.1731486516107255, -1.1238930656827142, -0.26769297907693507, -1.2963287663260568, -0.4381458613461422, 0.4622567290341809, 0.564315818327561, -0.15683622731556487, -1.906840982387614, 0.5078497775235092, -0.5281224643869874], \"xaxis\": \"x2\", \"y\": [-0.6707154253506642, -1.9500262411133285, 0.47330149330972787, 0.3220821058806944, 0.20805808808316156, -0.35109658451676334, 0.6962852968692117, -0.10784531902689991, 1.5086544793457553, -1.340268292912184, 0.7644344119612071, -0.26780932113299405, 0.1878224556979502, 1.171246085614569, 0.1851093548441989, 0.2823252049199303, 0.6932277961556744, -0.6769518643083233, -0.19354333756548917, 2.1363357457530587, 0.040971497941110074, -1.7778136621759986, 3.13702519812112, 1.5018405020580647, -1.6127044945937676, -0.03130235727745821, 0.09640237026125606, -0.5360328057285065, 0.8757207392735993, 0.28188882285582134, -0.6267644208076626, 0.522160591589084, 0.7117289724168866, -0.6437782301720258, 0.2712843372224381, 0.6033468190197396, 0.8021238883637443, -0.7702350535759206, -1.6829360015664283, 0.6731359493896302, -1.0248199572464276, 0.8986669891621416, -0.3657217093686965, -0.19140225513344197, -0.027425781658837873, -0.4486319931274092, -1.2072169461605697, 1.1119462802015492, 0.7169013061838068, 1.092554147709969, 0.3877181592512865, -0.5077243469664451, 0.40449061501060224, 0.22132603560676464, 0.5266282050852957, -0.3950309560310908, -0.005066618020162976, 0.5397516109289167, -0.24187446680324345, -2.4180231477424297, -0.1118720542279614, 0.7891934411928745, -1.4595096578166131, -1.6641566424292111, 0.4641685548997316, 0.2039478823314363, 0.033767471863369765, -1.0739728733906564, -1.8950403385455485, 0.33690673212261363, -0.34158656775274315, -0.1877609055445049, -1.3877147132450043, -0.5621215400627225, -0.25322924851168455, 1.8159900315694717, -0.34533226510827736, 1.0356949538332458, 1.2021841404538256, -0.3927476513776488, 0.837235412643784, -1.6234430720105062, 1.243235860033378, 0.16800048711867446, 0.4391194684694063, -0.27275232834051005, 1.8786432214985485, -1.036152949055604, -0.8484408810170442, 0.3225952169549622, 1.866756994721403, -0.5069716474593075, 0.569264356614395, 0.28876108330768585, -0.14817903275171626, -1.863044870763895, 1.8120988870687478, 0.18420897831186897, 0.16052440170636006, 2.5581870205130657], \"yaxis\": \"y2\"}, {\"line\": {\"color\": \"rgba(128, 128, 128, 1.0)\", \"dash\": \"solid\", \"shape\": \"linear\", \"width\": 1.3}, \"marker\": {\"size\": 2, \"symbol\": \"circle\"}, \"mode\": \"markers\", \"name\": \"A\", \"text\": \"\", \"type\": \"scatter\", \"x\": [1.537971522799382, 1.9439769437729302, -0.8780238161615508, 0.4124968127293803, 0.07466725366935067, -0.5539178888964471, 0.00817695387702504, -1.2550225340364434, -0.5412576554328449, 0.24969679728174116, 0.871816558580187, 1.020279703993287, 0.011320889793238592, -1.586461887104245, -1.8968158388241263, -0.43386820768173306, 2.198788237723471, -0.3959962886467039, 1.1110544950169268, -0.19278306304304224, 0.4744246868857774, 0.007933739243698234, 0.48047374019415817, 0.08804042706014781, -0.10125114913655739, 0.027461063717202035, 0.10859744350420796, 0.8310009965841483, 0.42059356089409355, 0.48924415850726755, 1.375976816229858, 0.9838719678559592, -1.9232567317746518, 1.0578963690677599, -0.8981540314035965, -0.9759356019915912, 1.013960747882589, 2.4638321283328626, 0.079207450843994, 0.20774520694751952, -0.33314912365440885, -0.6502008769080283, -0.718880191013, -1.1968027205800376, 0.5236593226261017, -0.3941772676509596, -0.37461732273636805, -0.3876617327812021, -0.39807203644981676, 2.328221185625653, -0.11577609704476109, -1.9346430989777617, -0.17173664488861562, 0.7799954583712938, 0.44781031095378643, -1.0944610854825378, -1.7955178763191209, -0.1338640634538081, -0.6082864970908706, -0.28877383730717926, -0.39777928940682455, -0.8379345405189532, 1.8496783025891144, -0.40858164000605113, -0.17689760919626152, 1.5795155037979336, 1.5777090111862964, 0.36523953730768677, -1.4845023123428644, 1.2766513514043718, 0.6846277469502795, 0.5605741333739809, -0.7638965721430718, 0.15265752408346378, 0.2597804224859079, 0.10295420125442119, 0.9404406111536191, 0.3235412049094401, -0.6620207833327258, 0.19073897294613015, 0.22247498881272565, -1.346912502160558, 0.710632951197657, -0.7850388641380739, -0.5622713079810008, 0.7229962130587485, -0.7339866177665963, -0.9911212919749353, -1.496459383599991, 0.5426852207290529, 0.43305187586703425, 0.4258944990145214, 1.0902255833182126, 0.22734227626973183, 0.38723354327631565, 0.3713766651381148, 0.2352304988266529, 0.16145128560357638, 0.11645425996929985, 1.7896195966317734], \"xaxis\": \"x3\", \"y\": [-0.6707154253506642, -1.9500262411133285, 0.47330149330972787, 0.3220821058806944, 0.20805808808316156, -0.35109658451676334, 0.6962852968692117, -0.10784531902689991, 1.5086544793457553, -1.340268292912184, 0.7644344119612071, -0.26780932113299405, 0.1878224556979502, 1.171246085614569, 0.1851093548441989, 0.2823252049199303, 0.6932277961556744, -0.6769518643083233, -0.19354333756548917, 2.1363357457530587, 0.040971497941110074, -1.7778136621759986, 3.13702519812112, 1.5018405020580647, -1.6127044945937676, -0.03130235727745821, 0.09640237026125606, -0.5360328057285065, 0.8757207392735993, 0.28188882285582134, -0.6267644208076626, 0.522160591589084, 0.7117289724168866, -0.6437782301720258, 0.2712843372224381, 0.6033468190197396, 0.8021238883637443, -0.7702350535759206, -1.6829360015664283, 0.6731359493896302, -1.0248199572464276, 0.8986669891621416, -0.3657217093686965, -0.19140225513344197, -0.027425781658837873, -0.4486319931274092, -1.2072169461605697, 1.1119462802015492, 0.7169013061838068, 1.092554147709969, 0.3877181592512865, -0.5077243469664451, 0.40449061501060224, 0.22132603560676464, 0.5266282050852957, -0.3950309560310908, -0.005066618020162976, 0.5397516109289167, -0.24187446680324345, -2.4180231477424297, -0.1118720542279614, 0.7891934411928745, -1.4595096578166131, -1.6641566424292111, 0.4641685548997316, 0.2039478823314363, 0.033767471863369765, -1.0739728733906564, -1.8950403385455485, 0.33690673212261363, -0.34158656775274315, -0.1877609055445049, -1.3877147132450043, -0.5621215400627225, -0.25322924851168455, 1.8159900315694717, -0.34533226510827736, 1.0356949538332458, 1.2021841404538256, -0.3927476513776488, 0.837235412643784, -1.6234430720105062, 1.243235860033378, 0.16800048711867446, 0.4391194684694063, -0.27275232834051005, 1.8786432214985485, -1.036152949055604, -0.8484408810170442, 0.3225952169549622, 1.866756994721403, -0.5069716474593075, 0.569264356614395, 0.28876108330768585, -0.14817903275171626, -1.863044870763895, 1.8120988870687478, 0.18420897831186897, 0.16052440170636006, 2.5581870205130657], \"yaxis\": \"y3\"}, {\"line\": {\"color\": \"rgba(128, 128, 128, 1.0)\", \"dash\": \"solid\", \"shape\": \"linear\", \"width\": 1.3}, \"marker\": {\"size\": 2, \"symbol\": \"circle\"}, \"mode\": \"markers\", \"name\": \"A\", \"text\": \"\", \"type\": \"scatter\", \"x\": [0.3678171232589625, -0.6123213627371522, -0.2890912740793197, 1.4416062794151767, -0.031007877389082762, 0.21066867994888752, -0.8449498446329224, 0.8394801074054848, 1.1220616783066, 0.7414951286989834, 1.7059394077087338, -2.1575183351443314, -0.27228169067396957, -0.8222735398598566, -0.37270733125911626, 1.1324930909504078, 0.7237131916502513, -0.10093454511360091, -0.8344711780529005, 0.7892018039744497, -1.1768864396408643, 0.5384395360501053, -0.8716745319027909, -0.964495783243021, -0.9510926758024836, -1.5899922140297353, 0.03947906137045445, -0.9040569632222731, 1.2573838148185117, 0.032368660363067826, 0.00979716311962585, 0.30189925388456806, -0.06836893783625991, -1.4830238059635945, 2.8260226754504756, -1.7904184283143372, -0.19147572914500896, 1.1334222316178524, 0.07218388266810098, -0.6706938157194935, -0.787369287349699, 0.33772976898905305, 0.45289164094474577, -0.6386250109337946, -0.01696530433971158, 0.11800755838890979, 1.0935731165217104, -1.2066163009956685, 1.7307802442979323, -0.694055702203546, -1.0787243593311957, 0.8449859793236317, 0.08114505951215607, 0.48200938196228577, -0.30418199598000517, 0.1107989331602753, -0.34506692295258384, 1.4772323028116827, 0.8897338055409254, -1.2970117479838066, -1.7401977008647422, 0.6947525057730943, 1.4168585094952768, -0.8682925467951569, 0.14803006581044606, 1.1113961368502225, 0.45044683161909055, 0.2387529698111168, 0.07871816418155476, -0.8585228972180073, 0.09299148979946799, 0.5575922241457948, -0.015901030931749834, 1.1928407027845176, 0.1500119442760574, 0.23881238689730214, 1.5102065154067492, 0.7186660940127791, 0.6819436465246247, -1.5507226893448807, 1.1033345618082833, 1.183767610324313, 0.8523275001657111, -0.8621163691043606, 0.7145103720522716, 1.2125641299415693, -1.3289064131476391, -0.32259983388745134, 0.3280844786260632, 0.20408059488367758, 0.552476891498723, -0.12992629702660555, -0.7248427516851038, 0.6576417736756259, 1.4753555270758771, -0.41695017859014644, -0.7185905266648366, 0.5863817062130624, -0.38997417451705346, 0.6884888981305322], \"xaxis\": \"x4\", \"y\": [-0.6707154253506642, -1.9500262411133285, 0.47330149330972787, 0.3220821058806944, 0.20805808808316156, -0.35109658451676334, 0.6962852968692117, -0.10784531902689991, 1.5086544793457553, -1.340268292912184, 0.7644344119612071, -0.26780932113299405, 0.1878224556979502, 1.171246085614569, 0.1851093548441989, 0.2823252049199303, 0.6932277961556744, -0.6769518643083233, -0.19354333756548917, 2.1363357457530587, 0.040971497941110074, -1.7778136621759986, 3.13702519812112, 1.5018405020580647, -1.6127044945937676, -0.03130235727745821, 0.09640237026125606, -0.5360328057285065, 0.8757207392735993, 0.28188882285582134, -0.6267644208076626, 0.522160591589084, 0.7117289724168866, -0.6437782301720258, 0.2712843372224381, 0.6033468190197396, 0.8021238883637443, -0.7702350535759206, -1.6829360015664283, 0.6731359493896302, -1.0248199572464276, 0.8986669891621416, -0.3657217093686965, -0.19140225513344197, -0.027425781658837873, -0.4486319931274092, -1.2072169461605697, 1.1119462802015492, 0.7169013061838068, 1.092554147709969, 0.3877181592512865, -0.5077243469664451, 0.40449061501060224, 0.22132603560676464, 0.5266282050852957, -0.3950309560310908, -0.005066618020162976, 0.5397516109289167, -0.24187446680324345, -2.4180231477424297, -0.1118720542279614, 0.7891934411928745, -1.4595096578166131, -1.6641566424292111, 0.4641685548997316, 0.2039478823314363, 0.033767471863369765, -1.0739728733906564, -1.8950403385455485, 0.33690673212261363, -0.34158656775274315, -0.1877609055445049, -1.3877147132450043, -0.5621215400627225, -0.25322924851168455, 1.8159900315694717, -0.34533226510827736, 1.0356949538332458, 1.2021841404538256, -0.3927476513776488, 0.837235412643784, -1.6234430720105062, 1.243235860033378, 0.16800048711867446, 0.4391194684694063, -0.27275232834051005, 1.8786432214985485, -1.036152949055604, -0.8484408810170442, 0.3225952169549622, 1.866756994721403, -0.5069716474593075, 0.569264356614395, 0.28876108330768585, -0.14817903275171626, -1.863044870763895, 1.8120988870687478, 0.18420897831186897, 0.16052440170636006, 2.5581870205130657], \"yaxis\": \"y4\"}, {\"line\": {\"color\": \"rgba(128, 128, 128, 1.0)\", \"dash\": \"solid\", \"shape\": \"linear\", \"width\": 1.3}, \"marker\": {\"size\": 2, \"symbol\": \"circle\"}, \"mode\": \"markers\", \"name\": \"B\", \"text\": \"\", \"type\": \"scatter\", \"x\": [-0.6707154253506642, -1.9500262411133285, 0.47330149330972787, 0.3220821058806944, 0.20805808808316156, -0.35109658451676334, 0.6962852968692117, -0.10784531902689991, 1.5086544793457553, -1.340268292912184, 0.7644344119612071, -0.26780932113299405, 0.1878224556979502, 1.171246085614569, 0.1851093548441989, 0.2823252049199303, 0.6932277961556744, -0.6769518643083233, -0.19354333756548917, 2.1363357457530587, 0.040971497941110074, -1.7778136621759986, 3.13702519812112, 1.5018405020580647, -1.6127044945937676, -0.03130235727745821, 0.09640237026125606, -0.5360328057285065, 0.8757207392735993, 0.28188882285582134, -0.6267644208076626, 0.522160591589084, 0.7117289724168866, -0.6437782301720258, 0.2712843372224381, 0.6033468190197396, 0.8021238883637443, -0.7702350535759206, -1.6829360015664283, 0.6731359493896302, -1.0248199572464276, 0.8986669891621416, -0.3657217093686965, -0.19140225513344197, -0.027425781658837873, -0.4486319931274092, -1.2072169461605697, 1.1119462802015492, 0.7169013061838068, 1.092554147709969, 0.3877181592512865, -0.5077243469664451, 0.40449061501060224, 0.22132603560676464, 0.5266282050852957, -0.3950309560310908, -0.005066618020162976, 0.5397516109289167, -0.24187446680324345, -2.4180231477424297, -0.1118720542279614, 0.7891934411928745, -1.4595096578166131, -1.6641566424292111, 0.4641685548997316, 0.2039478823314363, 0.033767471863369765, -1.0739728733906564, -1.8950403385455485, 0.33690673212261363, -0.34158656775274315, -0.1877609055445049, -1.3877147132450043, -0.5621215400627225, -0.25322924851168455, 1.8159900315694717, -0.34533226510827736, 1.0356949538332458, 1.2021841404538256, -0.3927476513776488, 0.837235412643784, -1.6234430720105062, 1.243235860033378, 0.16800048711867446, 0.4391194684694063, -0.27275232834051005, 1.8786432214985485, -1.036152949055604, -0.8484408810170442, 0.3225952169549622, 1.866756994721403, -0.5069716474593075, 0.569264356614395, 0.28876108330768585, -0.14817903275171626, -1.863044870763895, 1.8120988870687478, 0.18420897831186897, 0.16052440170636006, 2.5581870205130657], \"xaxis\": \"x5\", \"y\": [2.1058842826318607, -2.072359511310542, -0.3416009005606861, -0.7284799185898405, -1.2504681420191213, 0.36929949318306843, 0.30650633934084254, -0.7822857645842319, -0.40249307975607373, -0.4894825593030477, -2.0423146065028983, 0.9872944141587103, -1.0569817425686823, -1.6293020589481364, -0.3653355683975144, 0.34908380245013, -0.9930184191231534, -1.5459068965500842, -0.4303553133615934, 0.6436591668209447, 0.8434328960587413, -0.8293341375988842, -0.17665403988967887, 0.05571735134683879, 0.7712899419374236, 1.8392243290245631, -0.02887245228532163, -0.27213303990882726, -0.9293654935733069, -0.1717099056031576, 0.10629681858599707, -0.15554719806862996, -0.9964845946839231, 0.6092294141232871, 0.674977835522611, 1.1574969173759908, -0.0904536430233091, 1.340391985298189, 0.7013388590982971, 0.5803876294942691, -0.4777178856989432, -0.4783100209870064, -0.23670952507275758, -1.1222153054155775, -0.10985297273626017, -0.08838416929997245, 2.705075337277412, -1.353083311770451, -0.15123585689753194, -0.5079059934573342, 0.214658887024363, 0.0962629830423297, 1.2226846938925608, -1.3849716686465248, 2.47057224290792, -0.23622331664434187, -0.01386735927959883, 0.3146974131045074, -1.611843264935958, 0.6219892118864861, -0.25545298334001854, -0.20578715948195975, 0.5026081049701817, -0.05039893194269115, -1.451888593332071, -1.6684912330390367, 0.09839970157327095, -1.1912211957943615, 0.35544779363433393, 0.6886730916876131, 0.8392771480070627, 1.6715975529189262, 0.2645710679527483, 1.3357616401053343, -1.0479861237285117, -0.2708393114170538, -0.8665667773800374, 1.3146913254236081, 2.557788297919866, 0.12340258729703828, 1.3972074095700282, -1.400939946555493, 1.050979978143761, 0.19436735904851585, -0.20423934437480293, 1.707269574355147, -1.1200963283863776, -1.8289426096328703, -0.6902735932611638, 0.1731486516107255, -1.1238930656827142, -0.26769297907693507, -1.2963287663260568, -0.4381458613461422, 0.4622567290341809, 0.564315818327561, -0.15683622731556487, -1.906840982387614, 0.5078497775235092, -0.5281224643869874], \"yaxis\": \"y5\"}, {\"histfunc\": \"count\", \"histnorm\": \"\", \"marker\": {\"color\": \"rgba(55, 128, 191, 1.0)\", \"line\": {\"color\": \"#4D5663\", \"width\": 1.3}}, \"name\": \"B\", \"nbinsx\": 10, \"opacity\": 0.8, \"orientation\": \"v\", \"type\": \"histogram\", \"x\": [2.1058842826318607, -2.072359511310542, -0.3416009005606861, -0.7284799185898405, -1.2504681420191213, 0.36929949318306843, 0.30650633934084254, -0.7822857645842319, -0.40249307975607373, -0.4894825593030477, -2.0423146065028983, 0.9872944141587103, -1.0569817425686823, -1.6293020589481364, -0.3653355683975144, 0.34908380245013, -0.9930184191231534, -1.5459068965500842, -0.4303553133615934, 0.6436591668209447, 0.8434328960587413, -0.8293341375988842, -0.17665403988967887, 0.05571735134683879, 0.7712899419374236, 1.8392243290245631, -0.02887245228532163, -0.27213303990882726, -0.9293654935733069, -0.1717099056031576, 0.10629681858599707, -0.15554719806862996, -0.9964845946839231, 0.6092294141232871, 0.674977835522611, 1.1574969173759908, -0.0904536430233091, 1.340391985298189, 0.7013388590982971, 0.5803876294942691, -0.4777178856989432, -0.4783100209870064, -0.23670952507275758, -1.1222153054155775, -0.10985297273626017, -0.08838416929997245, 2.705075337277412, -1.353083311770451, -0.15123585689753194, -0.5079059934573342, 0.214658887024363, 0.0962629830423297, 1.2226846938925608, -1.3849716686465248, 2.47057224290792, -0.23622331664434187, -0.01386735927959883, 0.3146974131045074, -1.611843264935958, 0.6219892118864861, -0.25545298334001854, -0.20578715948195975, 0.5026081049701817, -0.05039893194269115, -1.451888593332071, -1.6684912330390367, 0.09839970157327095, -1.1912211957943615, 0.35544779363433393, 0.6886730916876131, 0.8392771480070627, 1.6715975529189262, 0.2645710679527483, 1.3357616401053343, -1.0479861237285117, -0.2708393114170538, -0.8665667773800374, 1.3146913254236081, 2.557788297919866, 0.12340258729703828, 1.3972074095700282, -1.400939946555493, 1.050979978143761, 0.19436735904851585, -0.20423934437480293, 1.707269574355147, -1.1200963283863776, -1.8289426096328703, -0.6902735932611638, 0.1731486516107255, -1.1238930656827142, -0.26769297907693507, -1.2963287663260568, -0.4381458613461422, 0.4622567290341809, 0.564315818327561, -0.15683622731556487, -1.906840982387614, 0.5078497775235092, -0.5281224643869874], \"xaxis\": \"x6\", \"yaxis\": \"y6\"}, {\"line\": {\"color\": \"rgba(128, 128, 128, 1.0)\", \"dash\": \"solid\", \"shape\": \"linear\", \"width\": 1.3}, \"marker\": {\"size\": 2, \"symbol\": \"circle\"}, \"mode\": \"markers\", \"name\": \"B\", \"text\": \"\", \"type\": \"scatter\", \"x\": [1.537971522799382, 1.9439769437729302, -0.8780238161615508, 0.4124968127293803, 0.07466725366935067, -0.5539178888964471, 0.00817695387702504, -1.2550225340364434, -0.5412576554328449, 0.24969679728174116, 0.871816558580187, 1.020279703993287, 0.011320889793238592, -1.586461887104245, -1.8968158388241263, -0.43386820768173306, 2.198788237723471, -0.3959962886467039, 1.1110544950169268, -0.19278306304304224, 0.4744246868857774, 0.007933739243698234, 0.48047374019415817, 0.08804042706014781, -0.10125114913655739, 0.027461063717202035, 0.10859744350420796, 0.8310009965841483, 0.42059356089409355, 0.48924415850726755, 1.375976816229858, 0.9838719678559592, -1.9232567317746518, 1.0578963690677599, -0.8981540314035965, -0.9759356019915912, 1.013960747882589, 2.4638321283328626, 0.079207450843994, 0.20774520694751952, -0.33314912365440885, -0.6502008769080283, -0.718880191013, -1.1968027205800376, 0.5236593226261017, -0.3941772676509596, -0.37461732273636805, -0.3876617327812021, -0.39807203644981676, 2.328221185625653, -0.11577609704476109, -1.9346430989777617, -0.17173664488861562, 0.7799954583712938, 0.44781031095378643, -1.0944610854825378, -1.7955178763191209, -0.1338640634538081, -0.6082864970908706, -0.28877383730717926, -0.39777928940682455, -0.8379345405189532, 1.8496783025891144, -0.40858164000605113, -0.17689760919626152, 1.5795155037979336, 1.5777090111862964, 0.36523953730768677, -1.4845023123428644, 1.2766513514043718, 0.6846277469502795, 0.5605741333739809, -0.7638965721430718, 0.15265752408346378, 0.2597804224859079, 0.10295420125442119, 0.9404406111536191, 0.3235412049094401, -0.6620207833327258, 0.19073897294613015, 0.22247498881272565, -1.346912502160558, 0.710632951197657, -0.7850388641380739, -0.5622713079810008, 0.7229962130587485, -0.7339866177665963, -0.9911212919749353, -1.496459383599991, 0.5426852207290529, 0.43305187586703425, 0.4258944990145214, 1.0902255833182126, 0.22734227626973183, 0.38723354327631565, 0.3713766651381148, 0.2352304988266529, 0.16145128560357638, 0.11645425996929985, 1.7896195966317734], \"xaxis\": \"x7\", \"y\": [2.1058842826318607, -2.072359511310542, -0.3416009005606861, -0.7284799185898405, -1.2504681420191213, 0.36929949318306843, 0.30650633934084254, -0.7822857645842319, -0.40249307975607373, -0.4894825593030477, -2.0423146065028983, 0.9872944141587103, -1.0569817425686823, -1.6293020589481364, -0.3653355683975144, 0.34908380245013, -0.9930184191231534, -1.5459068965500842, -0.4303553133615934, 0.6436591668209447, 0.8434328960587413, -0.8293341375988842, -0.17665403988967887, 0.05571735134683879, 0.7712899419374236, 1.8392243290245631, -0.02887245228532163, -0.27213303990882726, -0.9293654935733069, -0.1717099056031576, 0.10629681858599707, -0.15554719806862996, -0.9964845946839231, 0.6092294141232871, 0.674977835522611, 1.1574969173759908, -0.0904536430233091, 1.340391985298189, 0.7013388590982971, 0.5803876294942691, -0.4777178856989432, -0.4783100209870064, -0.23670952507275758, -1.1222153054155775, -0.10985297273626017, -0.08838416929997245, 2.705075337277412, -1.353083311770451, -0.15123585689753194, -0.5079059934573342, 0.214658887024363, 0.0962629830423297, 1.2226846938925608, -1.3849716686465248, 2.47057224290792, -0.23622331664434187, -0.01386735927959883, 0.3146974131045074, -1.611843264935958, 0.6219892118864861, -0.25545298334001854, -0.20578715948195975, 0.5026081049701817, -0.05039893194269115, -1.451888593332071, -1.6684912330390367, 0.09839970157327095, -1.1912211957943615, 0.35544779363433393, 0.6886730916876131, 0.8392771480070627, 1.6715975529189262, 0.2645710679527483, 1.3357616401053343, -1.0479861237285117, -0.2708393114170538, -0.8665667773800374, 1.3146913254236081, 2.557788297919866, 0.12340258729703828, 1.3972074095700282, -1.400939946555493, 1.050979978143761, 0.19436735904851585, -0.20423934437480293, 1.707269574355147, -1.1200963283863776, -1.8289426096328703, -0.6902735932611638, 0.1731486516107255, -1.1238930656827142, -0.26769297907693507, -1.2963287663260568, -0.4381458613461422, 0.4622567290341809, 0.564315818327561, -0.15683622731556487, -1.906840982387614, 0.5078497775235092, -0.5281224643869874], \"yaxis\": \"y7\"}, {\"line\": {\"color\": \"rgba(128, 128, 128, 1.0)\", \"dash\": \"solid\", \"shape\": \"linear\", \"width\": 1.3}, \"marker\": {\"size\": 2, \"symbol\": \"circle\"}, \"mode\": \"markers\", \"name\": \"B\", \"text\": \"\", \"type\": \"scatter\", \"x\": [0.3678171232589625, -0.6123213627371522, -0.2890912740793197, 1.4416062794151767, -0.031007877389082762, 0.21066867994888752, -0.8449498446329224, 0.8394801074054848, 1.1220616783066, 0.7414951286989834, 1.7059394077087338, -2.1575183351443314, -0.27228169067396957, -0.8222735398598566, -0.37270733125911626, 1.1324930909504078, 0.7237131916502513, -0.10093454511360091, -0.8344711780529005, 0.7892018039744497, -1.1768864396408643, 0.5384395360501053, -0.8716745319027909, -0.964495783243021, -0.9510926758024836, -1.5899922140297353, 0.03947906137045445, -0.9040569632222731, 1.2573838148185117, 0.032368660363067826, 0.00979716311962585, 0.30189925388456806, -0.06836893783625991, -1.4830238059635945, 2.8260226754504756, -1.7904184283143372, -0.19147572914500896, 1.1334222316178524, 0.07218388266810098, -0.6706938157194935, -0.787369287349699, 0.33772976898905305, 0.45289164094474577, -0.6386250109337946, -0.01696530433971158, 0.11800755838890979, 1.0935731165217104, -1.2066163009956685, 1.7307802442979323, -0.694055702203546, -1.0787243593311957, 0.8449859793236317, 0.08114505951215607, 0.48200938196228577, -0.30418199598000517, 0.1107989331602753, -0.34506692295258384, 1.4772323028116827, 0.8897338055409254, -1.2970117479838066, -1.7401977008647422, 0.6947525057730943, 1.4168585094952768, -0.8682925467951569, 0.14803006581044606, 1.1113961368502225, 0.45044683161909055, 0.2387529698111168, 0.07871816418155476, -0.8585228972180073, 0.09299148979946799, 0.5575922241457948, -0.015901030931749834, 1.1928407027845176, 0.1500119442760574, 0.23881238689730214, 1.5102065154067492, 0.7186660940127791, 0.6819436465246247, -1.5507226893448807, 1.1033345618082833, 1.183767610324313, 0.8523275001657111, -0.8621163691043606, 0.7145103720522716, 1.2125641299415693, -1.3289064131476391, -0.32259983388745134, 0.3280844786260632, 0.20408059488367758, 0.552476891498723, -0.12992629702660555, -0.7248427516851038, 0.6576417736756259, 1.4753555270758771, -0.41695017859014644, -0.7185905266648366, 0.5863817062130624, -0.38997417451705346, 0.6884888981305322], \"xaxis\": \"x8\", \"y\": [2.1058842826318607, -2.072359511310542, -0.3416009005606861, -0.7284799185898405, -1.2504681420191213, 0.36929949318306843, 0.30650633934084254, -0.7822857645842319, -0.40249307975607373, -0.4894825593030477, -2.0423146065028983, 0.9872944141587103, -1.0569817425686823, -1.6293020589481364, -0.3653355683975144, 0.34908380245013, -0.9930184191231534, -1.5459068965500842, -0.4303553133615934, 0.6436591668209447, 0.8434328960587413, -0.8293341375988842, -0.17665403988967887, 0.05571735134683879, 0.7712899419374236, 1.8392243290245631, -0.02887245228532163, -0.27213303990882726, -0.9293654935733069, -0.1717099056031576, 0.10629681858599707, -0.15554719806862996, -0.9964845946839231, 0.6092294141232871, 0.674977835522611, 1.1574969173759908, -0.0904536430233091, 1.340391985298189, 0.7013388590982971, 0.5803876294942691, -0.4777178856989432, -0.4783100209870064, -0.23670952507275758, -1.1222153054155775, -0.10985297273626017, -0.08838416929997245, 2.705075337277412, -1.353083311770451, -0.15123585689753194, -0.5079059934573342, 0.214658887024363, 0.0962629830423297, 1.2226846938925608, -1.3849716686465248, 2.47057224290792, -0.23622331664434187, -0.01386735927959883, 0.3146974131045074, -1.611843264935958, 0.6219892118864861, -0.25545298334001854, -0.20578715948195975, 0.5026081049701817, -0.05039893194269115, -1.451888593332071, -1.6684912330390367, 0.09839970157327095, -1.1912211957943615, 0.35544779363433393, 0.6886730916876131, 0.8392771480070627, 1.6715975529189262, 0.2645710679527483, 1.3357616401053343, -1.0479861237285117, -0.2708393114170538, -0.8665667773800374, 1.3146913254236081, 2.557788297919866, 0.12340258729703828, 1.3972074095700282, -1.400939946555493, 1.050979978143761, 0.19436735904851585, -0.20423934437480293, 1.707269574355147, -1.1200963283863776, -1.8289426096328703, -0.6902735932611638, 0.1731486516107255, -1.1238930656827142, -0.26769297907693507, -1.2963287663260568, -0.4381458613461422, 0.4622567290341809, 0.564315818327561, -0.15683622731556487, -1.906840982387614, 0.5078497775235092, -0.5281224643869874], \"yaxis\": \"y8\"}, {\"line\": {\"color\": \"rgba(128, 128, 128, 1.0)\", \"dash\": \"solid\", \"shape\": \"linear\", \"width\": 1.3}, \"marker\": {\"size\": 2, \"symbol\": \"circle\"}, \"mode\": \"markers\", \"name\": \"C\", \"text\": \"\", \"type\": \"scatter\", \"x\": [-0.6707154253506642, -1.9500262411133285, 0.47330149330972787, 0.3220821058806944, 0.20805808808316156, -0.35109658451676334, 0.6962852968692117, -0.10784531902689991, 1.5086544793457553, -1.340268292912184, 0.7644344119612071, -0.26780932113299405, 0.1878224556979502, 1.171246085614569, 0.1851093548441989, 0.2823252049199303, 0.6932277961556744, -0.6769518643083233, -0.19354333756548917, 2.1363357457530587, 0.040971497941110074, -1.7778136621759986, 3.13702519812112, 1.5018405020580647, -1.6127044945937676, -0.03130235727745821, 0.09640237026125606, -0.5360328057285065, 0.8757207392735993, 0.28188882285582134, -0.6267644208076626, 0.522160591589084, 0.7117289724168866, -0.6437782301720258, 0.2712843372224381, 0.6033468190197396, 0.8021238883637443, -0.7702350535759206, -1.6829360015664283, 0.6731359493896302, -1.0248199572464276, 0.8986669891621416, -0.3657217093686965, -0.19140225513344197, -0.027425781658837873, -0.4486319931274092, -1.2072169461605697, 1.1119462802015492, 0.7169013061838068, 1.092554147709969, 0.3877181592512865, -0.5077243469664451, 0.40449061501060224, 0.22132603560676464, 0.5266282050852957, -0.3950309560310908, -0.005066618020162976, 0.5397516109289167, -0.24187446680324345, -2.4180231477424297, -0.1118720542279614, 0.7891934411928745, -1.4595096578166131, -1.6641566424292111, 0.4641685548997316, 0.2039478823314363, 0.033767471863369765, -1.0739728733906564, -1.8950403385455485, 0.33690673212261363, -0.34158656775274315, -0.1877609055445049, -1.3877147132450043, -0.5621215400627225, -0.25322924851168455, 1.8159900315694717, -0.34533226510827736, 1.0356949538332458, 1.2021841404538256, -0.3927476513776488, 0.837235412643784, -1.6234430720105062, 1.243235860033378, 0.16800048711867446, 0.4391194684694063, -0.27275232834051005, 1.8786432214985485, -1.036152949055604, -0.8484408810170442, 0.3225952169549622, 1.866756994721403, -0.5069716474593075, 0.569264356614395, 0.28876108330768585, -0.14817903275171626, -1.863044870763895, 1.8120988870687478, 0.18420897831186897, 0.16052440170636006, 2.5581870205130657], \"xaxis\": \"x9\", \"y\": [1.537971522799382, 1.9439769437729302, -0.8780238161615508, 0.4124968127293803, 0.07466725366935067, -0.5539178888964471, 0.00817695387702504, -1.2550225340364434, -0.5412576554328449, 0.24969679728174116, 0.871816558580187, 1.020279703993287, 0.011320889793238592, -1.586461887104245, -1.8968158388241263, -0.43386820768173306, 2.198788237723471, -0.3959962886467039, 1.1110544950169268, -0.19278306304304224, 0.4744246868857774, 0.007933739243698234, 0.48047374019415817, 0.08804042706014781, -0.10125114913655739, 0.027461063717202035, 0.10859744350420796, 0.8310009965841483, 0.42059356089409355, 0.48924415850726755, 1.375976816229858, 0.9838719678559592, -1.9232567317746518, 1.0578963690677599, -0.8981540314035965, -0.9759356019915912, 1.013960747882589, 2.4638321283328626, 0.079207450843994, 0.20774520694751952, -0.33314912365440885, -0.6502008769080283, -0.718880191013, -1.1968027205800376, 0.5236593226261017, -0.3941772676509596, -0.37461732273636805, -0.3876617327812021, -0.39807203644981676, 2.328221185625653, -0.11577609704476109, -1.9346430989777617, -0.17173664488861562, 0.7799954583712938, 0.44781031095378643, -1.0944610854825378, -1.7955178763191209, -0.1338640634538081, -0.6082864970908706, -0.28877383730717926, -0.39777928940682455, -0.8379345405189532, 1.8496783025891144, -0.40858164000605113, -0.17689760919626152, 1.5795155037979336, 1.5777090111862964, 0.36523953730768677, -1.4845023123428644, 1.2766513514043718, 0.6846277469502795, 0.5605741333739809, -0.7638965721430718, 0.15265752408346378, 0.2597804224859079, 0.10295420125442119, 0.9404406111536191, 0.3235412049094401, -0.6620207833327258, 0.19073897294613015, 0.22247498881272565, -1.346912502160558, 0.710632951197657, -0.7850388641380739, -0.5622713079810008, 0.7229962130587485, -0.7339866177665963, -0.9911212919749353, -1.496459383599991, 0.5426852207290529, 0.43305187586703425, 0.4258944990145214, 1.0902255833182126, 0.22734227626973183, 0.38723354327631565, 0.3713766651381148, 0.2352304988266529, 0.16145128560357638, 0.11645425996929985, 1.7896195966317734], \"yaxis\": \"y9\"}, {\"line\": {\"color\": \"rgba(128, 128, 128, 1.0)\", \"dash\": \"solid\", \"shape\": \"linear\", \"width\": 1.3}, \"marker\": {\"size\": 2, \"symbol\": \"circle\"}, \"mode\": \"markers\", \"name\": \"C\", \"text\": \"\", \"type\": \"scatter\", \"x\": [2.1058842826318607, -2.072359511310542, -0.3416009005606861, -0.7284799185898405, -1.2504681420191213, 0.36929949318306843, 0.30650633934084254, -0.7822857645842319, -0.40249307975607373, -0.4894825593030477, -2.0423146065028983, 0.9872944141587103, -1.0569817425686823, -1.6293020589481364, -0.3653355683975144, 0.34908380245013, -0.9930184191231534, -1.5459068965500842, -0.4303553133615934, 0.6436591668209447, 0.8434328960587413, -0.8293341375988842, -0.17665403988967887, 0.05571735134683879, 0.7712899419374236, 1.8392243290245631, -0.02887245228532163, -0.27213303990882726, -0.9293654935733069, -0.1717099056031576, 0.10629681858599707, -0.15554719806862996, -0.9964845946839231, 0.6092294141232871, 0.674977835522611, 1.1574969173759908, -0.0904536430233091, 1.340391985298189, 0.7013388590982971, 0.5803876294942691, -0.4777178856989432, -0.4783100209870064, -0.23670952507275758, -1.1222153054155775, -0.10985297273626017, -0.08838416929997245, 2.705075337277412, -1.353083311770451, -0.15123585689753194, -0.5079059934573342, 0.214658887024363, 0.0962629830423297, 1.2226846938925608, -1.3849716686465248, 2.47057224290792, -0.23622331664434187, -0.01386735927959883, 0.3146974131045074, -1.611843264935958, 0.6219892118864861, -0.25545298334001854, -0.20578715948195975, 0.5026081049701817, -0.05039893194269115, -1.451888593332071, -1.6684912330390367, 0.09839970157327095, -1.1912211957943615, 0.35544779363433393, 0.6886730916876131, 0.8392771480070627, 1.6715975529189262, 0.2645710679527483, 1.3357616401053343, -1.0479861237285117, -0.2708393114170538, -0.8665667773800374, 1.3146913254236081, 2.557788297919866, 0.12340258729703828, 1.3972074095700282, -1.400939946555493, 1.050979978143761, 0.19436735904851585, -0.20423934437480293, 1.707269574355147, -1.1200963283863776, -1.8289426096328703, -0.6902735932611638, 0.1731486516107255, -1.1238930656827142, -0.26769297907693507, -1.2963287663260568, -0.4381458613461422, 0.4622567290341809, 0.564315818327561, -0.15683622731556487, -1.906840982387614, 0.5078497775235092, -0.5281224643869874], \"xaxis\": \"x10\", \"y\": [1.537971522799382, 1.9439769437729302, -0.8780238161615508, 0.4124968127293803, 0.07466725366935067, -0.5539178888964471, 0.00817695387702504, -1.2550225340364434, -0.5412576554328449, 0.24969679728174116, 0.871816558580187, 1.020279703993287, 0.011320889793238592, -1.586461887104245, -1.8968158388241263, -0.43386820768173306, 2.198788237723471, -0.3959962886467039, 1.1110544950169268, -0.19278306304304224, 0.4744246868857774, 0.007933739243698234, 0.48047374019415817, 0.08804042706014781, -0.10125114913655739, 0.027461063717202035, 0.10859744350420796, 0.8310009965841483, 0.42059356089409355, 0.48924415850726755, 1.375976816229858, 0.9838719678559592, -1.9232567317746518, 1.0578963690677599, -0.8981540314035965, -0.9759356019915912, 1.013960747882589, 2.4638321283328626, 0.079207450843994, 0.20774520694751952, -0.33314912365440885, -0.6502008769080283, -0.718880191013, -1.1968027205800376, 0.5236593226261017, -0.3941772676509596, -0.37461732273636805, -0.3876617327812021, -0.39807203644981676, 2.328221185625653, -0.11577609704476109, -1.9346430989777617, -0.17173664488861562, 0.7799954583712938, 0.44781031095378643, -1.0944610854825378, -1.7955178763191209, -0.1338640634538081, -0.6082864970908706, -0.28877383730717926, -0.39777928940682455, -0.8379345405189532, 1.8496783025891144, -0.40858164000605113, -0.17689760919626152, 1.5795155037979336, 1.5777090111862964, 0.36523953730768677, -1.4845023123428644, 1.2766513514043718, 0.6846277469502795, 0.5605741333739809, -0.7638965721430718, 0.15265752408346378, 0.2597804224859079, 0.10295420125442119, 0.9404406111536191, 0.3235412049094401, -0.6620207833327258, 0.19073897294613015, 0.22247498881272565, -1.346912502160558, 0.710632951197657, -0.7850388641380739, -0.5622713079810008, 0.7229962130587485, -0.7339866177665963, -0.9911212919749353, -1.496459383599991, 0.5426852207290529, 0.43305187586703425, 0.4258944990145214, 1.0902255833182126, 0.22734227626973183, 0.38723354327631565, 0.3713766651381148, 0.2352304988266529, 0.16145128560357638, 0.11645425996929985, 1.7896195966317734], \"yaxis\": \"y10\"}, {\"histfunc\": \"count\", \"histnorm\": \"\", \"marker\": {\"color\": \"rgba(50, 171, 96, 1.0)\", \"line\": {\"color\": \"#4D5663\", \"width\": 1.3}}, \"name\": \"C\", \"nbinsx\": 10, \"opacity\": 0.8, \"orientation\": \"v\", \"type\": \"histogram\", \"x\": [1.537971522799382, 1.9439769437729302, -0.8780238161615508, 0.4124968127293803, 0.07466725366935067, -0.5539178888964471, 0.00817695387702504, -1.2550225340364434, -0.5412576554328449, 0.24969679728174116, 0.871816558580187, 1.020279703993287, 0.011320889793238592, -1.586461887104245, -1.8968158388241263, -0.43386820768173306, 2.198788237723471, -0.3959962886467039, 1.1110544950169268, -0.19278306304304224, 0.4744246868857774, 0.007933739243698234, 0.48047374019415817, 0.08804042706014781, -0.10125114913655739, 0.027461063717202035, 0.10859744350420796, 0.8310009965841483, 0.42059356089409355, 0.48924415850726755, 1.375976816229858, 0.9838719678559592, -1.9232567317746518, 1.0578963690677599, -0.8981540314035965, -0.9759356019915912, 1.013960747882589, 2.4638321283328626, 0.079207450843994, 0.20774520694751952, -0.33314912365440885, -0.6502008769080283, -0.718880191013, -1.1968027205800376, 0.5236593226261017, -0.3941772676509596, -0.37461732273636805, -0.3876617327812021, -0.39807203644981676, 2.328221185625653, -0.11577609704476109, -1.9346430989777617, -0.17173664488861562, 0.7799954583712938, 0.44781031095378643, -1.0944610854825378, -1.7955178763191209, -0.1338640634538081, -0.6082864970908706, -0.28877383730717926, -0.39777928940682455, -0.8379345405189532, 1.8496783025891144, -0.40858164000605113, -0.17689760919626152, 1.5795155037979336, 1.5777090111862964, 0.36523953730768677, -1.4845023123428644, 1.2766513514043718, 0.6846277469502795, 0.5605741333739809, -0.7638965721430718, 0.15265752408346378, 0.2597804224859079, 0.10295420125442119, 0.9404406111536191, 0.3235412049094401, -0.6620207833327258, 0.19073897294613015, 0.22247498881272565, -1.346912502160558, 0.710632951197657, -0.7850388641380739, -0.5622713079810008, 0.7229962130587485, -0.7339866177665963, -0.9911212919749353, -1.496459383599991, 0.5426852207290529, 0.43305187586703425, 0.4258944990145214, 1.0902255833182126, 0.22734227626973183, 0.38723354327631565, 0.3713766651381148, 0.2352304988266529, 0.16145128560357638, 0.11645425996929985, 1.7896195966317734], \"xaxis\": \"x11\", \"yaxis\": \"y11\"}, {\"line\": {\"color\": \"rgba(128, 128, 128, 1.0)\", \"dash\": \"solid\", \"shape\": \"linear\", \"width\": 1.3}, \"marker\": {\"size\": 2, \"symbol\": \"circle\"}, \"mode\": \"markers\", \"name\": \"C\", \"text\": \"\", \"type\": \"scatter\", \"x\": [0.3678171232589625, -0.6123213627371522, -0.2890912740793197, 1.4416062794151767, -0.031007877389082762, 0.21066867994888752, -0.8449498446329224, 0.8394801074054848, 1.1220616783066, 0.7414951286989834, 1.7059394077087338, -2.1575183351443314, -0.27228169067396957, -0.8222735398598566, -0.37270733125911626, 1.1324930909504078, 0.7237131916502513, -0.10093454511360091, -0.8344711780529005, 0.7892018039744497, -1.1768864396408643, 0.5384395360501053, -0.8716745319027909, -0.964495783243021, -0.9510926758024836, -1.5899922140297353, 0.03947906137045445, -0.9040569632222731, 1.2573838148185117, 0.032368660363067826, 0.00979716311962585, 0.30189925388456806, -0.06836893783625991, -1.4830238059635945, 2.8260226754504756, -1.7904184283143372, -0.19147572914500896, 1.1334222316178524, 0.07218388266810098, -0.6706938157194935, -0.787369287349699, 0.33772976898905305, 0.45289164094474577, -0.6386250109337946, -0.01696530433971158, 0.11800755838890979, 1.0935731165217104, -1.2066163009956685, 1.7307802442979323, -0.694055702203546, -1.0787243593311957, 0.8449859793236317, 0.08114505951215607, 0.48200938196228577, -0.30418199598000517, 0.1107989331602753, -0.34506692295258384, 1.4772323028116827, 0.8897338055409254, -1.2970117479838066, -1.7401977008647422, 0.6947525057730943, 1.4168585094952768, -0.8682925467951569, 0.14803006581044606, 1.1113961368502225, 0.45044683161909055, 0.2387529698111168, 0.07871816418155476, -0.8585228972180073, 0.09299148979946799, 0.5575922241457948, -0.015901030931749834, 1.1928407027845176, 0.1500119442760574, 0.23881238689730214, 1.5102065154067492, 0.7186660940127791, 0.6819436465246247, -1.5507226893448807, 1.1033345618082833, 1.183767610324313, 0.8523275001657111, -0.8621163691043606, 0.7145103720522716, 1.2125641299415693, -1.3289064131476391, -0.32259983388745134, 0.3280844786260632, 0.20408059488367758, 0.552476891498723, -0.12992629702660555, -0.7248427516851038, 0.6576417736756259, 1.4753555270758771, -0.41695017859014644, -0.7185905266648366, 0.5863817062130624, -0.38997417451705346, 0.6884888981305322], \"xaxis\": \"x12\", \"y\": [1.537971522799382, 1.9439769437729302, -0.8780238161615508, 0.4124968127293803, 0.07466725366935067, -0.5539178888964471, 0.00817695387702504, -1.2550225340364434, -0.5412576554328449, 0.24969679728174116, 0.871816558580187, 1.020279703993287, 0.011320889793238592, -1.586461887104245, -1.8968158388241263, -0.43386820768173306, 2.198788237723471, -0.3959962886467039, 1.1110544950169268, -0.19278306304304224, 0.4744246868857774, 0.007933739243698234, 0.48047374019415817, 0.08804042706014781, -0.10125114913655739, 0.027461063717202035, 0.10859744350420796, 0.8310009965841483, 0.42059356089409355, 0.48924415850726755, 1.375976816229858, 0.9838719678559592, -1.9232567317746518, 1.0578963690677599, -0.8981540314035965, -0.9759356019915912, 1.013960747882589, 2.4638321283328626, 0.079207450843994, 0.20774520694751952, -0.33314912365440885, -0.6502008769080283, -0.718880191013, -1.1968027205800376, 0.5236593226261017, -0.3941772676509596, -0.37461732273636805, -0.3876617327812021, -0.39807203644981676, 2.328221185625653, -0.11577609704476109, -1.9346430989777617, -0.17173664488861562, 0.7799954583712938, 0.44781031095378643, -1.0944610854825378, -1.7955178763191209, -0.1338640634538081, -0.6082864970908706, -0.28877383730717926, -0.39777928940682455, -0.8379345405189532, 1.8496783025891144, -0.40858164000605113, -0.17689760919626152, 1.5795155037979336, 1.5777090111862964, 0.36523953730768677, -1.4845023123428644, 1.2766513514043718, 0.6846277469502795, 0.5605741333739809, -0.7638965721430718, 0.15265752408346378, 0.2597804224859079, 0.10295420125442119, 0.9404406111536191, 0.3235412049094401, -0.6620207833327258, 0.19073897294613015, 0.22247498881272565, -1.346912502160558, 0.710632951197657, -0.7850388641380739, -0.5622713079810008, 0.7229962130587485, -0.7339866177665963, -0.9911212919749353, -1.496459383599991, 0.5426852207290529, 0.43305187586703425, 0.4258944990145214, 1.0902255833182126, 0.22734227626973183, 0.38723354327631565, 0.3713766651381148, 0.2352304988266529, 0.16145128560357638, 0.11645425996929985, 1.7896195966317734], \"yaxis\": \"y12\"}, {\"line\": {\"color\": \"rgba(128, 128, 128, 1.0)\", \"dash\": \"solid\", \"shape\": \"linear\", \"width\": 1.3}, \"marker\": {\"size\": 2, \"symbol\": \"circle\"}, \"mode\": \"markers\", \"name\": \"D\", \"text\": \"\", \"type\": \"scatter\", \"x\": [-0.6707154253506642, -1.9500262411133285, 0.47330149330972787, 0.3220821058806944, 0.20805808808316156, -0.35109658451676334, 0.6962852968692117, -0.10784531902689991, 1.5086544793457553, -1.340268292912184, 0.7644344119612071, -0.26780932113299405, 0.1878224556979502, 1.171246085614569, 0.1851093548441989, 0.2823252049199303, 0.6932277961556744, -0.6769518643083233, -0.19354333756548917, 2.1363357457530587, 0.040971497941110074, -1.7778136621759986, 3.13702519812112, 1.5018405020580647, -1.6127044945937676, -0.03130235727745821, 0.09640237026125606, -0.5360328057285065, 0.8757207392735993, 0.28188882285582134, -0.6267644208076626, 0.522160591589084, 0.7117289724168866, -0.6437782301720258, 0.2712843372224381, 0.6033468190197396, 0.8021238883637443, -0.7702350535759206, -1.6829360015664283, 0.6731359493896302, -1.0248199572464276, 0.8986669891621416, -0.3657217093686965, -0.19140225513344197, -0.027425781658837873, -0.4486319931274092, -1.2072169461605697, 1.1119462802015492, 0.7169013061838068, 1.092554147709969, 0.3877181592512865, -0.5077243469664451, 0.40449061501060224, 0.22132603560676464, 0.5266282050852957, -0.3950309560310908, -0.005066618020162976, 0.5397516109289167, -0.24187446680324345, -2.4180231477424297, -0.1118720542279614, 0.7891934411928745, -1.4595096578166131, -1.6641566424292111, 0.4641685548997316, 0.2039478823314363, 0.033767471863369765, -1.0739728733906564, -1.8950403385455485, 0.33690673212261363, -0.34158656775274315, -0.1877609055445049, -1.3877147132450043, -0.5621215400627225, -0.25322924851168455, 1.8159900315694717, -0.34533226510827736, 1.0356949538332458, 1.2021841404538256, -0.3927476513776488, 0.837235412643784, -1.6234430720105062, 1.243235860033378, 0.16800048711867446, 0.4391194684694063, -0.27275232834051005, 1.8786432214985485, -1.036152949055604, -0.8484408810170442, 0.3225952169549622, 1.866756994721403, -0.5069716474593075, 0.569264356614395, 0.28876108330768585, -0.14817903275171626, -1.863044870763895, 1.8120988870687478, 0.18420897831186897, 0.16052440170636006, 2.5581870205130657], \"xaxis\": \"x13\", \"y\": [0.3678171232589625, -0.6123213627371522, -0.2890912740793197, 1.4416062794151767, -0.031007877389082762, 0.21066867994888752, -0.8449498446329224, 0.8394801074054848, 1.1220616783066, 0.7414951286989834, 1.7059394077087338, -2.1575183351443314, -0.27228169067396957, -0.8222735398598566, -0.37270733125911626, 1.1324930909504078, 0.7237131916502513, -0.10093454511360091, -0.8344711780529005, 0.7892018039744497, -1.1768864396408643, 0.5384395360501053, -0.8716745319027909, -0.964495783243021, -0.9510926758024836, -1.5899922140297353, 0.03947906137045445, -0.9040569632222731, 1.2573838148185117, 0.032368660363067826, 0.00979716311962585, 0.30189925388456806, -0.06836893783625991, -1.4830238059635945, 2.8260226754504756, -1.7904184283143372, -0.19147572914500896, 1.1334222316178524, 0.07218388266810098, -0.6706938157194935, -0.787369287349699, 0.33772976898905305, 0.45289164094474577, -0.6386250109337946, -0.01696530433971158, 0.11800755838890979, 1.0935731165217104, -1.2066163009956685, 1.7307802442979323, -0.694055702203546, -1.0787243593311957, 0.8449859793236317, 0.08114505951215607, 0.48200938196228577, -0.30418199598000517, 0.1107989331602753, -0.34506692295258384, 1.4772323028116827, 0.8897338055409254, -1.2970117479838066, -1.7401977008647422, 0.6947525057730943, 1.4168585094952768, -0.8682925467951569, 0.14803006581044606, 1.1113961368502225, 0.45044683161909055, 0.2387529698111168, 0.07871816418155476, -0.8585228972180073, 0.09299148979946799, 0.5575922241457948, -0.015901030931749834, 1.1928407027845176, 0.1500119442760574, 0.23881238689730214, 1.5102065154067492, 0.7186660940127791, 0.6819436465246247, -1.5507226893448807, 1.1033345618082833, 1.183767610324313, 0.8523275001657111, -0.8621163691043606, 0.7145103720522716, 1.2125641299415693, -1.3289064131476391, -0.32259983388745134, 0.3280844786260632, 0.20408059488367758, 0.552476891498723, -0.12992629702660555, -0.7248427516851038, 0.6576417736756259, 1.4753555270758771, -0.41695017859014644, -0.7185905266648366, 0.5863817062130624, -0.38997417451705346, 0.6884888981305322], \"yaxis\": \"y13\"}, {\"line\": {\"color\": \"rgba(128, 128, 128, 1.0)\", \"dash\": \"solid\", \"shape\": \"linear\", \"width\": 1.3}, \"marker\": {\"size\": 2, \"symbol\": \"circle\"}, \"mode\": \"markers\", \"name\": \"D\", \"text\": \"\", \"type\": \"scatter\", \"x\": [2.1058842826318607, -2.072359511310542, -0.3416009005606861, -0.7284799185898405, -1.2504681420191213, 0.36929949318306843, 0.30650633934084254, -0.7822857645842319, -0.40249307975607373, -0.4894825593030477, -2.0423146065028983, 0.9872944141587103, -1.0569817425686823, -1.6293020589481364, -0.3653355683975144, 0.34908380245013, -0.9930184191231534, -1.5459068965500842, -0.4303553133615934, 0.6436591668209447, 0.8434328960587413, -0.8293341375988842, -0.17665403988967887, 0.05571735134683879, 0.7712899419374236, 1.8392243290245631, -0.02887245228532163, -0.27213303990882726, -0.9293654935733069, -0.1717099056031576, 0.10629681858599707, -0.15554719806862996, -0.9964845946839231, 0.6092294141232871, 0.674977835522611, 1.1574969173759908, -0.0904536430233091, 1.340391985298189, 0.7013388590982971, 0.5803876294942691, -0.4777178856989432, -0.4783100209870064, -0.23670952507275758, -1.1222153054155775, -0.10985297273626017, -0.08838416929997245, 2.705075337277412, -1.353083311770451, -0.15123585689753194, -0.5079059934573342, 0.214658887024363, 0.0962629830423297, 1.2226846938925608, -1.3849716686465248, 2.47057224290792, -0.23622331664434187, -0.01386735927959883, 0.3146974131045074, -1.611843264935958, 0.6219892118864861, -0.25545298334001854, -0.20578715948195975, 0.5026081049701817, -0.05039893194269115, -1.451888593332071, -1.6684912330390367, 0.09839970157327095, -1.1912211957943615, 0.35544779363433393, 0.6886730916876131, 0.8392771480070627, 1.6715975529189262, 0.2645710679527483, 1.3357616401053343, -1.0479861237285117, -0.2708393114170538, -0.8665667773800374, 1.3146913254236081, 2.557788297919866, 0.12340258729703828, 1.3972074095700282, -1.400939946555493, 1.050979978143761, 0.19436735904851585, -0.20423934437480293, 1.707269574355147, -1.1200963283863776, -1.8289426096328703, -0.6902735932611638, 0.1731486516107255, -1.1238930656827142, -0.26769297907693507, -1.2963287663260568, -0.4381458613461422, 0.4622567290341809, 0.564315818327561, -0.15683622731556487, -1.906840982387614, 0.5078497775235092, -0.5281224643869874], \"xaxis\": \"x14\", \"y\": [0.3678171232589625, -0.6123213627371522, -0.2890912740793197, 1.4416062794151767, -0.031007877389082762, 0.21066867994888752, -0.8449498446329224, 0.8394801074054848, 1.1220616783066, 0.7414951286989834, 1.7059394077087338, -2.1575183351443314, -0.27228169067396957, -0.8222735398598566, -0.37270733125911626, 1.1324930909504078, 0.7237131916502513, -0.10093454511360091, -0.8344711780529005, 0.7892018039744497, -1.1768864396408643, 0.5384395360501053, -0.8716745319027909, -0.964495783243021, -0.9510926758024836, -1.5899922140297353, 0.03947906137045445, -0.9040569632222731, 1.2573838148185117, 0.032368660363067826, 0.00979716311962585, 0.30189925388456806, -0.06836893783625991, -1.4830238059635945, 2.8260226754504756, -1.7904184283143372, -0.19147572914500896, 1.1334222316178524, 0.07218388266810098, -0.6706938157194935, -0.787369287349699, 0.33772976898905305, 0.45289164094474577, -0.6386250109337946, -0.01696530433971158, 0.11800755838890979, 1.0935731165217104, -1.2066163009956685, 1.7307802442979323, -0.694055702203546, -1.0787243593311957, 0.8449859793236317, 0.08114505951215607, 0.48200938196228577, -0.30418199598000517, 0.1107989331602753, -0.34506692295258384, 1.4772323028116827, 0.8897338055409254, -1.2970117479838066, -1.7401977008647422, 0.6947525057730943, 1.4168585094952768, -0.8682925467951569, 0.14803006581044606, 1.1113961368502225, 0.45044683161909055, 0.2387529698111168, 0.07871816418155476, -0.8585228972180073, 0.09299148979946799, 0.5575922241457948, -0.015901030931749834, 1.1928407027845176, 0.1500119442760574, 0.23881238689730214, 1.5102065154067492, 0.7186660940127791, 0.6819436465246247, -1.5507226893448807, 1.1033345618082833, 1.183767610324313, 0.8523275001657111, -0.8621163691043606, 0.7145103720522716, 1.2125641299415693, -1.3289064131476391, -0.32259983388745134, 0.3280844786260632, 0.20408059488367758, 0.552476891498723, -0.12992629702660555, -0.7248427516851038, 0.6576417736756259, 1.4753555270758771, -0.41695017859014644, -0.7185905266648366, 0.5863817062130624, -0.38997417451705346, 0.6884888981305322], \"yaxis\": \"y14\"}, {\"line\": {\"color\": \"rgba(128, 128, 128, 1.0)\", \"dash\": \"solid\", \"shape\": \"linear\", \"width\": 1.3}, \"marker\": {\"size\": 2, \"symbol\": \"circle\"}, \"mode\": \"markers\", \"name\": \"D\", \"text\": \"\", \"type\": \"scatter\", \"x\": [1.537971522799382, 1.9439769437729302, -0.8780238161615508, 0.4124968127293803, 0.07466725366935067, -0.5539178888964471, 0.00817695387702504, -1.2550225340364434, -0.5412576554328449, 0.24969679728174116, 0.871816558580187, 1.020279703993287, 0.011320889793238592, -1.586461887104245, -1.8968158388241263, -0.43386820768173306, 2.198788237723471, -0.3959962886467039, 1.1110544950169268, -0.19278306304304224, 0.4744246868857774, 0.007933739243698234, 0.48047374019415817, 0.08804042706014781, -0.10125114913655739, 0.027461063717202035, 0.10859744350420796, 0.8310009965841483, 0.42059356089409355, 0.48924415850726755, 1.375976816229858, 0.9838719678559592, -1.9232567317746518, 1.0578963690677599, -0.8981540314035965, -0.9759356019915912, 1.013960747882589, 2.4638321283328626, 0.079207450843994, 0.20774520694751952, -0.33314912365440885, -0.6502008769080283, -0.718880191013, -1.1968027205800376, 0.5236593226261017, -0.3941772676509596, -0.37461732273636805, -0.3876617327812021, -0.39807203644981676, 2.328221185625653, -0.11577609704476109, -1.9346430989777617, -0.17173664488861562, 0.7799954583712938, 0.44781031095378643, -1.0944610854825378, -1.7955178763191209, -0.1338640634538081, -0.6082864970908706, -0.28877383730717926, -0.39777928940682455, -0.8379345405189532, 1.8496783025891144, -0.40858164000605113, -0.17689760919626152, 1.5795155037979336, 1.5777090111862964, 0.36523953730768677, -1.4845023123428644, 1.2766513514043718, 0.6846277469502795, 0.5605741333739809, -0.7638965721430718, 0.15265752408346378, 0.2597804224859079, 0.10295420125442119, 0.9404406111536191, 0.3235412049094401, -0.6620207833327258, 0.19073897294613015, 0.22247498881272565, -1.346912502160558, 0.710632951197657, -0.7850388641380739, -0.5622713079810008, 0.7229962130587485, -0.7339866177665963, -0.9911212919749353, -1.496459383599991, 0.5426852207290529, 0.43305187586703425, 0.4258944990145214, 1.0902255833182126, 0.22734227626973183, 0.38723354327631565, 0.3713766651381148, 0.2352304988266529, 0.16145128560357638, 0.11645425996929985, 1.7896195966317734], \"xaxis\": \"x15\", \"y\": [0.3678171232589625, -0.6123213627371522, -0.2890912740793197, 1.4416062794151767, -0.031007877389082762, 0.21066867994888752, -0.8449498446329224, 0.8394801074054848, 1.1220616783066, 0.7414951286989834, 1.7059394077087338, -2.1575183351443314, -0.27228169067396957, -0.8222735398598566, -0.37270733125911626, 1.1324930909504078, 0.7237131916502513, -0.10093454511360091, -0.8344711780529005, 0.7892018039744497, -1.1768864396408643, 0.5384395360501053, -0.8716745319027909, -0.964495783243021, -0.9510926758024836, -1.5899922140297353, 0.03947906137045445, -0.9040569632222731, 1.2573838148185117, 0.032368660363067826, 0.00979716311962585, 0.30189925388456806, -0.06836893783625991, -1.4830238059635945, 2.8260226754504756, -1.7904184283143372, -0.19147572914500896, 1.1334222316178524, 0.07218388266810098, -0.6706938157194935, -0.787369287349699, 0.33772976898905305, 0.45289164094474577, -0.6386250109337946, -0.01696530433971158, 0.11800755838890979, 1.0935731165217104, -1.2066163009956685, 1.7307802442979323, -0.694055702203546, -1.0787243593311957, 0.8449859793236317, 0.08114505951215607, 0.48200938196228577, -0.30418199598000517, 0.1107989331602753, -0.34506692295258384, 1.4772323028116827, 0.8897338055409254, -1.2970117479838066, -1.7401977008647422, 0.6947525057730943, 1.4168585094952768, -0.8682925467951569, 0.14803006581044606, 1.1113961368502225, 0.45044683161909055, 0.2387529698111168, 0.07871816418155476, -0.8585228972180073, 0.09299148979946799, 0.5575922241457948, -0.015901030931749834, 1.1928407027845176, 0.1500119442760574, 0.23881238689730214, 1.5102065154067492, 0.7186660940127791, 0.6819436465246247, -1.5507226893448807, 1.1033345618082833, 1.183767610324313, 0.8523275001657111, -0.8621163691043606, 0.7145103720522716, 1.2125641299415693, -1.3289064131476391, -0.32259983388745134, 0.3280844786260632, 0.20408059488367758, 0.552476891498723, -0.12992629702660555, -0.7248427516851038, 0.6576417736756259, 1.4753555270758771, -0.41695017859014644, -0.7185905266648366, 0.5863817062130624, -0.38997417451705346, 0.6884888981305322], \"yaxis\": \"y15\"}, {\"histfunc\": \"count\", \"histnorm\": \"\", \"marker\": {\"color\": \"rgba(128, 0, 128, 1.0)\", \"line\": {\"color\": \"#4D5663\", \"width\": 1.3}}, \"name\": \"D\", \"nbinsx\": 10, \"opacity\": 0.8, \"orientation\": \"v\", \"type\": \"histogram\", \"x\": [0.3678171232589625, -0.6123213627371522, -0.2890912740793197, 1.4416062794151767, -0.031007877389082762, 0.21066867994888752, -0.8449498446329224, 0.8394801074054848, 1.1220616783066, 0.7414951286989834, 1.7059394077087338, -2.1575183351443314, -0.27228169067396957, -0.8222735398598566, -0.37270733125911626, 1.1324930909504078, 0.7237131916502513, -0.10093454511360091, -0.8344711780529005, 0.7892018039744497, -1.1768864396408643, 0.5384395360501053, -0.8716745319027909, -0.964495783243021, -0.9510926758024836, -1.5899922140297353, 0.03947906137045445, -0.9040569632222731, 1.2573838148185117, 0.032368660363067826, 0.00979716311962585, 0.30189925388456806, -0.06836893783625991, -1.4830238059635945, 2.8260226754504756, -1.7904184283143372, -0.19147572914500896, 1.1334222316178524, 0.07218388266810098, -0.6706938157194935, -0.787369287349699, 0.33772976898905305, 0.45289164094474577, -0.6386250109337946, -0.01696530433971158, 0.11800755838890979, 1.0935731165217104, -1.2066163009956685, 1.7307802442979323, -0.694055702203546, -1.0787243593311957, 0.8449859793236317, 0.08114505951215607, 0.48200938196228577, -0.30418199598000517, 0.1107989331602753, -0.34506692295258384, 1.4772323028116827, 0.8897338055409254, -1.2970117479838066, -1.7401977008647422, 0.6947525057730943, 1.4168585094952768, -0.8682925467951569, 0.14803006581044606, 1.1113961368502225, 0.45044683161909055, 0.2387529698111168, 0.07871816418155476, -0.8585228972180073, 0.09299148979946799, 0.5575922241457948, -0.015901030931749834, 1.1928407027845176, 0.1500119442760574, 0.23881238689730214, 1.5102065154067492, 0.7186660940127791, 0.6819436465246247, -1.5507226893448807, 1.1033345618082833, 1.183767610324313, 0.8523275001657111, -0.8621163691043606, 0.7145103720522716, 1.2125641299415693, -1.3289064131476391, -0.32259983388745134, 0.3280844786260632, 0.20408059488367758, 0.552476891498723, -0.12992629702660555, -0.7248427516851038, 0.6576417736756259, 1.4753555270758771, -0.41695017859014644, -0.7185905266648366, 0.5863817062130624, -0.38997417451705346, 0.6884888981305322], \"xaxis\": \"x16\", \"yaxis\": \"y16\"}],                        {\"bargap\": 0.02, \"legend\": {\"bgcolor\": \"#F5F6F9\", \"font\": {\"color\": \"#4D5663\"}}, \"paper_bgcolor\": \"#F5F6F9\", \"plot_bgcolor\": \"#F5F6F9\", \"showlegend\": false, \"template\": {\"data\": {\"bar\": [{\"error_x\": {\"color\": \"#2a3f5f\"}, \"error_y\": {\"color\": \"#2a3f5f\"}, \"marker\": {\"line\": {\"color\": \"#E5ECF6\", \"width\": 0.5}}, \"type\": \"bar\"}], \"barpolar\": [{\"marker\": {\"line\": {\"color\": \"#E5ECF6\", \"width\": 0.5}}, \"type\": \"barpolar\"}], \"carpet\": [{\"aaxis\": {\"endlinecolor\": \"#2a3f5f\", \"gridcolor\": \"white\", \"linecolor\": \"white\", \"minorgridcolor\": \"white\", \"startlinecolor\": \"#2a3f5f\"}, \"baxis\": {\"endlinecolor\": \"#2a3f5f\", \"gridcolor\": \"white\", \"linecolor\": \"white\", \"minorgridcolor\": \"white\", \"startlinecolor\": \"#2a3f5f\"}, \"type\": \"carpet\"}], \"choropleth\": [{\"colorbar\": {\"outlinewidth\": 0, \"ticks\": \"\"}, \"type\": \"choropleth\"}], \"contour\": [{\"colorbar\": {\"outlinewidth\": 0, \"ticks\": \"\"}, \"colorscale\": [[0.0, \"#0d0887\"], [0.1111111111111111, \"#46039f\"], [0.2222222222222222, \"#7201a8\"], [0.3333333333333333, \"#9c179e\"], [0.4444444444444444, \"#bd3786\"], [0.5555555555555556, \"#d8576b\"], [0.6666666666666666, \"#ed7953\"], [0.7777777777777778, \"#fb9f3a\"], [0.8888888888888888, \"#fdca26\"], [1.0, \"#f0f921\"]], \"type\": \"contour\"}], \"contourcarpet\": [{\"colorbar\": {\"outlinewidth\": 0, \"ticks\": \"\"}, \"type\": \"contourcarpet\"}], \"heatmap\": [{\"colorbar\": {\"outlinewidth\": 0, \"ticks\": \"\"}, \"colorscale\": [[0.0, \"#0d0887\"], [0.1111111111111111, \"#46039f\"], [0.2222222222222222, \"#7201a8\"], [0.3333333333333333, \"#9c179e\"], [0.4444444444444444, \"#bd3786\"], [0.5555555555555556, \"#d8576b\"], [0.6666666666666666, \"#ed7953\"], [0.7777777777777778, \"#fb9f3a\"], [0.8888888888888888, \"#fdca26\"], [1.0, \"#f0f921\"]], \"type\": \"heatmap\"}], \"heatmapgl\": [{\"colorbar\": {\"outlinewidth\": 0, \"ticks\": \"\"}, \"colorscale\": [[0.0, \"#0d0887\"], [0.1111111111111111, \"#46039f\"], [0.2222222222222222, \"#7201a8\"], [0.3333333333333333, \"#9c179e\"], [0.4444444444444444, \"#bd3786\"], [0.5555555555555556, \"#d8576b\"], [0.6666666666666666, \"#ed7953\"], [0.7777777777777778, \"#fb9f3a\"], [0.8888888888888888, \"#fdca26\"], [1.0, \"#f0f921\"]], \"type\": \"heatmapgl\"}], \"histogram\": [{\"marker\": {\"colorbar\": {\"outlinewidth\": 0, \"ticks\": \"\"}}, \"type\": \"histogram\"}], \"histogram2d\": [{\"colorbar\": {\"outlinewidth\": 0, \"ticks\": \"\"}, \"colorscale\": [[0.0, \"#0d0887\"], [0.1111111111111111, \"#46039f\"], [0.2222222222222222, \"#7201a8\"], [0.3333333333333333, \"#9c179e\"], [0.4444444444444444, \"#bd3786\"], [0.5555555555555556, \"#d8576b\"], [0.6666666666666666, \"#ed7953\"], [0.7777777777777778, \"#fb9f3a\"], [0.8888888888888888, \"#fdca26\"], [1.0, \"#f0f921\"]], \"type\": \"histogram2d\"}], \"histogram2dcontour\": [{\"colorbar\": {\"outlinewidth\": 0, \"ticks\": \"\"}, \"colorscale\": [[0.0, \"#0d0887\"], [0.1111111111111111, \"#46039f\"], [0.2222222222222222, \"#7201a8\"], [0.3333333333333333, \"#9c179e\"], [0.4444444444444444, \"#bd3786\"], [0.5555555555555556, \"#d8576b\"], [0.6666666666666666, \"#ed7953\"], [0.7777777777777778, \"#fb9f3a\"], [0.8888888888888888, \"#fdca26\"], [1.0, \"#f0f921\"]], \"type\": \"histogram2dcontour\"}], \"mesh3d\": [{\"colorbar\": {\"outlinewidth\": 0, \"ticks\": \"\"}, \"type\": \"mesh3d\"}], \"parcoords\": [{\"line\": {\"colorbar\": {\"outlinewidth\": 0, \"ticks\": \"\"}}, \"type\": \"parcoords\"}], \"pie\": [{\"automargin\": true, \"type\": \"pie\"}], \"scatter\": [{\"marker\": {\"colorbar\": {\"outlinewidth\": 0, \"ticks\": \"\"}}, \"type\": \"scatter\"}], \"scatter3d\": [{\"line\": {\"colorbar\": {\"outlinewidth\": 0, \"ticks\": \"\"}}, \"marker\": {\"colorbar\": {\"outlinewidth\": 0, \"ticks\": \"\"}}, \"type\": \"scatter3d\"}], \"scattercarpet\": [{\"marker\": {\"colorbar\": {\"outlinewidth\": 0, \"ticks\": \"\"}}, \"type\": \"scattercarpet\"}], \"scattergeo\": [{\"marker\": {\"colorbar\": {\"outlinewidth\": 0, \"ticks\": \"\"}}, \"type\": \"scattergeo\"}], \"scattergl\": [{\"marker\": {\"colorbar\": {\"outlinewidth\": 0, \"ticks\": \"\"}}, \"type\": \"scattergl\"}], \"scattermapbox\": [{\"marker\": {\"colorbar\": {\"outlinewidth\": 0, \"ticks\": \"\"}}, \"type\": \"scattermapbox\"}], \"scatterpolar\": [{\"marker\": {\"colorbar\": {\"outlinewidth\": 0, \"ticks\": \"\"}}, \"type\": \"scatterpolar\"}], \"scatterpolargl\": [{\"marker\": {\"colorbar\": {\"outlinewidth\": 0, \"ticks\": \"\"}}, \"type\": \"scatterpolargl\"}], \"scatterternary\": [{\"marker\": {\"colorbar\": {\"outlinewidth\": 0, \"ticks\": \"\"}}, \"type\": \"scatterternary\"}], \"surface\": [{\"colorbar\": {\"outlinewidth\": 0, \"ticks\": \"\"}, \"colorscale\": [[0.0, \"#0d0887\"], [0.1111111111111111, \"#46039f\"], [0.2222222222222222, \"#7201a8\"], [0.3333333333333333, \"#9c179e\"], [0.4444444444444444, \"#bd3786\"], [0.5555555555555556, \"#d8576b\"], [0.6666666666666666, \"#ed7953\"], [0.7777777777777778, \"#fb9f3a\"], [0.8888888888888888, \"#fdca26\"], [1.0, \"#f0f921\"]], \"type\": \"surface\"}], \"table\": [{\"cells\": {\"fill\": {\"color\": \"#EBF0F8\"}, \"line\": {\"color\": \"white\"}}, \"header\": {\"fill\": {\"color\": \"#C8D4E3\"}, \"line\": {\"color\": \"white\"}}, \"type\": \"table\"}]}, \"layout\": {\"annotationdefaults\": {\"arrowcolor\": \"#2a3f5f\", \"arrowhead\": 0, \"arrowwidth\": 1}, \"autotypenumbers\": \"strict\", \"coloraxis\": {\"colorbar\": {\"outlinewidth\": 0, \"ticks\": \"\"}}, \"colorscale\": {\"diverging\": [[0, \"#8e0152\"], [0.1, \"#c51b7d\"], [0.2, \"#de77ae\"], [0.3, \"#f1b6da\"], [0.4, \"#fde0ef\"], [0.5, \"#f7f7f7\"], [0.6, \"#e6f5d0\"], [0.7, \"#b8e186\"], [0.8, \"#7fbc41\"], [0.9, \"#4d9221\"], [1, \"#276419\"]], \"sequential\": [[0.0, \"#0d0887\"], [0.1111111111111111, \"#46039f\"], [0.2222222222222222, \"#7201a8\"], [0.3333333333333333, \"#9c179e\"], [0.4444444444444444, \"#bd3786\"], [0.5555555555555556, \"#d8576b\"], [0.6666666666666666, \"#ed7953\"], [0.7777777777777778, \"#fb9f3a\"], [0.8888888888888888, \"#fdca26\"], [1.0, \"#f0f921\"]], \"sequentialminus\": [[0.0, \"#0d0887\"], [0.1111111111111111, \"#46039f\"], [0.2222222222222222, \"#7201a8\"], [0.3333333333333333, \"#9c179e\"], [0.4444444444444444, \"#bd3786\"], [0.5555555555555556, \"#d8576b\"], [0.6666666666666666, \"#ed7953\"], [0.7777777777777778, \"#fb9f3a\"], [0.8888888888888888, \"#fdca26\"], [1.0, \"#f0f921\"]]}, \"colorway\": [\"#636efa\", \"#EF553B\", \"#00cc96\", \"#ab63fa\", \"#FFA15A\", \"#19d3f3\", \"#FF6692\", \"#B6E880\", \"#FF97FF\", \"#FECB52\"], \"font\": {\"color\": \"#2a3f5f\"}, \"geo\": {\"bgcolor\": \"white\", \"lakecolor\": \"white\", \"landcolor\": \"#E5ECF6\", \"showlakes\": true, \"showland\": true, \"subunitcolor\": \"white\"}, \"hoverlabel\": {\"align\": \"left\"}, \"hovermode\": \"closest\", \"mapbox\": {\"style\": \"light\"}, \"paper_bgcolor\": \"white\", \"plot_bgcolor\": \"#E5ECF6\", \"polar\": {\"angularaxis\": {\"gridcolor\": \"white\", \"linecolor\": \"white\", \"ticks\": \"\"}, \"bgcolor\": \"#E5ECF6\", \"radialaxis\": {\"gridcolor\": \"white\", \"linecolor\": \"white\", \"ticks\": \"\"}}, \"scene\": {\"xaxis\": {\"backgroundcolor\": \"#E5ECF6\", \"gridcolor\": \"white\", \"gridwidth\": 2, \"linecolor\": \"white\", \"showbackground\": true, \"ticks\": \"\", \"zerolinecolor\": \"white\"}, \"yaxis\": {\"backgroundcolor\": \"#E5ECF6\", \"gridcolor\": \"white\", \"gridwidth\": 2, \"linecolor\": \"white\", \"showbackground\": true, \"ticks\": \"\", \"zerolinecolor\": \"white\"}, \"zaxis\": {\"backgroundcolor\": \"#E5ECF6\", \"gridcolor\": \"white\", \"gridwidth\": 2, \"linecolor\": \"white\", \"showbackground\": true, \"ticks\": \"\", \"zerolinecolor\": \"white\"}}, \"shapedefaults\": {\"line\": {\"color\": \"#2a3f5f\"}}, \"ternary\": {\"aaxis\": {\"gridcolor\": \"white\", \"linecolor\": \"white\", \"ticks\": \"\"}, \"baxis\": {\"gridcolor\": \"white\", \"linecolor\": \"white\", \"ticks\": \"\"}, \"bgcolor\": \"#E5ECF6\", \"caxis\": {\"gridcolor\": \"white\", \"linecolor\": \"white\", \"ticks\": \"\"}}, \"title\": {\"x\": 0.05}, \"xaxis\": {\"automargin\": true, \"gridcolor\": \"white\", \"linecolor\": \"white\", \"ticks\": \"\", \"title\": {\"standoff\": 15}, \"zerolinecolor\": \"white\", \"zerolinewidth\": 2}, \"yaxis\": {\"automargin\": true, \"gridcolor\": \"white\", \"linecolor\": \"white\", \"ticks\": \"\", \"title\": {\"standoff\": 15}, \"zerolinecolor\": \"white\", \"zerolinewidth\": 2}}}, \"title\": {\"font\": {\"color\": \"#4D5663\"}}, \"xaxis\": {\"anchor\": \"y\", \"domain\": [0.0, 0.2125], \"gridcolor\": \"#E1E5ED\", \"showgrid\": false, \"tickfont\": {\"color\": \"#4D5663\"}, \"title\": {\"font\": {\"color\": \"#4D5663\"}, \"text\": \"\"}, \"zerolinecolor\": \"#E1E5ED\"}, \"xaxis10\": {\"anchor\": \"y10\", \"domain\": [0.2625, 0.475], \"gridcolor\": \"#E1E5ED\", \"showgrid\": false, \"tickfont\": {\"color\": \"#4D5663\"}, \"title\": {\"font\": {\"color\": \"#4D5663\"}, \"text\": \"\"}, \"zerolinecolor\": \"#E1E5ED\"}, \"xaxis11\": {\"anchor\": \"y11\", \"domain\": [0.525, 0.7375], \"gridcolor\": \"#E1E5ED\", \"showgrid\": false, \"tickfont\": {\"color\": \"#4D5663\"}, \"title\": {\"font\": {\"color\": \"#4D5663\"}, \"text\": \"\"}, \"zerolinecolor\": \"#E1E5ED\"}, \"xaxis12\": {\"anchor\": \"y12\", \"domain\": [0.7875, 1.0], \"gridcolor\": \"#E1E5ED\", \"showgrid\": false, \"tickfont\": {\"color\": \"#4D5663\"}, \"title\": {\"font\": {\"color\": \"#4D5663\"}, \"text\": \"\"}, \"zerolinecolor\": \"#E1E5ED\"}, \"xaxis13\": {\"anchor\": \"y13\", \"domain\": [0.0, 0.2125], \"gridcolor\": \"#E1E5ED\", \"showgrid\": false, \"tickfont\": {\"color\": \"#4D5663\"}, \"title\": {\"font\": {\"color\": \"#4D5663\"}, \"text\": \"\"}, \"zerolinecolor\": \"#E1E5ED\"}, \"xaxis14\": {\"anchor\": \"y14\", \"domain\": [0.2625, 0.475], \"gridcolor\": \"#E1E5ED\", \"showgrid\": false, \"tickfont\": {\"color\": \"#4D5663\"}, \"title\": {\"font\": {\"color\": \"#4D5663\"}, \"text\": \"\"}, \"zerolinecolor\": \"#E1E5ED\"}, \"xaxis15\": {\"anchor\": \"y15\", \"domain\": [0.525, 0.7375], \"gridcolor\": \"#E1E5ED\", \"showgrid\": false, \"tickfont\": {\"color\": \"#4D5663\"}, \"title\": {\"font\": {\"color\": \"#4D5663\"}, \"text\": \"\"}, \"zerolinecolor\": \"#E1E5ED\"}, \"xaxis16\": {\"anchor\": \"y16\", \"domain\": [0.7875, 1.0], \"gridcolor\": \"#E1E5ED\", \"showgrid\": false, \"tickfont\": {\"color\": \"#4D5663\"}, \"title\": {\"font\": {\"color\": \"#4D5663\"}, \"text\": \"\"}, \"zerolinecolor\": \"#E1E5ED\"}, \"xaxis2\": {\"anchor\": \"y2\", \"domain\": [0.2625, 0.475], \"gridcolor\": \"#E1E5ED\", \"showgrid\": false, \"tickfont\": {\"color\": \"#4D5663\"}, \"title\": {\"font\": {\"color\": \"#4D5663\"}, \"text\": \"\"}, \"zerolinecolor\": \"#E1E5ED\"}, \"xaxis3\": {\"anchor\": \"y3\", \"domain\": [0.525, 0.7375], \"gridcolor\": \"#E1E5ED\", \"showgrid\": false, \"tickfont\": {\"color\": \"#4D5663\"}, \"title\": {\"font\": {\"color\": \"#4D5663\"}, \"text\": \"\"}, \"zerolinecolor\": \"#E1E5ED\"}, \"xaxis4\": {\"anchor\": \"y4\", \"domain\": [0.7875, 1.0], \"gridcolor\": \"#E1E5ED\", \"showgrid\": false, \"tickfont\": {\"color\": \"#4D5663\"}, \"title\": {\"font\": {\"color\": \"#4D5663\"}, \"text\": \"\"}, \"zerolinecolor\": \"#E1E5ED\"}, \"xaxis5\": {\"anchor\": \"y5\", \"domain\": [0.0, 0.2125], \"gridcolor\": \"#E1E5ED\", \"showgrid\": false, \"tickfont\": {\"color\": \"#4D5663\"}, \"title\": {\"font\": {\"color\": \"#4D5663\"}, \"text\": \"\"}, \"zerolinecolor\": \"#E1E5ED\"}, \"xaxis6\": {\"anchor\": \"y6\", \"domain\": [0.2625, 0.475], \"gridcolor\": \"#E1E5ED\", \"showgrid\": false, \"tickfont\": {\"color\": \"#4D5663\"}, \"title\": {\"font\": {\"color\": \"#4D5663\"}, \"text\": \"\"}, \"zerolinecolor\": \"#E1E5ED\"}, \"xaxis7\": {\"anchor\": \"y7\", \"domain\": [0.525, 0.7375], \"gridcolor\": \"#E1E5ED\", \"showgrid\": false, \"tickfont\": {\"color\": \"#4D5663\"}, \"title\": {\"font\": {\"color\": \"#4D5663\"}, \"text\": \"\"}, \"zerolinecolor\": \"#E1E5ED\"}, \"xaxis8\": {\"anchor\": \"y8\", \"domain\": [0.7875, 1.0], \"gridcolor\": \"#E1E5ED\", \"showgrid\": false, \"tickfont\": {\"color\": \"#4D5663\"}, \"title\": {\"font\": {\"color\": \"#4D5663\"}, \"text\": \"\"}, \"zerolinecolor\": \"#E1E5ED\"}, \"xaxis9\": {\"anchor\": \"y9\", \"domain\": [0.0, 0.2125], \"gridcolor\": \"#E1E5ED\", \"showgrid\": false, \"tickfont\": {\"color\": \"#4D5663\"}, \"title\": {\"font\": {\"color\": \"#4D5663\"}, \"text\": \"\"}, \"zerolinecolor\": \"#E1E5ED\"}, \"yaxis\": {\"anchor\": \"x\", \"domain\": [0.8025, 1.0], \"gridcolor\": \"#E1E5ED\", \"showgrid\": false, \"tickfont\": {\"color\": \"#4D5663\"}, \"title\": {\"font\": {\"color\": \"#4D5663\"}, \"text\": \"\"}, \"zerolinecolor\": \"#E1E5ED\"}, \"yaxis10\": {\"anchor\": \"x10\", \"domain\": [0.2675, 0.465], \"gridcolor\": \"#E1E5ED\", \"showgrid\": false, \"tickfont\": {\"color\": \"#4D5663\"}, \"title\": {\"font\": {\"color\": \"#4D5663\"}, \"text\": \"\"}, \"zerolinecolor\": \"#E1E5ED\"}, \"yaxis11\": {\"anchor\": \"x11\", \"domain\": [0.2675, 0.465], \"gridcolor\": \"#E1E5ED\", \"showgrid\": false, \"tickfont\": {\"color\": \"#4D5663\"}, \"title\": {\"font\": {\"color\": \"#4D5663\"}, \"text\": \"\"}, \"zerolinecolor\": \"#E1E5ED\"}, \"yaxis12\": {\"anchor\": \"x12\", \"domain\": [0.2675, 0.465], \"gridcolor\": \"#E1E5ED\", \"showgrid\": false, \"tickfont\": {\"color\": \"#4D5663\"}, \"title\": {\"font\": {\"color\": \"#4D5663\"}, \"text\": \"\"}, \"zerolinecolor\": \"#E1E5ED\"}, \"yaxis13\": {\"anchor\": \"x13\", \"domain\": [0.0, 0.1975], \"gridcolor\": \"#E1E5ED\", \"showgrid\": false, \"tickfont\": {\"color\": \"#4D5663\"}, \"title\": {\"font\": {\"color\": \"#4D5663\"}, \"text\": \"\"}, \"zerolinecolor\": \"#E1E5ED\"}, \"yaxis14\": {\"anchor\": \"x14\", \"domain\": [0.0, 0.1975], \"gridcolor\": \"#E1E5ED\", \"showgrid\": false, \"tickfont\": {\"color\": \"#4D5663\"}, \"title\": {\"font\": {\"color\": \"#4D5663\"}, \"text\": \"\"}, \"zerolinecolor\": \"#E1E5ED\"}, \"yaxis15\": {\"anchor\": \"x15\", \"domain\": [0.0, 0.1975], \"gridcolor\": \"#E1E5ED\", \"showgrid\": false, \"tickfont\": {\"color\": \"#4D5663\"}, \"title\": {\"font\": {\"color\": \"#4D5663\"}, \"text\": \"\"}, \"zerolinecolor\": \"#E1E5ED\"}, \"yaxis16\": {\"anchor\": \"x16\", \"domain\": [0.0, 0.1975], \"gridcolor\": \"#E1E5ED\", \"showgrid\": false, \"tickfont\": {\"color\": \"#4D5663\"}, \"title\": {\"font\": {\"color\": \"#4D5663\"}, \"text\": \"\"}, \"zerolinecolor\": \"#E1E5ED\"}, \"yaxis2\": {\"anchor\": \"x2\", \"domain\": [0.8025, 1.0], \"gridcolor\": \"#E1E5ED\", \"showgrid\": false, \"tickfont\": {\"color\": \"#4D5663\"}, \"title\": {\"font\": {\"color\": \"#4D5663\"}, \"text\": \"\"}, \"zerolinecolor\": \"#E1E5ED\"}, \"yaxis3\": {\"anchor\": \"x3\", \"domain\": [0.8025, 1.0], \"gridcolor\": \"#E1E5ED\", \"showgrid\": false, \"tickfont\": {\"color\": \"#4D5663\"}, \"title\": {\"font\": {\"color\": \"#4D5663\"}, \"text\": \"\"}, \"zerolinecolor\": \"#E1E5ED\"}, \"yaxis4\": {\"anchor\": \"x4\", \"domain\": [0.8025, 1.0], \"gridcolor\": \"#E1E5ED\", \"showgrid\": false, \"tickfont\": {\"color\": \"#4D5663\"}, \"title\": {\"font\": {\"color\": \"#4D5663\"}, \"text\": \"\"}, \"zerolinecolor\": \"#E1E5ED\"}, \"yaxis5\": {\"anchor\": \"x5\", \"domain\": [0.535, 0.7325], \"gridcolor\": \"#E1E5ED\", \"showgrid\": false, \"tickfont\": {\"color\": \"#4D5663\"}, \"title\": {\"font\": {\"color\": \"#4D5663\"}, \"text\": \"\"}, \"zerolinecolor\": \"#E1E5ED\"}, \"yaxis6\": {\"anchor\": \"x6\", \"domain\": [0.535, 0.7325], \"gridcolor\": \"#E1E5ED\", \"showgrid\": false, \"tickfont\": {\"color\": \"#4D5663\"}, \"title\": {\"font\": {\"color\": \"#4D5663\"}, \"text\": \"\"}, \"zerolinecolor\": \"#E1E5ED\"}, \"yaxis7\": {\"anchor\": \"x7\", \"domain\": [0.535, 0.7325], \"gridcolor\": \"#E1E5ED\", \"showgrid\": false, \"tickfont\": {\"color\": \"#4D5663\"}, \"title\": {\"font\": {\"color\": \"#4D5663\"}, \"text\": \"\"}, \"zerolinecolor\": \"#E1E5ED\"}, \"yaxis8\": {\"anchor\": \"x8\", \"domain\": [0.535, 0.7325], \"gridcolor\": \"#E1E5ED\", \"showgrid\": false, \"tickfont\": {\"color\": \"#4D5663\"}, \"title\": {\"font\": {\"color\": \"#4D5663\"}, \"text\": \"\"}, \"zerolinecolor\": \"#E1E5ED\"}, \"yaxis9\": {\"anchor\": \"x9\", \"domain\": [0.2675, 0.465], \"gridcolor\": \"#E1E5ED\", \"showgrid\": false, \"tickfont\": {\"color\": \"#4D5663\"}, \"title\": {\"font\": {\"color\": \"#4D5663\"}, \"text\": \"\"}, \"zerolinecolor\": \"#E1E5ED\"}},                        {\"showLink\": true, \"linkText\": \"Export to plot.ly\", \"plotlyServerURL\": \"https://plot.ly\", \"responsive\": true}                    ).then(function(){\n",
       "                            \n",
       "var gd = document.getElementById('0d11d59b-e7d2-4ec5-8045-20d3987f0bb7');\n",
       "var x = new MutationObserver(function (mutations, observer) {{\n",
       "        var display = window.getComputedStyle(gd).display;\n",
       "        if (!display || display === 'none') {{\n",
       "            console.log([gd, 'removed!']);\n",
       "            Plotly.purge(gd);\n",
       "            observer.disconnect();\n",
       "        }}\n",
       "}});\n",
       "\n",
       "// Listen for the removal of the full notebook cells\n",
       "var notebookContainer = gd.closest('#notebook-container');\n",
       "if (notebookContainer) {{\n",
       "    x.observe(notebookContainer, {childList: true});\n",
       "}}\n",
       "\n",
       "// Listen for the clearing of the current output cell\n",
       "var outputEl = gd.closest('.output');\n",
       "if (outputEl) {{\n",
       "    x.observe(outputEl, {childList: true});\n",
       "}}\n",
       "\n",
       "                        })                };                });            </script>        </div>"
      ]
     },
     "metadata": {},
     "output_type": "display_data"
    }
   ],
   "source": [
    "#scatter matrix: very similar to seaborn pair plot, it just creates a scatter matrix of the columns it can.\n",
    "df.scatter_matrix()"
   ]
  },
  {
   "cell_type": "code",
   "execution_count": null,
   "id": "dae1d9ed",
   "metadata": {},
   "outputs": [],
   "source": []
  }
 ],
 "metadata": {
  "kernelspec": {
   "display_name": "Python 3",
   "language": "python",
   "name": "python3"
  },
  "language_info": {
   "codemirror_mode": {
    "name": "ipython",
    "version": 3
   },
   "file_extension": ".py",
   "mimetype": "text/x-python",
   "name": "python",
   "nbconvert_exporter": "python",
   "pygments_lexer": "ipython3",
   "version": "3.7.4"
  }
 },
 "nbformat": 4,
 "nbformat_minor": 5
}
